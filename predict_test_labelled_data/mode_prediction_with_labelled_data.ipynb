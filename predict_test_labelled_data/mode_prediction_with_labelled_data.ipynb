{
 "cells": [
  {
   "cell_type": "code",
   "execution_count": 1,
   "id": "abc0fd08",
   "metadata": {},
   "outputs": [],
   "source": [
    "import numpy as np\n",
    "import sklearn\n",
    "import pandas as pd\n",
    "import joblib\n",
    "import pickle\n",
    "\n",
    "from sklearn.feature_extraction.text import TfidfVectorizer, CountVectorizer\n",
    "#import gensim\n"
   ]
  },
  {
   "cell_type": "code",
   "execution_count": 2,
   "id": "78db1bce",
   "metadata": {},
   "outputs": [],
   "source": [
    "tweets_label_test_df = pd.read_csv(\"clean_tweets_labelled_test.csv\")\n",
    "X_test,y_test=tweets_label_test_df[\"clean_data\"],tweets_label_test_df[\"label\"]"
   ]
  },
  {
   "cell_type": "markdown",
   "id": "38398fb8",
   "metadata": {},
   "source": [
    "### ML models\n"
   ]
  },
  {
   "cell_type": "markdown",
   "id": "5e79f029",
   "metadata": {},
   "source": [
    "#### SGD "
   ]
  },
  {
   "cell_type": "code",
   "execution_count": 30,
   "id": "99d5aa16",
   "metadata": {},
   "outputs": [
    {
     "name": "stderr",
     "output_type": "stream",
     "text": [
      "C:\\Users\\rkr\\Anaconda3\\lib\\site-packages\\sklearn\\base.py:315: UserWarning: Trying to unpickle estimator SGDClassifier from version 0.24.2 when using version 0.24.0. This might lead to breaking code or invalid results. Use at your own risk.\n",
      "  UserWarning)\n"
     ]
    }
   ],
   "source": [
    "# Load the model from the file\n",
    "SGD_from_joblib = joblib.load('model/ml/SGD_tfidf_vectorizer.pkl')"
   ]
  },
  {
   "cell_type": "code",
   "execution_count": 31,
   "id": "b6dce1d3",
   "metadata": {},
   "outputs": [
    {
     "name": "stdout",
     "output_type": "stream",
     "text": [
      "<class 'sklearn.feature_extraction.text.TfidfVectorizer'>\n"
     ]
    },
    {
     "name": "stderr",
     "output_type": "stream",
     "text": [
      "C:\\Users\\rkr\\Anaconda3\\lib\\site-packages\\sklearn\\base.py:315: UserWarning: Trying to unpickle estimator TfidfTransformer from version 0.24.2 when using version 0.24.0. This might lead to breaking code or invalid results. Use at your own risk.\n",
      "  UserWarning)\n",
      "C:\\Users\\rkr\\Anaconda3\\lib\\site-packages\\sklearn\\base.py:315: UserWarning: Trying to unpickle estimator TfidfVectorizer from version 0.24.2 when using version 0.24.0. This might lead to breaking code or invalid results. Use at your own risk.\n",
      "  UserWarning)\n"
     ]
    }
   ],
   "source": [
    "# tfidf vectorizer transformation \n",
    "tfidf_obj = joblib.load('model/vect/_tfidf_vect_labelled.pkl')\n",
    "print(type(tfidf_obj))\n",
    "\n",
    "X_test = tfidf_obj.transform(X_test.astype('U'))"
   ]
  },
  {
   "cell_type": "code",
   "execution_count": 32,
   "id": "a51d0aba",
   "metadata": {},
   "outputs": [
    {
     "name": "stdout",
     "output_type": "stream",
     "text": [
      "Test Accuracy score: 66.78 %\n"
     ]
    }
   ],
   "source": [
    "\n",
    "# Calculate the Score \n",
    "score = SGD_from_joblib.score(X_test, y_test)  \n",
    "# Print the Score\n",
    "print(\"Test Accuracy score: {0:.2f} %\".format(100 * score))  "
   ]
  },
  {
   "cell_type": "markdown",
   "id": "fc2d79b3",
   "metadata": {},
   "source": [
    "### Random Forest "
   ]
  },
  {
   "cell_type": "code",
   "execution_count": 33,
   "id": "529d6ef1",
   "metadata": {},
   "outputs": [
    {
     "name": "stderr",
     "output_type": "stream",
     "text": [
      "C:\\Users\\rkr\\Anaconda3\\lib\\site-packages\\sklearn\\base.py:315: UserWarning: Trying to unpickle estimator DecisionTreeClassifier from version 0.24.2 when using version 0.24.0. This might lead to breaking code or invalid results. Use at your own risk.\n",
      "  UserWarning)\n",
      "C:\\Users\\rkr\\Anaconda3\\lib\\site-packages\\sklearn\\base.py:315: UserWarning: Trying to unpickle estimator RandomForestClassifier from version 0.24.2 when using version 0.24.0. This might lead to breaking code or invalid results. Use at your own risk.\n",
      "  UserWarning)\n"
     ]
    },
    {
     "name": "stdout",
     "output_type": "stream",
     "text": [
      "<class 'sklearn.ensemble._forest.RandomForestClassifier'>\n"
     ]
    }
   ],
   "source": [
    "# Load the model from the file\n",
    "RF_from_joblib = joblib.load('model/ml/random_forest_tfidf_vectorizer.pkl')\n",
    "print(type(RF_from_joblib))"
   ]
  },
  {
   "cell_type": "code",
   "execution_count": 34,
   "id": "0637398b",
   "metadata": {},
   "outputs": [
    {
     "name": "stdout",
     "output_type": "stream",
     "text": [
      "Test Accuracy score: 67.56 %\n"
     ]
    }
   ],
   "source": [
    "# Calculate the Score \n",
    "score = RF_from_joblib.score(X_test, y_test)  \n",
    "# Print the Score\n",
    "print(\"Test Accuracy score: {0:.2f} %\".format(100 * score))  "
   ]
  },
  {
   "cell_type": "markdown",
   "id": "1be61131",
   "metadata": {},
   "source": []
  },
  {
   "cell_type": "markdown",
   "id": "9886270b",
   "metadata": {},
   "source": [
    "### SVM"
   ]
  },
  {
   "cell_type": "code",
   "execution_count": 35,
   "id": "5f90bcb5",
   "metadata": {},
   "outputs": [
    {
     "name": "stderr",
     "output_type": "stream",
     "text": [
      "C:\\Users\\rkr\\Anaconda3\\lib\\site-packages\\sklearn\\base.py:315: UserWarning: Trying to unpickle estimator SVC from version 0.24.2 when using version 0.24.0. This might lead to breaking code or invalid results. Use at your own risk.\n",
      "  UserWarning)\n"
     ]
    }
   ],
   "source": [
    "# Load the model from the file\n",
    "SVM_from_joblib = joblib.load('model/ml/svm_tfidf_vectorizer.pkl')"
   ]
  },
  {
   "cell_type": "code",
   "execution_count": 36,
   "id": "76362fcc",
   "metadata": {},
   "outputs": [
    {
     "name": "stdout",
     "output_type": "stream",
     "text": [
      "Test Accuracy score: 67.72 %\n"
     ]
    }
   ],
   "source": [
    "# Calculate the Score \n",
    "score = SVM_from_joblib.score(X_test, y_test)  \n",
    "# Print the Score\n",
    "print(\"Test Accuracy score: {0:.2f} %\".format(100 * score))  "
   ]
  },
  {
   "cell_type": "markdown",
   "id": "30461d7d",
   "metadata": {},
   "source": [
    "### Naivye Bayes"
   ]
  },
  {
   "cell_type": "code",
   "execution_count": 37,
   "id": "52b87b62",
   "metadata": {},
   "outputs": [
    {
     "name": "stderr",
     "output_type": "stream",
     "text": [
      "C:\\Users\\rkr\\Anaconda3\\lib\\site-packages\\sklearn\\base.py:315: UserWarning: Trying to unpickle estimator MultinomialNB from version 0.24.2 when using version 0.24.0. This might lead to breaking code or invalid results. Use at your own risk.\n",
      "  UserWarning)\n"
     ]
    }
   ],
   "source": [
    "# Load the model from the file\n",
    "NB_from_joblib = joblib.load('model/ml/naive_bayes_tfidf_vectorizer.pkl')"
   ]
  },
  {
   "cell_type": "code",
   "execution_count": 38,
   "id": "b9d4fbda",
   "metadata": {},
   "outputs": [
    {
     "name": "stdout",
     "output_type": "stream",
     "text": [
      "Test Accuracy score: 66.50 %\n"
     ]
    }
   ],
   "source": [
    "# Calculate the Score \n",
    "score = NB_from_joblib.score(X_test, y_test)  \n",
    "# Print the Score\n",
    "print(\"Test Accuracy score: {0:.2f} %\".format(100 * score))  "
   ]
  },
  {
   "cell_type": "markdown",
   "id": "8de19792",
   "metadata": {},
   "source": [
    "### KNN"
   ]
  },
  {
   "cell_type": "code",
   "execution_count": 39,
   "id": "9a300668",
   "metadata": {},
   "outputs": [
    {
     "name": "stderr",
     "output_type": "stream",
     "text": [
      "C:\\Users\\rkr\\Anaconda3\\lib\\site-packages\\sklearn\\base.py:315: UserWarning: Trying to unpickle estimator KNeighborsClassifier from version 0.24.2 when using version 0.24.0. This might lead to breaking code or invalid results. Use at your own risk.\n",
      "  UserWarning)\n"
     ]
    }
   ],
   "source": [
    "# Load the model from the file\n",
    "KNN_from_joblib = joblib.load('model/ml/KNeighborsClassifier_tfidf_vectorizer.pkl')"
   ]
  },
  {
   "cell_type": "code",
   "execution_count": 40,
   "id": "eb83b23c",
   "metadata": {},
   "outputs": [
    {
     "name": "stdout",
     "output_type": "stream",
     "text": [
      "Test Accuracy score: 61.50 %\n"
     ]
    }
   ],
   "source": [
    "# Calculate the Score \n",
    "score = KNN_from_joblib.score(X_test, y_test)  \n",
    "# Print the Score\n",
    "print(\"Test Accuracy score: {0:.2f} %\".format(100 * score))  "
   ]
  },
  {
   "cell_type": "markdown",
   "id": "1561a6af",
   "metadata": {},
   "source": [
    "### Logistic Regression "
   ]
  },
  {
   "cell_type": "code",
   "execution_count": 41,
   "id": "c7040775",
   "metadata": {},
   "outputs": [
    {
     "name": "stderr",
     "output_type": "stream",
     "text": [
      "C:\\Users\\rkr\\Anaconda3\\lib\\site-packages\\sklearn\\base.py:315: UserWarning: Trying to unpickle estimator LogisticRegression from version 0.24.2 when using version 0.24.0. This might lead to breaking code or invalid results. Use at your own risk.\n",
      "  UserWarning)\n"
     ]
    }
   ],
   "source": [
    "# Load the model from the file\n",
    "LR_from_joblib = joblib.load('model/ml/logistic_regression_tfidf_vectorizer.pkl')"
   ]
  },
  {
   "cell_type": "code",
   "execution_count": 42,
   "id": "7ebdacbf",
   "metadata": {},
   "outputs": [
    {
     "name": "stdout",
     "output_type": "stream",
     "text": [
      "Test Accuracy score: 68.22 %\n"
     ]
    }
   ],
   "source": [
    "# Calculate the Score \n",
    "score = LR_from_joblib.score(X_test, y_test)  \n",
    "# Print the Score\n",
    "print(\"Test Accuracy score: {0:.2f} %\".format(100 * score))  "
   ]
  },
  {
   "cell_type": "markdown",
   "id": "da7d5d75",
   "metadata": {},
   "source": [
    "### Decision Tree"
   ]
  },
  {
   "cell_type": "code",
   "execution_count": 43,
   "id": "e3c1499e",
   "metadata": {},
   "outputs": [
    {
     "name": "stderr",
     "output_type": "stream",
     "text": [
      "C:\\Users\\rkr\\Anaconda3\\lib\\site-packages\\sklearn\\base.py:315: UserWarning: Trying to unpickle estimator DecisionTreeClassifier from version 0.24.2 when using version 0.24.0. This might lead to breaking code or invalid results. Use at your own risk.\n",
      "  UserWarning)\n"
     ]
    }
   ],
   "source": [
    "# Load the model from the file\n",
    "DT_from_joblib = joblib.load('model/ml/DecisionTreeClassifier_tfidf_vectorizer.pkl')"
   ]
  },
  {
   "cell_type": "code",
   "execution_count": 44,
   "id": "b707ad22",
   "metadata": {},
   "outputs": [
    {
     "name": "stdout",
     "output_type": "stream",
     "text": [
      "Test Accuracy score: 62.06 %\n"
     ]
    }
   ],
   "source": [
    "# Calculate the Score \n",
    "score = DT_from_joblib.score(X_test, y_test)  \n",
    "# Print the Score\n",
    "print(\"Test Accuracy score: {0:.2f} %\".format(100 * score))  "
   ]
  },
  {
   "cell_type": "markdown",
   "id": "32214da7",
   "metadata": {},
   "source": [
    "### Deep learning models"
   ]
  },
  {
   "cell_type": "code",
   "execution_count": 12,
   "id": "50e0d388",
   "metadata": {},
   "outputs": [
    {
     "name": "stdout",
     "output_type": "stream",
     "text": [
      "<class 'keras_preprocessing.text.Tokenizer'>\n",
      "[[   0    0    0 ...    0  160  120]\n",
      " [   0    0    0 ...    5    1  158]\n",
      " [   0    0    0 ... 2758  770  173]\n",
      " ...\n",
      " [   0    0    0 ...  274  549   98]\n",
      " [   0    0    0 ...  991   10   25]\n",
      " [   0    0    0 ... 1077 2950 3391]]\n"
     ]
    }
   ],
   "source": [
    "# Load the model from the file\n",
    "#lstm_from_joblib = joblib.load('lstm_best_model.h5')\n",
    "\n",
    "import gensim.downloader as api\n",
    "from tensorflow.keras.preprocessing.text import Tokenizer\n",
    "from tensorflow.keras.preprocessing.sequence import pad_sequences\n",
    "from tensorflow.keras import backend as K\n",
    "import tensorflow as tf\n",
    "import keras\n",
    "max_words = 5000\n",
    "max_len = 200\n",
    "\n",
    "n_epochs = 8\n",
    "from keras import backend as kb \n",
    "\n",
    "\n",
    "\n",
    "tokenizer = joblib.load('model/vect/dl_tokenizer.pkl')\n",
    "print(type(tokenizer))\n",
    "\n",
    "\n",
    "sequences = tokenizer.texts_to_sequences(tweets_label_test_df[\"clean_data\"].values.astype('U'))\n",
    "tweets = pad_sequences(sequences, maxlen=max_len)\n",
    "print(tweets)\n",
    "\n",
    "labels = tf.keras.utils.to_categorical(tweets_label_test_df[\"label\"], dtype=\"float32\")\n",
    "\n",
    "model = keras.models.load_model('model/dl/lstm_best_model.h5')"
   ]
  },
  {
   "cell_type": "code",
   "execution_count": 58,
   "id": "1a35b1dc-e33b-4a89-b566-0d426eed3037",
   "metadata": {},
   "outputs": [
    {
     "name": "stdout",
     "output_type": "stream",
     "text": [
      "Number of replicas in sync:  1\n"
     ]
    }
   ],
   "source": [
    "try:\n",
    "    tpu = tf.distribute.cluster_resolver.TPUClusterResolver()\n",
    "    tf.config.experimental_connect_to_cluster(tpu)\n",
    "    tf.tpu.experimental.initialize_tpu_system(tpu)\n",
    "    strategy = tf.distribute.experimental.TPUStrategy(tpu)\n",
    "    \n",
    "except:\n",
    "    strategy = tf.distribute.get_strategy()\n",
    "    \n",
    "print('Number of replicas in sync: ', strategy.num_replicas_in_sync)"
   ]
  },
  {
   "cell_type": "code",
   "execution_count": 59,
   "id": "11ddf62c-1937-4080-b031-8c59ad890e08",
   "metadata": {},
   "outputs": [],
   "source": [
    "#! rm -rf ~/.nv"
   ]
  },
  {
   "cell_type": "code",
   "execution_count": 60,
   "id": "1ff0361f",
   "metadata": {},
   "outputs": [
    {
     "name": "stdout",
     "output_type": "stream",
     "text": [
      "WARNING:tensorflow:Model was constructed with shape (None, 50) for input KerasTensor(type_spec=TensorSpec(shape=(None, 50), dtype=tf.float32, name='embedding_input'), name='embedding_input', description=\"created by layer 'embedding_input'\"), but it was called on an input with incompatible shape (None, 200).\n",
      "57/57 - 1s - loss: 0.8635 - accuracy: 0.6061\n",
      "Model accuracy:  0.6061111092567444\n"
     ]
    }
   ],
   "source": [
    "test_loss, test_acc = model.evaluate(tweets, labels, verbose=2)\n",
    "print('Model accuracy: ',test_acc)"
   ]
  },
  {
   "cell_type": "code",
   "execution_count": 61,
   "id": "5922fe33",
   "metadata": {},
   "outputs": [],
   "source": [
    "bilstm_model = keras.models.load_model('model/dl/bi_lstm_best_model.h5')"
   ]
  },
  {
   "cell_type": "code",
   "execution_count": 62,
   "id": "6f032469",
   "metadata": {},
   "outputs": [
    {
     "name": "stdout",
     "output_type": "stream",
     "text": [
      "WARNING:tensorflow:Model was constructed with shape (None, 50) for input KerasTensor(type_spec=TensorSpec(shape=(None, 50), dtype=tf.float32, name='embedding_1_input'), name='embedding_1_input', description=\"created by layer 'embedding_1_input'\"), but it was called on an input with incompatible shape (None, 200).\n",
      "57/57 - 2s - loss: 0.8276 - accuracy: 0.6594\n",
      "Model accuracy:  0.6594444513320923\n"
     ]
    }
   ],
   "source": [
    "test_loss, test_acc = bilstm_model.evaluate(tweets, labels, verbose=2)\n",
    "print('Model accuracy: ',test_acc)"
   ]
  },
  {
   "cell_type": "code",
   "execution_count": 63,
   "id": "d4fa39dc",
   "metadata": {},
   "outputs": [],
   "source": [
    "gru_model = keras.models.load_model('model/dl/gru_best_model.h5')"
   ]
  },
  {
   "cell_type": "code",
   "execution_count": 64,
   "id": "640cb80c",
   "metadata": {},
   "outputs": [
    {
     "name": "stdout",
     "output_type": "stream",
     "text": [
      "WARNING:tensorflow:Model was constructed with shape (None, 50) for input KerasTensor(type_spec=TensorSpec(shape=(None, 50), dtype=tf.float32, name='embedding_2_input'), name='embedding_2_input', description=\"created by layer 'embedding_2_input'\"), but it was called on an input with incompatible shape (None, 200).\n",
      "57/57 - 1s - loss: 0.8194 - accuracy: 0.6756\n",
      "Model accuracy:  0.6755555272102356\n"
     ]
    }
   ],
   "source": [
    "test_loss, test_acc = gru_model.evaluate(tweets, labels, verbose=2)\n",
    "print('Model accuracy: ',test_acc)"
   ]
  },
  {
   "cell_type": "code",
   "execution_count": 6,
   "id": "41eb1bbd",
   "metadata": {},
   "outputs": [],
   "source": [
    "import tensorflow_hub as hub"
   ]
  },
  {
   "cell_type": "code",
   "execution_count": 13,
   "id": "46c73eca-5caa-4c0f-a9c1-8c8503adc04e",
   "metadata": {},
   "outputs": [],
   "source": [
    "ct_bert_saved_model = tf.keras.models.load_model(('model/bert/ct_bert_model.h5'),custom_objects={'KerasLayer':hub.KerasLayer})\n"
   ]
  },
  {
   "cell_type": "code",
   "execution_count": 14,
   "id": "bdfc3d52",
   "metadata": {},
   "outputs": [],
   "source": [
    "from  official.nlp.bert import tokenization"
   ]
  },
  {
   "cell_type": "code",
   "execution_count": 15,
   "id": "b5c3cbb7",
   "metadata": {},
   "outputs": [
    {
     "name": "stdout",
     "output_type": "stream",
     "text": [
      "Wall time: 12.3 s\n"
     ]
    }
   ],
   "source": [
    "%%time\n",
    " \n",
    "bert_layer = hub.KerasLayer(\"https://tfhub.dev/digitalepidemiologylab/covid-twitter-bert/2\", trainable=True)"
   ]
  },
  {
   "cell_type": "code",
   "execution_count": 16,
   "id": "e1c6a83a",
   "metadata": {},
   "outputs": [],
   "source": [
    "vocab_file = bert_layer.resolved_object.vocab_file.asset_path.numpy()\n",
    "do_lower_case = bert_layer.resolved_object.do_lower_case.numpy()\n",
    "tokenizer = tokenization.FullTokenizer(vocab_file, do_lower_case)"
   ]
  },
  {
   "cell_type": "code",
   "execution_count": 17,
   "id": "a5ea4b6f",
   "metadata": {},
   "outputs": [],
   "source": [
    "def ct_bert_encode(texts, tokenizer, max_len=512):\n",
    "    all_tokens = []\n",
    "    all_masks = []\n",
    "    all_segments = []\n",
    "    \n",
    "    for text in texts:\n",
    "        text = tokenizer.tokenize(text)\n",
    "            \n",
    "        text = text[:max_len-2]\n",
    "        input_sequence = [\"[CLS]\"] + text + [\"[SEP]\"]\n",
    "        pad_len = max_len - len(input_sequence)\n",
    "        \n",
    "        tokens = tokenizer.convert_tokens_to_ids(input_sequence)\n",
    "        tokens += [0] * pad_len\n",
    "        pad_masks = [1] * len(input_sequence) + [0] * pad_len\n",
    "        segment_ids = [0] * max_len\n",
    "        \n",
    "        all_tokens.append(tokens)\n",
    "        all_masks.append(pad_masks)\n",
    "        all_segments.append(segment_ids)\n",
    "    \n",
    "    return np.array(all_tokens), np.array(all_masks), np.array(all_segments)"
   ]
  },
  {
   "cell_type": "code",
   "execution_count": 18,
   "id": "107bbeb0",
   "metadata": {},
   "outputs": [],
   "source": [
    "texts = tweets_label_test_df[\"clean_data\"].astype('U')\n",
    "target = labels\n",
    "\n",
    "tweets = ct_bert_encode(texts, tokenizer, max_len=100)"
   ]
  },
  {
   "cell_type": "code",
   "execution_count": 19,
   "id": "6a116521",
   "metadata": {},
   "outputs": [
    {
     "name": "stdout",
     "output_type": "stream",
     "text": [
      "57/57 - 640s - loss: 0.9861 - accuracy: 0.6989\n",
      "Model accuracy:  0.698888897895813\n"
     ]
    }
   ],
   "source": [
    "test_loss, test_acc = ct_bert_saved_model.evaluate(tweets, labels, verbose=2)\n",
    "print('Model accuracy: ',test_acc)"
   ]
  },
  {
   "cell_type": "code",
   "execution_count": null,
   "id": "d3e660aa",
   "metadata": {},
   "outputs": [],
   "source": []
  }
 ],
 "metadata": {
  "kernelspec": {
   "display_name": "Python 3 (ipykernel)",
   "language": "python",
   "name": "python3"
  },
  "language_info": {
   "codemirror_mode": {
    "name": "ipython",
    "version": 3
   },
   "file_extension": ".py",
   "mimetype": "text/x-python",
   "name": "python",
   "nbconvert_exporter": "python",
   "pygments_lexer": "ipython3",
   "version": "3.7.11"
  }
 },
 "nbformat": 4,
 "nbformat_minor": 5
}
