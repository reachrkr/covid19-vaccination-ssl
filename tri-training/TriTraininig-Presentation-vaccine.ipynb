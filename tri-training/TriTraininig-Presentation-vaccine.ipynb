{
 "cells": [
  {
   "cell_type": "code",
   "execution_count": 1,
   "metadata": {},
   "outputs": [],
   "source": [
    "import numpy as np\n",
    "import sklearn\n",
    "import pandas as pd\n",
    "from tritraining import TriTraining\n",
    "from tritraining import TriTrainingwDisagreement\n",
    "from selftraining import SelfTraining\n",
    "from sklearn.feature_extraction.text import TfidfVectorizer"
   ]
  },
  {
   "cell_type": "code",
   "execution_count": null,
   "metadata": {},
   "outputs": [],
   "source": []
  },
  {
   "cell_type": "code",
   "execution_count": 2,
   "metadata": {},
   "outputs": [],
   "source": [
    "classifiers = [[]]*3\n",
    "\n",
    "from sklearn.neural_network import MLPClassifier\n",
    "from sklearn.naive_bayes import GaussianNB\n",
    "from sklearn import tree\n",
    "\n",
    "from sklearn.svm import SVC\n",
    "from sklearn.naive_bayes import MultinomialNB,BernoulliNB\n",
    "from sklearn.ensemble import RandomForestClassifier\n",
    "from sklearn.linear_model import LogisticRegression, SGDClassifier\n",
    "\n",
    "\n",
    "classifiers[0] = RandomForestClassifier(class_weight='balanced')\n",
    "classifiers[1] = SVC()\n",
    "classifiers[2] = SGDClassifier()"
   ]
  },
  {
   "cell_type": "code",
   "execution_count": 3,
   "metadata": {},
   "outputs": [],
   "source": [
    "tweets_label_train_df = pd.read_csv(\"clean_tweets_labelled_train.csv\")\n",
    "tweets_label_test_df = pd.read_csv(\"clean_tweets_labelled_test.csv\")\n",
    "tweets_unlabel_df = pd.read_csv(\"tweets_unlabelled_cleaned_1L.csv\")\n",
    "#weets_unlabel_df=tweets_unlabel_df.iloc[:len(tweets_label_train_df), :]"
   ]
  },
  {
   "cell_type": "code",
   "execution_count": 4,
   "metadata": {},
   "outputs": [
    {
     "data": {
      "text/html": [
       "<div>\n",
       "<style scoped>\n",
       "    .dataframe tbody tr th:only-of-type {\n",
       "        vertical-align: middle;\n",
       "    }\n",
       "\n",
       "    .dataframe tbody tr th {\n",
       "        vertical-align: top;\n",
       "    }\n",
       "\n",
       "    .dataframe thead th {\n",
       "        text-align: right;\n",
       "    }\n",
       "</style>\n",
       "<table border=\"1\" class=\"dataframe\">\n",
       "  <thead>\n",
       "    <tr style=\"text-align: right;\">\n",
       "      <th></th>\n",
       "      <th>label</th>\n",
       "      <th>clean_data</th>\n",
       "    </tr>\n",
       "  </thead>\n",
       "  <tbody>\n",
       "    <tr>\n",
       "      <th>0</th>\n",
       "      <td>0</td>\n",
       "      <td>day die call covid vaccin report</td>\n",
       "    </tr>\n",
       "    <tr>\n",
       "      <th>1</th>\n",
       "      <td>1</td>\n",
       "      <td>pranam messag today manifest dhyan</td>\n",
       "    </tr>\n",
       "    <tr>\n",
       "      <th>2</th>\n",
       "      <td>1</td>\n",
       "      <td>hyderabad base sought fund govern ramp product...</td>\n",
       "    </tr>\n",
       "    <tr>\n",
       "      <th>3</th>\n",
       "      <td>0</td>\n",
       "      <td>confirm chines high protect rate accord direct...</td>\n",
       "    </tr>\n",
       "    <tr>\n",
       "      <th>4</th>\n",
       "      <td>2</td>\n",
       "      <td>lab studi suggest vaccin protect</td>\n",
       "    </tr>\n",
       "    <tr>\n",
       "      <th>...</th>\n",
       "      <td>...</td>\n",
       "      <td>...</td>\n",
       "    </tr>\n",
       "    <tr>\n",
       "      <th>4195</th>\n",
       "      <td>1</td>\n",
       "      <td>seek full fda approv month account us dose giv...</td>\n",
       "    </tr>\n",
       "    <tr>\n",
       "      <th>4196</th>\n",
       "      <td>2</td>\n",
       "      <td>across countri peopl sign covid vaccin hope br...</td>\n",
       "    </tr>\n",
       "    <tr>\n",
       "      <th>4197</th>\n",
       "      <td>1</td>\n",
       "      <td>astrazeneca vaccin countri suspend ban open do...</td>\n",
       "    </tr>\n",
       "    <tr>\n",
       "      <th>4198</th>\n",
       "      <td>1</td>\n",
       "      <td>sindh high court allow thursday sale russia sp...</td>\n",
       "    </tr>\n",
       "    <tr>\n",
       "      <th>4199</th>\n",
       "      <td>2</td>\n",
       "      <td>thank thank volunt thank nation guard done grate</td>\n",
       "    </tr>\n",
       "  </tbody>\n",
       "</table>\n",
       "<p>4200 rows × 2 columns</p>\n",
       "</div>"
      ],
      "text/plain": [
       "      label                                         clean_data\n",
       "0         0                   day die call covid vaccin report\n",
       "1         1                 pranam messag today manifest dhyan\n",
       "2         1  hyderabad base sought fund govern ramp product...\n",
       "3         0  confirm chines high protect rate accord direct...\n",
       "4         2                   lab studi suggest vaccin protect\n",
       "...     ...                                                ...\n",
       "4195      1  seek full fda approv month account us dose giv...\n",
       "4196      2  across countri peopl sign covid vaccin hope br...\n",
       "4197      1  astrazeneca vaccin countri suspend ban open do...\n",
       "4198      1  sindh high court allow thursday sale russia sp...\n",
       "4199      2   thank thank volunt thank nation guard done grate\n",
       "\n",
       "[4200 rows x 2 columns]"
      ]
     },
     "execution_count": 4,
     "metadata": {},
     "output_type": "execute_result"
    }
   ],
   "source": [
    "tweets_label_train_df"
   ]
  },
  {
   "cell_type": "code",
   "execution_count": 5,
   "metadata": {
    "scrolled": true
   },
   "outputs": [],
   "source": [
    "def data_process():\n",
    "    #from sklearn.model_selection import train_test_split\n",
    "    #X#_train, X_test, y_train, y_test = train_test_split(data, label, test_size = test_rate, random_state=0)\n",
    "\n",
    "    \n",
    "    rng = np.random.RandomState(42)\n",
    "   # labeled_index = rng.rand(len(y_train)) < label_rate\n",
    "    #unlabeled_index = np.logical_not(labeled_index)\n",
    "   \n",
    "    tfidf_vect = TfidfVectorizer( max_features=10000,\n",
    "        sublinear_tf=True,\n",
    "        strip_accents='unicode',\n",
    "        stop_words='english',\n",
    "        lowercase=True,\n",
    "        analyzer='word',\n",
    "        token_pattern=r'\\w{3,}',\n",
    "        ngram_range=(1, 3),\n",
    "        dtype=np.float32,\n",
    "        norm='l2',\n",
    "        min_df=3,\n",
    "        max_df=.9)\n",
    "    tfidf_vect.fit_transform(tweets_unlabel_df['clean_data'].values.astype('U'))\n",
    "    \n",
    "    train_label_tfidf_vect = tfidf_vect.transform(tweets_label_train_df['clean_data'].values.astype('U'))\n",
    "\n",
    "    L_X = train_label_tfidf_vect.todense()#data of L\n",
    "    print(L_X.shape)\n",
    "    L_y = tweets_label_train_df['label']#lable of L\n",
    "    \n",
    "    #tfidf_vect1 = TfidfVectorizer()\n",
    "    train_unlabel_tfidf_vect = tfidf_vect.transform(tweets_unlabel_df['clean_data'].values.astype('U'))\n",
    "    #print(train_unlabel_tfidf_vect)\n",
    "\n",
    "    print(train_unlabel_tfidf_vect.shape)\n",
    "    U_X = train_unlabel_tfidf_vect.todense()   #data of U\n",
    "    print(U_X.shape)\n",
    "   \n",
    "    #tfidf_vect2 = TfidfVectorizer()\n",
    "    #tfidf_vect2.fit(tweets_label_test_df['clean_data'].values.tolist())\n",
    "    test_unlabel_tfidf_vect = tfidf_vect.transform(tweets_label_test_df['clean_data'].values.astype('U'))\n",
    "    \n",
    "    \n",
    "    X_test = test_unlabel_tfidf_vect.todense()#data of L\n",
    "\n",
    "    y_test = tweets_label_test_df['label']#lable of L\n",
    "    return L_X, L_y, U_X, X_test, y_test"
   ]
  },
  {
   "cell_type": "code",
   "execution_count": 7,
   "metadata": {},
   "outputs": [
    {
     "name": "stdout",
     "output_type": "stream",
     "text": [
      "(4200, 10000)\n",
      "(94947, 10000)\n",
      "(94947, 10000)\n"
     ]
    }
   ],
   "source": [
    " L_X, L_y, U_X, X_test, y_test = data_process()\n",
    "m = TriTraining(classifiers)"
   ]
  },
  {
   "cell_type": "code",
   "execution_count": 8,
   "metadata": {},
   "outputs": [
    {
     "data": {
      "text/plain": [
       "[RandomForestClassifier(class_weight='balanced'), SVC(), SGDClassifier()]"
      ]
     },
     "execution_count": 8,
     "metadata": {},
     "output_type": "execute_result"
    }
   ],
   "source": [
    "m.classifiers"
   ]
  },
  {
   "cell_type": "code",
   "execution_count": 9,
   "metadata": {},
   "outputs": [
    {
     "name": "stdout",
     "output_type": "stream",
     "text": [
      "i is %s 0\n",
      "hello Adding\n",
      "i is %s 1\n",
      "hello Adding\n",
      "i is %s 2\n",
      "hello Adding\n",
      "i is %s 1\n",
      "hello Adding\n",
      "i is %s 2\n",
      "hello Adding\n"
     ]
    }
   ],
   "source": [
    "m.fit(L_X, L_y, U_X)"
   ]
  },
  {
   "cell_type": "code",
   "execution_count": 10,
   "metadata": {},
   "outputs": [],
   "source": [
    "proxy_labels=m.predict(U_X)"
   ]
  },
  {
   "cell_type": "code",
   "execution_count": 11,
   "metadata": {},
   "outputs": [],
   "source": [
    "#m.score(X_test, y_test)"
   ]
  },
  {
   "cell_type": "code",
   "execution_count": 12,
   "metadata": {},
   "outputs": [
    {
     "data": {
      "text/plain": [
       "array([0, 1, 2])"
      ]
     },
     "execution_count": 12,
     "metadata": {},
     "output_type": "execute_result"
    }
   ],
   "source": [
    "np.unique(proxy_labels, axis=0)"
   ]
  },
  {
   "cell_type": "code",
   "execution_count": 13,
   "metadata": {},
   "outputs": [
    {
     "data": {
      "text/plain": [
       "94947"
      ]
     },
     "execution_count": 13,
     "metadata": {},
     "output_type": "execute_result"
    }
   ],
   "source": [
    "len(proxy_labels)"
   ]
  },
  {
   "cell_type": "code",
   "execution_count": 16,
   "metadata": {},
   "outputs": [
    {
     "data": {
      "text/html": [
       "<div>\n",
       "<style scoped>\n",
       "    .dataframe tbody tr th:only-of-type {\n",
       "        vertical-align: middle;\n",
       "    }\n",
       "\n",
       "    .dataframe tbody tr th {\n",
       "        vertical-align: top;\n",
       "    }\n",
       "\n",
       "    .dataframe thead th {\n",
       "        text-align: right;\n",
       "    }\n",
       "</style>\n",
       "<table border=\"1\" class=\"dataframe\">\n",
       "  <thead>\n",
       "    <tr style=\"text-align: right;\">\n",
       "      <th></th>\n",
       "      <th>clean_data</th>\n",
       "      <th>label</th>\n",
       "    </tr>\n",
       "  </thead>\n",
       "  <tbody>\n",
       "    <tr>\n",
       "      <th>0</th>\n",
       "      <td>folks said daikon paste could treat cytokine s...</td>\n",
       "      <td>1</td>\n",
       "    </tr>\n",
       "    <tr>\n",
       "      <th>1</th>\n",
       "      <td>world wrong side history year hopefully bigges...</td>\n",
       "      <td>1</td>\n",
       "    </tr>\n",
       "    <tr>\n",
       "      <th>2</th>\n",
       "      <td>russian vaccine created last 24 years</td>\n",
       "      <td>1</td>\n",
       "    </tr>\n",
       "    <tr>\n",
       "      <th>3</th>\n",
       "      <td>explain need vaccine</td>\n",
       "      <td>1</td>\n",
       "    </tr>\n",
       "    <tr>\n",
       "      <th>4</th>\n",
       "      <td>anyone useful adviceguidance whether covid vac...</td>\n",
       "      <td>1</td>\n",
       "    </tr>\n",
       "    <tr>\n",
       "      <th>...</th>\n",
       "      <td>...</td>\n",
       "      <td>...</td>\n",
       "    </tr>\n",
       "    <tr>\n",
       "      <th>94942</th>\n",
       "      <td>tema batch arrives</td>\n",
       "      <td>1</td>\n",
       "    </tr>\n",
       "    <tr>\n",
       "      <th>94943</th>\n",
       "      <td>plans allow vaccinated people wear maskfor lon...</td>\n",
       "      <td>1</td>\n",
       "    </tr>\n",
       "    <tr>\n",
       "      <th>94944</th>\n",
       "      <td>get vaccinated protect amp others</td>\n",
       "      <td>2</td>\n",
       "    </tr>\n",
       "    <tr>\n",
       "      <th>94945</th>\n",
       "      <td>get vaccinated today</td>\n",
       "      <td>1</td>\n",
       "    </tr>\n",
       "    <tr>\n",
       "      <th>94946</th>\n",
       "      <td>saudi gazette demonstrates 943 efficacy amp hi...</td>\n",
       "      <td>1</td>\n",
       "    </tr>\n",
       "  </tbody>\n",
       "</table>\n",
       "<p>94947 rows × 2 columns</p>\n",
       "</div>"
      ],
      "text/plain": [
       "                                              clean_data  label\n",
       "0      folks said daikon paste could treat cytokine s...      1\n",
       "1      world wrong side history year hopefully bigges...      1\n",
       "2                  russian vaccine created last 24 years      1\n",
       "3                                   explain need vaccine      1\n",
       "4      anyone useful adviceguidance whether covid vac...      1\n",
       "...                                                  ...    ...\n",
       "94942                                 tema batch arrives      1\n",
       "94943  plans allow vaccinated people wear maskfor lon...      1\n",
       "94944                  get vaccinated protect amp others      2\n",
       "94945                               get vaccinated today      1\n",
       "94946  saudi gazette demonstrates 943 efficacy amp hi...      1\n",
       "\n",
       "[94947 rows x 2 columns]"
      ]
     },
     "execution_count": 16,
     "metadata": {},
     "output_type": "execute_result"
    }
   ],
   "source": [
    "#add 'blocks' array as new column in DataFrame\n",
    "tweets_unlabel_df['label'] = proxy_labels.tolist()\n",
    "\n",
    "tweets_unlabel_df"
   ]
  },
  {
   "cell_type": "code",
   "execution_count": 17,
   "metadata": {},
   "outputs": [],
   "source": [
    "tweets_unlabel_df.to_csv('tweets_unlabelled_1L_proxy_labels.csv', encoding='utf-8', index=False)"
   ]
  },
  {
   "cell_type": "code",
   "execution_count": 18,
   "metadata": {},
   "outputs": [
    {
     "data": {
      "text/plain": [
       "0.67"
      ]
     },
     "execution_count": 18,
     "metadata": {},
     "output_type": "execute_result"
    }
   ],
   "source": [
    "m.score(X_test, y_test)"
   ]
  },
  {
   "cell_type": "code",
   "execution_count": 19,
   "metadata": {},
   "outputs": [
    {
     "name": "stdout",
     "output_type": "stream",
     "text": [
      "jovyan        15       7  0 Nov01 ?        00:00:33 /opt/conda/bin/python /opt/conda/bin/jupyterhub-singleuser --allow-root --ip=0.0.0.0 --port=8888 --SingleUserNotebookApp.default_url=/lab\n",
      "jovyan       443      15 80 05:38 ?        04:47:18 /opt/conda/bin/python -m ipykernel_launcher -f /home/jovyan/.local/share/jupyter/runtime/kernel-b06116d4-43e6-4b68-81b0-61681c238dfb.json\n",
      "jovyan       922     443  0 11:36 pts/1    00:00:00 /bin/bash -c  ps -ef | grep python\n",
      "jovyan       924     922  0 11:36 pts/1    00:00:00 grep python\n"
     ]
    }
   ],
   "source": [
    "! ps -ef | grep python"
   ]
  },
  {
   "cell_type": "code",
   "execution_count": null,
   "metadata": {},
   "outputs": [],
   "source": []
  }
 ],
 "metadata": {
  "kernelspec": {
   "display_name": "Python 3 (ipykernel)",
   "language": "python",
   "name": "python3"
  },
  "language_info": {
   "codemirror_mode": {
    "name": "ipython",
    "version": 3
   },
   "file_extension": ".py",
   "mimetype": "text/x-python",
   "name": "python",
   "nbconvert_exporter": "python",
   "pygments_lexer": "ipython3",
   "version": "3.7.11"
  },
  "toc-autonumbering": true,
  "toc-showcode": false
 },
 "nbformat": 4,
 "nbformat_minor": 4
}
