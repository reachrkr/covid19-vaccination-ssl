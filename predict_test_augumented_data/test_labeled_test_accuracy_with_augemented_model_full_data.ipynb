{
 "cells": [
  {
   "cell_type": "code",
   "execution_count": 2,
   "id": "abc0fd08",
   "metadata": {},
   "outputs": [],
   "source": [
    "import numpy as np\n",
    "import sklearn\n",
    "import pandas as pd\n",
    "import joblib\n",
    "import pickle\n",
    "\n",
    "from sklearn.feature_extraction.text import TfidfVectorizer, CountVectorizer\n",
    "#import gensim\n",
    "\n",
    "\n",
    "from sklearn.metrics import classification_report, f1_score, confusion_matrix,recall_score,precision_score,make_scorer\n",
    "from sklearn.model_selection import StratifiedKFold, train_test_split, learning_curve,cross_val_score\n",
    "from sklearn.feature_extraction.text import CountVectorizer, TfidfVectorizer, HashingVectorizer\n",
    "from sklearn.tree import DecisionTreeClassifier\n",
    "from sklearn.neighbors import KNeighborsClassifier\n",
    "from statistics import mean, stdev\n",
    "import lightgbm as lgb"
   ]
  },
  {
   "cell_type": "code",
   "execution_count": 3,
   "id": "78db1bce",
   "metadata": {},
   "outputs": [
    {
     "data": {
      "text/html": [
       "<div>\n",
       "<style scoped>\n",
       "    .dataframe tbody tr th:only-of-type {\n",
       "        vertical-align: middle;\n",
       "    }\n",
       "\n",
       "    .dataframe tbody tr th {\n",
       "        vertical-align: top;\n",
       "    }\n",
       "\n",
       "    .dataframe thead th {\n",
       "        text-align: right;\n",
       "    }\n",
       "</style>\n",
       "<table border=\"1\" class=\"dataframe\">\n",
       "  <thead>\n",
       "    <tr style=\"text-align: right;\">\n",
       "      <th></th>\n",
       "      <th>label</th>\n",
       "      <th>clean_data</th>\n",
       "    </tr>\n",
       "  </thead>\n",
       "  <tbody>\n",
       "    <tr>\n",
       "      <th>0</th>\n",
       "      <td>2</td>\n",
       "      <td>could help</td>\n",
       "    </tr>\n",
       "    <tr>\n",
       "      <th>1</th>\n",
       "      <td>2</td>\n",
       "      <td>got first dose covid vaccin happi</td>\n",
       "    </tr>\n",
       "    <tr>\n",
       "      <th>2</th>\n",
       "      <td>2</td>\n",
       "      <td>receiv second dose vaccin yesterday side effec...</td>\n",
       "    </tr>\n",
       "    <tr>\n",
       "      <th>3</th>\n",
       "      <td>1</td>\n",
       "      <td>begin review russia vaccin putin say million d...</td>\n",
       "    </tr>\n",
       "    <tr>\n",
       "      <th>4</th>\n",
       "      <td>2</td>\n",
       "      <td>countri play polit</td>\n",
       "    </tr>\n",
       "    <tr>\n",
       "      <th>...</th>\n",
       "      <td>...</td>\n",
       "      <td>...</td>\n",
       "    </tr>\n",
       "    <tr>\n",
       "      <th>1795</th>\n",
       "      <td>1</td>\n",
       "      <td>dr jee mani peopl like get covaxin vaccin done...</td>\n",
       "    </tr>\n",
       "    <tr>\n",
       "      <th>1796</th>\n",
       "      <td>2</td>\n",
       "      <td>happi fulli vaccin covid readi serv manila phi...</td>\n",
       "    </tr>\n",
       "    <tr>\n",
       "      <th>1797</th>\n",
       "      <td>1</td>\n",
       "      <td>serum institut india announc cost covishield v...</td>\n",
       "    </tr>\n",
       "    <tr>\n",
       "      <th>1798</th>\n",
       "      <td>0</td>\n",
       "      <td>mine yesterday abl get bed today feel</td>\n",
       "    </tr>\n",
       "    <tr>\n",
       "      <th>1799</th>\n",
       "      <td>1</td>\n",
       "      <td>smart sympathi attend oblong noth educ feedbac...</td>\n",
       "    </tr>\n",
       "  </tbody>\n",
       "</table>\n",
       "<p>1800 rows × 2 columns</p>\n",
       "</div>"
      ],
      "text/plain": [
       "      label                                         clean_data\n",
       "0         2                                         could help\n",
       "1         2                  got first dose covid vaccin happi\n",
       "2         2  receiv second dose vaccin yesterday side effec...\n",
       "3         1  begin review russia vaccin putin say million d...\n",
       "4         2                                 countri play polit\n",
       "...     ...                                                ...\n",
       "1795      1  dr jee mani peopl like get covaxin vaccin done...\n",
       "1796      2  happi fulli vaccin covid readi serv manila phi...\n",
       "1797      1  serum institut india announc cost covishield v...\n",
       "1798      0              mine yesterday abl get bed today feel\n",
       "1799      1  smart sympathi attend oblong noth educ feedbac...\n",
       "\n",
       "[1800 rows x 2 columns]"
      ]
     },
     "execution_count": 3,
     "metadata": {},
     "output_type": "execute_result"
    }
   ],
   "source": [
    "tweets_label_test_df = pd.read_csv(\"clean_tweets_labelled_test.csv\")\n",
    "X_test,y_test=tweets_label_test_df[\"clean_data\"],tweets_label_test_df[\"label\"]\n",
    "tweets_label_test_df"
   ]
  },
  {
   "cell_type": "markdown",
   "id": "38398fb8",
   "metadata": {},
   "source": [
    "### ML models\n"
   ]
  },
  {
   "cell_type": "markdown",
   "id": "5e79f029",
   "metadata": {},
   "source": [
    "#### SGD "
   ]
  },
  {
   "cell_type": "code",
   "execution_count": 18,
   "id": "99d5aa16",
   "metadata": {},
   "outputs": [
    {
     "name": "stderr",
     "output_type": "stream",
     "text": [
      "C:\\Users\\rkr\\Anaconda3\\lib\\site-packages\\sklearn\\base.py:315: UserWarning: Trying to unpickle estimator SGDClassifier from version 0.24.2 when using version 0.24.0. This might lead to breaking code or invalid results. Use at your own risk.\n",
      "  UserWarning)\n"
     ]
    }
   ],
   "source": [
    "# Load the model from the file\n",
    "SGD_from_joblib = joblib.load('model/ml/SGD_tfidf_vectorizer4.pkl')"
   ]
  },
  {
   "cell_type": "code",
   "execution_count": 19,
   "id": "b6dce1d3",
   "metadata": {},
   "outputs": [
    {
     "name": "stderr",
     "output_type": "stream",
     "text": [
      "C:\\Users\\rkr\\Anaconda3\\lib\\site-packages\\sklearn\\base.py:315: UserWarning: Trying to unpickle estimator TfidfTransformer from version 0.24.2 when using version 0.24.0. This might lead to breaking code or invalid results. Use at your own risk.\n",
      "  UserWarning)\n"
     ]
    },
    {
     "name": "stdout",
     "output_type": "stream",
     "text": [
      "<class 'sklearn.feature_extraction.text.TfidfVectorizer'>\n"
     ]
    },
    {
     "name": "stderr",
     "output_type": "stream",
     "text": [
      "C:\\Users\\rkr\\Anaconda3\\lib\\site-packages\\sklearn\\base.py:315: UserWarning: Trying to unpickle estimator TfidfVectorizer from version 0.24.2 when using version 0.24.0. This might lead to breaking code or invalid results. Use at your own risk.\n",
      "  UserWarning)\n"
     ]
    }
   ],
   "source": [
    "# tfidf vectorizer transformation \n",
    "tfidf_obj = joblib.load('model/vect/_tfidf_vect_proxy_labelled4.pkl')\n",
    "print(type(tfidf_obj))\n",
    "\n",
    "X_test = tfidf_obj.transform(X_test.astype('U'))"
   ]
  },
  {
   "cell_type": "code",
   "execution_count": 20,
   "id": "a51d0aba",
   "metadata": {},
   "outputs": [
    {
     "name": "stdout",
     "output_type": "stream",
     "text": [
      "Test Accuracy score: 67.33 %\n"
     ]
    }
   ],
   "source": [
    "\n",
    "# Calculate the Score \n",
    "score = SGD_from_joblib.score(X_test, y_test)  \n",
    "# Print the Score\n",
    "print(\"Test Accuracy score: {0:.2f} %\".format(100 * score))  "
   ]
  },
  {
   "cell_type": "markdown",
   "id": "fc2d79b3",
   "metadata": {},
   "source": [
    "### Random Forest "
   ]
  },
  {
   "cell_type": "code",
   "execution_count": 21,
   "id": "529d6ef1",
   "metadata": {
    "scrolled": false
   },
   "outputs": [
    {
     "name": "stderr",
     "output_type": "stream",
     "text": [
      "C:\\Users\\rkr\\Anaconda3\\lib\\site-packages\\sklearn\\base.py:315: UserWarning: Trying to unpickle estimator DecisionTreeClassifier from version 0.24.2 when using version 0.24.0. This might lead to breaking code or invalid results. Use at your own risk.\n",
      "  UserWarning)\n",
      "C:\\Users\\rkr\\Anaconda3\\lib\\site-packages\\sklearn\\base.py:315: UserWarning: Trying to unpickle estimator RandomForestClassifier from version 0.24.2 when using version 0.24.0. This might lead to breaking code or invalid results. Use at your own risk.\n",
      "  UserWarning)\n"
     ]
    }
   ],
   "source": [
    "# Load the model from the file\n",
    "RF_from_joblib = joblib.load('model/ml/random_forest_tfidf_vectorizer4.pkl')"
   ]
  },
  {
   "cell_type": "code",
   "execution_count": 22,
   "id": "0637398b",
   "metadata": {},
   "outputs": [
    {
     "name": "stdout",
     "output_type": "stream",
     "text": [
      "Test Accuracy score: 65.44 %\n"
     ]
    }
   ],
   "source": [
    "# Calculate the Score \n",
    "score = RF_from_joblib.score(X_test, y_test)  \n",
    "# Print the Score\n",
    "print(\"Test Accuracy score: {0:.2f} %\".format(100 * score))  "
   ]
  },
  {
   "cell_type": "markdown",
   "id": "1be61131",
   "metadata": {},
   "source": []
  },
  {
   "cell_type": "markdown",
   "id": "9886270b",
   "metadata": {},
   "source": [
    "### SVM"
   ]
  },
  {
   "cell_type": "code",
   "execution_count": 23,
   "id": "5f90bcb5",
   "metadata": {
    "scrolled": false
   },
   "outputs": [
    {
     "name": "stderr",
     "output_type": "stream",
     "text": [
      "C:\\Users\\rkr\\Anaconda3\\lib\\site-packages\\sklearn\\base.py:315: UserWarning: Trying to unpickle estimator SVC from version 0.24.2 when using version 0.24.0. This might lead to breaking code or invalid results. Use at your own risk.\n",
      "  UserWarning)\n"
     ]
    }
   ],
   "source": [
    "# Load the model from the file\n",
    "SVM_from_joblib = joblib.load('model/ml/svm_tfidf_vectorizer3.pkl')"
   ]
  },
  {
   "cell_type": "code",
   "execution_count": 24,
   "id": "76362fcc",
   "metadata": {},
   "outputs": [
    {
     "name": "stdout",
     "output_type": "stream",
     "text": [
      "Test Accuracy score: 66.39 %\n"
     ]
    }
   ],
   "source": [
    "# Calculate the Score \n",
    "score = SVM_from_joblib.score(X_test, y_test)  \n",
    "# Print the Score\n",
    "print(\"Test Accuracy score: {0:.2f} %\".format(100 * score))  "
   ]
  },
  {
   "cell_type": "markdown",
   "id": "30461d7d",
   "metadata": {},
   "source": [
    "### Naivye Bayes"
   ]
  },
  {
   "cell_type": "code",
   "execution_count": 25,
   "id": "52b87b62",
   "metadata": {
    "scrolled": false
   },
   "outputs": [
    {
     "name": "stderr",
     "output_type": "stream",
     "text": [
      "C:\\Users\\rkr\\Anaconda3\\lib\\site-packages\\sklearn\\base.py:315: UserWarning: Trying to unpickle estimator MultinomialNB from version 0.24.2 when using version 0.24.0. This might lead to breaking code or invalid results. Use at your own risk.\n",
      "  UserWarning)\n"
     ]
    }
   ],
   "source": [
    "# Load the model from the file\n",
    "NB_from_joblib = joblib.load('model/ml/naive_bayes_tfidf_vectorizer4.pkl')"
   ]
  },
  {
   "cell_type": "code",
   "execution_count": 26,
   "id": "b9d4fbda",
   "metadata": {},
   "outputs": [
    {
     "name": "stdout",
     "output_type": "stream",
     "text": [
      "Test Accuracy score: 66.17 %\n"
     ]
    }
   ],
   "source": [
    "# Calculate the Score \n",
    "score = NB_from_joblib.score(X_test, y_test)  \n",
    "# Print the Score\n",
    "print(\"Test Accuracy score: {0:.2f} %\".format(100 * score))  "
   ]
  },
  {
   "cell_type": "markdown",
   "id": "8de19792",
   "metadata": {},
   "source": [
    "### KNN"
   ]
  },
  {
   "cell_type": "code",
   "execution_count": 28,
   "id": "9a300668",
   "metadata": {
    "scrolled": false
   },
   "outputs": [
    {
     "name": "stderr",
     "output_type": "stream",
     "text": [
      "C:\\Users\\rkr\\Anaconda3\\lib\\site-packages\\sklearn\\base.py:315: UserWarning: Trying to unpickle estimator KNeighborsClassifier from version 0.24.2 when using version 0.24.0. This might lead to breaking code or invalid results. Use at your own risk.\n",
      "  UserWarning)\n"
     ]
    }
   ],
   "source": [
    "# Load the model from the file\n",
    "KNN_from_joblib = joblib.load('model/ml/KNeighborsClassifier_tfidf_vectorizer4.pkl')"
   ]
  },
  {
   "cell_type": "code",
   "execution_count": 29,
   "id": "eb83b23c",
   "metadata": {},
   "outputs": [
    {
     "name": "stdout",
     "output_type": "stream",
     "text": [
      "Test Accuracy score: 62.94 %\n"
     ]
    }
   ],
   "source": [
    "# Calculate the Score \n",
    "score = KNN_from_joblib.score(X_test, y_test)  \n",
    "# Print the Score\n",
    "print(\"Test Accuracy score: {0:.2f} %\".format(100 * score))  "
   ]
  },
  {
   "cell_type": "markdown",
   "id": "1561a6af",
   "metadata": {},
   "source": [
    "### Logistic Regression "
   ]
  },
  {
   "cell_type": "code",
   "execution_count": 30,
   "id": "c7040775",
   "metadata": {
    "scrolled": false
   },
   "outputs": [
    {
     "name": "stderr",
     "output_type": "stream",
     "text": [
      "C:\\Users\\rkr\\Anaconda3\\lib\\site-packages\\sklearn\\base.py:315: UserWarning: Trying to unpickle estimator LogisticRegression from version 0.24.2 when using version 0.24.0. This might lead to breaking code or invalid results. Use at your own risk.\n",
      "  UserWarning)\n"
     ]
    }
   ],
   "source": [
    "# Load the model from the file\n",
    "LR_from_joblib = joblib.load('model/ml/logistic_regression_tfidf_vectorizer4.pkl')"
   ]
  },
  {
   "cell_type": "code",
   "execution_count": 31,
   "id": "7ebdacbf",
   "metadata": {},
   "outputs": [
    {
     "name": "stdout",
     "output_type": "stream",
     "text": [
      "Test Accuracy score: 67.11 %\n"
     ]
    }
   ],
   "source": [
    "# Calculate the Score \n",
    "score = LR_from_joblib.score(X_test, y_test)  \n",
    "# Print the Score\n",
    "print(\"Test Accuracy score: {0:.2f} %\".format(100 * score))  "
   ]
  },
  {
   "cell_type": "markdown",
   "id": "621783d8",
   "metadata": {},
   "source": [
    "### Decision Tree  "
   ]
  },
  {
   "cell_type": "code",
   "execution_count": 32,
   "id": "728419c5",
   "metadata": {
    "scrolled": false
   },
   "outputs": [
    {
     "name": "stderr",
     "output_type": "stream",
     "text": [
      "C:\\Users\\rkr\\Anaconda3\\lib\\site-packages\\sklearn\\base.py:315: UserWarning: Trying to unpickle estimator DecisionTreeClassifier from version 0.24.2 when using version 0.24.0. This might lead to breaking code or invalid results. Use at your own risk.\n",
      "  UserWarning)\n"
     ]
    }
   ],
   "source": [
    "# Load the model from the file\n",
    "DT_from_joblib = joblib.load('model/ml/DecisionTreeClassifier_tfidf_vectorizer4.pkl')"
   ]
  },
  {
   "cell_type": "code",
   "execution_count": 33,
   "id": "868ab1b0",
   "metadata": {},
   "outputs": [
    {
     "name": "stdout",
     "output_type": "stream",
     "text": [
      "Test Accuracy score: 60.89 %\n"
     ]
    }
   ],
   "source": [
    "# Calculate the Score \n",
    "score = DT_from_joblib.score(X_test, y_test)  \n",
    "# Print the Score\n",
    "print(\"Test Accuracy score: {0:.2f} %\".format(100 * score))  "
   ]
  },
  {
   "cell_type": "markdown",
   "id": "32214da7",
   "metadata": {},
   "source": [
    "### Deep learning models"
   ]
  },
  {
   "cell_type": "code",
   "execution_count": 9,
   "id": "50e0d388",
   "metadata": {},
   "outputs": [
    {
     "name": "stdout",
     "output_type": "stream",
     "text": [
      "<class 'keras_preprocessing.text.Tokenizer'>\n",
      "[[   0    0    0 ...    0  137  134]\n",
      " [   0    0    0 ...   10    1  265]\n",
      " [   0    0    0 ... 4213  958  291]\n",
      " ...\n",
      " [   0    0    0 ...  456  869  184]\n",
      " [   0    0    0 ...  654    6   16]\n",
      " [   0    0    0 ...  576 1697 4498]]\n"
     ]
    }
   ],
   "source": [
    "# Load the model from the file\n",
    "#lstm_from_joblib = joblib.load('lstm_best_model.h5')\n",
    "\n",
    "import gensim.downloader as api\n",
    "from tensorflow.keras.preprocessing.text import Tokenizer\n",
    "from tensorflow.keras.preprocessing.sequence import pad_sequences\n",
    "from tensorflow.keras import backend as K\n",
    "import keras\n",
    "import tensorflow as tf\n",
    "max_words = 5000\n",
    "max_len = 200\n",
    "\n",
    "n_epochs = 8\n",
    "#tokenizer = Tokenizer(num_words=max_words)\n",
    "#tokenizer.fit_on_texts(tweets_label_test_df[\"clean_data\"].values.astype('U'))\n",
    "#sequences = tokenizer.texts_to_sequences(tweets_label_test_df[\"clean_data\"].values.astype('U'))\n",
    "#tweets = pad_sequences(sequences, maxlen=max_len)\n",
    "\n",
    "tokenizer = joblib.load('model/vect/dl_tokenizer2.pkl')\n",
    "print(type(tokenizer))\n",
    "\n",
    "sequences = tokenizer.texts_to_sequences(tweets_label_test_df[\"clean_data\"].values.astype('U'))\n",
    "tweets = pad_sequences(sequences, maxlen=max_len)\n",
    "\n",
    "print(tweets)\n",
    "\n",
    "labels = tf.keras.utils.to_categorical(tweets_label_test_df[\"label\"], dtype=\"float32\")\n",
    "\n",
    "model = tf.keras.models.load_model('model/dl/lstm_best_model2.h5')"
   ]
  },
  {
   "cell_type": "code",
   "execution_count": 4,
   "id": "1ff0361f",
   "metadata": {},
   "outputs": [
    {
     "name": "stdout",
     "output_type": "stream",
     "text": [
      "WARNING:tensorflow:Model was constructed with shape (None, 50) for input KerasTensor(type_spec=TensorSpec(shape=(None, 50), dtype=tf.float32, name='embedding_input'), name='embedding_input', description=\"created by layer 'embedding_input'\"), but it was called on an input with incompatible shape (None, 200).\n",
      "57/57 - 1s - loss: 0.9751 - accuracy: 0.6489\n",
      "Model accuracy:  0.648888885974884\n"
     ]
    }
   ],
   "source": [
    "test_loss, test_acc = model.evaluate(tweets, labels, verbose=2)\n",
    "print('Model accuracy: ',test_acc)"
   ]
  },
  {
   "cell_type": "code",
   "execution_count": 5,
   "id": "5922fe33",
   "metadata": {},
   "outputs": [],
   "source": [
    "bilstm_model = keras.models.load_model('model/dl/bi_lstm_best_model2.h5')"
   ]
  },
  {
   "cell_type": "code",
   "execution_count": 6,
   "id": "6f032469",
   "metadata": {},
   "outputs": [
    {
     "name": "stdout",
     "output_type": "stream",
     "text": [
      "WARNING:tensorflow:Model was constructed with shape (None, 50) for input KerasTensor(type_spec=TensorSpec(shape=(None, 50), dtype=tf.float32, name='embedding_1_input'), name='embedding_1_input', description=\"created by layer 'embedding_1_input'\"), but it was called on an input with incompatible shape (None, 200).\n",
      "57/57 - 2s - loss: 1.0000 - accuracy: 0.6467\n",
      "Model accuracy:  0.6466666460037231\n"
     ]
    }
   ],
   "source": [
    "test_loss, test_acc = bilstm_model.evaluate(tweets, labels, verbose=2)\n",
    "print('Model accuracy: ',test_acc)"
   ]
  },
  {
   "cell_type": "code",
   "execution_count": 7,
   "id": "d4fa39dc",
   "metadata": {},
   "outputs": [],
   "source": [
    "gru_model = keras.models.load_model('model/dl/gru_best_model2.h5')"
   ]
  },
  {
   "cell_type": "code",
   "execution_count": 8,
   "id": "640cb80c",
   "metadata": {},
   "outputs": [
    {
     "name": "stdout",
     "output_type": "stream",
     "text": [
      "WARNING:tensorflow:Model was constructed with shape (None, 50) for input KerasTensor(type_spec=TensorSpec(shape=(None, 50), dtype=tf.float32, name='embedding_2_input'), name='embedding_2_input', description=\"created by layer 'embedding_2_input'\"), but it was called on an input with incompatible shape (None, 200).\n",
      "57/57 - 1s - loss: 0.9290 - accuracy: 0.6600\n",
      "Model accuracy:  0.6600000262260437\n"
     ]
    }
   ],
   "source": [
    "test_loss, test_acc = gru_model.evaluate(tweets, labels, verbose=2)\n",
    "print('Model accuracy: ',test_acc)"
   ]
  },
  {
   "cell_type": "markdown",
   "id": "7a2ceed1",
   "metadata": {},
   "source": [
    "#### BERT"
   ]
  },
  {
   "cell_type": "code",
   "execution_count": null,
   "id": "05216fc4",
   "metadata": {},
   "outputs": [],
   "source": [
    "import tensorflow_hub as hub\n"
   ]
  },
  {
   "cell_type": "code",
   "execution_count": null,
   "id": "7bae7e87",
   "metadata": {},
   "outputs": [],
   "source": [
    "ct_bert_saved_model = tf.keras.models.load_model(('model/bert/ct_bert_model.h5'),custom_objects={'KerasLayer':hub.KerasLayer})"
   ]
  },
  {
   "cell_type": "code",
   "execution_count": null,
   "id": "32b8d90f",
   "metadata": {},
   "outputs": [],
   "source": [
    "from  official.nlp.bert import tokenization"
   ]
  },
  {
   "cell_type": "code",
   "execution_count": null,
   "id": "7c7a94c5",
   "metadata": {},
   "outputs": [],
   "source": [
    "%%time\n",
    " \n",
    "bert_layer = hub.KerasLayer(\"https://tfhub.dev/digitalepidemiologylab/covid-twitter-bert/2\", trainable=True)"
   ]
  },
  {
   "cell_type": "code",
   "execution_count": null,
   "id": "c1464794",
   "metadata": {},
   "outputs": [],
   "source": [
    "vocab_file = bert_layer.resolved_object.vocab_file.asset_path.numpy()\n",
    "do_lower_case = bert_layer.resolved_object.do_lower_case.numpy()\n",
    "tokenizer = tokenization.FullTokenizer(vocab_file, do_lower_case)"
   ]
  },
  {
   "cell_type": "code",
   "execution_count": null,
   "id": "1405a39f",
   "metadata": {},
   "outputs": [],
   "source": [
    "def ct_bert_encode(texts, tokenizer, max_len=512):\n",
    "    all_tokens = []\n",
    "    all_masks = []\n",
    "    all_segments = []\n",
    "    \n",
    "    for text in texts:\n",
    "        text = tokenizer.tokenize(text)\n",
    "            \n",
    "        text = text[:max_len-2]\n",
    "        input_sequence = [\"[CLS]\"] + text + [\"[SEP]\"]\n",
    "        pad_len = max_len - len(input_sequence)\n",
    "        \n",
    "        tokens = tokenizer.convert_tokens_to_ids(input_sequence)\n",
    "        tokens += [0] * pad_len\n",
    "        pad_masks = [1] * len(input_sequence) + [0] * pad_len\n",
    "        segment_ids = [0] * max_len\n",
    "        \n",
    "        all_tokens.append(tokens)\n",
    "        all_masks.append(pad_masks)\n",
    "        all_segments.append(segment_ids)\n",
    "    \n",
    "    return np.array(all_tokens), np.array(all_masks), np.array(all_segments)"
   ]
  },
  {
   "cell_type": "code",
   "execution_count": null,
   "id": "b539d3b5",
   "metadata": {},
   "outputs": [],
   "source": [
    "texts = tweets_label_test_df[\"clean_data\"].astype('U')\n",
    "target = labels\n",
    "\n",
    "tweets = ct_bert_encode(texts, tokenizer, max_len=100)"
   ]
  },
  {
   "cell_type": "code",
   "execution_count": null,
   "id": "17a48d2b",
   "metadata": {},
   "outputs": [],
   "source": [
    "test_loss, test_acc = ct_bert_saved_model.evaluate(tweets, labels, verbose=2)\n",
    "print('Model accuracy: ',test_acc)"
   ]
  },
  {
   "cell_type": "code",
   "execution_count": null,
   "id": "7af05108",
   "metadata": {},
   "outputs": [],
   "source": []
  }
 ],
 "metadata": {
  "kernelspec": {
   "display_name": "Python 3 (ipykernel)",
   "language": "python",
   "name": "python3"
  },
  "language_info": {
   "codemirror_mode": {
    "name": "ipython",
    "version": 3
   },
   "file_extension": ".py",
   "mimetype": "text/x-python",
   "name": "python",
   "nbconvert_exporter": "python",
   "pygments_lexer": "ipython3",
   "version": "3.7.11"
  }
 },
 "nbformat": 4,
 "nbformat_minor": 5
}
