{
 "cells": [
  {
   "cell_type": "markdown",
   "metadata": {
    "id": "B4j1js4Yh8z7",
    "papermill": {
     "duration": 0.041214,
     "end_time": "2021-03-20T10:45:37.541685",
     "exception": false,
     "start_time": "2021-03-20T10:45:37.500471",
     "status": "completed"
    },
    "tags": []
   },
   "source": [
    "<center><h1>Explore Vaccines Tweets - proxy+Labelled data\n",
    "   </h1></center>\n",
    "\n",
    "# Introduction\n",
    "\n",
    "\n",
    "The Dataset we are using here is collected using Twitter API, **tweepy** and Python package.\n",
    "\n",
    "The following vaccines are included:  \n",
    "* Pfizer/BioNTech;   \n",
    "* Sinopharm;  \n",
    "* Sinovac;  \n",
    "* Moderna;  \n",
    "* Oxford/AstraZeneca;   \n",
    "* Covaxin;   \n",
    "* Sputnik V.  \n",
    "\n"
   ]
  },
  {
   "cell_type": "markdown",
   "metadata": {
    "id": "a4rPVxxUh80C",
    "papermill": {
     "duration": 0.037002,
     "end_time": "2021-03-20T10:45:37.617702",
     "exception": false,
     "start_time": "2021-03-20T10:45:37.580700",
     "status": "completed"
    },
    "tags": []
   },
   "source": [
    "# Data preparation\n",
    "\n",
    "## Load packages"
   ]
  },
  {
   "cell_type": "code",
   "execution_count": 1,
   "metadata": {
    "colab": {
     "base_uri": "https://localhost:8080/"
    },
    "executionInfo": {
     "elapsed": 4681,
     "status": "ok",
     "timestamp": 1635242160229,
     "user": {
      "displayName": "Rajesh K",
      "photoUrl": "https://lh3.googleusercontent.com/a/default-user=s64",
      "userId": "12525052543561073894"
     },
     "user_tz": -330
    },
    "gather": {
     "logged": 1634622462441
    },
    "id": "NtkQxghVh80C",
    "outputId": "d4c00fa3-932d-416c-93f9-3e949c1cc105"
   },
   "outputs": [],
   "source": [
    "#! pip install tensorflow==2.6 tensorflow-gpu==2.6 seaborn  lightgbm   pandas plotly  matplotlib nltk numpy gensim wordcloud textblob neattext scikit_learn nbformat transformers tensorflow_hub bert-tensorflow  tf-models-official"
   ]
  },
  {
   "cell_type": "code",
   "execution_count": 2,
   "metadata": {
    "colab": {
     "base_uri": "https://localhost:8080/",
     "height": 35
    },
    "executionInfo": {
     "elapsed": 1787,
     "status": "ok",
     "timestamp": 1635242162003,
     "user": {
      "displayName": "Rajesh K",
      "photoUrl": "https://lh3.googleusercontent.com/a/default-user=s64",
      "userId": "12525052543561073894"
     },
     "user_tz": -330
    },
    "id": "ptLUaFffh80F",
    "outputId": "8161c425-010e-403e-cc40-0f8a3ea11df1"
   },
   "outputs": [
    {
     "data": {
      "text/plain": [
       "'2.6.0'"
      ]
     },
     "execution_count": 2,
     "metadata": {},
     "output_type": "execute_result"
    }
   ],
   "source": [
    "#! pip install tensorflow==2.6\n",
    "import tensorflow as tf\n",
    "tf.__version__\n",
    "\n"
   ]
  },
  {
   "cell_type": "code",
   "execution_count": 3,
   "metadata": {
    "_cell_guid": "b1076dfc-b9ad-4769-8c92-a6c4dae69d19",
    "_kg_hide-input": true,
    "_uuid": "8f2839f25d086af736a60e9eeb907d3b93b6e0e5",
    "executionInfo": {
     "elapsed": 992,
     "status": "ok",
     "timestamp": 1635242162992,
     "user": {
      "displayName": "Rajesh K",
      "photoUrl": "https://lh3.googleusercontent.com/a/default-user=s64",
      "userId": "12525052543561073894"
     },
     "user_tz": -330
    },
    "gather": {
     "logged": 1634622464697
    },
    "id": "PaxzW-7Sh80G",
    "papermill": {
     "duration": 2.272787,
     "end_time": "2021-03-20T10:45:39.927368",
     "exception": false,
     "start_time": "2021-03-20T10:45:37.654581",
     "status": "completed"
    },
    "tags": []
   },
   "outputs": [],
   "source": [
    "import numpy as np \n",
    "import pandas as pd\n",
    "import matplotlib as mp\n",
    "import seaborn as sns\n",
    "import matplotlib.pyplot as plt\n",
    "from textblob import TextBlob\n",
    "%matplotlib inline \n",
    "from wordcloud import WordCloud, STOPWORDS\n",
    "##\n",
    "import plotly.express as px\n",
    "import plotly.graph_objs as go\n",
    "from plotly.offline import init_notebook_mode, iplot\n",
    "##\n",
    "import warnings\n",
    "warnings.simplefilter(\"ignore\")"
   ]
  },
  {
   "cell_type": "code",
   "execution_count": null,
   "metadata": {
    "executionInfo": {
     "elapsed": 35,
     "status": "ok",
     "timestamp": 1635242163002,
     "user": {
      "displayName": "Rajesh K",
      "photoUrl": "https://lh3.googleusercontent.com/a/default-user=s64",
      "userId": "12525052543561073894"
     },
     "user_tz": -330
    },
    "id": "TscqBxAnh80H"
   },
   "outputs": [],
   "source": []
  },
  {
   "cell_type": "markdown",
   "metadata": {
    "id": "okpHOECNh80H",
    "papermill": {
     "duration": 0.037597,
     "end_time": "2021-03-20T10:45:40.003701",
     "exception": false,
     "start_time": "2021-03-20T10:45:39.966104",
     "status": "completed"
    },
    "tags": []
   },
   "source": [
    "## Load data"
   ]
  },
  {
   "cell_type": "code",
   "execution_count": null,
   "metadata": {
    "_cell_guid": "79c7e3d0-c299-4dcb-8224-4455121ee9b0",
    "_kg_hide-input": true,
    "_uuid": "d629ff2d2480ee46fbb7e2d37f6b5fab8052498a",
    "executionInfo": {
     "elapsed": 35,
     "status": "ok",
     "timestamp": 1635242163003,
     "user": {
      "displayName": "Rajesh K",
      "photoUrl": "https://lh3.googleusercontent.com/a/default-user=s64",
      "userId": "12525052543561073894"
     },
     "user_tz": -330
    },
    "gather": {
     "logged": 1634622465171
    },
    "id": "O5BxJNzlh80I",
    "papermill": {
     "duration": 0.67196,
     "end_time": "2021-03-20T10:45:40.712655",
     "exception": false,
     "start_time": "2021-03-20T10:45:40.040695",
     "status": "completed"
    },
    "tags": []
   },
   "outputs": [],
   "source": [
    "        "
   ]
  },
  {
   "cell_type": "code",
   "execution_count": 4,
   "metadata": {
    "scrolled": true
   },
   "outputs": [],
   "source": [
    "tweets_df = pd.read_csv(\"tweets_cleaned_labelled.csv\", encoding='utf-8')"
   ]
  },
  {
   "cell_type": "code",
   "execution_count": 5,
   "metadata": {},
   "outputs": [
    {
     "data": {
      "text/plain": [
       "6000"
      ]
     },
     "execution_count": 5,
     "metadata": {},
     "output_type": "execute_result"
    }
   ],
   "source": [
    "len(tweets_df)"
   ]
  },
  {
   "cell_type": "markdown",
   "metadata": {
    "id": "C_ltO0QKh80Y"
   },
   "source": [
    "### For SSl splitting the data to 70-30  , where 30 will be used for final prediction task \n",
    "\n",
    "\n",
    "\n"
   ]
  },
  {
   "cell_type": "code",
   "execution_count": 6,
   "metadata": {
    "executionInfo": {
     "elapsed": 10,
     "status": "ok",
     "timestamp": 1635242183600,
     "user": {
      "displayName": "Rajesh K",
      "photoUrl": "https://lh3.googleusercontent.com/a/default-user=s64",
      "userId": "12525052543561073894"
     },
     "user_tz": -330
    },
    "gather": {
     "logged": 1634622491025
    },
    "id": "sL8bCI72h80Y"
   },
   "outputs": [
    {
     "name": "stdout",
     "output_type": "stream",
     "text": [
      "4200\n",
      "1800\n"
     ]
    }
   ],
   "source": [
    "# seperate off train and test\n",
    "train = tweets_df.iloc[:4200, :]\n",
    "test = tweets_df.iloc[4200:, :]\n",
    "#train = tweets_df.sample(frac=0.7,random_state=200)\n",
    "print(len(train))\n",
    "#test=tweets_df.drop(train.index)\n",
    "print(len(test))\n",
    "\n",
    "# seperate off train and test\n",
    "\n"
   ]
  },
  {
   "cell_type": "code",
   "execution_count": null,
   "metadata": {},
   "outputs": [],
   "source": []
  },
  {
   "cell_type": "markdown",
   "metadata": {
    "id": "OSmEeCnzh80Y"
   },
   "source": [
    "\n",
    "### Classification Tasks"
   ]
  },
  {
   "cell_type": "code",
   "execution_count": 7,
   "metadata": {
    "executionInfo": {
     "elapsed": 606,
     "status": "ok",
     "timestamp": 1635242184196,
     "user": {
      "displayName": "Rajesh K",
      "photoUrl": "https://lh3.googleusercontent.com/a/default-user=s64",
      "userId": "12525052543561073894"
     },
     "user_tz": -330
    },
    "gather": {
     "logged": 1634622492752
    },
    "id": "rsJ3QpmDh80Y"
   },
   "outputs": [
    {
     "data": {
      "text/plain": [
       "['model/vect/_tfidf_vect_labelled.pkl']"
      ]
     },
     "execution_count": 7,
     "metadata": {},
     "output_type": "execute_result"
    }
   ],
   "source": [
    "from sklearn.feature_extraction.text import TfidfVectorizer, CountVectorizer\n",
    "#import gensim\n",
    "\n",
    "from sklearn.svm import SVC\n",
    "from sklearn.naive_bayes import MultinomialNB,BernoulliNB\n",
    "from sklearn.ensemble import RandomForestClassifier\n",
    "from sklearn.linear_model import LogisticRegression, SGDClassifier\n",
    "from sklearn.metrics import classification_report, f1_score, confusion_matrix,recall_score,precision_score,make_scorer\n",
    "from sklearn.model_selection import StratifiedKFold, train_test_split, learning_curve,cross_val_score\n",
    "from sklearn.feature_extraction.text import CountVectorizer, TfidfVectorizer, HashingVectorizer\n",
    "from sklearn.tree import DecisionTreeClassifier\n",
    "from sklearn.neighbors import KNeighborsClassifier\n",
    "from statistics import mean, stdev\n",
    "import lightgbm as lgb\n",
    "import joblib\n",
    "\n",
    "# target variable \n",
    "y = train[\"label\"].values\n",
    "\n",
    "no_of_splits=5\n",
    "# initializing Kfold\n",
    "skf = StratifiedKFold(n_splits=no_of_splits, shuffle=True, random_state=24)\n",
    "\n",
    "# count vectorizer transformation\n",
    "count_vect = CountVectorizer()\n",
    "count_vect.fit(tweets_df[\"clean_data\"].values.astype('U').tolist())\n",
    "train_count_vect = count_vect.transform(train[\"clean_data\"].values.astype('U'))\n",
    "joblib.dump(count_vect, \"model/vect/count_vect_labelled.pkl\")\n",
    "\n",
    "# tfidf vectorizer transformation \n",
    "tfidf_vect = TfidfVectorizer()\n",
    "tfidf_vect.fit(tweets_df[\"clean_data\"].values.astype('U').tolist())\n",
    "train_tfidf_vect = tfidf_vect.transform(train[\"clean_data\"].values.astype('U'))\n",
    "joblib.dump(tfidf_vect, \"model/vect/_tfidf_vect_labelled.pkl\")"
   ]
  },
  {
   "cell_type": "code",
   "execution_count": 8,
   "metadata": {
    "executionInfo": {
     "elapsed": 8,
     "status": "ok",
     "timestamp": 1635242184197,
     "user": {
      "displayName": "Rajesh K",
      "photoUrl": "https://lh3.googleusercontent.com/a/default-user=s64",
      "userId": "12525052543561073894"
     },
     "user_tz": -330
    },
    "gather": {
     "logged": 1634622493135
    },
    "id": "VR3vZNIth80Z"
   },
   "outputs": [],
   "source": [
    "\n",
    "# light gbm parameters\n",
    "lgbm_params = {\n",
    "    \"learning_rate\": 0.02, \n",
    "    \"random_state\": 24, \n",
    "    \"metric\": \"multi_logloss\",\n",
    "    \"n_estimators\": 2000,\n",
    "    \"objective\": \"multiclass\"\n",
    "}\n",
    "# models\n",
    "models =  {\n",
    "    \"svm\": SVC(),\n",
    "    \"logistic_regression\": LogisticRegression(),\n",
    "    \"naive_bayes\": MultinomialNB(),\n",
    "    \"SGD\": SGDClassifier(),\n",
    "    \"random_forest\": RandomForestClassifier(class_weight='balanced'),\n",
    "    \"DecisionTreeClassifier\": DecisionTreeClassifier(),\n",
    "    \"KNeighborsClassifier\": KNeighborsClassifier(),\n",
    "    \"LGBM\":lgb.LGBMClassifier(**lgbm_params)\n",
    "    \n",
    "} \n",
    "\n",
    "# current vectors\n",
    "vectors = {\n",
    "    \"count_vectorizer\": train_count_vect,\n",
    "    \"tfidf_vectorizer\": train_tfidf_vect\n",
    "}"
   ]
  },
  {
   "cell_type": "code",
   "execution_count": 9,
   "metadata": {
    "executionInfo": {
     "elapsed": 8,
     "status": "ok",
     "timestamp": 1635242184198,
     "user": {
      "displayName": "Rajesh K",
      "photoUrl": "https://lh3.googleusercontent.com/a/default-user=s64",
      "userId": "12525052543561073894"
     },
     "user_tz": -330
    },
    "gather": {
     "logged": 1634622493919
    },
    "id": "4icMOsoyh80Z"
   },
   "outputs": [],
   "source": [
    "def stratified_kfold(clf:str, vect_type:str, y, kfold):\n",
    "    \"\"\"\n",
    "    Perform Kfold Cross-Validation\n",
    "    :param model: the model used to make predictions\n",
    "    :param X: the train features being used \n",
    "    :param y: the target feature,\n",
    "    :param kfold: the cross validation strategy\n",
    "    :return: dictionary with model name key and results as the values\n",
    "    \"\"\"\n",
    "    results = {}\n",
    "    # store the name of the model in dictionary\n",
    "    results[\"modelname_vectorType\"] = clf + \"_\" + vect_type\n",
    "    \n",
    "    # call the model and training data\n",
    "    model = models[clf]\n",
    "    X = vectors[vect_type]\n",
    "\n",
    "    f1score_list= []\n",
    "    lst_accu_stratified = []\n",
    "    # perfrom kfold cv\n",
    "    for fold, (train_idx, valid_idx) in enumerate(kfold.split(X, y)):\n",
    "        #print(f\"\\nCurrently Training: {results['modelname_vectorType']}... Fold: {fold+1}\")\n",
    "        X_train, X_valid = X[train_idx], X[valid_idx]\n",
    "        y_train, y_valid = y[train_idx], y[valid_idx]\n",
    "        \n",
    "        # train on seen data, predict on unseen\n",
    "        model.fit(X_train, y_train)\n",
    "        y_preds = model.predict(X_valid)\n",
    "        f1score = f1_score(y_valid, y_preds,average='weighted')\n",
    "        results[\"fold_{}\".format(fold+1)] = f1score\n",
    "        lst_accu_stratified.append(model.score(X_valid, y_valid))\n",
    "        f1score_list.append(f1score)\n",
    "    results[\"accuracy\"] = \"%.3f%%\" % (mean(lst_accu_stratified) * 100)\n",
    "    joblib.dump(model, \"model/ml/\"+clf + \"_\" + vect_type+\".pkl\")\n",
    "    return results"
   ]
  },
  {
   "cell_type": "code",
   "execution_count": 10,
   "metadata": {
    "executionInfo": {
     "elapsed": 8,
     "status": "ok",
     "timestamp": 1635242184199,
     "user": {
      "displayName": "Rajesh K",
      "photoUrl": "https://lh3.googleusercontent.com/a/default-user=s64",
      "userId": "12525052543561073894"
     },
     "user_tz": -330
    },
    "gather": {
     "logged": 1634622494282
    },
    "id": "XfbUxdiOh80Z"
   },
   "outputs": [],
   "source": [
    "def stratified_kfold_lbgm(clf:str, vect_type:str, y, kfold):\n",
    "    \"\"\"\n",
    "    Perform Kfold Cross-Validation\n",
    "    :param model: the model used to make predictions\n",
    "    :param X: the train features being used \n",
    "    :param y: the target feature,\n",
    "    :param kfold: the cross validation strategy\n",
    "    :return: dictionary with model name key and results as the values\n",
    "    \"\"\"\n",
    "    results = {}\n",
    "    # store the name of the model in dictionary\n",
    "    results[\"modelname_vectorType\"] = clf + \"_\" + vect_type\n",
    "    \n",
    "    # call the model and training data\n",
    "    model = models[clf]\n",
    "    X = vectors[vect_type]\n",
    "    \n",
    "    f1score_list= []\n",
    "    lst_accu_stratified = []\n",
    "    # perfrom kfold cv\n",
    "    for fold, (train_idx, valid_idx) in enumerate(kfold.split(X, y)):\n",
    "        print(f\"\\nCurrently Training: {results['modelname_vectorType']}... Fold: {fold+1}\")\n",
    "        X_train, X_valid= X[train_idx].astype(np.float64), X[valid_idx].astype(np.float64)\n",
    "        y_train, y_valid= y[train_idx].astype(np.float64), y[valid_idx].astype(np.float64)\n",
    "        # train on seen data, predict on unseen\n",
    "        model.fit(X_train,\n",
    "             y_train,\n",
    "             eval_set=[(X_valid, y_valid)],\n",
    "             verbose=100,\n",
    "             early_stopping_rounds=100)\n",
    "        \n",
    "        y_preds = model.predict(X_valid)\n",
    "        f1score = f1_score(y_valid, y_preds,average='weighted')\n",
    "        results[\"fold_{}\".format(fold+1)] = f1score\n",
    "        lst_accu_stratified.append(model.score(X_valid, y_valid))\n",
    "        f1score_list.append(f1score)\n",
    "\n",
    "\n",
    "    results[\"accuracy\"] = \"%.3f%%\" % (mean(lst_accu_stratified) * 100)\n",
    "    joblib.dump(model, \"model/ml/\"+clf + \"_\" + vect_type+\".pkl\")\n",
    "    return results"
   ]
  },
  {
   "cell_type": "code",
   "execution_count": 11,
   "metadata": {
    "colab": {
     "base_uri": "https://localhost:8080/"
    },
    "executionInfo": {
     "elapsed": 158744,
     "status": "ok",
     "timestamp": 1635242342936,
     "user": {
      "displayName": "Rajesh K",
      "photoUrl": "https://lh3.googleusercontent.com/a/default-user=s64",
      "userId": "12525052543561073894"
     },
     "user_tz": -330
    },
    "gather": {
     "logged": 1634622593653
    },
    "id": "tAjMVaech80a",
    "outputId": "abfcf40a-0f07-4fb0-d9f1-47ec477eb133"
   },
   "outputs": [
    {
     "name": "stdout",
     "output_type": "stream",
     "text": [
      "Current Model: svm_count_vectorizer...\n",
      "\n",
      "Current Model: svm_tfidf_vectorizer...\n",
      "\n",
      "Current Model: logistic_regression_count_vectorizer...\n",
      "\n",
      "Current Model: logistic_regression_tfidf_vectorizer...\n",
      "\n",
      "Current Model: naive_bayes_count_vectorizer...\n",
      "\n",
      "Current Model: naive_bayes_tfidf_vectorizer...\n",
      "\n",
      "Current Model: SGD_count_vectorizer...\n",
      "\n",
      "Current Model: SGD_tfidf_vectorizer...\n",
      "\n",
      "Current Model: random_forest_count_vectorizer...\n",
      "\n",
      "Current Model: random_forest_tfidf_vectorizer...\n",
      "\n",
      "Current Model: DecisionTreeClassifier_count_vectorizer...\n",
      "\n",
      "Current Model: DecisionTreeClassifier_tfidf_vectorizer...\n",
      "\n",
      "Current Model: KNeighborsClassifier_count_vectorizer...\n",
      "\n",
      "Current Model: KNeighborsClassifier_tfidf_vectorizer...\n",
      "\n",
      "\n",
      "Currently Training: LGBM_count_vectorizer... Fold: 1\n",
      "[100]\tvalid_0's multi_logloss: 0.693978\n",
      "[200]\tvalid_0's multi_logloss: 0.689513\n",
      "\n",
      "Currently Training: LGBM_count_vectorizer... Fold: 2\n",
      "[100]\tvalid_0's multi_logloss: 0.685802\n",
      "[200]\tvalid_0's multi_logloss: 0.68367\n",
      "\n",
      "Currently Training: LGBM_count_vectorizer... Fold: 3\n",
      "[100]\tvalid_0's multi_logloss: 0.684198\n",
      "[200]\tvalid_0's multi_logloss: 0.664242\n",
      "[300]\tvalid_0's multi_logloss: 0.667967\n",
      "\n",
      "Currently Training: LGBM_count_vectorizer... Fold: 4\n",
      "[100]\tvalid_0's multi_logloss: 0.682655\n",
      "[200]\tvalid_0's multi_logloss: 0.664803\n",
      "[300]\tvalid_0's multi_logloss: 0.668506\n",
      "\n",
      "Currently Training: LGBM_count_vectorizer... Fold: 5\n",
      "[100]\tvalid_0's multi_logloss: 0.683881\n",
      "[200]\tvalid_0's multi_logloss: 0.659079\n",
      "[300]\tvalid_0's multi_logloss: 0.656604\n",
      "Current Model: LGBM_count_vectorizer...\n",
      "\n",
      "\n",
      "Currently Training: LGBM_tfidf_vectorizer... Fold: 1\n",
      "[100]\tvalid_0's multi_logloss: 0.681994\n",
      "[200]\tvalid_0's multi_logloss: 0.680248\n",
      "\n",
      "Currently Training: LGBM_tfidf_vectorizer... Fold: 2\n",
      "[100]\tvalid_0's multi_logloss: 0.683016\n",
      "[200]\tvalid_0's multi_logloss: 0.677921\n",
      "\n",
      "Currently Training: LGBM_tfidf_vectorizer... Fold: 3\n",
      "[100]\tvalid_0's multi_logloss: 0.678124\n",
      "[200]\tvalid_0's multi_logloss: 0.667624\n",
      "\n",
      "Currently Training: LGBM_tfidf_vectorizer... Fold: 4\n",
      "[100]\tvalid_0's multi_logloss: 0.680202\n",
      "[200]\tvalid_0's multi_logloss: 0.673295\n",
      "\n",
      "Currently Training: LGBM_tfidf_vectorizer... Fold: 5\n",
      "[100]\tvalid_0's multi_logloss: 0.695758\n",
      "[200]\tvalid_0's multi_logloss: 0.682134\n",
      "[300]\tvalid_0's multi_logloss: 0.685851\n",
      "Current Model: LGBM_tfidf_vectorizer...\n",
      "\n"
     ]
    }
   ],
   "source": [
    "# store all models\n",
    "all_models = []\n",
    "for clf in models:\n",
    "    for vect in vectors:\n",
    "        if clf == \"LGBM\":\n",
    "            all_models.append(stratified_kfold_lbgm(clf, vect, y, skf))\n",
    "        else:\n",
    "            all_models.append(stratified_kfold(clf, vect, y, skf))            \n",
    "        print(f\"Current Model: {clf}_{vect}...\\n\")"
   ]
  },
  {
   "cell_type": "code",
   "execution_count": 12,
   "metadata": {
    "colab": {
     "base_uri": "https://localhost:8080/",
     "height": 550
    },
    "executionInfo": {
     "elapsed": 40,
     "status": "ok",
     "timestamp": 1635242342937,
     "user": {
      "displayName": "Rajesh K",
      "photoUrl": "https://lh3.googleusercontent.com/a/default-user=s64",
      "userId": "12525052543561073894"
     },
     "user_tz": -330
    },
    "gather": {
     "logged": 1634622594285
    },
    "id": "KRfnLpn-h80a",
    "outputId": "41167608-149f-4d11-bd4d-03ab64a6e5f9"
   },
   "outputs": [
    {
     "data": {
      "text/html": [
       "<div>\n",
       "<style scoped>\n",
       "    .dataframe tbody tr th:only-of-type {\n",
       "        vertical-align: middle;\n",
       "    }\n",
       "\n",
       "    .dataframe tbody tr th {\n",
       "        vertical-align: top;\n",
       "    }\n",
       "\n",
       "    .dataframe thead th {\n",
       "        text-align: right;\n",
       "    }\n",
       "</style>\n",
       "<table border=\"1\" class=\"dataframe\">\n",
       "  <thead>\n",
       "    <tr style=\"text-align: right;\">\n",
       "      <th></th>\n",
       "      <th>modelname_vectorType</th>\n",
       "      <th>fold_1</th>\n",
       "      <th>fold_2</th>\n",
       "      <th>fold_3</th>\n",
       "      <th>fold_4</th>\n",
       "      <th>fold_5</th>\n",
       "      <th>accuracy</th>\n",
       "    </tr>\n",
       "  </thead>\n",
       "  <tbody>\n",
       "    <tr>\n",
       "      <th>0</th>\n",
       "      <td>svm_count_vectorizer</td>\n",
       "      <td>0.681246</td>\n",
       "      <td>0.669688</td>\n",
       "      <td>0.676671</td>\n",
       "      <td>0.686930</td>\n",
       "      <td>0.684430</td>\n",
       "      <td>71.738%</td>\n",
       "    </tr>\n",
       "    <tr>\n",
       "      <th>1</th>\n",
       "      <td>svm_tfidf_vectorizer</td>\n",
       "      <td>0.684362</td>\n",
       "      <td>0.668428</td>\n",
       "      <td>0.670439</td>\n",
       "      <td>0.670327</td>\n",
       "      <td>0.692210</td>\n",
       "      <td>71.619%</td>\n",
       "    </tr>\n",
       "    <tr>\n",
       "      <th>2</th>\n",
       "      <td>logistic_regression_count_vectorizer</td>\n",
       "      <td>0.689195</td>\n",
       "      <td>0.692818</td>\n",
       "      <td>0.689576</td>\n",
       "      <td>0.676335</td>\n",
       "      <td>0.697442</td>\n",
       "      <td>70.119%</td>\n",
       "    </tr>\n",
       "    <tr>\n",
       "      <th>3</th>\n",
       "      <td>logistic_regression_tfidf_vectorizer</td>\n",
       "      <td>0.694953</td>\n",
       "      <td>0.668102</td>\n",
       "      <td>0.686922</td>\n",
       "      <td>0.670206</td>\n",
       "      <td>0.713712</td>\n",
       "      <td>71.952%</td>\n",
       "    </tr>\n",
       "    <tr>\n",
       "      <th>4</th>\n",
       "      <td>naive_bayes_count_vectorizer</td>\n",
       "      <td>0.669570</td>\n",
       "      <td>0.670663</td>\n",
       "      <td>0.681108</td>\n",
       "      <td>0.676195</td>\n",
       "      <td>0.681927</td>\n",
       "      <td>68.857%</td>\n",
       "    </tr>\n",
       "    <tr>\n",
       "      <th>5</th>\n",
       "      <td>naive_bayes_tfidf_vectorizer</td>\n",
       "      <td>0.639955</td>\n",
       "      <td>0.623552</td>\n",
       "      <td>0.631205</td>\n",
       "      <td>0.623044</td>\n",
       "      <td>0.644443</td>\n",
       "      <td>68.762%</td>\n",
       "    </tr>\n",
       "    <tr>\n",
       "      <th>6</th>\n",
       "      <td>SGD_count_vectorizer</td>\n",
       "      <td>0.665636</td>\n",
       "      <td>0.665581</td>\n",
       "      <td>0.659174</td>\n",
       "      <td>0.649130</td>\n",
       "      <td>0.670288</td>\n",
       "      <td>66.571%</td>\n",
       "    </tr>\n",
       "    <tr>\n",
       "      <th>7</th>\n",
       "      <td>SGD_tfidf_vectorizer</td>\n",
       "      <td>0.694430</td>\n",
       "      <td>0.686612</td>\n",
       "      <td>0.687433</td>\n",
       "      <td>0.686439</td>\n",
       "      <td>0.698810</td>\n",
       "      <td>70.095%</td>\n",
       "    </tr>\n",
       "    <tr>\n",
       "      <th>8</th>\n",
       "      <td>random_forest_count_vectorizer</td>\n",
       "      <td>0.683599</td>\n",
       "      <td>0.669457</td>\n",
       "      <td>0.685154</td>\n",
       "      <td>0.663240</td>\n",
       "      <td>0.690392</td>\n",
       "      <td>69.905%</td>\n",
       "    </tr>\n",
       "    <tr>\n",
       "      <th>9</th>\n",
       "      <td>random_forest_tfidf_vectorizer</td>\n",
       "      <td>0.684335</td>\n",
       "      <td>0.669977</td>\n",
       "      <td>0.687688</td>\n",
       "      <td>0.678371</td>\n",
       "      <td>0.680522</td>\n",
       "      <td>71.167%</td>\n",
       "    </tr>\n",
       "    <tr>\n",
       "      <th>10</th>\n",
       "      <td>DecisionTreeClassifier_count_vectorizer</td>\n",
       "      <td>0.644509</td>\n",
       "      <td>0.646692</td>\n",
       "      <td>0.596592</td>\n",
       "      <td>0.600707</td>\n",
       "      <td>0.607883</td>\n",
       "      <td>62.167%</td>\n",
       "    </tr>\n",
       "    <tr>\n",
       "      <th>11</th>\n",
       "      <td>DecisionTreeClassifier_tfidf_vectorizer</td>\n",
       "      <td>0.634631</td>\n",
       "      <td>0.640884</td>\n",
       "      <td>0.646553</td>\n",
       "      <td>0.637533</td>\n",
       "      <td>0.641241</td>\n",
       "      <td>64.714%</td>\n",
       "    </tr>\n",
       "    <tr>\n",
       "      <th>12</th>\n",
       "      <td>KNeighborsClassifier_count_vectorizer</td>\n",
       "      <td>0.527639</td>\n",
       "      <td>0.503764</td>\n",
       "      <td>0.544181</td>\n",
       "      <td>0.507864</td>\n",
       "      <td>0.541665</td>\n",
       "      <td>53.167%</td>\n",
       "    </tr>\n",
       "    <tr>\n",
       "      <th>13</th>\n",
       "      <td>KNeighborsClassifier_tfidf_vectorizer</td>\n",
       "      <td>0.676583</td>\n",
       "      <td>0.644031</td>\n",
       "      <td>0.651326</td>\n",
       "      <td>0.662540</td>\n",
       "      <td>0.653663</td>\n",
       "      <td>66.333%</td>\n",
       "    </tr>\n",
       "    <tr>\n",
       "      <th>14</th>\n",
       "      <td>LGBM_count_vectorizer</td>\n",
       "      <td>0.669162</td>\n",
       "      <td>0.680508</td>\n",
       "      <td>0.688085</td>\n",
       "      <td>0.672299</td>\n",
       "      <td>0.713675</td>\n",
       "      <td>70.905%</td>\n",
       "    </tr>\n",
       "    <tr>\n",
       "      <th>15</th>\n",
       "      <td>LGBM_tfidf_vectorizer</td>\n",
       "      <td>0.686927</td>\n",
       "      <td>0.683105</td>\n",
       "      <td>0.679945</td>\n",
       "      <td>0.683758</td>\n",
       "      <td>0.701965</td>\n",
       "      <td>71.190%</td>\n",
       "    </tr>\n",
       "  </tbody>\n",
       "</table>\n",
       "</div>"
      ],
      "text/plain": [
       "                       modelname_vectorType    fold_1    fold_2    fold_3  \\\n",
       "0                      svm_count_vectorizer  0.681246  0.669688  0.676671   \n",
       "1                      svm_tfidf_vectorizer  0.684362  0.668428  0.670439   \n",
       "2      logistic_regression_count_vectorizer  0.689195  0.692818  0.689576   \n",
       "3      logistic_regression_tfidf_vectorizer  0.694953  0.668102  0.686922   \n",
       "4              naive_bayes_count_vectorizer  0.669570  0.670663  0.681108   \n",
       "5              naive_bayes_tfidf_vectorizer  0.639955  0.623552  0.631205   \n",
       "6                      SGD_count_vectorizer  0.665636  0.665581  0.659174   \n",
       "7                      SGD_tfidf_vectorizer  0.694430  0.686612  0.687433   \n",
       "8            random_forest_count_vectorizer  0.683599  0.669457  0.685154   \n",
       "9            random_forest_tfidf_vectorizer  0.684335  0.669977  0.687688   \n",
       "10  DecisionTreeClassifier_count_vectorizer  0.644509  0.646692  0.596592   \n",
       "11  DecisionTreeClassifier_tfidf_vectorizer  0.634631  0.640884  0.646553   \n",
       "12    KNeighborsClassifier_count_vectorizer  0.527639  0.503764  0.544181   \n",
       "13    KNeighborsClassifier_tfidf_vectorizer  0.676583  0.644031  0.651326   \n",
       "14                    LGBM_count_vectorizer  0.669162  0.680508  0.688085   \n",
       "15                    LGBM_tfidf_vectorizer  0.686927  0.683105  0.679945   \n",
       "\n",
       "      fold_4    fold_5 accuracy  \n",
       "0   0.686930  0.684430  71.738%  \n",
       "1   0.670327  0.692210  71.619%  \n",
       "2   0.676335  0.697442  70.119%  \n",
       "3   0.670206  0.713712  71.952%  \n",
       "4   0.676195  0.681927  68.857%  \n",
       "5   0.623044  0.644443  68.762%  \n",
       "6   0.649130  0.670288  66.571%  \n",
       "7   0.686439  0.698810  70.095%  \n",
       "8   0.663240  0.690392  69.905%  \n",
       "9   0.678371  0.680522  71.167%  \n",
       "10  0.600707  0.607883  62.167%  \n",
       "11  0.637533  0.641241  64.714%  \n",
       "12  0.507864  0.541665  53.167%  \n",
       "13  0.662540  0.653663  66.333%  \n",
       "14  0.672299  0.713675  70.905%  \n",
       "15  0.683758  0.701965  71.190%  "
      ]
     },
     "execution_count": 12,
     "metadata": {},
     "output_type": "execute_result"
    }
   ],
   "source": [
    "models_df = pd.DataFrame(all_models)\n",
    "models_df"
   ]
  },
  {
   "cell_type": "code",
   "execution_count": 13,
   "metadata": {
    "colab": {
     "base_uri": "https://localhost:8080/",
     "height": 35
    },
    "executionInfo": {
     "elapsed": 26,
     "status": "ok",
     "timestamp": 1635242342938,
     "user": {
      "displayName": "Rajesh K",
      "photoUrl": "https://lh3.googleusercontent.com/a/default-user=s64",
      "userId": "12525052543561073894"
     },
     "user_tz": -330
    },
    "gather": {
     "logged": 1634622594821
    },
    "id": "CLn3nuSBh80a",
    "outputId": "f4e054d0-3787-48a4-9772-059513f6fedb"
   },
   "outputs": [
    {
     "data": {
      "text/plain": [
       "'2.6.0'"
      ]
     },
     "execution_count": 13,
     "metadata": {},
     "output_type": "execute_result"
    }
   ],
   "source": [
    "import tensorflow\n",
    "tensorflow.__version__"
   ]
  },
  {
   "cell_type": "markdown",
   "metadata": {
    "id": "zJIOxIoQh80b"
   },
   "source": [
    "### Word2Vec Embeddings"
   ]
  },
  {
   "cell_type": "code",
   "execution_count": 14,
   "metadata": {
    "colab": {
     "base_uri": "https://localhost:8080/"
    },
    "executionInfo": {
     "elapsed": 25,
     "status": "ok",
     "timestamp": 1635242342939,
     "user": {
      "displayName": "Rajesh K",
      "photoUrl": "https://lh3.googleusercontent.com/a/default-user=s64",
      "userId": "12525052543561073894"
     },
     "user_tz": -330
    },
    "id": "jHHtfvqdh80b",
    "outputId": "3f49aa7f-30b1-42f1-9472-c65eba15aa18"
   },
   "outputs": [
    {
     "data": {
      "text/plain": [
       "array([0, 1, 2])"
      ]
     },
     "execution_count": 14,
     "metadata": {},
     "output_type": "execute_result"
    }
   ],
   "source": [
    "train[\"label\"].unique()"
   ]
  },
  {
   "cell_type": "code",
   "execution_count": 15,
   "metadata": {
    "executionInfo": {
     "elapsed": 626,
     "status": "ok",
     "timestamp": 1635242343551,
     "user": {
      "displayName": "Rajesh K",
      "photoUrl": "https://lh3.googleusercontent.com/a/default-user=s64",
      "userId": "12525052543561073894"
     },
     "user_tz": -330
    },
    "id": "-1EDvqlOh80b"
   },
   "outputs": [],
   "source": [
    "labels = tf.keras.utils.to_categorical(train[\"label\"], dtype=\"float32\")"
   ]
  },
  {
   "cell_type": "code",
   "execution_count": 16,
   "metadata": {
    "colab": {
     "base_uri": "https://localhost:8080/"
    },
    "executionInfo": {
     "elapsed": 12,
     "status": "ok",
     "timestamp": 1635242343553,
     "user": {
      "displayName": "Rajesh K",
      "photoUrl": "https://lh3.googleusercontent.com/a/default-user=s64",
      "userId": "12525052543561073894"
     },
     "user_tz": -330
    },
    "id": "-MhUQ_eNh80b",
    "outputId": "979c40f7-7f63-4281-e95c-4c2b6347b843"
   },
   "outputs": [
    {
     "data": {
      "text/plain": [
       "array([[1., 0., 0.],\n",
       "       [0., 1., 0.],\n",
       "       [0., 1., 0.],\n",
       "       ...,\n",
       "       [0., 1., 0.],\n",
       "       [0., 1., 0.],\n",
       "       [0., 0., 1.]], dtype=float32)"
      ]
     },
     "execution_count": 16,
     "metadata": {},
     "output_type": "execute_result"
    }
   ],
   "source": [
    "labels"
   ]
  },
  {
   "cell_type": "code",
   "execution_count": 17,
   "metadata": {
    "executionInfo": {
     "elapsed": 440,
     "status": "ok",
     "timestamp": 1635242343987,
     "user": {
      "displayName": "Rajesh K",
      "photoUrl": "https://lh3.googleusercontent.com/a/default-user=s64",
      "userId": "12525052543561073894"
     },
     "user_tz": -330
    },
    "gather": {
     "logged": 1634641599480
    },
    "id": "gxOTY4B9h80c"
   },
   "outputs": [],
   "source": [
    "import gensim.downloader as api\n",
    "from tensorflow.keras.preprocessing.text import Tokenizer\n",
    "from tensorflow.keras.callbacks import EarlyStopping\n",
    "from tensorflow.keras.preprocessing.text import Tokenizer\n",
    "from tensorflow.keras.preprocessing.sequence import pad_sequences\n",
    "from tensorflow.keras.layers import Dense, Input, LSTM, Embedding, Dropout, Activation, Bidirectional,SpatialDropout1D,GRU,Conv1D,MaxPooling1D\n",
    "from tensorflow.keras import initializers, regularizers, constraints, optimizers, layers, Sequential\n"
   ]
  },
  {
   "cell_type": "code",
   "execution_count": 36,
   "metadata": {
    "colab": {
     "base_uri": "https://localhost:8080/"
    },
    "executionInfo": {
     "elapsed": 47,
     "status": "ok",
     "timestamp": 1635242343989,
     "user": {
      "displayName": "Rajesh K",
      "photoUrl": "https://lh3.googleusercontent.com/a/default-user=s64",
      "userId": "12525052543561073894"
     },
     "user_tz": -330
    },
    "id": "Lx41oMdfh80c",
    "outputId": "dcb5724e-e59b-4228-8131-41a5335747e1"
   },
   "outputs": [
    {
     "name": "stdout",
     "output_type": "stream",
     "text": [
      "[[   0    0    0 ...    5    1   29]\n",
      " [   0    0    0 ...   10 2207 3100]\n",
      " [   0    0    0 ...  274  478  741]\n",
      " ...\n",
      " [   0    0    0 ... 2604 2199   34]\n",
      " [   0    0    0 ...   44   47    1]\n",
      " [   0    0    0 ... 1597   52  173]]\n"
     ]
    },
    {
     "data": {
      "text/plain": [
       "['model/vect/dl_tokenizer.pkl']"
      ]
     },
     "execution_count": 36,
     "metadata": {},
     "output_type": "execute_result"
    }
   ],
   "source": [
    "from tensorflow.keras.models import Sequential\n",
    "from tensorflow.keras import layers\n",
    "from tensorflow.keras.optimizers import RMSprop,Adam\n",
    "from tensorflow.keras.preprocessing.text import Tokenizer\n",
    "from tensorflow.keras.preprocessing.sequence import pad_sequences\n",
    "from tensorflow.keras import regularizers\n",
    "from tensorflow.keras import backend as K\n",
    "from tensorflow.keras.callbacks import ModelCheckpoint\n",
    "max_words = 5000\n",
    "max_len = 200\n",
    "\n",
    "n_epochs = 8\n",
    "tokenizer = Tokenizer(num_words=max_words)\n",
    "tokenizer.fit_on_texts(train[\"clean_data\"].values.astype('U'))\n",
    "sequences = tokenizer.texts_to_sequences(train[\"clean_data\"].values.astype('U'))\n",
    "tweets = pad_sequences(sequences, maxlen=max_len)\n",
    "print(tweets)\n",
    "\n",
    "joblib.dump(tokenizer, \"model/vect/dl_tokenizer.pkl\")"
   ]
  },
  {
   "cell_type": "code",
   "execution_count": 19,
   "metadata": {
    "colab": {
     "base_uri": "https://localhost:8080/"
    },
    "executionInfo": {
     "elapsed": 28,
     "status": "ok",
     "timestamp": 1635242343997,
     "user": {
      "displayName": "Rajesh K",
      "photoUrl": "https://lh3.googleusercontent.com/a/default-user=s64",
      "userId": "12525052543561073894"
     },
     "user_tz": -330
    },
    "gather": {
     "logged": 1634622893324
    },
    "id": "tGHLnPpQh80c",
    "outputId": "2434338c-4c6f-40c4-b7d5-ea69d90db8a9"
   },
   "outputs": [
    {
     "name": "stdout",
     "output_type": "stream",
     "text": [
      "3150 1050 3150 1050\n"
     ]
    }
   ],
   "source": [
    "#Splitting the data\n",
    "X_train, X_test, y_train, y_test = train_test_split(tweets,labels, random_state=0)\n",
    "print (len(X_train),len(X_test),len(y_train),len(y_test))"
   ]
  },
  {
   "cell_type": "code",
   "execution_count": 20,
   "metadata": {
    "executionInfo": {
     "elapsed": 21,
     "status": "ok",
     "timestamp": 1635242343999,
     "user": {
      "displayName": "Rajesh K",
      "photoUrl": "https://lh3.googleusercontent.com/a/default-user=s64",
      "userId": "12525052543561073894"
     },
     "user_tz": -330
    },
    "id": "q1Pu5ueVh80d"
   },
   "outputs": [],
   "source": [
    "def plot_training_hist(history):\n",
    "    '''Function to plot history for accuracy and loss'''\n",
    "    \n",
    "    fig, ax = plt.subplots(1, 2, figsize=(10,4))\n",
    "    # first plot\n",
    "    ax[0].plot(history.history['accuracy'])\n",
    "    ax[0].plot(history.history['val_accuracy'])\n",
    "    ax[0].set_title('Model Accuracy')\n",
    "    ax[0].set_xlabel('epoch')\n",
    "    ax[0].set_ylabel('accuracy')\n",
    "    ax[0].legend(['train', 'validation'], loc='best')\n",
    "    # second plot\n",
    "    ax[1].plot(history.history['loss'])\n",
    "    ax[1].plot(history.history['val_loss'])\n",
    "    ax[1].set_title('Model Loss')\n",
    "    ax[1].set_xlabel('epoch')\n",
    "    ax[1].set_ylabel('loss')\n",
    "    ax[1].legend(['train', 'validation'], loc='best')\n",
    "    \n"
   ]
  },
  {
   "cell_type": "code",
   "execution_count": 21,
   "metadata": {
    "colab": {
     "base_uri": "https://localhost:8080/"
    },
    "executionInfo": {
     "elapsed": 85050,
     "status": "ok",
     "timestamp": 1635242429028,
     "user": {
      "displayName": "Rajesh K",
      "photoUrl": "https://lh3.googleusercontent.com/a/default-user=s64",
      "userId": "12525052543561073894"
     },
     "user_tz": -330
    },
    "id": "OK-wBn_Dh80d",
    "outputId": "c5bdf755-d98f-4302-d701-34761cd19ddb"
   },
   "outputs": [
    {
     "name": "stdout",
     "output_type": "stream",
     "text": [
      "Model: \"sequential\"\n",
      "_________________________________________________________________\n",
      "Layer (type)                 Output Shape              Param #   \n",
      "=================================================================\n",
      "embedding (Embedding)        (None, 50, 32)            160000    \n",
      "_________________________________________________________________\n",
      "conv1d (Conv1D)              (None, 50, 32)            3104      \n",
      "_________________________________________________________________\n",
      "max_pooling1d (MaxPooling1D) (None, 25, 32)            0         \n",
      "_________________________________________________________________\n",
      "lstm (LSTM)                  (None, 15)                2880      \n",
      "_________________________________________________________________\n",
      "dense (Dense)                (None, 3)                 48        \n",
      "=================================================================\n",
      "Total params: 166,032\n",
      "Trainable params: 166,032\n",
      "Non-trainable params: 0\n",
      "_________________________________________________________________\n",
      "None\n",
      "Epoch 1/20\n",
      "WARNING:tensorflow:Model was constructed with shape (None, 50) for input KerasTensor(type_spec=TensorSpec(shape=(None, 50), dtype=tf.float32, name='embedding_input'), name='embedding_input', description=\"created by layer 'embedding_input'\"), but it was called on an input with incompatible shape (None, 200).\n",
      "WARNING:tensorflow:Model was constructed with shape (None, 50) for input KerasTensor(type_spec=TensorSpec(shape=(None, 50), dtype=tf.float32, name='embedding_input'), name='embedding_input', description=\"created by layer 'embedding_input'\"), but it was called on an input with incompatible shape (None, 200).\n",
      "50/50 [==============================] - ETA: 0s - loss: 0.8526 - accuracy: 0.6165WARNING:tensorflow:Model was constructed with shape (None, 50) for input KerasTensor(type_spec=TensorSpec(shape=(None, 50), dtype=tf.float32, name='embedding_input'), name='embedding_input', description=\"created by layer 'embedding_input'\"), but it was called on an input with incompatible shape (None, 200).\n",
      "50/50 [==============================] - 4s 56ms/step - loss: 0.8526 - accuracy: 0.6165 - val_loss: 0.8425 - val_accuracy: 0.6105\n",
      "Epoch 2/20\n",
      "50/50 [==============================] - 2s 47ms/step - loss: 0.8388 - accuracy: 0.6178 - val_loss: 0.8385 - val_accuracy: 0.6105\n",
      "Epoch 3/20\n",
      "50/50 [==============================] - 2s 48ms/step - loss: 0.8369 - accuracy: 0.6178 - val_loss: 0.8406 - val_accuracy: 0.6105\n",
      "Epoch 4/20\n",
      "50/50 [==============================] - 2s 48ms/step - loss: 0.8355 - accuracy: 0.6178 - val_loss: 0.8360 - val_accuracy: 0.6105\n",
      "Epoch 5/20\n",
      "50/50 [==============================] - 2s 42ms/step - loss: 0.8346 - accuracy: 0.6178 - val_loss: 0.8344 - val_accuracy: 0.6105\n",
      "Epoch 6/20\n",
      "50/50 [==============================] - 2s 42ms/step - loss: 0.8337 - accuracy: 0.6178 - val_loss: 0.8351 - val_accuracy: 0.6105\n",
      "Epoch 7/20\n",
      "50/50 [==============================] - 2s 47ms/step - loss: 0.8318 - accuracy: 0.6178 - val_loss: 0.8373 - val_accuracy: 0.6105\n",
      "Epoch 8/20\n",
      "50/50 [==============================] - 2s 44ms/step - loss: 0.8326 - accuracy: 0.6178 - val_loss: 0.8334 - val_accuracy: 0.6105\n",
      "Epoch 9/20\n",
      "50/50 [==============================] - 2s 47ms/step - loss: 0.8301 - accuracy: 0.6178 - val_loss: 0.8315 - val_accuracy: 0.6105\n",
      "Epoch 10/20\n",
      "50/50 [==============================] - 2s 45ms/step - loss: 0.8299 - accuracy: 0.6178 - val_loss: 0.8305 - val_accuracy: 0.6105\n",
      "Epoch 11/20\n",
      "50/50 [==============================] - 2s 46ms/step - loss: 0.8286 - accuracy: 0.6178 - val_loss: 0.8298 - val_accuracy: 0.6105\n",
      "Epoch 12/20\n",
      "50/50 [==============================] - 2s 42ms/step - loss: 0.8261 - accuracy: 0.6181 - val_loss: 0.8319 - val_accuracy: 0.6105\n",
      "Epoch 13/20\n",
      "50/50 [==============================] - 2s 41ms/step - loss: 0.8270 - accuracy: 0.6175 - val_loss: 0.8282 - val_accuracy: 0.6105\n",
      "Epoch 14/20\n",
      "50/50 [==============================] - 2s 40ms/step - loss: 0.8257 - accuracy: 0.6181 - val_loss: 0.8280 - val_accuracy: 0.6105\n",
      "Epoch 15/20\n",
      "50/50 [==============================] - 2s 47ms/step - loss: 0.8223 - accuracy: 0.6168 - val_loss: 0.8315 - val_accuracy: 0.6105\n",
      "Epoch 16/20\n",
      "50/50 [==============================] - 2s 48ms/step - loss: 0.8203 - accuracy: 0.6184 - val_loss: 0.8234 - val_accuracy: 0.6105\n",
      "Epoch 17/20\n",
      "50/50 [==============================] - 2s 44ms/step - loss: 0.8173 - accuracy: 0.6168 - val_loss: 0.8227 - val_accuracy: 0.6105\n",
      "Epoch 18/20\n",
      "50/50 [==============================] - 2s 44ms/step - loss: 0.8145 - accuracy: 0.6197 - val_loss: 0.8180 - val_accuracy: 0.6114\n",
      "Epoch 19/20\n",
      "50/50 [==============================] - 2s 45ms/step - loss: 0.8114 - accuracy: 0.6213 - val_loss: 0.8137 - val_accuracy: 0.6105\n",
      "Epoch 20/20\n",
      "50/50 [==============================] - 2s 42ms/step - loss: 0.8047 - accuracy: 0.6251 - val_loss: 0.8069 - val_accuracy: 0.6114\n",
      "LSTM Best model saved\n"
     ]
    }
   ],
   "source": [
    "## LSTM \n",
    "\n",
    "from tensorflow.keras.models import Sequential\n",
    "from tensorflow.keras.layers import Embedding, Conv1D, MaxPooling1D, Bidirectional, LSTM, Dense, Dropout\n",
    "from tensorflow.keras.metrics import Precision, Recall\n",
    "from tensorflow.keras.optimizers import SGD\n",
    "from tensorflow.keras.optimizers import RMSprop\n",
    "from tensorflow.keras import datasets\n",
    "\n",
    "from tensorflow.keras.callbacks import LearningRateScheduler\n",
    "from tensorflow.keras.callbacks import History\n",
    "\n",
    "from tensorflow.keras import losses\n",
    "vocab_size = 5000\n",
    "embedding_size = 32\n",
    "epochs=20\n",
    "learning_rate = 0.1\n",
    "decay_rate = learning_rate / epochs\n",
    "momentum = 0.8\n",
    "max_len=50\n",
    "\n",
    "\n",
    "\n",
    "sgd1 = SGD(lr=learning_rate, momentum=momentum, decay=decay_rate, nesterov=False)\n",
    "model1 = Sequential()\n",
    "model1.add(Embedding(vocab_size, embedding_size, input_length=max_len))\n",
    "model1.add(Conv1D(filters=32, kernel_size=3, padding='same', activation='relu'))\n",
    "model1.add(MaxPooling1D(pool_size=2))\n",
    "model1.add(LSTM(15,dropout=0.5))\n",
    "model1.add(Dense(3,activation='softmax'))\n",
    "\n",
    "# initializing early stopping \n",
    "early_stopping = EarlyStopping(monitor='loss', patience=3)\n",
    "\n",
    "print(model1.summary())\n",
    "# Compile model\n",
    "model1.compile(loss='categorical_crossentropy', optimizer=sgd1, \n",
    "               metrics=['accuracy'])\n",
    "checkpoint = ModelCheckpoint('model/dl/lstm_best_model.h5', monitor='val_loss', save_best_only=True)\n",
    "# Train model\n",
    "batch_size = 64\n",
    "history1 = model1.fit(X_train, y_train,\n",
    "                      validation_data=(X_test, y_test),callbacks=[early_stopping,checkpoint],\n",
    "                      batch_size=batch_size, epochs=epochs, verbose=1)\n",
    "print('LSTM Best model saved')"
   ]
  },
  {
   "cell_type": "code",
   "execution_count": 22,
   "metadata": {
    "colab": {
     "base_uri": "https://localhost:8080/",
     "height": 295
    },
    "executionInfo": {
     "elapsed": 781,
     "status": "ok",
     "timestamp": 1635242429764,
     "user": {
      "displayName": "Rajesh K",
      "photoUrl": "https://lh3.googleusercontent.com/a/default-user=s64",
      "userId": "12525052543561073894"
     },
     "user_tz": -330
    },
    "id": "az7WC-JPh80e",
    "outputId": "f6708c0e-306d-4dad-db83-6be8f4e64b5c"
   },
   "outputs": [
    {
     "data": {
      "image/png": "[encoded data removed]",
      "text/plain": [
       "<Figure size 720x288 with 2 Axes>"
      ]
     },
     "metadata": {
      "needs_background": "light"
     },
     "output_type": "display_data"
    }
   ],
   "source": [
    "plot_training_hist(history1)"
   ]
  },
  {
   "cell_type": "code",
   "execution_count": 23,
   "metadata": {
    "colab": {
     "base_uri": "https://localhost:8080/"
    },
    "executionInfo": {
     "elapsed": 145157,
     "status": "ok",
     "timestamp": 1635242574917,
     "user": {
      "displayName": "Rajesh K",
      "photoUrl": "https://lh3.googleusercontent.com/a/default-user=s64",
      "userId": "12525052543561073894"
     },
     "user_tz": -330
    },
    "id": "GMUNuqnsh80e",
    "outputId": "14b8d5cd-92c3-437b-b6a8-c35bde141947"
   },
   "outputs": [
    {
     "name": "stdout",
     "output_type": "stream",
     "text": [
      "Model: \"sequential_1\"\n",
      "_________________________________________________________________\n",
      "Layer (type)                 Output Shape              Param #   \n",
      "=================================================================\n",
      "embedding_1 (Embedding)      (None, 50, 32)            160000    \n",
      "_________________________________________________________________\n",
      "conv1d_1 (Conv1D)            (None, 50, 32)            3104      \n",
      "_________________________________________________________________\n",
      "max_pooling1d_1 (MaxPooling1 (None, 25, 32)            0         \n",
      "_________________________________________________________________\n",
      "bidirectional (Bidirectional (None, 64)                16640     \n",
      "_________________________________________________________________\n",
      "dropout (Dropout)            (None, 64)                0         \n",
      "_________________________________________________________________\n",
      "dense_1 (Dense)              (None, 3)                 195       \n",
      "=================================================================\n",
      "Total params: 179,939\n",
      "Trainable params: 179,939\n",
      "Non-trainable params: 0\n",
      "_________________________________________________________________\n",
      "None\n",
      "Epoch 1/20\n",
      "WARNING:tensorflow:Model was constructed with shape (None, 50) for input KerasTensor(type_spec=TensorSpec(shape=(None, 50), dtype=tf.float32, name='embedding_1_input'), name='embedding_1_input', description=\"created by layer 'embedding_1_input'\"), but it was called on an input with incompatible shape (None, 200).\n",
      "WARNING:tensorflow:Model was constructed with shape (None, 50) for input KerasTensor(type_spec=TensorSpec(shape=(None, 50), dtype=tf.float32, name='embedding_1_input'), name='embedding_1_input', description=\"created by layer 'embedding_1_input'\"), but it was called on an input with incompatible shape (None, 200).\n",
      "50/50 [==============================] - ETA: 0s - loss: 0.8610 - accuracy: 0.6076WARNING:tensorflow:Model was constructed with shape (None, 50) for input KerasTensor(type_spec=TensorSpec(shape=(None, 50), dtype=tf.float32, name='embedding_1_input'), name='embedding_1_input', description=\"created by layer 'embedding_1_input'\"), but it was called on an input with incompatible shape (None, 200).\n",
      "50/50 [==============================] - 7s 89ms/step - loss: 0.8610 - accuracy: 0.6076 - val_loss: 0.8827 - val_accuracy: 0.6105\n",
      "Epoch 2/20\n",
      "50/50 [==============================] - 4s 78ms/step - loss: 0.8469 - accuracy: 0.6178 - val_loss: 0.8376 - val_accuracy: 0.6105\n",
      "Epoch 3/20\n",
      "50/50 [==============================] - 4s 75ms/step - loss: 0.8396 - accuracy: 0.6178 - val_loss: 0.8366 - val_accuracy: 0.6105\n",
      "Epoch 4/20\n",
      "50/50 [==============================] - 4s 76ms/step - loss: 0.8394 - accuracy: 0.6178 - val_loss: 0.8384 - val_accuracy: 0.6105\n",
      "Epoch 5/20\n",
      "50/50 [==============================] - 4s 75ms/step - loss: 0.8391 - accuracy: 0.6178 - val_loss: 0.8362 - val_accuracy: 0.6105\n",
      "Epoch 6/20\n",
      "50/50 [==============================] - 4s 74ms/step - loss: 0.8372 - accuracy: 0.6178 - val_loss: 0.8395 - val_accuracy: 0.6105\n",
      "Epoch 7/20\n",
      "50/50 [==============================] - 4s 75ms/step - loss: 0.8361 - accuracy: 0.6178 - val_loss: 0.8343 - val_accuracy: 0.6105\n",
      "Epoch 8/20\n",
      "50/50 [==============================] - 4s 75ms/step - loss: 0.8352 - accuracy: 0.6178 - val_loss: 0.8327 - val_accuracy: 0.6105\n",
      "Epoch 9/20\n",
      "50/50 [==============================] - 4s 74ms/step - loss: 0.8335 - accuracy: 0.6178 - val_loss: 0.8317 - val_accuracy: 0.6105\n",
      "Epoch 10/20\n",
      "50/50 [==============================] - 4s 75ms/step - loss: 0.8303 - accuracy: 0.6178 - val_loss: 0.8298 - val_accuracy: 0.6105\n",
      "Epoch 11/20\n",
      "50/50 [==============================] - 4s 75ms/step - loss: 0.8296 - accuracy: 0.6178 - val_loss: 0.8280 - val_accuracy: 0.6105\n",
      "Epoch 12/20\n",
      "50/50 [==============================] - 4s 77ms/step - loss: 0.8286 - accuracy: 0.6178 - val_loss: 0.8286 - val_accuracy: 0.6105\n",
      "Epoch 13/20\n",
      "50/50 [==============================] - 4s 76ms/step - loss: 0.8234 - accuracy: 0.6178 - val_loss: 0.8250 - val_accuracy: 0.6105\n",
      "Epoch 14/20\n",
      "50/50 [==============================] - 4s 75ms/step - loss: 0.8201 - accuracy: 0.6187 - val_loss: 0.8192 - val_accuracy: 0.6105\n",
      "Epoch 15/20\n",
      "50/50 [==============================] - 4s 75ms/step - loss: 0.8145 - accuracy: 0.6203 - val_loss: 0.8145 - val_accuracy: 0.6105\n",
      "Epoch 16/20\n",
      "50/50 [==============================] - 4s 75ms/step - loss: 0.8082 - accuracy: 0.6187 - val_loss: 0.8132 - val_accuracy: 0.6105\n",
      "Epoch 17/20\n",
      "50/50 [==============================] - 4s 74ms/step - loss: 0.7993 - accuracy: 0.6251 - val_loss: 0.8019 - val_accuracy: 0.6114\n",
      "Epoch 18/20\n",
      "50/50 [==============================] - 4s 77ms/step - loss: 0.7866 - accuracy: 0.6422 - val_loss: 0.7866 - val_accuracy: 0.6419\n",
      "Epoch 19/20\n",
      "50/50 [==============================] - 4s 77ms/step - loss: 0.7687 - accuracy: 0.6571 - val_loss: 0.7724 - val_accuracy: 0.6476\n",
      "Epoch 20/20\n",
      "50/50 [==============================] - 4s 79ms/step - loss: 0.7472 - accuracy: 0.6825 - val_loss: 0.7593 - val_accuracy: 0.6857\n",
      "BILSTM Best model saved\n"
     ]
    }
   ],
   "source": [
    "## BILSTM\n",
    "\n",
    "sgd2 = SGD(lr=learning_rate, momentum=momentum, decay=decay_rate, nesterov=False)\n",
    "# Build model\n",
    "model2= Sequential()\n",
    "model2.add(Embedding(vocab_size, embedding_size, input_length=max_len))\n",
    "model2.add(Conv1D(filters=32, kernel_size=3, padding='same', activation='relu'))\n",
    "model2.add(MaxPooling1D(pool_size=2))\n",
    "model2.add(Bidirectional(LSTM(32)))\n",
    "model2.add(Dropout(0.4))\n",
    "model2.add(Dense(3, activation='softmax'))\n",
    "\n",
    "# initializing early stopping \n",
    "early_stopping = EarlyStopping(monitor='loss', patience=3)\n",
    "\n",
    "print(model2.summary())\n",
    "\n",
    "# Compile model\n",
    "model2.compile(loss='categorical_crossentropy', optimizer=sgd2, \n",
    "               metrics=['accuracy'])\n",
    "\n",
    "# Train model\n",
    "checkpoint = ModelCheckpoint('model/dl/bi_lstm_best_model.h5', monitor='val_loss', save_best_only=True)\n",
    "batch_size = 64\n",
    "history2 = model2.fit(X_train, y_train,\n",
    "                      validation_data=(X_test, y_test),callbacks=[early_stopping,checkpoint],\n",
    "                      batch_size=batch_size, epochs=epochs, verbose=1)\n",
    "\n",
    "print('BILSTM Best model saved')"
   ]
  },
  {
   "cell_type": "code",
   "execution_count": 24,
   "metadata": {
    "colab": {
     "base_uri": "https://localhost:8080/",
     "height": 295
    },
    "executionInfo": {
     "elapsed": 948,
     "status": "ok",
     "timestamp": 1635242575856,
     "user": {
      "displayName": "Rajesh K",
      "photoUrl": "https://lh3.googleusercontent.com/a/default-user=s64",
      "userId": "12525052543561073894"
     },
     "user_tz": -330
    },
    "gather": {
     "logged": 1634622893700
    },
    "id": "DH0rJydFh80e",
    "outputId": "304f6df3-0d0e-4c27-bc5c-120c7730208d"
   },
   "outputs": [
    {
     "data": {
      "image/png": "[encoded data removed]",
      "text/plain": [
       "<Figure size 720x288 with 2 Axes>"
      ]
     },
     "metadata": {
      "needs_background": "light"
     },
     "output_type": "display_data"
    }
   ],
   "source": [
    "plot_training_hist(history2)"
   ]
  },
  {
   "cell_type": "code",
   "execution_count": 25,
   "metadata": {
    "colab": {
     "base_uri": "https://localhost:8080/"
    },
    "executionInfo": {
     "elapsed": 204400,
     "status": "ok",
     "timestamp": 1635242780241,
     "user": {
      "displayName": "Rajesh K",
      "photoUrl": "https://lh3.googleusercontent.com/a/default-user=s64",
      "userId": "12525052543561073894"
     },
     "user_tz": -330
    },
    "id": "1ONYRRJGh80e",
    "outputId": "cf9ecd7d-586d-41c2-fdfe-b69aa3c54daa"
   },
   "outputs": [
    {
     "name": "stdout",
     "output_type": "stream",
     "text": [
      "Model: \"sequential_2\"\n",
      "_________________________________________________________________\n",
      "Layer (type)                 Output Shape              Param #   \n",
      "=================================================================\n",
      "embedding_2 (Embedding)      (None, 50, 32)            160000    \n",
      "_________________________________________________________________\n",
      "conv1d_2 (Conv1D)            (None, 50, 32)            3104      \n",
      "_________________________________________________________________\n",
      "max_pooling1d_2 (MaxPooling1 (None, 25, 32)            0         \n",
      "_________________________________________________________________\n",
      "gru (GRU)                    (None, 64)                18816     \n",
      "_________________________________________________________________\n",
      "dropout_1 (Dropout)          (None, 64)                0         \n",
      "_________________________________________________________________\n",
      "dense_2 (Dense)              (None, 3)                 195       \n",
      "=================================================================\n",
      "Total params: 182,115\n",
      "Trainable params: 182,115\n",
      "Non-trainable params: 0\n",
      "_________________________________________________________________\n",
      "None\n",
      "Epoch 1/20\n",
      "WARNING:tensorflow:Model was constructed with shape (None, 50) for input KerasTensor(type_spec=TensorSpec(shape=(None, 50), dtype=tf.float32, name='embedding_2_input'), name='embedding_2_input', description=\"created by layer 'embedding_2_input'\"), but it was called on an input with incompatible shape (None, 200).\n",
      "WARNING:tensorflow:Model was constructed with shape (None, 50) for input KerasTensor(type_spec=TensorSpec(shape=(None, 50), dtype=tf.float32, name='embedding_2_input'), name='embedding_2_input', description=\"created by layer 'embedding_2_input'\"), but it was called on an input with incompatible shape (None, 200).\n",
      "50/50 [==============================] - ETA: 0s - loss: 0.8556 - accuracy: 0.6124WARNING:tensorflow:Model was constructed with shape (None, 50) for input KerasTensor(type_spec=TensorSpec(shape=(None, 50), dtype=tf.float32, name='embedding_2_input'), name='embedding_2_input', description=\"created by layer 'embedding_2_input'\"), but it was called on an input with incompatible shape (None, 200).\n",
      "50/50 [==============================] - 9s 142ms/step - loss: 0.8556 - accuracy: 0.6124 - val_loss: 0.8460 - val_accuracy: 0.6105\n",
      "Epoch 2/20\n",
      "50/50 [==============================] - 6s 125ms/step - loss: 0.8397 - accuracy: 0.6178 - val_loss: 0.8374 - val_accuracy: 0.6105\n",
      "Epoch 3/20\n",
      "50/50 [==============================] - 7s 134ms/step - loss: 0.8415 - accuracy: 0.6178 - val_loss: 0.8342 - val_accuracy: 0.6105\n",
      "Epoch 4/20\n",
      "50/50 [==============================] - 7s 140ms/step - loss: 0.8396 - accuracy: 0.6178 - val_loss: 0.8318 - val_accuracy: 0.6105\n",
      "Epoch 5/20\n",
      "50/50 [==============================] - 7s 136ms/step - loss: 0.8325 - accuracy: 0.6178 - val_loss: 0.8280 - val_accuracy: 0.6105\n",
      "Epoch 6/20\n",
      "50/50 [==============================] - 7s 135ms/step - loss: 0.8285 - accuracy: 0.6190 - val_loss: 0.8286 - val_accuracy: 0.6124\n",
      "Epoch 7/20\n",
      "50/50 [==============================] - 7s 139ms/step - loss: 0.8194 - accuracy: 0.6232 - val_loss: 0.8161 - val_accuracy: 0.6105\n",
      "Epoch 8/20\n",
      "50/50 [==============================] - 7s 132ms/step - loss: 0.8044 - accuracy: 0.6400 - val_loss: 0.7992 - val_accuracy: 0.6286\n",
      "Epoch 9/20\n",
      "50/50 [==============================] - 7s 148ms/step - loss: 0.7834 - accuracy: 0.6559 - val_loss: 0.7786 - val_accuracy: 0.6629\n",
      "Epoch 10/20\n",
      "50/50 [==============================] - 7s 133ms/step - loss: 0.7644 - accuracy: 0.6705 - val_loss: 0.7632 - val_accuracy: 0.6610\n",
      "Epoch 11/20\n",
      "50/50 [==============================] - 7s 132ms/step - loss: 0.7358 - accuracy: 0.6895 - val_loss: 0.7497 - val_accuracy: 0.6686\n",
      "Epoch 12/20\n",
      "50/50 [==============================] - 7s 137ms/step - loss: 0.7116 - accuracy: 0.7070 - val_loss: 0.7299 - val_accuracy: 0.6924\n",
      "Epoch 13/20\n",
      "50/50 [==============================] - 7s 133ms/step - loss: 0.6948 - accuracy: 0.7165 - val_loss: 0.7192 - val_accuracy: 0.6952\n",
      "Epoch 14/20\n",
      "50/50 [==============================] - 7s 139ms/step - loss: 0.6651 - accuracy: 0.7368 - val_loss: 0.7333 - val_accuracy: 0.6895\n",
      "Epoch 15/20\n",
      "50/50 [==============================] - 7s 133ms/step - loss: 0.6518 - accuracy: 0.7400 - val_loss: 0.7093 - val_accuracy: 0.7057\n",
      "Epoch 16/20\n",
      "50/50 [==============================] - 7s 143ms/step - loss: 0.6320 - accuracy: 0.7489 - val_loss: 0.7092 - val_accuracy: 0.7057\n",
      "Epoch 17/20\n",
      "50/50 [==============================] - 7s 139ms/step - loss: 0.6106 - accuracy: 0.7597 - val_loss: 0.7069 - val_accuracy: 0.7067\n",
      "Epoch 18/20\n",
      "50/50 [==============================] - 7s 136ms/step - loss: 0.5912 - accuracy: 0.7708 - val_loss: 0.7065 - val_accuracy: 0.7095\n",
      "Epoch 19/20\n",
      "50/50 [==============================] - 6s 127ms/step - loss: 0.5785 - accuracy: 0.7810 - val_loss: 0.7126 - val_accuracy: 0.7105\n",
      "Epoch 20/20\n",
      "50/50 [==============================] - 6s 129ms/step - loss: 0.5463 - accuracy: 0.7924 - val_loss: 0.7705 - val_accuracy: 0.6695\n",
      "GRU Best model saved\n"
     ]
    }
   ],
   "source": [
    "## GRU\n",
    "\n",
    "sgd3 = SGD(lr=learning_rate, momentum=momentum, decay=decay_rate, nesterov=False)\n",
    "# Build model\n",
    "model3= Sequential()\n",
    "model3.add(Embedding(vocab_size, embedding_size, input_length=max_len))\n",
    "model3.add(Conv1D(filters=32, kernel_size=3, padding='same', activation='relu'))\n",
    "model3.add(MaxPooling1D(pool_size=2))\n",
    "model3.add(GRU(units=64,  dropout=0.2, recurrent_dropout=0.2))\n",
    "model3.add(Dropout(0.4))\n",
    "model3.add(Dense(3, activation='softmax'))\n",
    "\n",
    "# initializing early stopping \n",
    "early_stopping = EarlyStopping(monitor='loss', patience=3)\n",
    "\n",
    "print(model3.summary())\n",
    "\n",
    "# Compile model\n",
    "model3.compile(loss='categorical_crossentropy', optimizer=sgd3, \n",
    "               metrics=['accuracy'])\n",
    "\n",
    "# Train model\n",
    "checkpoint = ModelCheckpoint('model/dl/gru_best_model.h5', monitor='val_loss', save_best_only=True)\n",
    "batch_size = 64\n",
    "history3 = model3.fit(X_train, y_train,\n",
    "                      validation_data=(X_test, y_test),callbacks=[early_stopping,checkpoint],\n",
    "                      batch_size=batch_size, epochs=epochs, verbose=1)\n",
    "\n",
    "print('GRU Best model saved')"
   ]
  },
  {
   "cell_type": "code",
   "execution_count": 26,
   "metadata": {
    "colab": {
     "base_uri": "https://localhost:8080/",
     "height": 295
    },
    "executionInfo": {
     "elapsed": 850,
     "status": "ok",
     "timestamp": 1635242781085,
     "user": {
      "displayName": "Rajesh K",
      "photoUrl": "https://lh3.googleusercontent.com/a/default-user=s64",
      "userId": "12525052543561073894"
     },
     "user_tz": -330
    },
    "id": "dLqcvQUoh80f",
    "outputId": "bc8c316d-5cdd-4a93-f8e3-42bcd07f5f6d"
   },
   "outputs": [
    {
     "data": {
      "image/png": "[encoded data removed]",
      "text/plain": [
       "<Figure size 720x288 with 2 Axes>"
      ]
     },
     "metadata": {
      "needs_background": "light"
     },
     "output_type": "display_data"
    }
   ],
   "source": [
    "plot_training_hist(history3)"
   ]
  },
  {
   "cell_type": "markdown",
   "metadata": {
    "id": "JKNiMn9nh80f"
   },
   "source": [
    "<b><u>BILSTM Model seems to perform well compared to othe  deep learning models </b></u>"
   ]
  },
  {
   "cell_type": "markdown",
   "metadata": {
    "id": "M1OIhenph80f"
   },
   "source": [
    "### BERT"
   ]
  },
  {
   "cell_type": "code",
   "execution_count": 27,
   "metadata": {
    "executionInfo": {
     "elapsed": 5,
     "status": "ok",
     "timestamp": 1635242781086,
     "user": {
      "displayName": "Rajesh K",
      "photoUrl": "https://lh3.googleusercontent.com/a/default-user=s64",
      "userId": "12525052543561073894"
     },
     "user_tz": -330
    },
    "id": "eHQAXXFGh80f"
   },
   "outputs": [],
   "source": [
    "# install transformers\n"
   ]
  },
  {
   "cell_type": "code",
   "execution_count": 28,
   "metadata": {
    "executionInfo": {
     "elapsed": 26095,
     "status": "ok",
     "timestamp": 1635242807177,
     "user": {
      "displayName": "Rajesh K",
      "photoUrl": "https://lh3.googleusercontent.com/a/default-user=s64",
      "userId": "12525052543561073894"
     },
     "user_tz": -330
    },
    "id": "A412RcOXh80f"
   },
   "outputs": [],
   "source": [
    "#import tensorflow as tf\n",
    "#from tensorflow.keras.layers import Dense, Input\n",
    "#from tensorflow.keras.optimizers import Adam\n",
    "#from tensorflow.keras.models import Model\n",
    "#from tensorflow.keras.callbacks import ModelCheckpoint\n",
    "\n",
    "\n",
    "import transformers\n",
    "from tqdm.notebook import tqdm\n",
    "from tokenizers import BertWordPieceTokenizer"
   ]
  },
  {
   "cell_type": "code",
   "execution_count": 29,
   "metadata": {
    "colab": {
     "base_uri": "https://localhost:8080/"
    },
    "executionInfo": {
     "elapsed": 18,
     "status": "ok",
     "timestamp": 1635242807178,
     "user": {
      "displayName": "Rajesh K",
      "photoUrl": "https://lh3.googleusercontent.com/a/default-user=s64",
      "userId": "12525052543561073894"
     },
     "user_tz": -330
    },
    "id": "zIwJ2IkGh80g",
    "outputId": "567de65c-888c-49f4-851f-5e9a6a044d81"
   },
   "outputs": [
    {
     "name": "stdout",
     "output_type": "stream",
     "text": [
      "Number of replicas in sync:  1\n"
     ]
    }
   ],
   "source": [
    "try:\n",
    "    tpu = tf.distribute.cluster_resolver.TPUClusterResolver()\n",
    "    tf.config.experimental_connect_to_cluster(tpu)\n",
    "    tf.tpu.experimental.initialize_tpu_system(tpu)\n",
    "    strategy = tf.distribute.experimental.TPUStrategy(tpu)\n",
    "    \n",
    "except:\n",
    "    strategy = tf.distribute.get_strategy()\n",
    "    \n",
    "print('Number of replicas in sync: ', strategy.num_replicas_in_sync)"
   ]
  },
  {
   "cell_type": "code",
   "execution_count": 30,
   "metadata": {
    "colab": {
     "base_uri": "https://localhost:8080/",
     "height": 145,
     "referenced_widgets": [
      "c6fdc4712a4e447d9d0ed74206a7e8ab",
      "53edce8431d24745889c24b0b04b143c",
      "7643899ecc2046beac221911d7f0c84d",
      "a5448d2456824ca59a6872db18dd83cf",
      "a1cc9ce6944e47699b3caf50297f56d3",
      "518c1ee99eef45ab94fc6cba77bf53ac",
      "7dcc3334b51a483cac0a2768dc8f4946",
      "059b3c9c362b4d548c1d1636efed9df1",
      "166f666935764c27b6a647e6cdb0ef35",
      "bde1046b57fd456c843e94dd8b762080",
      "3c688d81852541e19a3d462c0bcd979c",
      "c891fb3756634fdc831001932ef60143",
      "7e76838281504d0ab5406ed75266fbd9",
      "9ef24c9d9999498992924880314b1135",
      "3134c261460c4e9d99189b465b5bf7e5",
      "f22b3ff8f61d43299f5043bb03f26d50",
      "995daa8b7f4d460cb226f94951657207",
      "3be7bbb794a04cc4bfcdaa88d69826ff",
      "3f4dd579077a4245a394126cfa272005",
      "2aa85ce980704d3999abe287a1ea936f",
      "cb79ee201e7b48f7840a005c4b18d527",
      "3d923a1f2b304b44903d7c67a5cd909a",
      "f6c12fdbc7c947fa8c59fb7a0b9e0593",
      "c5882169eb954a698859458bce902559",
      "12d09cd176694190a80c6e21dca91a4f",
      "cd2e01760aca4039af63f22c90ab76d3",
      "64cc8a542120455f8913a956d4e3747c",
      "882bacc8d2ce4cfb917d3a30a7ed5e91",
      "7afc7942c26c4933a79c3cddbae3a41b",
      "ba596437f0024fae9b4b20bb759db8f9",
      "166746f887984b408da5c3cb7eaf476a",
      "e107133bcaef4a1a954086642d8f1287",
      "9dae1f4e87814d048f0e6a74d150eca1",
      "792cbfcd04934ee0bdb17daff3b3fc17",
      "d0e13ae228fd4dfc8277ab31ce8f0914",
      "4699489ad2444ae7b264a72d219f2fcf",
      "fb58645f56d6469fa6baed79adcf22ab",
      "58ef64c193d94e478bfd03569e08e368",
      "44954000431046e7bf94f210e654fb5e",
      "8e828150ff2341bbbb49a8cc5a22f1b5",
      "33ef19bb8fd3482ea9714a6219ce73e6",
      "b4f80bdb560c4154abe3e8a3e1b087f9",
      "575f2a1a350d4d12ae787848df19cbd3",
      "6aded820b47d4d56b1b354a8a55ccb94"
     ]
    },
    "executionInfo": {
     "elapsed": 2113,
     "status": "ok",
     "timestamp": 1635242809276,
     "user": {
      "displayName": "Rajesh K",
      "photoUrl": "https://lh3.googleusercontent.com/a/default-user=s64",
      "userId": "12525052543561073894"
     },
     "user_tz": -330
    },
    "id": "coUwZj3Eh80g",
    "outputId": "5ab16606-a2bb-4797-d243-43d9e9e8e9ac"
   },
   "outputs": [],
   "source": [
    "from transformers import BertTokenizer\n",
    "tokenizer = BertTokenizer.from_pretrained('bert-large-uncased')\n",
    "\n",
    "def bert_encode(data, maximum_length) :\n",
    "    input_ids = []\n",
    "    attention_masks = []\n",
    "\n",
    "    for text in data:\n",
    "        encoded = tokenizer.encode_plus(\n",
    "            text, \n",
    "            add_special_tokens=True,\n",
    "            max_length=maximum_length,\n",
    "            pad_to_max_length=True,\n",
    "\n",
    "            return_attention_mask=True,\n",
    "        )\n",
    "        input_ids.append(encoded['input_ids'])\n",
    "        attention_masks.append(encoded['attention_mask'])\n",
    "        \n",
    "    return np.array(input_ids),np.array(attention_masks)\n"
   ]
  },
  {
   "cell_type": "code",
   "execution_count": 31,
   "metadata": {
    "colab": {
     "base_uri": "https://localhost:8080/"
    },
    "executionInfo": {
     "elapsed": 3501,
     "status": "ok",
     "timestamp": 1635242812761,
     "user": {
      "displayName": "Rajesh K",
      "photoUrl": "https://lh3.googleusercontent.com/a/default-user=s64",
      "userId": "12525052543561073894"
     },
     "user_tz": -330
    },
    "id": "UtuSWfOKh80g",
    "outputId": "9645e99c-07c5-45c9-c245-438104500fce"
   },
   "outputs": [
    {
     "name": "stderr",
     "output_type": "stream",
     "text": [
      "Truncation was not explicitly activated but `max_length` is provided a specific value, please use `truncation=True` to explicitly truncate examples to max length. Defaulting to 'longest_first' truncation strategy. If you encode pairs of sequences (GLUE-style) with the tokenizer you can select this strategy more precisely by providing a specific strategy to `truncation`.\n"
     ]
    }
   ],
   "source": [
    "texts = train[\"clean_data\"].values.astype('U')\n",
    "target = labels\n",
    "\n",
    "\n",
    "train_input_ids, train_attention_masks = bert_encode(texts,60)"
   ]
  },
  {
   "cell_type": "code",
   "execution_count": 32,
   "metadata": {
    "executionInfo": {
     "elapsed": 25,
     "status": "ok",
     "timestamp": 1635242812770,
     "user": {
      "displayName": "Rajesh K",
      "photoUrl": "https://lh3.googleusercontent.com/a/default-user=s64",
      "userId": "12525052543561073894"
     },
     "user_tz": -330
    },
    "id": "iCs_Wo2ih80g"
   },
   "outputs": [],
   "source": [
    "import tensorflow as tf\n",
    "from tensorflow.keras.optimizers import Adam\n",
    "\n",
    "def create_model(bert_model):\n",
    "    \n",
    "    input_ids = tf.keras.Input(shape=(60,),dtype='int32')\n",
    "    attention_masks = tf.keras.Input(shape=(60,),dtype='int32')\n",
    "\n",
    "    output = bert_model([input_ids,attention_masks])\n",
    "    output = output[1]\n",
    "    output = tf.keras.layers.Dense(32,activation='relu')(output)\n",
    "    output = tf.keras.layers.Dropout(0.2)(output)\n",
    "    output = tf.keras.layers.Dense(3,activation='softmax')(output)\n",
    "    \n",
    "    model = tf.keras.models.Model(inputs = [input_ids,attention_masks],outputs = output)\n",
    "    model.compile(Adam(lr=3e-5, decay = 1e-6), loss='categorical_crossentropy', metrics=['accuracy'])\n",
    "    return model"
   ]
  },
  {
   "cell_type": "code",
   "execution_count": 33,
   "metadata": {
    "colab": {
     "base_uri": "https://localhost:8080/",
     "height": 187,
     "referenced_widgets": [
      "500ca69d4e3344c9880876712c405f1e",
      "459d0b7c4750407c852c8cc42fb3b311",
      "26d73edb68684fe69a95278c495499a3",
      "57b99f67cf6b4acaa71a28fe67b8760b",
      "b639fb4db58c4879a8802940a79b257d",
      "fef08cdb2b95415c9be0fcd6afd7c9ca",
      "4a43b6661285456daca29ca09e2cbdbc",
      "739c22487408412088ed7054639d47b0",
      "2c8296c5b45341c68a0a1c50ec627634",
      "73c5b8d304294712a80229b9f78949ae",
      "85a7501594ab4536a2c73c66d661828e",
      "49cb610ca05b4f1897670079e2ebe9cf",
      "0ed3ed48ba6341ecaa90bba83ee9ef93",
      "7b249a33f2b9443d81c0e69dc6b6c4c6",
      "74b3d2cbb75f4255b0fb16d75782fa0f",
      "9862abae3df04552ad0e3b7419268707",
      "b3fbcfbfebb44fc2833b3bb2997bdded",
      "db7748275cdd4a539aff7bc6d79c4e81",
      "318c66fba06f40018a22cb2579d41304",
      "296dc54571e142029332d605b3eed519",
      "96d4c70c13314a5e9ca2e9a9bfc05788",
      "cce0f984f32f487786605c1a13470e1d"
     ]
    },
    "executionInfo": {
     "elapsed": 20023,
     "status": "ok",
     "timestamp": 1635242832773,
     "user": {
      "displayName": "Rajesh K",
      "photoUrl": "https://lh3.googleusercontent.com/a/default-user=s64",
      "userId": "12525052543561073894"
     },
     "user_tz": -330
    },
    "id": "il4oGvf9h80h",
    "outputId": "9ea1159a-fb42-4a7d-9ddc-f5248311d8cc"
   },
   "outputs": [
    {
     "name": "stderr",
     "output_type": "stream",
     "text": [
      "Some layers from the model checkpoint at bert-base-uncased were not used when initializing TFBertModel: ['mlm___cls', 'nsp___cls']\n",
      "- This IS expected if you are initializing TFBertModel from the checkpoint of a model trained on another task or with another architecture (e.g. initializing a BertForSequenceClassification model from a BertForPreTraining model).\n",
      "- This IS NOT expected if you are initializing TFBertModel from the checkpoint of a model that you expect to be exactly identical (initializing a BertForSequenceClassification model from a BertForSequenceClassification model).\n",
      "All the layers of TFBertModel were initialized from the model checkpoint at bert-base-uncased.\n",
      "If your task is similar to the task the model of the checkpoint was trained on, you can already use TFBertModel for predictions without further training.\n"
     ]
    }
   ],
   "source": [
    "from transformers import TFBertModel\n",
    "bert_model = TFBertModel.from_pretrained('bert-base-uncased')"
   ]
  },
  {
   "cell_type": "code",
   "execution_count": 34,
   "metadata": {
    "colab": {
     "base_uri": "https://localhost:8080/"
    },
    "executionInfo": {
     "elapsed": 5212,
     "status": "ok",
     "timestamp": 1635242837970,
     "user": {
      "displayName": "Rajesh K",
      "photoUrl": "https://lh3.googleusercontent.com/a/default-user=s64",
      "userId": "12525052543561073894"
     },
     "user_tz": -330
    },
    "id": "iDrsJvv9h80h",
    "outputId": "f942e4b8-371d-40d9-a83b-ae1c6c44ee9d"
   },
   "outputs": [
    {
     "name": "stdout",
     "output_type": "stream",
     "text": [
      "Model: \"model\"\n",
      "__________________________________________________________________________________________________\n",
      "Layer (type)                    Output Shape         Param #     Connected to                     \n",
      "==================================================================================================\n",
      "input_1 (InputLayer)            [(None, 60)]         0                                            \n",
      "__________________________________________________________________________________________________\n",
      "input_2 (InputLayer)            [(None, 60)]         0                                            \n",
      "__________________________________________________________________________________________________\n",
      "tf_bert_model (TFBertModel)     TFBaseModelOutputWit 109482240   input_1[0][0]                    \n",
      "                                                                 input_2[0][0]                    \n",
      "__________________________________________________________________________________________________\n",
      "dense_3 (Dense)                 (None, 32)           24608       tf_bert_model[0][1]              \n",
      "__________________________________________________________________________________________________\n",
      "dropout_39 (Dropout)            (None, 32)           0           dense_3[0][0]                    \n",
      "__________________________________________________________________________________________________\n",
      "dense_4 (Dense)                 (None, 3)            99          dropout_39[0][0]                 \n",
      "==================================================================================================\n",
      "Total params: 109,506,947\n",
      "Trainable params: 109,506,947\n",
      "Non-trainable params: 0\n",
      "__________________________________________________________________________________________________\n"
     ]
    }
   ],
   "source": [
    "bb_model = create_model(bert_model)\n",
    "bb_model.summary()"
   ]
  },
  {
   "cell_type": "code",
   "execution_count": 37,
   "metadata": {
    "colab": {
     "base_uri": "https://localhost:8080/"
    },
    "id": "V-tyFdQFh80h",
    "outputId": "96f72dfb-cca8-4349-bcf1-bd17f7525950"
   },
   "outputs": [
    {
     "name": "stdout",
     "output_type": "stream",
     "text": [
      "Epoch 1/6\n",
      "294/294 [==============================] - 786s 3s/step - loss: 0.5782 - accuracy: 0.7707 - val_loss: 0.7924 - val_accuracy: 0.6738\n",
      "Epoch 2/6\n",
      "294/294 [==============================] - 752s 3s/step - loss: 0.4224 - accuracy: 0.8364 - val_loss: 0.8198 - val_accuracy: 0.6921\n",
      "Epoch 3/6\n",
      "294/294 [==============================] - 750s 3s/step - loss: 0.2789 - accuracy: 0.9027 - val_loss: 1.0665 - val_accuracy: 0.6810\n",
      "Epoch 4/6\n",
      "294/294 [==============================] - 750s 3s/step - loss: 0.1928 - accuracy: 0.9289 - val_loss: 1.3565 - val_accuracy: 0.6794\n"
     ]
    }
   ],
   "source": [
    "early_stopping=EarlyStopping(monitor='val_loss', patience=3)\n",
    "checkpoint = ModelCheckpoint('base_bert_model.h5', monitor='val_loss', save_best_only=True)\n",
    "history4 = bb_model.fit(\n",
    "    [train_input_ids, train_attention_masks],\n",
    "    target,\n",
    "    validation_split=0.3, \n",
    "    epochs=6,\n",
    "    batch_size=10,callbacks=[early_stopping]\n",
    ")"
   ]
  },
  {
   "cell_type": "code",
   "execution_count": 38,
   "metadata": {
    "id": "aqYZRmXKh80h"
   },
   "outputs": [
    {
     "data": {
      "image/png": "[encoded data removed]",
      "text/plain": [
       "<Figure size 720x288 with 2 Axes>"
      ]
     },
     "metadata": {
      "needs_background": "light"
     },
     "output_type": "display_data"
    }
   ],
   "source": [
    "plot_training_hist(history4)"
   ]
  },
  {
   "cell_type": "code",
   "execution_count": 39,
   "metadata": {
    "id": "W_X98_1Gh80i"
   },
   "outputs": [],
   "source": [
    "#model.save('bert_base_best_model',save_format='h5')\n",
    "#print('Bert Best model saved')\n",
    "\n",
    "\n",
    "# https://github.com/huggingface/transformers/issues/4444\n",
    "\n",
    "##model.save_weights('bert_base_model_weights')"
   ]
  },
  {
   "cell_type": "markdown",
   "metadata": {
    "id": "ug3Xb-Lwh80i"
   },
   "source": [
    "###  COVID Twitter bert "
   ]
  },
  {
   "cell_type": "code",
   "execution_count": 40,
   "metadata": {
    "id": "T34cRojWh80i"
   },
   "outputs": [],
   "source": [
    "#! pip install pydot graphviz\n",
    "#tf.keras.utils.plot_model(model)"
   ]
  },
  {
   "cell_type": "code",
   "execution_count": 41,
   "metadata": {
    "id": "jMTfPl86h80i"
   },
   "outputs": [],
   "source": [
    "#! pip install tensorflow_hub bert-tensorflow\n",
    "\n",
    "#! pip install tf-models-official"
   ]
  },
  {
   "cell_type": "code",
   "execution_count": 42,
   "metadata": {
    "id": "8EPu8c1sh80i"
   },
   "outputs": [],
   "source": [
    "from tensorflow.keras.layers import Dense, Input\n",
    "from tensorflow.keras.optimizers import Adam\n",
    "from tensorflow.keras.models import Model\n",
    "from tensorflow.keras.callbacks import ModelCheckpoint\n",
    "import tensorflow_hub as hub\n",
    "\n",
    "import tensorflow_hub as hub\n",
    "\n",
    "# Load the required submodules\n",
    "from  official.nlp.bert import tokenization\n"
   ]
  },
  {
   "cell_type": "code",
   "execution_count": 43,
   "metadata": {
    "id": "UuGmfZiSh80i"
   },
   "outputs": [],
   "source": [
    "def ct_bert_encode(texts, tokenizer, max_len=512):\n",
    "    all_tokens = []\n",
    "    all_masks = []\n",
    "    all_segments = []\n",
    "    \n",
    "    for text in texts:\n",
    "        text = tokenizer.tokenize(text)\n",
    "            \n",
    "        text = text[:max_len-2]\n",
    "        input_sequence = [\"[CLS]\"] + text + [\"[SEP]\"]\n",
    "        pad_len = max_len - len(input_sequence)\n",
    "        \n",
    "        tokens = tokenizer.convert_tokens_to_ids(input_sequence)\n",
    "        tokens += [0] * pad_len\n",
    "        pad_masks = [1] * len(input_sequence) + [0] * pad_len\n",
    "        segment_ids = [0] * max_len\n",
    "        \n",
    "        all_tokens.append(tokens)\n",
    "        all_masks.append(pad_masks)\n",
    "        all_segments.append(segment_ids)\n",
    "    \n",
    "    return np.array(all_tokens), np.array(all_masks), np.array(all_segments)"
   ]
  },
  {
   "cell_type": "code",
   "execution_count": 44,
   "metadata": {
    "id": "2hTyTTu0h80j"
   },
   "outputs": [
    {
     "name": "stderr",
     "output_type": "stream",
     "text": [
      "INFO:absl:Using /tmp/tfhub_modules to cache modules.\n"
     ]
    },
    {
     "name": "stdout",
     "output_type": "stream",
     "text": [
      "CPU times: user 5.56 s, sys: 938 ms, total: 6.5 s\n",
      "Wall time: 6.4 s\n"
     ]
    }
   ],
   "source": [
    "%%time\n",
    " \n",
    "bert_layer = hub.KerasLayer(\"https://tfhub.dev/digitalepidemiologylab/covid-twitter-bert/2\", trainable=True)\n",
    "#pooled_output, sequence_output = bert_layer([input_word_ids, input_mask, input_type_ids])\n"
   ]
  },
  {
   "cell_type": "code",
   "execution_count": 45,
   "metadata": {
    "id": "TIfG3gUvh80j"
   },
   "outputs": [],
   "source": [
    "def build_ct_model1(bert_layer, max_len=512):\n",
    "    input_word_ids = Input(shape=(max_len,), dtype=tf.int32, name=\"input_word_ids\")\n",
    "    input_mask = Input(shape=(max_len,), dtype=tf.int32, name=\"input_mask\")\n",
    "    input_type_ids = Input(shape=(max_len,), dtype=tf.int32, name=\"input_type_ids\")\n",
    "\n",
    "    _, sequence_output = bert_layer([input_word_ids, input_mask, input_type_ids])\n",
    "    clf_output = sequence_output[:, 0, :]\n",
    "    output = tf.keras.layers.Dropout(0.5)((clf_output))\n",
    "    output = Dense(3, activation='sigmoid')(output)\n",
    "    \n",
    "    model = Model(inputs=[input_word_ids, input_mask, input_type_ids], outputs=output)\n",
    "    # Compile model\n",
    "    model.compile(Adam(lr=2e-5,  decay = 1e-6), loss='categorical_crossentropy', metrics=['accuracy'])\n",
    "    return model"
   ]
  },
  {
   "cell_type": "code",
   "execution_count": 46,
   "metadata": {},
   "outputs": [],
   "source": [
    "def build_ct_model(bert_layer, max_len=512):\n",
    "    input_word_ids = Input(shape=(max_len,), dtype=tf.int32, name=\"input_word_ids\")\n",
    "    input_mask = Input(shape=(max_len,), dtype=tf.int32, name=\"input_mask\")\n",
    "    input_type_ids = Input(shape=(max_len,), dtype=tf.int32, name=\"input_type_ids\")\n",
    "\n",
    "    pooled_output, sequence_output = bert_layer([input_word_ids, input_mask, input_type_ids])\n",
    "    num_labels = 3\n",
    "    initializer = tf.keras.initializers.TruncatedNormal(stddev=0.2)\n",
    "    output = tf.keras.layers.Dropout(rate=0.2)(pooled_output)\n",
    "    #output = tf.keras.layers.Dense(num_labels, kernel_initializer=initializer, name='output')(output)\n",
    "    #output = tf.keras.layers.Dense(32,activation='relu')(output)\n",
    "    #output = tf.keras.layers.Dropout(0.2)(output)\n",
    "    #output = tf.keras.layers.Dense(3,activation='softmax')(output)\n",
    "\n",
    "    classifier_model = tf.keras.Model(\n",
    "      inputs={\n",
    "              'input_word_ids': input_word_ids,\n",
    "              'input_mask': input_mask,\n",
    "              'input_type_ids': input_type_ids},\n",
    "      outputs=output)\n",
    "    classifier_model.compile(Adam(lr=2e-5, decay = 1e-6), loss='categorical_crossentropy', metrics=['accuracy'])\n",
    "    return classifier_model"
   ]
  },
  {
   "cell_type": "code",
   "execution_count": 47,
   "metadata": {
    "id": "wRP6B7oyh80j"
   },
   "outputs": [],
   "source": [
    "vocab_file = bert_layer.resolved_object.vocab_file.asset_path.numpy()\n",
    "do_lower_case = bert_layer.resolved_object.do_lower_case.numpy()\n",
    "tokenizer = tokenization.FullTokenizer(vocab_file, do_lower_case)"
   ]
  },
  {
   "cell_type": "code",
   "execution_count": 48,
   "metadata": {
    "id": "uxTWDgBLh80j"
   },
   "outputs": [],
   "source": [
    "texts = train[\"clean_data\"].values.astype('U')\n",
    "target = labels\n",
    "\n",
    "train_input = ct_bert_encode(texts, tokenizer, max_len=100)\n",
    "train_labels = target\n",
    "\n"
   ]
  },
  {
   "cell_type": "code",
   "execution_count": 49,
   "metadata": {
    "id": "bImFuI3Ph80k"
   },
   "outputs": [
    {
     "name": "stdout",
     "output_type": "stream",
     "text": [
      "Model: \"model_1\"\n",
      "__________________________________________________________________________________________________\n",
      "Layer (type)                    Output Shape         Param #     Connected to                     \n",
      "==================================================================================================\n",
      "input_word_ids (InputLayer)     [(None, 100)]        0                                            \n",
      "__________________________________________________________________________________________________\n",
      "input_mask (InputLayer)         [(None, 100)]        0                                            \n",
      "__________________________________________________________________________________________________\n",
      "input_type_ids (InputLayer)     [(None, 100)]        0                                            \n",
      "__________________________________________________________________________________________________\n",
      "keras_layer (KerasLayer)        [(None, 1024), (None 335141889   input_word_ids[0][0]             \n",
      "                                                                 input_mask[0][0]                 \n",
      "                                                                 input_type_ids[0][0]             \n",
      "__________________________________________________________________________________________________\n",
      "tf.__operators__.getitem (Slici (None, 1024)         0           keras_layer[0][1]                \n",
      "__________________________________________________________________________________________________\n",
      "dropout_40 (Dropout)            (None, 1024)         0           tf.__operators__.getitem[0][0]   \n",
      "__________________________________________________________________________________________________\n",
      "dense_5 (Dense)                 (None, 3)            3075        dropout_40[0][0]                 \n",
      "==================================================================================================\n",
      "Total params: 335,144,964\n",
      "Trainable params: 335,144,963\n",
      "Non-trainable params: 1\n",
      "__________________________________________________________________________________________________\n"
     ]
    }
   ],
   "source": [
    "\n",
    "ct_model = build_ct_model1(bert_layer, max_len=100)\n",
    "ct_model.summary()"
   ]
  },
  {
   "cell_type": "code",
   "execution_count": 50,
   "metadata": {
    "id": "ODmSAHpMh80k"
   },
   "outputs": [],
   "source": [
    "#early_stopping=EarlyStopping(monitor='loss', patience=3)\n",
    "#history5 = model.fit(\n",
    "#    [train_input_ids, train_attention_masks],\n",
    "#    target,\n",
    "#    validation_split=0.2, \n",
    "#    epochs=6,\n",
    "#    batch_size=10,callbacks=[early_stopping]\n",
    "#)"
   ]
  },
  {
   "cell_type": "code",
   "execution_count": 51,
   "metadata": {
    "id": "DtSX6JW2h80k"
   },
   "outputs": [
    {
     "name": "stdout",
     "output_type": "stream",
     "text": [
      "Epoch 1/5\n",
      "294/294 [==============================] - 3589s 12s/step - loss: 1.2223 - accuracy: 0.6252 - val_loss: 1.1954 - val_accuracy: 0.6524\n",
      "Epoch 2/5\n",
      "294/294 [==============================] - 5267s 18s/step - loss: 0.8372 - accuracy: 0.7187 - val_loss: 0.9709 - val_accuracy: 0.6794\n",
      "Epoch 3/5\n",
      "294/294 [==============================] - 3884s 13s/step - loss: 0.6194 - accuracy: 0.7884 - val_loss: 0.9698 - val_accuracy: 0.7040\n",
      "Epoch 4/5\n",
      "294/294 [==============================] - 3533s 12s/step - loss: 0.4370 - accuracy: 0.8429 - val_loss: 1.1374 - val_accuracy: 0.7024\n",
      "Epoch 5/5\n",
      "294/294 [==============================] - 5805s 20s/step - loss: 0.2532 - accuracy: 0.9146 - val_loss: 1.2832 - val_accuracy: 0.7048\n"
     ]
    }
   ],
   "source": [
    "checkpoint = ModelCheckpoint('model/bert/ct_bert_model.h5', monitor='val_loss', save_best_only=True)\n",
    "\n",
    "train_history = ct_model.fit(\n",
    "    train_input, train_labels,\n",
    "    validation_split=0.30,\n",
    "    epochs=5,\n",
    "    callbacks=[checkpoint],\n",
    "    batch_size=10\n",
    ")"
   ]
  },
  {
   "cell_type": "code",
   "execution_count": 52,
   "metadata": {
    "id": "r1HQLUmqh80k"
   },
   "outputs": [
    {
     "data": {
      "image/png": "[encoded data removed]",
      "text/plain": [
       "<Figure size 720x288 with 2 Axes>"
      ]
     },
     "metadata": {
      "needs_background": "light"
     },
     "output_type": "display_data"
    }
   ],
   "source": [
    "plot_training_hist(train_history)"
   ]
  },
  {
   "cell_type": "code",
   "execution_count": null,
   "metadata": {},
   "outputs": [],
   "source": []
  }
 ],
 "metadata": {
  "accelerator": "TPU",
  "colab": {
   "collapsed_sections": [],
   "name": "explore-vaccines-tweets-eda-labelled-DL2.ipynb",
   "provenance": []
  },
  "kernel_info": {
   "name": "azureml_py38_tensorflow"
  },
  "kernelspec": {
   "display_name": "Python 3",
   "language": "python",
   "name": "python3"
  },
  "language_info": {
   "codemirror_mode": {
    "name": "ipython",
    "version": 3
   },
   "file_extension": ".py",
   "mimetype": "text/x-python",
   "name": "python",
   "nbconvert_exporter": "python",
   "pygments_lexer": "ipython3",
   "version": "3.8.8"
  },
  "microsoft": {
   "host": {
    "AzureML": {
     "notebookHasBeenCompleted": true
    }
   }
  },
  "nteract": {
   "version": "nteract-front-end@1.0.0"
  },
  "papermill": {
   "default_parameters": {},
   "duration": 59.477401,
   "end_time": "2021-03-20T10:46:29.997627",
   "environment_variables": {},
   "exception": null,
   "input_path": "__notebook__.ipynb",
   "output_path": "__notebook__.ipynb",
   "parameters": {},
   "start_time": "2021-03-20T10:45:30.520226",
   "version": "2.2.2"
  },
  "widgets": {
   "application/vnd.jupyter.widget-state+json": {
    "059b3c9c362b4d548c1d1636efed9df1": {
     "model_module": "@jupyter-widgets/controls",
     "model_module_version": "1.5.0",
     "model_name": "ProgressStyleModel",
     "state": {
      "_model_module": "@jupyter-widgets/controls",
      "_model_module_version": "1.5.0",
      "_model_name": "ProgressStyleModel",
      "_view_count": null,
      "_view_module": "@jupyter-widgets/base",
      "_view_module_version": "1.2.0",
      "_view_name": "StyleView",
      "bar_color": null,
      "description_width": ""
     }
    },
    "0ed3ed48ba6341ecaa90bba83ee9ef93": {
     "model_module": "@jupyter-widgets/base",
     "model_module_version": "1.2.0",
     "model_name": "LayoutModel",
     "state": {
      "_model_module": "@jupyter-widgets/base",
      "_model_module_version": "1.2.0",
      "_model_name": "LayoutModel",
      "_view_count": null,
      "_view_module": "@jupyter-widgets/base",
      "_view_module_version": "1.2.0",
      "_view_name": "LayoutView",
      "align_content": null,
      "align_items": null,
      "align_self": null,
      "border": null,
      "bottom": null,
      "display": null,
      "flex": null,
      "flex_flow": null,
      "grid_area": null,
      "grid_auto_columns": null,
      "grid_auto_flow": null,
      "grid_auto_rows": null,
      "grid_column": null,
      "grid_gap": null,
      "grid_row": null,
      "grid_template_areas": null,
      "grid_template_columns": null,
      "grid_template_rows": null,
      "height": null,
      "justify_content": null,
      "justify_items": null,
      "left": null,
      "margin": null,
      "max_height": null,
      "max_width": null,
      "min_height": null,
      "min_width": null,
      "object_fit": null,
      "object_position": null,
      "order": null,
      "overflow": null,
      "overflow_x": null,
      "overflow_y": null,
      "padding": null,
      "right": null,
      "top": null,
      "visibility": null,
      "width": null
     }
    },
    "12d09cd176694190a80c6e21dca91a4f": {
     "model_module": "@jupyter-widgets/controls",
     "model_module_version": "1.5.0",
     "model_name": "HTMLModel",
     "state": {
      "_dom_classes": [],
      "_model_module": "@jupyter-widgets/controls",
      "_model_module_version": "1.5.0",
      "_model_name": "HTMLModel",
      "_view_count": null,
      "_view_module": "@jupyter-widgets/controls",
      "_view_module_version": "1.5.0",
      "_view_name": "HTMLView",
      "description": "",
      "description_tooltip": null,
      "layout": "IPY_MODEL_7afc7942c26c4933a79c3cddbae3a41b",
      "placeholder": "​",
      "style": "IPY_MODEL_882bacc8d2ce4cfb917d3a30a7ed5e91",
      "value": "Downloading: 100%"
     }
    },
    "166746f887984b408da5c3cb7eaf476a": {
     "model_module": "@jupyter-widgets/base",
     "model_module_version": "1.2.0",
     "model_name": "LayoutModel",
     "state": {
      "_model_module": "@jupyter-widgets/base",
      "_model_module_version": "1.2.0",
      "_model_name": "LayoutModel",
      "_view_count": null,
      "_view_module": "@jupyter-widgets/base",
      "_view_module_version": "1.2.0",
      "_view_name": "LayoutView",
      "align_content": null,
      "align_items": null,
      "align_self": null,
      "border": null,
      "bottom": null,
      "display": null,
      "flex": null,
      "flex_flow": null,
      "grid_area": null,
      "grid_auto_columns": null,
      "grid_auto_flow": null,
      "grid_auto_rows": null,
      "grid_column": null,
      "grid_gap": null,
      "grid_row": null,
      "grid_template_areas": null,
      "grid_template_columns": null,
      "grid_template_rows": null,
      "height": null,
      "justify_content": null,
      "justify_items": null,
      "left": null,
      "margin": null,
      "max_height": null,
      "max_width": null,
      "min_height": null,
      "min_width": null,
      "object_fit": null,
      "object_position": null,
      "order": null,
      "overflow": null,
      "overflow_x": null,
      "overflow_y": null,
      "padding": null,
      "right": null,
      "top": null,
      "visibility": null,
      "width": null
     }
    },
    "166f666935764c27b6a647e6cdb0ef35": {
     "model_module": "@jupyter-widgets/base",
     "model_module_version": "1.2.0",
     "model_name": "LayoutModel",
     "state": {
      "_model_module": "@jupyter-widgets/base",
      "_model_module_version": "1.2.0",
      "_model_name": "LayoutModel",
      "_view_count": null,
      "_view_module": "@jupyter-widgets/base",
      "_view_module_version": "1.2.0",
      "_view_name": "LayoutView",
      "align_content": null,
      "align_items": null,
      "align_self": null,
      "border": null,
      "bottom": null,
      "display": null,
      "flex": null,
      "flex_flow": null,
      "grid_area": null,
      "grid_auto_columns": null,
      "grid_auto_flow": null,
      "grid_auto_rows": null,
      "grid_column": null,
      "grid_gap": null,
      "grid_row": null,
      "grid_template_areas": null,
      "grid_template_columns": null,
      "grid_template_rows": null,
      "height": null,
      "justify_content": null,
      "justify_items": null,
      "left": null,
      "margin": null,
      "max_height": null,
      "max_width": null,
      "min_height": null,
      "min_width": null,
      "object_fit": null,
      "object_position": null,
      "order": null,
      "overflow": null,
      "overflow_x": null,
      "overflow_y": null,
      "padding": null,
      "right": null,
      "top": null,
      "visibility": null,
      "width": null
     }
    },
    "26d73edb68684fe69a95278c495499a3": {
     "model_module": "@jupyter-widgets/controls",
     "model_module_version": "1.5.0",
     "model_name": "HTMLModel",
     "state": {
      "_dom_classes": [],
      "_model_module": "@jupyter-widgets/controls",
      "_model_module_version": "1.5.0",
      "_model_name": "HTMLModel",
      "_view_count": null,
      "_view_module": "@jupyter-widgets/controls",
      "_view_module_version": "1.5.0",
      "_view_name": "HTMLView",
      "description": "",
      "description_tooltip": null,
      "layout": "IPY_MODEL_4a43b6661285456daca29ca09e2cbdbc",
      "placeholder": "​",
      "style": "IPY_MODEL_fef08cdb2b95415c9be0fcd6afd7c9ca",
      "value": "Downloading: 100%"
     }
    },
    "296dc54571e142029332d605b3eed519": {
     "model_module": "@jupyter-widgets/base",
     "model_module_version": "1.2.0",
     "model_name": "LayoutModel",
     "state": {
      "_model_module": "@jupyter-widgets/base",
      "_model_module_version": "1.2.0",
      "_model_name": "LayoutModel",
      "_view_count": null,
      "_view_module": "@jupyter-widgets/base",
      "_view_module_version": "1.2.0",
      "_view_name": "LayoutView",
      "align_content": null,
      "align_items": null,
      "align_self": null,
      "border": null,
      "bottom": null,
      "display": null,
      "flex": null,
      "flex_flow": null,
      "grid_area": null,
      "grid_auto_columns": null,
      "grid_auto_flow": null,
      "grid_auto_rows": null,
      "grid_column": null,
      "grid_gap": null,
      "grid_row": null,
      "grid_template_areas": null,
      "grid_template_columns": null,
      "grid_template_rows": null,
      "height": null,
      "justify_content": null,
      "justify_items": null,
      "left": null,
      "margin": null,
      "max_height": null,
      "max_width": null,
      "min_height": null,
      "min_width": null,
      "object_fit": null,
      "object_position": null,
      "order": null,
      "overflow": null,
      "overflow_x": null,
      "overflow_y": null,
      "padding": null,
      "right": null,
      "top": null,
      "visibility": null,
      "width": null
     }
    },
    "2aa85ce980704d3999abe287a1ea936f": {
     "model_module": "@jupyter-widgets/base",
     "model_module_version": "1.2.0",
     "model_name": "LayoutModel",
     "state": {
      "_model_module": "@jupyter-widgets/base",
      "_model_module_version": "1.2.0",
      "_model_name": "LayoutModel",
      "_view_count": null,
      "_view_module": "@jupyter-widgets/base",
      "_view_module_version": "1.2.0",
      "_view_name": "LayoutView",
      "align_content": null,
      "align_items": null,
      "align_self": null,
      "border": null,
      "bottom": null,
      "display": null,
      "flex": null,
      "flex_flow": null,
      "grid_area": null,
      "grid_auto_columns": null,
      "grid_auto_flow": null,
      "grid_auto_rows": null,
      "grid_column": null,
      "grid_gap": null,
      "grid_row": null,
      "grid_template_areas": null,
      "grid_template_columns": null,
      "grid_template_rows": null,
      "height": null,
      "justify_content": null,
      "justify_items": null,
      "left": null,
      "margin": null,
      "max_height": null,
      "max_width": null,
      "min_height": null,
      "min_width": null,
      "object_fit": null,
      "object_position": null,
      "order": null,
      "overflow": null,
      "overflow_x": null,
      "overflow_y": null,
      "padding": null,
      "right": null,
      "top": null,
      "visibility": null,
      "width": null
     }
    },
    "2c8296c5b45341c68a0a1c50ec627634": {
     "model_module": "@jupyter-widgets/base",
     "model_module_version": "1.2.0",
     "model_name": "LayoutModel",
     "state": {
      "_model_module": "@jupyter-widgets/base",
      "_model_module_version": "1.2.0",
      "_model_name": "LayoutModel",
      "_view_count": null,
      "_view_module": "@jupyter-widgets/base",
      "_view_module_version": "1.2.0",
      "_view_name": "LayoutView",
      "align_content": null,
      "align_items": null,
      "align_self": null,
      "border": null,
      "bottom": null,
      "display": null,
      "flex": null,
      "flex_flow": null,
      "grid_area": null,
      "grid_auto_columns": null,
      "grid_auto_flow": null,
      "grid_auto_rows": null,
      "grid_column": null,
      "grid_gap": null,
      "grid_row": null,
      "grid_template_areas": null,
      "grid_template_columns": null,
      "grid_template_rows": null,
      "height": null,
      "justify_content": null,
      "justify_items": null,
      "left": null,
      "margin": null,
      "max_height": null,
      "max_width": null,
      "min_height": null,
      "min_width": null,
      "object_fit": null,
      "object_position": null,
      "order": null,
      "overflow": null,
      "overflow_x": null,
      "overflow_y": null,
      "padding": null,
      "right": null,
      "top": null,
      "visibility": null,
      "width": null
     }
    },
    "3134c261460c4e9d99189b465b5bf7e5": {
     "model_module": "@jupyter-widgets/controls",
     "model_module_version": "1.5.0",
     "model_name": "FloatProgressModel",
     "state": {
      "_dom_classes": [],
      "_model_module": "@jupyter-widgets/controls",
      "_model_module_version": "1.5.0",
      "_model_name": "FloatProgressModel",
      "_view_count": null,
      "_view_module": "@jupyter-widgets/controls",
      "_view_module_version": "1.5.0",
      "_view_name": "ProgressView",
      "bar_style": "success",
      "description": "",
      "description_tooltip": null,
      "layout": "IPY_MODEL_2aa85ce980704d3999abe287a1ea936f",
      "max": 28,
      "min": 0,
      "orientation": "horizontal",
      "style": "IPY_MODEL_3f4dd579077a4245a394126cfa272005",
      "value": 28
     }
    },
    "318c66fba06f40018a22cb2579d41304": {
     "model_module": "@jupyter-widgets/controls",
     "model_module_version": "1.5.0",
     "model_name": "ProgressStyleModel",
     "state": {
      "_model_module": "@jupyter-widgets/controls",
      "_model_module_version": "1.5.0",
      "_model_name": "ProgressStyleModel",
      "_view_count": null,
      "_view_module": "@jupyter-widgets/base",
      "_view_module_version": "1.2.0",
      "_view_name": "StyleView",
      "bar_color": null,
      "description_width": ""
     }
    },
    "33ef19bb8fd3482ea9714a6219ce73e6": {
     "model_module": "@jupyter-widgets/controls",
     "model_module_version": "1.5.0",
     "model_name": "ProgressStyleModel",
     "state": {
      "_model_module": "@jupyter-widgets/controls",
      "_model_module_version": "1.5.0",
      "_model_name": "ProgressStyleModel",
      "_view_count": null,
      "_view_module": "@jupyter-widgets/base",
      "_view_module_version": "1.2.0",
      "_view_name": "StyleView",
      "bar_color": null,
      "description_width": ""
     }
    },
    "3be7bbb794a04cc4bfcdaa88d69826ff": {
     "model_module": "@jupyter-widgets/base",
     "model_module_version": "1.2.0",
     "model_name": "LayoutModel",
     "state": {
      "_model_module": "@jupyter-widgets/base",
      "_model_module_version": "1.2.0",
      "_model_name": "LayoutModel",
      "_view_count": null,
      "_view_module": "@jupyter-widgets/base",
      "_view_module_version": "1.2.0",
      "_view_name": "LayoutView",
      "align_content": null,
      "align_items": null,
      "align_self": null,
      "border": null,
      "bottom": null,
      "display": null,
      "flex": null,
      "flex_flow": null,
      "grid_area": null,
      "grid_auto_columns": null,
      "grid_auto_flow": null,
      "grid_auto_rows": null,
      "grid_column": null,
      "grid_gap": null,
      "grid_row": null,
      "grid_template_areas": null,
      "grid_template_columns": null,
      "grid_template_rows": null,
      "height": null,
      "justify_content": null,
      "justify_items": null,
      "left": null,
      "margin": null,
      "max_height": null,
      "max_width": null,
      "min_height": null,
      "min_width": null,
      "object_fit": null,
      "object_position": null,
      "order": null,
      "overflow": null,
      "overflow_x": null,
      "overflow_y": null,
      "padding": null,
      "right": null,
      "top": null,
      "visibility": null,
      "width": null
     }
    },
    "3c688d81852541e19a3d462c0bcd979c": {
     "model_module": "@jupyter-widgets/base",
     "model_module_version": "1.2.0",
     "model_name": "LayoutModel",
     "state": {
      "_model_module": "@jupyter-widgets/base",
      "_model_module_version": "1.2.0",
      "_model_name": "LayoutModel",
      "_view_count": null,
      "_view_module": "@jupyter-widgets/base",
      "_view_module_version": "1.2.0",
      "_view_name": "LayoutView",
      "align_content": null,
      "align_items": null,
      "align_self": null,
      "border": null,
      "bottom": null,
      "display": null,
      "flex": null,
      "flex_flow": null,
      "grid_area": null,
      "grid_auto_columns": null,
      "grid_auto_flow": null,
      "grid_auto_rows": null,
      "grid_column": null,
      "grid_gap": null,
      "grid_row": null,
      "grid_template_areas": null,
      "grid_template_columns": null,
      "grid_template_rows": null,
      "height": null,
      "justify_content": null,
      "justify_items": null,
      "left": null,
      "margin": null,
      "max_height": null,
      "max_width": null,
      "min_height": null,
      "min_width": null,
      "object_fit": null,
      "object_position": null,
      "order": null,
      "overflow": null,
      "overflow_x": null,
      "overflow_y": null,
      "padding": null,
      "right": null,
      "top": null,
      "visibility": null,
      "width": null
     }
    },
    "3d923a1f2b304b44903d7c67a5cd909a": {
     "model_module": "@jupyter-widgets/base",
     "model_module_version": "1.2.0",
     "model_name": "LayoutModel",
     "state": {
      "_model_module": "@jupyter-widgets/base",
      "_model_module_version": "1.2.0",
      "_model_name": "LayoutModel",
      "_view_count": null,
      "_view_module": "@jupyter-widgets/base",
      "_view_module_version": "1.2.0",
      "_view_name": "LayoutView",
      "align_content": null,
      "align_items": null,
      "align_self": null,
      "border": null,
      "bottom": null,
      "display": null,
      "flex": null,
      "flex_flow": null,
      "grid_area": null,
      "grid_auto_columns": null,
      "grid_auto_flow": null,
      "grid_auto_rows": null,
      "grid_column": null,
      "grid_gap": null,
      "grid_row": null,
      "grid_template_areas": null,
      "grid_template_columns": null,
      "grid_template_rows": null,
      "height": null,
      "justify_content": null,
      "justify_items": null,
      "left": null,
      "margin": null,
      "max_height": null,
      "max_width": null,
      "min_height": null,
      "min_width": null,
      "object_fit": null,
      "object_position": null,
      "order": null,
      "overflow": null,
      "overflow_x": null,
      "overflow_y": null,
      "padding": null,
      "right": null,
      "top": null,
      "visibility": null,
      "width": null
     }
    },
    "3f4dd579077a4245a394126cfa272005": {
     "model_module": "@jupyter-widgets/controls",
     "model_module_version": "1.5.0",
     "model_name": "ProgressStyleModel",
     "state": {
      "_model_module": "@jupyter-widgets/controls",
      "_model_module_version": "1.5.0",
      "_model_name": "ProgressStyleModel",
      "_view_count": null,
      "_view_module": "@jupyter-widgets/base",
      "_view_module_version": "1.2.0",
      "_view_name": "StyleView",
      "bar_color": null,
      "description_width": ""
     }
    },
    "44954000431046e7bf94f210e654fb5e": {
     "model_module": "@jupyter-widgets/controls",
     "model_module_version": "1.5.0",
     "model_name": "DescriptionStyleModel",
     "state": {
      "_model_module": "@jupyter-widgets/controls",
      "_model_module_version": "1.5.0",
      "_model_name": "DescriptionStyleModel",
      "_view_count": null,
      "_view_module": "@jupyter-widgets/base",
      "_view_module_version": "1.2.0",
      "_view_name": "StyleView",
      "description_width": ""
     }
    },
    "459d0b7c4750407c852c8cc42fb3b311": {
     "model_module": "@jupyter-widgets/base",
     "model_module_version": "1.2.0",
     "model_name": "LayoutModel",
     "state": {
      "_model_module": "@jupyter-widgets/base",
      "_model_module_version": "1.2.0",
      "_model_name": "LayoutModel",
      "_view_count": null,
      "_view_module": "@jupyter-widgets/base",
      "_view_module_version": "1.2.0",
      "_view_name": "LayoutView",
      "align_content": null,
      "align_items": null,
      "align_self": null,
      "border": null,
      "bottom": null,
      "display": null,
      "flex": null,
      "flex_flow": null,
      "grid_area": null,
      "grid_auto_columns": null,
      "grid_auto_flow": null,
      "grid_auto_rows": null,
      "grid_column": null,
      "grid_gap": null,
      "grid_row": null,
      "grid_template_areas": null,
      "grid_template_columns": null,
      "grid_template_rows": null,
      "height": null,
      "justify_content": null,
      "justify_items": null,
      "left": null,
      "margin": null,
      "max_height": null,
      "max_width": null,
      "min_height": null,
      "min_width": null,
      "object_fit": null,
      "object_position": null,
      "order": null,
      "overflow": null,
      "overflow_x": null,
      "overflow_y": null,
      "padding": null,
      "right": null,
      "top": null,
      "visibility": null,
      "width": null
     }
    },
    "4699489ad2444ae7b264a72d219f2fcf": {
     "model_module": "@jupyter-widgets/controls",
     "model_module_version": "1.5.0",
     "model_name": "HTMLModel",
     "state": {
      "_dom_classes": [],
      "_model_module": "@jupyter-widgets/controls",
      "_model_module_version": "1.5.0",
      "_model_name": "HTMLModel",
      "_view_count": null,
      "_view_module": "@jupyter-widgets/controls",
      "_view_module_version": "1.5.0",
      "_view_name": "HTMLView",
      "description": "",
      "description_tooltip": null,
      "layout": "IPY_MODEL_8e828150ff2341bbbb49a8cc5a22f1b5",
      "placeholder": "​",
      "style": "IPY_MODEL_44954000431046e7bf94f210e654fb5e",
      "value": "Downloading: 100%"
     }
    },
    "49cb610ca05b4f1897670079e2ebe9cf": {
     "model_module": "@jupyter-widgets/controls",
     "model_module_version": "1.5.0",
     "model_name": "HBoxModel",
     "state": {
      "_dom_classes": [],
      "_model_module": "@jupyter-widgets/controls",
      "_model_module_version": "1.5.0",
      "_model_name": "HBoxModel",
      "_view_count": null,
      "_view_module": "@jupyter-widgets/controls",
      "_view_module_version": "1.5.0",
      "_view_name": "HBoxView",
      "box_style": "",
      "children": [
       "IPY_MODEL_7b249a33f2b9443d81c0e69dc6b6c4c6",
       "IPY_MODEL_74b3d2cbb75f4255b0fb16d75782fa0f",
       "IPY_MODEL_9862abae3df04552ad0e3b7419268707"
      ],
      "layout": "IPY_MODEL_0ed3ed48ba6341ecaa90bba83ee9ef93"
     }
    },
    "4a43b6661285456daca29ca09e2cbdbc": {
     "model_module": "@jupyter-widgets/base",
     "model_module_version": "1.2.0",
     "model_name": "LayoutModel",
     "state": {
      "_model_module": "@jupyter-widgets/base",
      "_model_module_version": "1.2.0",
      "_model_name": "LayoutModel",
      "_view_count": null,
      "_view_module": "@jupyter-widgets/base",
      "_view_module_version": "1.2.0",
      "_view_name": "LayoutView",
      "align_content": null,
      "align_items": null,
      "align_self": null,
      "border": null,
      "bottom": null,
      "display": null,
      "flex": null,
      "flex_flow": null,
      "grid_area": null,
      "grid_auto_columns": null,
      "grid_auto_flow": null,
      "grid_auto_rows": null,
      "grid_column": null,
      "grid_gap": null,
      "grid_row": null,
      "grid_template_areas": null,
      "grid_template_columns": null,
      "grid_template_rows": null,
      "height": null,
      "justify_content": null,
      "justify_items": null,
      "left": null,
      "margin": null,
      "max_height": null,
      "max_width": null,
      "min_height": null,
      "min_width": null,
      "object_fit": null,
      "object_position": null,
      "order": null,
      "overflow": null,
      "overflow_x": null,
      "overflow_y": null,
      "padding": null,
      "right": null,
      "top": null,
      "visibility": null,
      "width": null
     }
    },
    "500ca69d4e3344c9880876712c405f1e": {
     "model_module": "@jupyter-widgets/controls",
     "model_module_version": "1.5.0",
     "model_name": "HBoxModel",
     "state": {
      "_dom_classes": [],
      "_model_module": "@jupyter-widgets/controls",
      "_model_module_version": "1.5.0",
      "_model_name": "HBoxModel",
      "_view_count": null,
      "_view_module": "@jupyter-widgets/controls",
      "_view_module_version": "1.5.0",
      "_view_name": "HBoxView",
      "box_style": "",
      "children": [
       "IPY_MODEL_26d73edb68684fe69a95278c495499a3",
       "IPY_MODEL_57b99f67cf6b4acaa71a28fe67b8760b",
       "IPY_MODEL_b639fb4db58c4879a8802940a79b257d"
      ],
      "layout": "IPY_MODEL_459d0b7c4750407c852c8cc42fb3b311"
     }
    },
    "518c1ee99eef45ab94fc6cba77bf53ac": {
     "model_module": "@jupyter-widgets/controls",
     "model_module_version": "1.5.0",
     "model_name": "DescriptionStyleModel",
     "state": {
      "_model_module": "@jupyter-widgets/controls",
      "_model_module_version": "1.5.0",
      "_model_name": "DescriptionStyleModel",
      "_view_count": null,
      "_view_module": "@jupyter-widgets/base",
      "_view_module_version": "1.2.0",
      "_view_name": "StyleView",
      "description_width": ""
     }
    },
    "53edce8431d24745889c24b0b04b143c": {
     "model_module": "@jupyter-widgets/base",
     "model_module_version": "1.2.0",
     "model_name": "LayoutModel",
     "state": {
      "_model_module": "@jupyter-widgets/base",
      "_model_module_version": "1.2.0",
      "_model_name": "LayoutModel",
      "_view_count": null,
      "_view_module": "@jupyter-widgets/base",
      "_view_module_version": "1.2.0",
      "_view_name": "LayoutView",
      "align_content": null,
      "align_items": null,
      "align_self": null,
      "border": null,
      "bottom": null,
      "display": null,
      "flex": null,
      "flex_flow": null,
      "grid_area": null,
      "grid_auto_columns": null,
      "grid_auto_flow": null,
      "grid_auto_rows": null,
      "grid_column": null,
      "grid_gap": null,
      "grid_row": null,
      "grid_template_areas": null,
      "grid_template_columns": null,
      "grid_template_rows": null,
      "height": null,
      "justify_content": null,
      "justify_items": null,
      "left": null,
      "margin": null,
      "max_height": null,
      "max_width": null,
      "min_height": null,
      "min_width": null,
      "object_fit": null,
      "object_position": null,
      "order": null,
      "overflow": null,
      "overflow_x": null,
      "overflow_y": null,
      "padding": null,
      "right": null,
      "top": null,
      "visibility": null,
      "width": null
     }
    },
    "575f2a1a350d4d12ae787848df19cbd3": {
     "model_module": "@jupyter-widgets/controls",
     "model_module_version": "1.5.0",
     "model_name": "DescriptionStyleModel",
     "state": {
      "_model_module": "@jupyter-widgets/controls",
      "_model_module_version": "1.5.0",
      "_model_name": "DescriptionStyleModel",
      "_view_count": null,
      "_view_module": "@jupyter-widgets/base",
      "_view_module_version": "1.2.0",
      "_view_name": "StyleView",
      "description_width": ""
     }
    },
    "57b99f67cf6b4acaa71a28fe67b8760b": {
     "model_module": "@jupyter-widgets/controls",
     "model_module_version": "1.5.0",
     "model_name": "FloatProgressModel",
     "state": {
      "_dom_classes": [],
      "_model_module": "@jupyter-widgets/controls",
      "_model_module_version": "1.5.0",
      "_model_name": "FloatProgressModel",
      "_view_count": null,
      "_view_module": "@jupyter-widgets/controls",
      "_view_module_version": "1.5.0",
      "_view_name": "ProgressView",
      "bar_style": "success",
      "description": "",
      "description_tooltip": null,
      "layout": "IPY_MODEL_2c8296c5b45341c68a0a1c50ec627634",
      "max": 570,
      "min": 0,
      "orientation": "horizontal",
      "style": "IPY_MODEL_739c22487408412088ed7054639d47b0",
      "value": 570
     }
    },
    "58ef64c193d94e478bfd03569e08e368": {
     "model_module": "@jupyter-widgets/controls",
     "model_module_version": "1.5.0",
     "model_name": "HTMLModel",
     "state": {
      "_dom_classes": [],
      "_model_module": "@jupyter-widgets/controls",
      "_model_module_version": "1.5.0",
      "_model_name": "HTMLModel",
      "_view_count": null,
      "_view_module": "@jupyter-widgets/controls",
      "_view_module_version": "1.5.0",
      "_view_name": "HTMLView",
      "description": "",
      "description_tooltip": null,
      "layout": "IPY_MODEL_6aded820b47d4d56b1b354a8a55ccb94",
      "placeholder": "​",
      "style": "IPY_MODEL_575f2a1a350d4d12ae787848df19cbd3",
      "value": " 571/571 [00:00&lt;00:00, 7.95kB/s]"
     }
    },
    "64cc8a542120455f8913a956d4e3747c": {
     "model_module": "@jupyter-widgets/controls",
     "model_module_version": "1.5.0",
     "model_name": "HTMLModel",
     "state": {
      "_dom_classes": [],
      "_model_module": "@jupyter-widgets/controls",
      "_model_module_version": "1.5.0",
      "_model_name": "HTMLModel",
      "_view_count": null,
      "_view_module": "@jupyter-widgets/controls",
      "_view_module_version": "1.5.0",
      "_view_name": "HTMLView",
      "description": "",
      "description_tooltip": null,
      "layout": "IPY_MODEL_9dae1f4e87814d048f0e6a74d150eca1",
      "placeholder": "​",
      "style": "IPY_MODEL_e107133bcaef4a1a954086642d8f1287",
      "value": " 455k/455k [00:00&lt;00:00, 977kB/s]"
     }
    },
    "6aded820b47d4d56b1b354a8a55ccb94": {
     "model_module": "@jupyter-widgets/base",
     "model_module_version": "1.2.0",
     "model_name": "LayoutModel",
     "state": {
      "_model_module": "@jupyter-widgets/base",
      "_model_module_version": "1.2.0",
      "_model_name": "LayoutModel",
      "_view_count": null,
      "_view_module": "@jupyter-widgets/base",
      "_view_module_version": "1.2.0",
      "_view_name": "LayoutView",
      "align_content": null,
      "align_items": null,
      "align_self": null,
      "border": null,
      "bottom": null,
      "display": null,
      "flex": null,
      "flex_flow": null,
      "grid_area": null,
      "grid_auto_columns": null,
      "grid_auto_flow": null,
      "grid_auto_rows": null,
      "grid_column": null,
      "grid_gap": null,
      "grid_row": null,
      "grid_template_areas": null,
      "grid_template_columns": null,
      "grid_template_rows": null,
      "height": null,
      "justify_content": null,
      "justify_items": null,
      "left": null,
      "margin": null,
      "max_height": null,
      "max_width": null,
      "min_height": null,
      "min_width": null,
      "object_fit": null,
      "object_position": null,
      "order": null,
      "overflow": null,
      "overflow_x": null,
      "overflow_y": null,
      "padding": null,
      "right": null,
      "top": null,
      "visibility": null,
      "width": null
     }
    },
    "739c22487408412088ed7054639d47b0": {
     "model_module": "@jupyter-widgets/controls",
     "model_module_version": "1.5.0",
     "model_name": "ProgressStyleModel",
     "state": {
      "_model_module": "@jupyter-widgets/controls",
      "_model_module_version": "1.5.0",
      "_model_name": "ProgressStyleModel",
      "_view_count": null,
      "_view_module": "@jupyter-widgets/base",
      "_view_module_version": "1.2.0",
      "_view_name": "StyleView",
      "bar_color": null,
      "description_width": ""
     }
    },
    "73c5b8d304294712a80229b9f78949ae": {
     "model_module": "@jupyter-widgets/controls",
     "model_module_version": "1.5.0",
     "model_name": "DescriptionStyleModel",
     "state": {
      "_model_module": "@jupyter-widgets/controls",
      "_model_module_version": "1.5.0",
      "_model_name": "DescriptionStyleModel",
      "_view_count": null,
      "_view_module": "@jupyter-widgets/base",
      "_view_module_version": "1.2.0",
      "_view_name": "StyleView",
      "description_width": ""
     }
    },
    "74b3d2cbb75f4255b0fb16d75782fa0f": {
     "model_module": "@jupyter-widgets/controls",
     "model_module_version": "1.5.0",
     "model_name": "FloatProgressModel",
     "state": {
      "_dom_classes": [],
      "_model_module": "@jupyter-widgets/controls",
      "_model_module_version": "1.5.0",
      "_model_name": "FloatProgressModel",
      "_view_count": null,
      "_view_module": "@jupyter-widgets/controls",
      "_view_module_version": "1.5.0",
      "_view_name": "ProgressView",
      "bar_style": "success",
      "description": "",
      "description_tooltip": null,
      "layout": "IPY_MODEL_296dc54571e142029332d605b3eed519",
      "max": 536063208,
      "min": 0,
      "orientation": "horizontal",
      "style": "IPY_MODEL_318c66fba06f40018a22cb2579d41304",
      "value": 536063208
     }
    },
    "7643899ecc2046beac221911d7f0c84d": {
     "model_module": "@jupyter-widgets/controls",
     "model_module_version": "1.5.0",
     "model_name": "HTMLModel",
     "state": {
      "_dom_classes": [],
      "_model_module": "@jupyter-widgets/controls",
      "_model_module_version": "1.5.0",
      "_model_name": "HTMLModel",
      "_view_count": null,
      "_view_module": "@jupyter-widgets/controls",
      "_view_module_version": "1.5.0",
      "_view_name": "HTMLView",
      "description": "",
      "description_tooltip": null,
      "layout": "IPY_MODEL_7dcc3334b51a483cac0a2768dc8f4946",
      "placeholder": "​",
      "style": "IPY_MODEL_518c1ee99eef45ab94fc6cba77bf53ac",
      "value": "Downloading: 100%"
     }
    },
    "792cbfcd04934ee0bdb17daff3b3fc17": {
     "model_module": "@jupyter-widgets/controls",
     "model_module_version": "1.5.0",
     "model_name": "HBoxModel",
     "state": {
      "_dom_classes": [],
      "_model_module": "@jupyter-widgets/controls",
      "_model_module_version": "1.5.0",
      "_model_name": "HBoxModel",
      "_view_count": null,
      "_view_module": "@jupyter-widgets/controls",
      "_view_module_version": "1.5.0",
      "_view_name": "HBoxView",
      "box_style": "",
      "children": [
       "IPY_MODEL_4699489ad2444ae7b264a72d219f2fcf",
       "IPY_MODEL_fb58645f56d6469fa6baed79adcf22ab",
       "IPY_MODEL_58ef64c193d94e478bfd03569e08e368"
      ],
      "layout": "IPY_MODEL_d0e13ae228fd4dfc8277ab31ce8f0914"
     }
    },
    "7afc7942c26c4933a79c3cddbae3a41b": {
     "model_module": "@jupyter-widgets/base",
     "model_module_version": "1.2.0",
     "model_name": "LayoutModel",
     "state": {
      "_model_module": "@jupyter-widgets/base",
      "_model_module_version": "1.2.0",
      "_model_name": "LayoutModel",
      "_view_count": null,
      "_view_module": "@jupyter-widgets/base",
      "_view_module_version": "1.2.0",
      "_view_name": "LayoutView",
      "align_content": null,
      "align_items": null,
      "align_self": null,
      "border": null,
      "bottom": null,
      "display": null,
      "flex": null,
      "flex_flow": null,
      "grid_area": null,
      "grid_auto_columns": null,
      "grid_auto_flow": null,
      "grid_auto_rows": null,
      "grid_column": null,
      "grid_gap": null,
      "grid_row": null,
      "grid_template_areas": null,
      "grid_template_columns": null,
      "grid_template_rows": null,
      "height": null,
      "justify_content": null,
      "justify_items": null,
      "left": null,
      "margin": null,
      "max_height": null,
      "max_width": null,
      "min_height": null,
      "min_width": null,
      "object_fit": null,
      "object_position": null,
      "order": null,
      "overflow": null,
      "overflow_x": null,
      "overflow_y": null,
      "padding": null,
      "right": null,
      "top": null,
      "visibility": null,
      "width": null
     }
    },
    "7b249a33f2b9443d81c0e69dc6b6c4c6": {
     "model_module": "@jupyter-widgets/controls",
     "model_module_version": "1.5.0",
     "model_name": "HTMLModel",
     "state": {
      "_dom_classes": [],
      "_model_module": "@jupyter-widgets/controls",
      "_model_module_version": "1.5.0",
      "_model_name": "HTMLModel",
      "_view_count": null,
      "_view_module": "@jupyter-widgets/controls",
      "_view_module_version": "1.5.0",
      "_view_name": "HTMLView",
      "description": "",
      "description_tooltip": null,
      "layout": "IPY_MODEL_db7748275cdd4a539aff7bc6d79c4e81",
      "placeholder": "​",
      "style": "IPY_MODEL_b3fbcfbfebb44fc2833b3bb2997bdded",
      "value": "Downloading: 100%"
     }
    },
    "7dcc3334b51a483cac0a2768dc8f4946": {
     "model_module": "@jupyter-widgets/base",
     "model_module_version": "1.2.0",
     "model_name": "LayoutModel",
     "state": {
      "_model_module": "@jupyter-widgets/base",
      "_model_module_version": "1.2.0",
      "_model_name": "LayoutModel",
      "_view_count": null,
      "_view_module": "@jupyter-widgets/base",
      "_view_module_version": "1.2.0",
      "_view_name": "LayoutView",
      "align_content": null,
      "align_items": null,
      "align_self": null,
      "border": null,
      "bottom": null,
      "display": null,
      "flex": null,
      "flex_flow": null,
      "grid_area": null,
      "grid_auto_columns": null,
      "grid_auto_flow": null,
      "grid_auto_rows": null,
      "grid_column": null,
      "grid_gap": null,
      "grid_row": null,
      "grid_template_areas": null,
      "grid_template_columns": null,
      "grid_template_rows": null,
      "height": null,
      "justify_content": null,
      "justify_items": null,
      "left": null,
      "margin": null,
      "max_height": null,
      "max_width": null,
      "min_height": null,
      "min_width": null,
      "object_fit": null,
      "object_position": null,
      "order": null,
      "overflow": null,
      "overflow_x": null,
      "overflow_y": null,
      "padding": null,
      "right": null,
      "top": null,
      "visibility": null,
      "width": null
     }
    },
    "7e76838281504d0ab5406ed75266fbd9": {
     "model_module": "@jupyter-widgets/base",
     "model_module_version": "1.2.0",
     "model_name": "LayoutModel",
     "state": {
      "_model_module": "@jupyter-widgets/base",
      "_model_module_version": "1.2.0",
      "_model_name": "LayoutModel",
      "_view_count": null,
      "_view_module": "@jupyter-widgets/base",
      "_view_module_version": "1.2.0",
      "_view_name": "LayoutView",
      "align_content": null,
      "align_items": null,
      "align_self": null,
      "border": null,
      "bottom": null,
      "display": null,
      "flex": null,
      "flex_flow": null,
      "grid_area": null,
      "grid_auto_columns": null,
      "grid_auto_flow": null,
      "grid_auto_rows": null,
      "grid_column": null,
      "grid_gap": null,
      "grid_row": null,
      "grid_template_areas": null,
      "grid_template_columns": null,
      "grid_template_rows": null,
      "height": null,
      "justify_content": null,
      "justify_items": null,
      "left": null,
      "margin": null,
      "max_height": null,
      "max_width": null,
      "min_height": null,
      "min_width": null,
      "object_fit": null,
      "object_position": null,
      "order": null,
      "overflow": null,
      "overflow_x": null,
      "overflow_y": null,
      "padding": null,
      "right": null,
      "top": null,
      "visibility": null,
      "width": null
     }
    },
    "85a7501594ab4536a2c73c66d661828e": {
     "model_module": "@jupyter-widgets/base",
     "model_module_version": "1.2.0",
     "model_name": "LayoutModel",
     "state": {
      "_model_module": "@jupyter-widgets/base",
      "_model_module_version": "1.2.0",
      "_model_name": "LayoutModel",
      "_view_count": null,
      "_view_module": "@jupyter-widgets/base",
      "_view_module_version": "1.2.0",
      "_view_name": "LayoutView",
      "align_content": null,
      "align_items": null,
      "align_self": null,
      "border": null,
      "bottom": null,
      "display": null,
      "flex": null,
      "flex_flow": null,
      "grid_area": null,
      "grid_auto_columns": null,
      "grid_auto_flow": null,
      "grid_auto_rows": null,
      "grid_column": null,
      "grid_gap": null,
      "grid_row": null,
      "grid_template_areas": null,
      "grid_template_columns": null,
      "grid_template_rows": null,
      "height": null,
      "justify_content": null,
      "justify_items": null,
      "left": null,
      "margin": null,
      "max_height": null,
      "max_width": null,
      "min_height": null,
      "min_width": null,
      "object_fit": null,
      "object_position": null,
      "order": null,
      "overflow": null,
      "overflow_x": null,
      "overflow_y": null,
      "padding": null,
      "right": null,
      "top": null,
      "visibility": null,
      "width": null
     }
    },
    "882bacc8d2ce4cfb917d3a30a7ed5e91": {
     "model_module": "@jupyter-widgets/controls",
     "model_module_version": "1.5.0",
     "model_name": "DescriptionStyleModel",
     "state": {
      "_model_module": "@jupyter-widgets/controls",
      "_model_module_version": "1.5.0",
      "_model_name": "DescriptionStyleModel",
      "_view_count": null,
      "_view_module": "@jupyter-widgets/base",
      "_view_module_version": "1.2.0",
      "_view_name": "StyleView",
      "description_width": ""
     }
    },
    "8e828150ff2341bbbb49a8cc5a22f1b5": {
     "model_module": "@jupyter-widgets/base",
     "model_module_version": "1.2.0",
     "model_name": "LayoutModel",
     "state": {
      "_model_module": "@jupyter-widgets/base",
      "_model_module_version": "1.2.0",
      "_model_name": "LayoutModel",
      "_view_count": null,
      "_view_module": "@jupyter-widgets/base",
      "_view_module_version": "1.2.0",
      "_view_name": "LayoutView",
      "align_content": null,
      "align_items": null,
      "align_self": null,
      "border": null,
      "bottom": null,
      "display": null,
      "flex": null,
      "flex_flow": null,
      "grid_area": null,
      "grid_auto_columns": null,
      "grid_auto_flow": null,
      "grid_auto_rows": null,
      "grid_column": null,
      "grid_gap": null,
      "grid_row": null,
      "grid_template_areas": null,
      "grid_template_columns": null,
      "grid_template_rows": null,
      "height": null,
      "justify_content": null,
      "justify_items": null,
      "left": null,
      "margin": null,
      "max_height": null,
      "max_width": null,
      "min_height": null,
      "min_width": null,
      "object_fit": null,
      "object_position": null,
      "order": null,
      "overflow": null,
      "overflow_x": null,
      "overflow_y": null,
      "padding": null,
      "right": null,
      "top": null,
      "visibility": null,
      "width": null
     }
    },
    "96d4c70c13314a5e9ca2e9a9bfc05788": {
     "model_module": "@jupyter-widgets/controls",
     "model_module_version": "1.5.0",
     "model_name": "DescriptionStyleModel",
     "state": {
      "_model_module": "@jupyter-widgets/controls",
      "_model_module_version": "1.5.0",
      "_model_name": "DescriptionStyleModel",
      "_view_count": null,
      "_view_module": "@jupyter-widgets/base",
      "_view_module_version": "1.2.0",
      "_view_name": "StyleView",
      "description_width": ""
     }
    },
    "9862abae3df04552ad0e3b7419268707": {
     "model_module": "@jupyter-widgets/controls",
     "model_module_version": "1.5.0",
     "model_name": "HTMLModel",
     "state": {
      "_dom_classes": [],
      "_model_module": "@jupyter-widgets/controls",
      "_model_module_version": "1.5.0",
      "_model_name": "HTMLModel",
      "_view_count": null,
      "_view_module": "@jupyter-widgets/controls",
      "_view_module_version": "1.5.0",
      "_view_name": "HTMLView",
      "description": "",
      "description_tooltip": null,
      "layout": "IPY_MODEL_cce0f984f32f487786605c1a13470e1d",
      "placeholder": "​",
      "style": "IPY_MODEL_96d4c70c13314a5e9ca2e9a9bfc05788",
      "value": " 511M/511M [00:15&lt;00:00, 36.9MB/s]"
     }
    },
    "995daa8b7f4d460cb226f94951657207": {
     "model_module": "@jupyter-widgets/controls",
     "model_module_version": "1.5.0",
     "model_name": "DescriptionStyleModel",
     "state": {
      "_model_module": "@jupyter-widgets/controls",
      "_model_module_version": "1.5.0",
      "_model_name": "DescriptionStyleModel",
      "_view_count": null,
      "_view_module": "@jupyter-widgets/base",
      "_view_module_version": "1.2.0",
      "_view_name": "StyleView",
      "description_width": ""
     }
    },
    "9dae1f4e87814d048f0e6a74d150eca1": {
     "model_module": "@jupyter-widgets/base",
     "model_module_version": "1.2.0",
     "model_name": "LayoutModel",
     "state": {
      "_model_module": "@jupyter-widgets/base",
      "_model_module_version": "1.2.0",
      "_model_name": "LayoutModel",
      "_view_count": null,
      "_view_module": "@jupyter-widgets/base",
      "_view_module_version": "1.2.0",
      "_view_name": "LayoutView",
      "align_content": null,
      "align_items": null,
      "align_self": null,
      "border": null,
      "bottom": null,
      "display": null,
      "flex": null,
      "flex_flow": null,
      "grid_area": null,
      "grid_auto_columns": null,
      "grid_auto_flow": null,
      "grid_auto_rows": null,
      "grid_column": null,
      "grid_gap": null,
      "grid_row": null,
      "grid_template_areas": null,
      "grid_template_columns": null,
      "grid_template_rows": null,
      "height": null,
      "justify_content": null,
      "justify_items": null,
      "left": null,
      "margin": null,
      "max_height": null,
      "max_width": null,
      "min_height": null,
      "min_width": null,
      "object_fit": null,
      "object_position": null,
      "order": null,
      "overflow": null,
      "overflow_x": null,
      "overflow_y": null,
      "padding": null,
      "right": null,
      "top": null,
      "visibility": null,
      "width": null
     }
    },
    "9ef24c9d9999498992924880314b1135": {
     "model_module": "@jupyter-widgets/controls",
     "model_module_version": "1.5.0",
     "model_name": "HTMLModel",
     "state": {
      "_dom_classes": [],
      "_model_module": "@jupyter-widgets/controls",
      "_model_module_version": "1.5.0",
      "_model_name": "HTMLModel",
      "_view_count": null,
      "_view_module": "@jupyter-widgets/controls",
      "_view_module_version": "1.5.0",
      "_view_name": "HTMLView",
      "description": "",
      "description_tooltip": null,
      "layout": "IPY_MODEL_3be7bbb794a04cc4bfcdaa88d69826ff",
      "placeholder": "​",
      "style": "IPY_MODEL_995daa8b7f4d460cb226f94951657207",
      "value": "Downloading: 100%"
     }
    },
    "a1cc9ce6944e47699b3caf50297f56d3": {
     "model_module": "@jupyter-widgets/controls",
     "model_module_version": "1.5.0",
     "model_name": "HTMLModel",
     "state": {
      "_dom_classes": [],
      "_model_module": "@jupyter-widgets/controls",
      "_model_module_version": "1.5.0",
      "_model_name": "HTMLModel",
      "_view_count": null,
      "_view_module": "@jupyter-widgets/controls",
      "_view_module_version": "1.5.0",
      "_view_name": "HTMLView",
      "description": "",
      "description_tooltip": null,
      "layout": "IPY_MODEL_3c688d81852541e19a3d462c0bcd979c",
      "placeholder": "​",
      "style": "IPY_MODEL_bde1046b57fd456c843e94dd8b762080",
      "value": " 226k/226k [00:00&lt;00:00, 1.14MB/s]"
     }
    },
    "a5448d2456824ca59a6872db18dd83cf": {
     "model_module": "@jupyter-widgets/controls",
     "model_module_version": "1.5.0",
     "model_name": "FloatProgressModel",
     "state": {
      "_dom_classes": [],
      "_model_module": "@jupyter-widgets/controls",
      "_model_module_version": "1.5.0",
      "_model_name": "FloatProgressModel",
      "_view_count": null,
      "_view_module": "@jupyter-widgets/controls",
      "_view_module_version": "1.5.0",
      "_view_name": "ProgressView",
      "bar_style": "success",
      "description": "",
      "description_tooltip": null,
      "layout": "IPY_MODEL_166f666935764c27b6a647e6cdb0ef35",
      "max": 231508,
      "min": 0,
      "orientation": "horizontal",
      "style": "IPY_MODEL_059b3c9c362b4d548c1d1636efed9df1",
      "value": 231508
     }
    },
    "b3fbcfbfebb44fc2833b3bb2997bdded": {
     "model_module": "@jupyter-widgets/controls",
     "model_module_version": "1.5.0",
     "model_name": "DescriptionStyleModel",
     "state": {
      "_model_module": "@jupyter-widgets/controls",
      "_model_module_version": "1.5.0",
      "_model_name": "DescriptionStyleModel",
      "_view_count": null,
      "_view_module": "@jupyter-widgets/base",
      "_view_module_version": "1.2.0",
      "_view_name": "StyleView",
      "description_width": ""
     }
    },
    "b4f80bdb560c4154abe3e8a3e1b087f9": {
     "model_module": "@jupyter-widgets/base",
     "model_module_version": "1.2.0",
     "model_name": "LayoutModel",
     "state": {
      "_model_module": "@jupyter-widgets/base",
      "_model_module_version": "1.2.0",
      "_model_name": "LayoutModel",
      "_view_count": null,
      "_view_module": "@jupyter-widgets/base",
      "_view_module_version": "1.2.0",
      "_view_name": "LayoutView",
      "align_content": null,
      "align_items": null,
      "align_self": null,
      "border": null,
      "bottom": null,
      "display": null,
      "flex": null,
      "flex_flow": null,
      "grid_area": null,
      "grid_auto_columns": null,
      "grid_auto_flow": null,
      "grid_auto_rows": null,
      "grid_column": null,
      "grid_gap": null,
      "grid_row": null,
      "grid_template_areas": null,
      "grid_template_columns": null,
      "grid_template_rows": null,
      "height": null,
      "justify_content": null,
      "justify_items": null,
      "left": null,
      "margin": null,
      "max_height": null,
      "max_width": null,
      "min_height": null,
      "min_width": null,
      "object_fit": null,
      "object_position": null,
      "order": null,
      "overflow": null,
      "overflow_x": null,
      "overflow_y": null,
      "padding": null,
      "right": null,
      "top": null,
      "visibility": null,
      "width": null
     }
    },
    "b639fb4db58c4879a8802940a79b257d": {
     "model_module": "@jupyter-widgets/controls",
     "model_module_version": "1.5.0",
     "model_name": "HTMLModel",
     "state": {
      "_dom_classes": [],
      "_model_module": "@jupyter-widgets/controls",
      "_model_module_version": "1.5.0",
      "_model_name": "HTMLModel",
      "_view_count": null,
      "_view_module": "@jupyter-widgets/controls",
      "_view_module_version": "1.5.0",
      "_view_name": "HTMLView",
      "description": "",
      "description_tooltip": null,
      "layout": "IPY_MODEL_85a7501594ab4536a2c73c66d661828e",
      "placeholder": "​",
      "style": "IPY_MODEL_73c5b8d304294712a80229b9f78949ae",
      "value": " 570/570 [00:00&lt;00:00, 12.9kB/s]"
     }
    },
    "ba596437f0024fae9b4b20bb759db8f9": {
     "model_module": "@jupyter-widgets/controls",
     "model_module_version": "1.5.0",
     "model_name": "ProgressStyleModel",
     "state": {
      "_model_module": "@jupyter-widgets/controls",
      "_model_module_version": "1.5.0",
      "_model_name": "ProgressStyleModel",
      "_view_count": null,
      "_view_module": "@jupyter-widgets/base",
      "_view_module_version": "1.2.0",
      "_view_name": "StyleView",
      "bar_color": null,
      "description_width": ""
     }
    },
    "bde1046b57fd456c843e94dd8b762080": {
     "model_module": "@jupyter-widgets/controls",
     "model_module_version": "1.5.0",
     "model_name": "DescriptionStyleModel",
     "state": {
      "_model_module": "@jupyter-widgets/controls",
      "_model_module_version": "1.5.0",
      "_model_name": "DescriptionStyleModel",
      "_view_count": null,
      "_view_module": "@jupyter-widgets/base",
      "_view_module_version": "1.2.0",
      "_view_name": "StyleView",
      "description_width": ""
     }
    },
    "c5882169eb954a698859458bce902559": {
     "model_module": "@jupyter-widgets/base",
     "model_module_version": "1.2.0",
     "model_name": "LayoutModel",
     "state": {
      "_model_module": "@jupyter-widgets/base",
      "_model_module_version": "1.2.0",
      "_model_name": "LayoutModel",
      "_view_count": null,
      "_view_module": "@jupyter-widgets/base",
      "_view_module_version": "1.2.0",
      "_view_name": "LayoutView",
      "align_content": null,
      "align_items": null,
      "align_self": null,
      "border": null,
      "bottom": null,
      "display": null,
      "flex": null,
      "flex_flow": null,
      "grid_area": null,
      "grid_auto_columns": null,
      "grid_auto_flow": null,
      "grid_auto_rows": null,
      "grid_column": null,
      "grid_gap": null,
      "grid_row": null,
      "grid_template_areas": null,
      "grid_template_columns": null,
      "grid_template_rows": null,
      "height": null,
      "justify_content": null,
      "justify_items": null,
      "left": null,
      "margin": null,
      "max_height": null,
      "max_width": null,
      "min_height": null,
      "min_width": null,
      "object_fit": null,
      "object_position": null,
      "order": null,
      "overflow": null,
      "overflow_x": null,
      "overflow_y": null,
      "padding": null,
      "right": null,
      "top": null,
      "visibility": null,
      "width": null
     }
    },
    "c6fdc4712a4e447d9d0ed74206a7e8ab": {
     "model_module": "@jupyter-widgets/controls",
     "model_module_version": "1.5.0",
     "model_name": "HBoxModel",
     "state": {
      "_dom_classes": [],
      "_model_module": "@jupyter-widgets/controls",
      "_model_module_version": "1.5.0",
      "_model_name": "HBoxModel",
      "_view_count": null,
      "_view_module": "@jupyter-widgets/controls",
      "_view_module_version": "1.5.0",
      "_view_name": "HBoxView",
      "box_style": "",
      "children": [
       "IPY_MODEL_7643899ecc2046beac221911d7f0c84d",
       "IPY_MODEL_a5448d2456824ca59a6872db18dd83cf",
       "IPY_MODEL_a1cc9ce6944e47699b3caf50297f56d3"
      ],
      "layout": "IPY_MODEL_53edce8431d24745889c24b0b04b143c"
     }
    },
    "c891fb3756634fdc831001932ef60143": {
     "model_module": "@jupyter-widgets/controls",
     "model_module_version": "1.5.0",
     "model_name": "HBoxModel",
     "state": {
      "_dom_classes": [],
      "_model_module": "@jupyter-widgets/controls",
      "_model_module_version": "1.5.0",
      "_model_name": "HBoxModel",
      "_view_count": null,
      "_view_module": "@jupyter-widgets/controls",
      "_view_module_version": "1.5.0",
      "_view_name": "HBoxView",
      "box_style": "",
      "children": [
       "IPY_MODEL_9ef24c9d9999498992924880314b1135",
       "IPY_MODEL_3134c261460c4e9d99189b465b5bf7e5",
       "IPY_MODEL_f22b3ff8f61d43299f5043bb03f26d50"
      ],
      "layout": "IPY_MODEL_7e76838281504d0ab5406ed75266fbd9"
     }
    },
    "cb79ee201e7b48f7840a005c4b18d527": {
     "model_module": "@jupyter-widgets/controls",
     "model_module_version": "1.5.0",
     "model_name": "DescriptionStyleModel",
     "state": {
      "_model_module": "@jupyter-widgets/controls",
      "_model_module_version": "1.5.0",
      "_model_name": "DescriptionStyleModel",
      "_view_count": null,
      "_view_module": "@jupyter-widgets/base",
      "_view_module_version": "1.2.0",
      "_view_name": "StyleView",
      "description_width": ""
     }
    },
    "cce0f984f32f487786605c1a13470e1d": {
     "model_module": "@jupyter-widgets/base",
     "model_module_version": "1.2.0",
     "model_name": "LayoutModel",
     "state": {
      "_model_module": "@jupyter-widgets/base",
      "_model_module_version": "1.2.0",
      "_model_name": "LayoutModel",
      "_view_count": null,
      "_view_module": "@jupyter-widgets/base",
      "_view_module_version": "1.2.0",
      "_view_name": "LayoutView",
      "align_content": null,
      "align_items": null,
      "align_self": null,
      "border": null,
      "bottom": null,
      "display": null,
      "flex": null,
      "flex_flow": null,
      "grid_area": null,
      "grid_auto_columns": null,
      "grid_auto_flow": null,
      "grid_auto_rows": null,
      "grid_column": null,
      "grid_gap": null,
      "grid_row": null,
      "grid_template_areas": null,
      "grid_template_columns": null,
      "grid_template_rows": null,
      "height": null,
      "justify_content": null,
      "justify_items": null,
      "left": null,
      "margin": null,
      "max_height": null,
      "max_width": null,
      "min_height": null,
      "min_width": null,
      "object_fit": null,
      "object_position": null,
      "order": null,
      "overflow": null,
      "overflow_x": null,
      "overflow_y": null,
      "padding": null,
      "right": null,
      "top": null,
      "visibility": null,
      "width": null
     }
    },
    "cd2e01760aca4039af63f22c90ab76d3": {
     "model_module": "@jupyter-widgets/controls",
     "model_module_version": "1.5.0",
     "model_name": "FloatProgressModel",
     "state": {
      "_dom_classes": [],
      "_model_module": "@jupyter-widgets/controls",
      "_model_module_version": "1.5.0",
      "_model_name": "FloatProgressModel",
      "_view_count": null,
      "_view_module": "@jupyter-widgets/controls",
      "_view_module_version": "1.5.0",
      "_view_name": "ProgressView",
      "bar_style": "success",
      "description": "",
      "description_tooltip": null,
      "layout": "IPY_MODEL_166746f887984b408da5c3cb7eaf476a",
      "max": 466062,
      "min": 0,
      "orientation": "horizontal",
      "style": "IPY_MODEL_ba596437f0024fae9b4b20bb759db8f9",
      "value": 466062
     }
    },
    "d0e13ae228fd4dfc8277ab31ce8f0914": {
     "model_module": "@jupyter-widgets/base",
     "model_module_version": "1.2.0",
     "model_name": "LayoutModel",
     "state": {
      "_model_module": "@jupyter-widgets/base",
      "_model_module_version": "1.2.0",
      "_model_name": "LayoutModel",
      "_view_count": null,
      "_view_module": "@jupyter-widgets/base",
      "_view_module_version": "1.2.0",
      "_view_name": "LayoutView",
      "align_content": null,
      "align_items": null,
      "align_self": null,
      "border": null,
      "bottom": null,
      "display": null,
      "flex": null,
      "flex_flow": null,
      "grid_area": null,
      "grid_auto_columns": null,
      "grid_auto_flow": null,
      "grid_auto_rows": null,
      "grid_column": null,
      "grid_gap": null,
      "grid_row": null,
      "grid_template_areas": null,
      "grid_template_columns": null,
      "grid_template_rows": null,
      "height": null,
      "justify_content": null,
      "justify_items": null,
      "left": null,
      "margin": null,
      "max_height": null,
      "max_width": null,
      "min_height": null,
      "min_width": null,
      "object_fit": null,
      "object_position": null,
      "order": null,
      "overflow": null,
      "overflow_x": null,
      "overflow_y": null,
      "padding": null,
      "right": null,
      "top": null,
      "visibility": null,
      "width": null
     }
    },
    "db7748275cdd4a539aff7bc6d79c4e81": {
     "model_module": "@jupyter-widgets/base",
     "model_module_version": "1.2.0",
     "model_name": "LayoutModel",
     "state": {
      "_model_module": "@jupyter-widgets/base",
      "_model_module_version": "1.2.0",
      "_model_name": "LayoutModel",
      "_view_count": null,
      "_view_module": "@jupyter-widgets/base",
      "_view_module_version": "1.2.0",
      "_view_name": "LayoutView",
      "align_content": null,
      "align_items": null,
      "align_self": null,
      "border": null,
      "bottom": null,
      "display": null,
      "flex": null,
      "flex_flow": null,
      "grid_area": null,
      "grid_auto_columns": null,
      "grid_auto_flow": null,
      "grid_auto_rows": null,
      "grid_column": null,
      "grid_gap": null,
      "grid_row": null,
      "grid_template_areas": null,
      "grid_template_columns": null,
      "grid_template_rows": null,
      "height": null,
      "justify_content": null,
      "justify_items": null,
      "left": null,
      "margin": null,
      "max_height": null,
      "max_width": null,
      "min_height": null,
      "min_width": null,
      "object_fit": null,
      "object_position": null,
      "order": null,
      "overflow": null,
      "overflow_x": null,
      "overflow_y": null,
      "padding": null,
      "right": null,
      "top": null,
      "visibility": null,
      "width": null
     }
    },
    "e107133bcaef4a1a954086642d8f1287": {
     "model_module": "@jupyter-widgets/controls",
     "model_module_version": "1.5.0",
     "model_name": "DescriptionStyleModel",
     "state": {
      "_model_module": "@jupyter-widgets/controls",
      "_model_module_version": "1.5.0",
      "_model_name": "DescriptionStyleModel",
      "_view_count": null,
      "_view_module": "@jupyter-widgets/base",
      "_view_module_version": "1.2.0",
      "_view_name": "StyleView",
      "description_width": ""
     }
    },
    "f22b3ff8f61d43299f5043bb03f26d50": {
     "model_module": "@jupyter-widgets/controls",
     "model_module_version": "1.5.0",
     "model_name": "HTMLModel",
     "state": {
      "_dom_classes": [],
      "_model_module": "@jupyter-widgets/controls",
      "_model_module_version": "1.5.0",
      "_model_name": "HTMLModel",
      "_view_count": null,
      "_view_module": "@jupyter-widgets/controls",
      "_view_module_version": "1.5.0",
      "_view_name": "HTMLView",
      "description": "",
      "description_tooltip": null,
      "layout": "IPY_MODEL_3d923a1f2b304b44903d7c67a5cd909a",
      "placeholder": "​",
      "style": "IPY_MODEL_cb79ee201e7b48f7840a005c4b18d527",
      "value": " 28.0/28.0 [00:00&lt;00:00, 302B/s]"
     }
    },
    "f6c12fdbc7c947fa8c59fb7a0b9e0593": {
     "model_module": "@jupyter-widgets/controls",
     "model_module_version": "1.5.0",
     "model_name": "HBoxModel",
     "state": {
      "_dom_classes": [],
      "_model_module": "@jupyter-widgets/controls",
      "_model_module_version": "1.5.0",
      "_model_name": "HBoxModel",
      "_view_count": null,
      "_view_module": "@jupyter-widgets/controls",
      "_view_module_version": "1.5.0",
      "_view_name": "HBoxView",
      "box_style": "",
      "children": [
       "IPY_MODEL_12d09cd176694190a80c6e21dca91a4f",
       "IPY_MODEL_cd2e01760aca4039af63f22c90ab76d3",
       "IPY_MODEL_64cc8a542120455f8913a956d4e3747c"
      ],
      "layout": "IPY_MODEL_c5882169eb954a698859458bce902559"
     }
    },
    "fb58645f56d6469fa6baed79adcf22ab": {
     "model_module": "@jupyter-widgets/controls",
     "model_module_version": "1.5.0",
     "model_name": "FloatProgressModel",
     "state": {
      "_dom_classes": [],
      "_model_module": "@jupyter-widgets/controls",
      "_model_module_version": "1.5.0",
      "_model_name": "FloatProgressModel",
      "_view_count": null,
      "_view_module": "@jupyter-widgets/controls",
      "_view_module_version": "1.5.0",
      "_view_name": "ProgressView",
      "bar_style": "success",
      "description": "",
      "description_tooltip": null,
      "layout": "IPY_MODEL_b4f80bdb560c4154abe3e8a3e1b087f9",
      "max": 571,
      "min": 0,
      "orientation": "horizontal",
      "style": "IPY_MODEL_33ef19bb8fd3482ea9714a6219ce73e6",
      "value": 571
     }
    },
    "fef08cdb2b95415c9be0fcd6afd7c9ca": {
     "model_module": "@jupyter-widgets/controls",
     "model_module_version": "1.5.0",
     "model_name": "DescriptionStyleModel",
     "state": {
      "_model_module": "@jupyter-widgets/controls",
      "_model_module_version": "1.5.0",
      "_model_name": "DescriptionStyleModel",
      "_view_count": null,
      "_view_module": "@jupyter-widgets/base",
      "_view_module_version": "1.2.0",
      "_view_name": "StyleView",
      "description_width": ""
     }
    }
   }
  }
 },
 "nbformat": 4,
 "nbformat_minor": 4
}
