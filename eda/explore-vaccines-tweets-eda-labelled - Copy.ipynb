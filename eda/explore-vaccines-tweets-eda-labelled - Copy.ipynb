{
 "cells": [
  {
   "cell_type": "markdown",
   "metadata": {
    "papermill": {
     "duration": 0.041214,
     "end_time": "2021-03-20T10:45:37.541685",
     "exception": false,
     "start_time": "2021-03-20T10:45:37.500471",
     "status": "completed"
    },
    "tags": []
   },
   "source": [
    "<center><h1>Explore Vaccines Tweets - Labelled data\n",
    "   </h1></center>\n",
    "\n",
    "# Introduction\n",
    "\n",
    "\n",
    "The Dataset we are using here is collected using Twitter API, **tweepy** and Python package.\n",
    "\n",
    "The following vaccines are included:  \n",
    "* Pfizer/BioNTech;   \n",
    "* Sinopharm;  \n",
    "* Sinovac;  \n",
    "* Moderna;  \n",
    "* Oxford/AstraZeneca;   \n",
    "* Covaxin;   \n",
    "* Sputnik V.  \n",
    "\n"
   ]
  },
  {
   "cell_type": "markdown",
   "metadata": {
    "papermill": {
     "duration": 0.037002,
     "end_time": "2021-03-20T10:45:37.617702",
     "exception": false,
     "start_time": "2021-03-20T10:45:37.580700",
     "status": "completed"
    },
    "tags": []
   },
   "source": [
    "# Data preparation\n",
    "\n",
    "## Load packages"
   ]
  },
  {
   "cell_type": "code",
   "execution_count": null,
   "metadata": {},
   "outputs": [],
   "source": []
  },
  {
   "cell_type": "code",
   "execution_count": 189,
   "metadata": {},
   "outputs": [
    {
     "name": "stdout",
     "output_type": "stream",
     "text": [
      "Requirement already satisfied: spellchecker in c:\\users\\rkr\\anaconda3\\lib\\site-packages (0.4)\n",
      "Requirement already satisfied: wordcloud in c:\\users\\rkr\\anaconda3\\lib\\site-packages (1.8.1)\n"
     ]
    },
    {
     "name": "stderr",
     "output_type": "stream",
     "text": [
      "ERROR: pip's dependency resolver does not currently take into account all the packages that are installed. This behaviour is the source of the following dependency conflicts.\n",
      "conda-repo-cli 1.0.4 requires pathlib, which is not installed.\n",
      "astroid 2.4.2 requires lazy-object-proxy==1.4.*, but you have lazy-object-proxy 1.6.0 which is incompatible.\n"
     ]
    },
    {
     "name": "stdout",
     "output_type": "stream",
     "text": [
      "Requirement already satisfied: textblob in c:\\users\\rkr\\anaconda3\\lib\\site-packages (0.15.3)\n",
      "Requirement already satisfied: nltk in c:\\users\\rkr\\anaconda3\\lib\\site-packages (3.6.2)\n",
      "Requirement already satisfied: plotly in c:\\users\\rkr\\anaconda3\\lib\\site-packages (4.9.0)\n",
      "Requirement already satisfied: pyspellchecker in c:\\users\\rkr\\anaconda3\\lib\\site-packages (0.6.2)\n",
      "Requirement already satisfied: neattext in c:\\users\\rkr\\anaconda3\\lib\\site-packages (0.1.2)\n",
      "Requirement already satisfied: missingno in c:\\users\\rkr\\anaconda3\\lib\\site-packages (0.5.0)\n",
      "Requirement already satisfied: lightgbm in c:\\users\\rkr\\anaconda3\\lib\\site-packages (3.3.0)\n",
      "Requirement already satisfied: tensorflow in c:\\users\\rkr\\anaconda3\\lib\\site-packages (2.4.1)\n",
      "Requirement already satisfied: numpy in c:\\users\\rkr\\anaconda3\\lib\\site-packages (from lightgbm) (1.19.5)\n",
      "Requirement already satisfied: scikit-learn!=0.22.0 in c:\\users\\rkr\\anaconda3\\lib\\site-packages (from lightgbm) (0.23.2)\n",
      "Requirement already satisfied: scipy in c:\\users\\rkr\\anaconda3\\lib\\site-packages (from lightgbm) (1.5.2)\n",
      "Requirement already satisfied: wheel in c:\\users\\rkr\\anaconda3\\lib\\site-packages (from lightgbm) (0.37.0)\n",
      "Requirement already satisfied: joblib>=0.11 in c:\\users\\rkr\\anaconda3\\lib\\site-packages (from scikit-learn!=0.22.0->lightgbm) (1.0.1)\n",
      "Requirement already satisfied: threadpoolctl>=2.0.0 in c:\\users\\rkr\\anaconda3\\lib\\site-packages (from scikit-learn!=0.22.0->lightgbm) (2.2.0)\n",
      "Requirement already satisfied: matplotlib in c:\\users\\rkr\\anaconda3\\lib\\site-packages (from missingno) (3.3.1)\n",
      "Requirement already satisfied: seaborn in c:\\users\\rkr\\anaconda3\\lib\\site-packages (from missingno) (0.11.0)\n",
      "Requirement already satisfied: regex in c:\\users\\rkr\\anaconda3\\lib\\site-packages (from nltk) (2021.8.3)\n",
      "Requirement already satisfied: tqdm in c:\\users\\rkr\\anaconda3\\lib\\site-packages (from nltk) (4.62.1)\n",
      "Requirement already satisfied: click in c:\\users\\rkr\\anaconda3\\lib\\site-packages (from nltk) (7.1.2)\n",
      "Requirement already satisfied: retrying>=1.3.3 in c:\\users\\rkr\\anaconda3\\lib\\site-packages (from plotly) (1.3.3)\n",
      "Requirement already satisfied: six in c:\\users\\rkr\\anaconda3\\lib\\site-packages (from plotly) (1.16.0)\n",
      "Requirement already satisfied: setuptools in c:\\users\\rkr\\anaconda3\\lib\\site-packages (from spellchecker) (52.0.0.post20210125)\n",
      "Requirement already satisfied: inexactsearch in c:\\users\\rkr\\anaconda3\\lib\\site-packages (from spellchecker) (1.0.2)\n",
      "Requirement already satisfied: flatbuffers~=1.12.0 in c:\\users\\rkr\\anaconda3\\lib\\site-packages (from tensorflow) (1.12)\n",
      "Requirement already satisfied: astunparse~=1.6.3 in c:\\users\\rkr\\anaconda3\\lib\\site-packages (from tensorflow) (1.6.3)\n",
      "Requirement already satisfied: termcolor~=1.1.0 in c:\\users\\rkr\\anaconda3\\lib\\site-packages (from tensorflow) (1.1.0)\n",
      "Collecting typing-extensions~=3.7.4\n",
      "  Downloading typing_extensions-3.7.4.3-py3-none-any.whl (22 kB)\n",
      "Requirement already satisfied: gast==0.3.3 in c:\\users\\rkr\\anaconda3\\lib\\site-packages (from tensorflow) (0.3.3)\n",
      "Collecting six\n",
      "  Downloading six-1.15.0-py2.py3-none-any.whl (10 kB)\n",
      "Requirement already satisfied: wrapt~=1.12.1 in c:\\users\\rkr\\anaconda3\\lib\\site-packages (from tensorflow) (1.12.1)\n",
      "Requirement already satisfied: grpcio~=1.32.0 in c:\\users\\rkr\\anaconda3\\lib\\site-packages (from tensorflow) (1.32.0)\n",
      "Requirement already satisfied: h5py~=2.10.0 in c:\\users\\rkr\\anaconda3\\lib\\site-packages (from tensorflow) (2.10.0)\n",
      "Requirement already satisfied: absl-py~=0.10 in c:\\users\\rkr\\anaconda3\\lib\\site-packages (from tensorflow) (0.11.0)\n",
      "Requirement already satisfied: tensorboard~=2.4 in c:\\users\\rkr\\anaconda3\\lib\\site-packages (from tensorflow) (2.4.1)\n",
      "Requirement already satisfied: tensorflow-estimator<2.5.0,>=2.4.0 in c:\\users\\rkr\\anaconda3\\lib\\site-packages (from tensorflow) (2.4.0)\n",
      "Requirement already satisfied: opt-einsum~=3.3.0 in c:\\users\\rkr\\anaconda3\\lib\\site-packages (from tensorflow) (3.3.0)\n",
      "Requirement already satisfied: google-pasta~=0.2 in c:\\users\\rkr\\anaconda3\\lib\\site-packages (from tensorflow) (0.2.0)\n",
      "Requirement already satisfied: protobuf>=3.9.2 in c:\\users\\rkr\\anaconda3\\lib\\site-packages (from tensorflow) (3.14.0)\n",
      "Requirement already satisfied: keras-preprocessing~=1.1.2 in c:\\users\\rkr\\anaconda3\\lib\\site-packages (from tensorflow) (1.1.2)\n",
      "Requirement already satisfied: google-auth<2,>=1.6.3 in c:\\users\\rkr\\anaconda3\\lib\\site-packages (from tensorboard~=2.4->tensorflow) (1.25.0)\n",
      "Requirement already satisfied: requests<3,>=2.21.0 in c:\\users\\rkr\\anaconda3\\lib\\site-packages (from tensorboard~=2.4->tensorflow) (2.26.0)\n",
      "Requirement already satisfied: markdown>=2.6.8 in c:\\users\\rkr\\anaconda3\\lib\\site-packages (from tensorboard~=2.4->tensorflow) (3.3.3)\n",
      "Requirement already satisfied: google-auth-oauthlib<0.5,>=0.4.1 in c:\\users\\rkr\\anaconda3\\lib\\site-packages (from tensorboard~=2.4->tensorflow) (0.4.2)\n",
      "Requirement already satisfied: werkzeug>=0.11.15 in c:\\users\\rkr\\anaconda3\\lib\\site-packages (from tensorboard~=2.4->tensorflow) (1.0.1)\n",
      "Requirement already satisfied: tensorboard-plugin-wit>=1.6.0 in c:\\users\\rkr\\anaconda3\\lib\\site-packages (from tensorboard~=2.4->tensorflow) (1.8.0)\n",
      "Requirement already satisfied: cachetools<5.0,>=2.0.0 in c:\\users\\rkr\\anaconda3\\lib\\site-packages (from google-auth<2,>=1.6.3->tensorboard~=2.4->tensorflow) (4.2.1)\n",
      "Requirement already satisfied: pyasn1-modules>=0.2.1 in c:\\users\\rkr\\anaconda3\\lib\\site-packages (from google-auth<2,>=1.6.3->tensorboard~=2.4->tensorflow) (0.2.8)\n",
      "Requirement already satisfied: rsa<5,>=3.1.4 in c:\\users\\rkr\\anaconda3\\lib\\site-packages (from google-auth<2,>=1.6.3->tensorboard~=2.4->tensorflow) (4.7)\n",
      "Requirement already satisfied: requests-oauthlib>=0.7.0 in c:\\users\\rkr\\anaconda3\\lib\\site-packages (from google-auth-oauthlib<0.5,>=0.4.1->tensorboard~=2.4->tensorflow) (1.3.0)\n",
      "Requirement already satisfied: importlib-metadata in c:\\users\\rkr\\anaconda3\\lib\\site-packages (from markdown>=2.6.8->tensorboard~=2.4->tensorflow) (4.6.4)\n",
      "Requirement already satisfied: pyasn1<0.5.0,>=0.4.6 in c:\\users\\rkr\\anaconda3\\lib\\site-packages (from pyasn1-modules>=0.2.1->google-auth<2,>=1.6.3->tensorboard~=2.4->tensorflow) (0.4.8)\n",
      "Requirement already satisfied: certifi>=2017.4.17 in c:\\users\\rkr\\anaconda3\\lib\\site-packages (from requests<3,>=2.21.0->tensorboard~=2.4->tensorflow) (2021.5.30)\n",
      "Requirement already satisfied: idna<4,>=2.5 in c:\\users\\rkr\\anaconda3\\lib\\site-packages (from requests<3,>=2.21.0->tensorboard~=2.4->tensorflow) (3.2)\n",
      "Requirement already satisfied: urllib3<1.27,>=1.21.1 in c:\\users\\rkr\\anaconda3\\lib\\site-packages (from requests<3,>=2.21.0->tensorboard~=2.4->tensorflow) (1.26.6)\n",
      "Requirement already satisfied: charset-normalizer~=2.0.0 in c:\\users\\rkr\\anaconda3\\lib\\site-packages (from requests<3,>=2.21.0->tensorboard~=2.4->tensorflow) (2.0.4)\n",
      "Requirement already satisfied: oauthlib>=3.0.0 in c:\\users\\rkr\\anaconda3\\lib\\site-packages (from requests-oauthlib>=0.7.0->google-auth-oauthlib<0.5,>=0.4.1->tensorboard~=2.4->tensorflow) (3.1.0)\n",
      "Requirement already satisfied: pillow in c:\\users\\rkr\\anaconda3\\lib\\site-packages (from wordcloud) (8.3.1)\n",
      "Requirement already satisfied: zipp>=0.5 in c:\\users\\rkr\\anaconda3\\lib\\site-packages (from importlib-metadata->markdown>=2.6.8->tensorboard~=2.4->tensorflow) (3.5.0)\n",
      "Requirement already satisfied: silpa-common>=0.3 in c:\\users\\rkr\\anaconda3\\lib\\site-packages (from inexactsearch->spellchecker) (0.3)\n",
      "Requirement already satisfied: soundex>=1.0 in c:\\users\\rkr\\anaconda3\\lib\\site-packages (from inexactsearch->spellchecker) (1.1.3)\n",
      "Requirement already satisfied: python-dateutil>=2.1 in c:\\users\\rkr\\anaconda3\\lib\\site-packages (from matplotlib->missingno) (2.8.2)\n",
      "Requirement already satisfied: kiwisolver>=1.0.1 in c:\\users\\rkr\\anaconda3\\lib\\site-packages (from matplotlib->missingno) (1.3.1)\n",
      "Requirement already satisfied: cycler>=0.10 in c:\\users\\rkr\\anaconda3\\lib\\site-packages (from matplotlib->missingno) (0.10.0)\n",
      "Requirement already satisfied: pyparsing!=2.0.4,!=2.1.2,!=2.1.6,>=2.0.3 in c:\\users\\rkr\\anaconda3\\lib\\site-packages (from matplotlib->missingno) (2.4.7)\n",
      "Requirement already satisfied: pandas>=0.23 in c:\\users\\rkr\\anaconda3\\lib\\site-packages (from seaborn->missingno) (1.1.2)\n",
      "Requirement already satisfied: pytz>=2017.2 in c:\\users\\rkr\\anaconda3\\lib\\site-packages (from pandas>=0.23->seaborn->missingno) (2021.1)\n",
      "Requirement already satisfied: colorama in c:\\users\\rkr\\anaconda3\\lib\\site-packages (from tqdm->nltk) (0.4.4)\n",
      "Installing collected packages: typing-extensions, six\n",
      "  Attempting uninstall: typing-extensions\n",
      "    Found existing installation: typing-extensions 3.10.0.0\n",
      "    Uninstalling typing-extensions-3.10.0.0:\n",
      "      Successfully uninstalled typing-extensions-3.10.0.0\n",
      "  Attempting uninstall: six\n",
      "    Found existing installation: six 1.16.0\n",
      "    Uninstalling six-1.16.0:\n",
      "      Successfully uninstalled six-1.16.0\n",
      "Successfully installed six-1.15.0 typing-extensions-3.7.4.3\n"
     ]
    }
   ],
   "source": [
    "! pip install spellchecker wordcloud  textblob nltk plotly pyspellchecker neattext missingno lightgbm tensorflow"
   ]
  },
  {
   "cell_type": "code",
   "execution_count": 139,
   "metadata": {
    "_cell_guid": "b1076dfc-b9ad-4769-8c92-a6c4dae69d19",
    "_kg_hide-input": true,
    "_uuid": "8f2839f25d086af736a60e9eeb907d3b93b6e0e5",
    "execution": {
     "iopub.execute_input": "2021-03-20T10:45:37.701980Z",
     "iopub.status.busy": "2021-03-20T10:45:37.701035Z",
     "iopub.status.idle": "2021-03-20T10:45:39.927063Z",
     "shell.execute_reply": "2021-03-20T10:45:39.925993Z"
    },
    "papermill": {
     "duration": 2.272787,
     "end_time": "2021-03-20T10:45:39.927368",
     "exception": false,
     "start_time": "2021-03-20T10:45:37.654581",
     "status": "completed"
    },
    "tags": []
   },
   "outputs": [],
   "source": [
    "import numpy as np \n",
    "import pandas as pd\n",
    "import matplotlib as mp\n",
    "import seaborn as sns\n",
    "import matplotlib.pyplot as plt\n",
    "from textblob import TextBlob\n",
    "%matplotlib inline \n",
    "from wordcloud import WordCloud, STOPWORDS\n",
    "##\n",
    "import plotly.express as px\n",
    "import plotly.graph_objs as go\n",
    "from plotly.offline import init_notebook_mode, iplot\n",
    "##\n",
    "import warnings\n",
    "warnings.simplefilter(\"ignore\")\n",
    "\n",
    "\n",
    "\n",
    "\n",
    "\n",
    "\n",
    "\n",
    "\n",
    "\n",
    "\n",
    "\n",
    "\n",
    "\n",
    "\n",
    "\n",
    "\n",
    "\n",
    "\n",
    "\n",
    "\n",
    "."
   ]
  },
  {
   "cell_type": "code",
   "execution_count": null,
   "metadata": {},
   "outputs": [],
   "source": []
  },
  {
   "cell_type": "markdown",
   "metadata": {
    "papermill": {
     "duration": 0.037597,
     "end_time": "2021-03-20T10:45:40.003701",
     "exception": false,
     "start_time": "2021-03-20T10:45:39.966104",
     "status": "completed"
    },
    "tags": []
   },
   "source": [
    "## Load data"
   ]
  },
  {
   "cell_type": "code",
   "execution_count": 140,
   "metadata": {
    "_cell_guid": "79c7e3d0-c299-4dcb-8224-4455121ee9b0",
    "_kg_hide-input": true,
    "_uuid": "d629ff2d2480ee46fbb7e2d37f6b5fab8052498a",
    "execution": {
     "iopub.execute_input": "2021-03-20T10:45:40.087705Z",
     "iopub.status.busy": "2021-03-20T10:45:40.086954Z",
     "iopub.status.idle": "2021-03-20T10:45:40.712486Z",
     "shell.execute_reply": "2021-03-20T10:45:40.711691Z"
    },
    "papermill": {
     "duration": 0.67196,
     "end_time": "2021-03-20T10:45:40.712655",
     "exception": false,
     "start_time": "2021-03-20T10:45:40.040695",
     "status": "completed"
    },
    "tags": []
   },
   "outputs": [],
   "source": [
    "tweets_df = pd.read_csv(\"covid-19_vaccine_tweets_with_sentiment.csv\", encoding='latin1')"
   ]
  },
  {
   "cell_type": "markdown",
   "metadata": {
    "papermill": {
     "duration": 0.037395,
     "end_time": "2021-03-20T10:45:40.786967",
     "exception": false,
     "start_time": "2021-03-20T10:45:40.749572",
     "status": "completed"
    },
    "tags": []
   },
   "source": [
    "# Data exploration\n",
    "\n",
    "\n",
    "## Glimpse the data"
   ]
  },
  {
   "cell_type": "code",
   "execution_count": 141,
   "metadata": {
    "_kg_hide-input": true,
    "execution": {
     "iopub.execute_input": "2021-03-20T10:45:40.866051Z",
     "iopub.status.busy": "2021-03-20T10:45:40.865333Z",
     "iopub.status.idle": "2021-03-20T10:45:40.869951Z",
     "shell.execute_reply": "2021-03-20T10:45:40.869370Z"
    },
    "papermill": {
     "duration": 0.04582,
     "end_time": "2021-03-20T10:45:40.870100",
     "exception": false,
     "start_time": "2021-03-20T10:45:40.824280",
     "status": "completed"
    },
    "tags": []
   },
   "outputs": [
    {
     "name": "stdout",
     "output_type": "stream",
     "text": [
      "data shape: (6000, 3)\n"
     ]
    }
   ],
   "source": [
    "print(f\"data shape: {tweets_df.shape}\")"
   ]
  },
  {
   "cell_type": "code",
   "execution_count": 142,
   "metadata": {
    "_kg_hide-input": true,
    "execution": {
     "iopub.execute_input": "2021-03-20T10:45:40.960462Z",
     "iopub.status.busy": "2021-03-20T10:45:40.959758Z",
     "iopub.status.idle": "2021-03-20T10:45:41.014944Z",
     "shell.execute_reply": "2021-03-20T10:45:41.013889Z"
    },
    "papermill": {
     "duration": 0.108513,
     "end_time": "2021-03-20T10:45:41.015483",
     "exception": false,
     "start_time": "2021-03-20T10:45:40.906970",
     "status": "completed"
    },
    "tags": []
   },
   "outputs": [
    {
     "name": "stdout",
     "output_type": "stream",
     "text": [
      "<class 'pandas.core.frame.DataFrame'>\n",
      "RangeIndex: 6000 entries, 0 to 5999\n",
      "Data columns (total 3 columns):\n",
      " #   Column      Non-Null Count  Dtype  \n",
      "---  ------      --------------  -----  \n",
      " 0   tweet_id    6000 non-null   float64\n",
      " 1   label       6000 non-null   int64  \n",
      " 2   tweet_text  6000 non-null   object \n",
      "dtypes: float64(1), int64(1), object(1)\n",
      "memory usage: 140.8+ KB\n"
     ]
    }
   ],
   "source": [
    "tweets_df.info()"
   ]
  },
  {
   "cell_type": "code",
   "execution_count": 143,
   "metadata": {
    "_kg_hide-input": true,
    "execution": {
     "iopub.execute_input": "2021-03-20T10:45:41.098548Z",
     "iopub.status.busy": "2021-03-20T10:45:41.097819Z",
     "iopub.status.idle": "2021-03-20T10:45:41.152726Z",
     "shell.execute_reply": "2021-03-20T10:45:41.152127Z"
    },
    "papermill": {
     "duration": 0.097833,
     "end_time": "2021-03-20T10:45:41.152886",
     "exception": false,
     "start_time": "2021-03-20T10:45:41.055053",
     "status": "completed"
    },
    "tags": []
   },
   "outputs": [
    {
     "data": {
      "text/html": [
       "<div>\n",
       "<style scoped>\n",
       "    .dataframe tbody tr th:only-of-type {\n",
       "        vertical-align: middle;\n",
       "    }\n",
       "\n",
       "    .dataframe tbody tr th {\n",
       "        vertical-align: top;\n",
       "    }\n",
       "\n",
       "    .dataframe thead th {\n",
       "        text-align: right;\n",
       "    }\n",
       "</style>\n",
       "<table border=\"1\" class=\"dataframe\">\n",
       "  <thead>\n",
       "    <tr style=\"text-align: right;\">\n",
       "      <th></th>\n",
       "      <th>tweet_id</th>\n",
       "      <th>label</th>\n",
       "    </tr>\n",
       "  </thead>\n",
       "  <tbody>\n",
       "    <tr>\n",
       "      <th>count</th>\n",
       "      <td>6.000000e+03</td>\n",
       "      <td>6000.000000</td>\n",
       "    </tr>\n",
       "    <tr>\n",
       "      <th>mean</th>\n",
       "      <td>1.372192e+18</td>\n",
       "      <td>2.246667</td>\n",
       "    </tr>\n",
       "    <tr>\n",
       "      <th>std</th>\n",
       "      <td>1.036489e+16</td>\n",
       "      <td>0.570856</td>\n",
       "    </tr>\n",
       "    <tr>\n",
       "      <th>min</th>\n",
       "      <td>1.337736e+18</td>\n",
       "      <td>1.000000</td>\n",
       "    </tr>\n",
       "    <tr>\n",
       "      <th>25%</th>\n",
       "      <td>1.366304e+18</td>\n",
       "      <td>2.000000</td>\n",
       "    </tr>\n",
       "    <tr>\n",
       "      <th>50%</th>\n",
       "      <td>1.373906e+18</td>\n",
       "      <td>2.000000</td>\n",
       "    </tr>\n",
       "    <tr>\n",
       "      <th>75%</th>\n",
       "      <td>1.380625e+18</td>\n",
       "      <td>3.000000</td>\n",
       "    </tr>\n",
       "    <tr>\n",
       "      <th>max</th>\n",
       "      <td>1.385237e+18</td>\n",
       "      <td>3.000000</td>\n",
       "    </tr>\n",
       "  </tbody>\n",
       "</table>\n",
       "</div>"
      ],
      "text/plain": [
       "           tweet_id        label\n",
       "count  6.000000e+03  6000.000000\n",
       "mean   1.372192e+18     2.246667\n",
       "std    1.036489e+16     0.570856\n",
       "min    1.337736e+18     1.000000\n",
       "25%    1.366304e+18     2.000000\n",
       "50%    1.373906e+18     2.000000\n",
       "75%    1.380625e+18     3.000000\n",
       "max    1.385237e+18     3.000000"
      ]
     },
     "execution_count": 143,
     "metadata": {},
     "output_type": "execute_result"
    }
   ],
   "source": [
    "tweets_df.describe()"
   ]
  },
  {
   "cell_type": "code",
   "execution_count": 144,
   "metadata": {
    "_kg_hide-input": true,
    "execution": {
     "iopub.execute_input": "2021-03-20T10:45:41.256677Z",
     "iopub.status.busy": "2021-03-20T10:45:41.247462Z",
     "iopub.status.idle": "2021-03-20T10:45:41.262378Z",
     "shell.execute_reply": "2021-03-20T10:45:41.262924Z"
    },
    "papermill": {
     "duration": 0.069645,
     "end_time": "2021-03-20T10:45:41.263117",
     "exception": false,
     "start_time": "2021-03-20T10:45:41.193472",
     "status": "completed"
    },
    "tags": []
   },
   "outputs": [
    {
     "data": {
      "text/html": [
       "<div>\n",
       "<style scoped>\n",
       "    .dataframe tbody tr th:only-of-type {\n",
       "        vertical-align: middle;\n",
       "    }\n",
       "\n",
       "    .dataframe tbody tr th {\n",
       "        vertical-align: top;\n",
       "    }\n",
       "\n",
       "    .dataframe thead th {\n",
       "        text-align: right;\n",
       "    }\n",
       "</style>\n",
       "<table border=\"1\" class=\"dataframe\">\n",
       "  <thead>\n",
       "    <tr style=\"text-align: right;\">\n",
       "      <th></th>\n",
       "      <th>tweet_id</th>\n",
       "      <th>label</th>\n",
       "      <th>tweet_text</th>\n",
       "    </tr>\n",
       "  </thead>\n",
       "  <tbody>\n",
       "    <tr>\n",
       "      <th>0</th>\n",
       "      <td>1.360342e+18</td>\n",
       "      <td>1</td>\n",
       "      <td>4,000 a day dying from the so called Covid-19 vaccine @DailyBeast reports. #vaccine #PfizerVaccine #Moderna \\n\\nhttps://t.co/p1nQWWZpk4</td>\n",
       "    </tr>\n",
       "    <tr>\n",
       "      <th>1</th>\n",
       "      <td>1.382896e+18</td>\n",
       "      <td>2</td>\n",
       "      <td>Pranam message for today manifested in Dhyan by @meenapranam #truth #love #karm #light #nature #consciousness #FridayThoughts #fridaymorning #CoronavirusIndia #COVID19India #?????_???????? #navratri #Thane #AmbedkarJayanti2021 #ModiJi #NarendraModi #SecondCOVIDWave #Covaxin https://t.co/bQNoMVowJg</td>\n",
       "    </tr>\n",
       "    <tr>\n",
       "      <th>2</th>\n",
       "      <td>1.375673e+18</td>\n",
       "      <td>2</td>\n",
       "      <td>Hyderabad-based ?@BharatBiotech? has sought funds from the government to ramp up production of its indigenously developed Covid-19 vaccine, #Covaxin .\\nThe company has written to the ??@DBTIndia? seeking Rs 100 crore to ramp up. https://t.co/wjWlVIGMC4</td>\n",
       "    </tr>\n",
       "    <tr>\n",
       "      <th>3</th>\n",
       "      <td>1.381311e+18</td>\n",
       "      <td>1</td>\n",
       "      <td>Confirmation that Chinese #vaccines \"dont have very high protection rates\", according to the director of the China Centers for Disease Control, Gao Fu.\\n\\n#Sinovac effectiveness \"found to be as low as 50.4% by researchers in Brazil\"; &amp;lt;50% is 'not useful'.\\n\\nhttps://t.co/S2OoHjd7Do</td>\n",
       "    </tr>\n",
       "    <tr>\n",
       "      <th>4</th>\n",
       "      <td>1.362166e+18</td>\n",
       "      <td>3</td>\n",
       "      <td>Lab studies suggest #Pfizer, #Moderna vaccines can protect against #coronavirusvariant\\nhttps://t.co/NPaFA68m57</td>\n",
       "    </tr>\n",
       "  </tbody>\n",
       "</table>\n",
       "</div>"
      ],
      "text/plain": [
       "       tweet_id  label  \\\n",
       "0  1.360342e+18      1   \n",
       "1  1.382896e+18      2   \n",
       "2  1.375673e+18      2   \n",
       "3  1.381311e+18      1   \n",
       "4  1.362166e+18      3   \n",
       "\n",
       "                                                                                                                                                                                                                                                                                                   tweet_text  \n",
       "0                                                                                                                                                                   4,000 a day dying from the so called Covid-19 vaccine @DailyBeast reports. #vaccine #PfizerVaccine #Moderna \\n\\nhttps://t.co/p1nQWWZpk4  \n",
       "1  Pranam message for today manifested in Dhyan by @meenapranam #truth #love #karm #light #nature #consciousness #FridayThoughts #fridaymorning #CoronavirusIndia #COVID19India #?????_???????? #navratri #Thane #AmbedkarJayanti2021 #ModiJi #NarendraModi #SecondCOVIDWave #Covaxin https://t.co/bQNoMVowJg  \n",
       "2                                                Hyderabad-based ?@BharatBiotech? has sought funds from the government to ramp up production of its indigenously developed Covid-19 vaccine, #Covaxin .\\nThe company has written to the ??@DBTIndia? seeking Rs 100 crore to ramp up. https://t.co/wjWlVIGMC4  \n",
       "3              Confirmation that Chinese #vaccines \"dont have very high protection rates\", according to the director of the China Centers for Disease Control, Gao Fu.\\n\\n#Sinovac effectiveness \"found to be as low as 50.4% by researchers in Brazil\"; &lt;50% is 'not useful'.\\n\\nhttps://t.co/S2OoHjd7Do  \n",
       "4                                                                                                                                                                                             Lab studies suggest #Pfizer, #Moderna vaccines can protect against #coronavirusvariant\\nhttps://t.co/NPaFA68m57  "
      ]
     },
     "execution_count": 144,
     "metadata": {},
     "output_type": "execute_result"
    }
   ],
   "source": [
    "tweets_df.head()"
   ]
  },
  {
   "cell_type": "markdown",
   "metadata": {
    "papermill": {
     "duration": 0.039048,
     "end_time": "2021-03-20T10:45:41.340579",
     "exception": false,
     "start_time": "2021-03-20T10:45:41.301531",
     "status": "completed"
    },
    "tags": []
   },
   "source": [
    "### Missing data"
   ]
  },
  {
   "cell_type": "code",
   "execution_count": 145,
   "metadata": {
    "_kg_hide-input": true,
    "execution": {
     "iopub.execute_input": "2021-03-20T10:45:41.427825Z",
     "iopub.status.busy": "2021-03-20T10:45:41.427029Z",
     "iopub.status.idle": "2021-03-20T10:45:41.429159Z",
     "shell.execute_reply": "2021-03-20T10:45:41.429638Z"
    },
    "papermill": {
     "duration": 0.050226,
     "end_time": "2021-03-20T10:45:41.429846",
     "exception": false,
     "start_time": "2021-03-20T10:45:41.379620",
     "status": "completed"
    },
    "tags": []
   },
   "outputs": [],
   "source": [
    "def missing_data(data):\n",
    "    total = data.isnull().sum()\n",
    "    percent = (data.isnull().sum()/data.isnull().count()*100)\n",
    "    tt = pd.concat([total, percent], axis=1, keys=['Total', 'Percent'])\n",
    "    types = []\n",
    "    for col in data.columns:\n",
    "        dtype = str(data[col].dtype)\n",
    "        types.append(dtype)\n",
    "    tt['Types'] = types\n",
    "    return(np.transpose(tt))"
   ]
  },
  {
   "cell_type": "code",
   "execution_count": 146,
   "metadata": {
    "_kg_hide-input": true,
    "execution": {
     "iopub.execute_input": "2021-03-20T10:45:41.511708Z",
     "iopub.status.busy": "2021-03-20T10:45:41.510996Z",
     "iopub.status.idle": "2021-03-20T10:45:41.649119Z",
     "shell.execute_reply": "2021-03-20T10:45:41.647867Z"
    },
    "papermill": {
     "duration": 0.179852,
     "end_time": "2021-03-20T10:45:41.649318",
     "exception": false,
     "start_time": "2021-03-20T10:45:41.469466",
     "status": "completed"
    },
    "tags": []
   },
   "outputs": [
    {
     "data": {
      "text/html": [
       "<div>\n",
       "<style scoped>\n",
       "    .dataframe tbody tr th:only-of-type {\n",
       "        vertical-align: middle;\n",
       "    }\n",
       "\n",
       "    .dataframe tbody tr th {\n",
       "        vertical-align: top;\n",
       "    }\n",
       "\n",
       "    .dataframe thead th {\n",
       "        text-align: right;\n",
       "    }\n",
       "</style>\n",
       "<table border=\"1\" class=\"dataframe\">\n",
       "  <thead>\n",
       "    <tr style=\"text-align: right;\">\n",
       "      <th></th>\n",
       "      <th>tweet_id</th>\n",
       "      <th>label</th>\n",
       "      <th>tweet_text</th>\n",
       "    </tr>\n",
       "  </thead>\n",
       "  <tbody>\n",
       "    <tr>\n",
       "      <th>Total</th>\n",
       "      <td>0</td>\n",
       "      <td>0</td>\n",
       "      <td>0</td>\n",
       "    </tr>\n",
       "    <tr>\n",
       "      <th>Percent</th>\n",
       "      <td>0</td>\n",
       "      <td>0</td>\n",
       "      <td>0</td>\n",
       "    </tr>\n",
       "    <tr>\n",
       "      <th>Types</th>\n",
       "      <td>float64</td>\n",
       "      <td>int64</td>\n",
       "      <td>object</td>\n",
       "    </tr>\n",
       "  </tbody>\n",
       "</table>\n",
       "</div>"
      ],
      "text/plain": [
       "        tweet_id  label tweet_text\n",
       "Total          0      0          0\n",
       "Percent        0      0          0\n",
       "Types    float64  int64     object"
      ]
     },
     "execution_count": 146,
     "metadata": {},
     "output_type": "execute_result"
    }
   ],
   "source": [
    "missing_data(tweets_df)"
   ]
  },
  {
   "cell_type": "code",
   "execution_count": 147,
   "metadata": {},
   "outputs": [
    {
     "name": "stdout",
     "output_type": "stream",
     "text": [
      "Empty DataFrame\n",
      "Columns: [column, percent]\n",
      "Index: []\n"
     ]
    }
   ],
   "source": [
    "missed = pd.DataFrame()\n",
    "missed['column'] = tweets_df.columns\n",
    "missed['percent'] = [round(100* tweets_df[col].isnull().sum() / len(tweets_df), 2) for col in tweets_df.columns]\n",
    "missed = missed.sort_values('percent',ascending=False)\n",
    "missed = missed[missed['percent']>0]\n",
    "print(missed)\n",
    "#fig = sns.barplot(\n",
    "#    x=missed['percent'], \n",
    "#    y=missed[\"column\"], \n",
    "#    orientation='horizontal'\n",
    "#).set_title('Missed values percent for every column')"
   ]
  },
  {
   "cell_type": "markdown",
   "metadata": {
    "papermill": {
     "duration": 0.042518,
     "end_time": "2021-03-20T10:45:41.731054",
     "exception": false,
     "start_time": "2021-03-20T10:45:41.688536",
     "status": "completed"
    },
    "tags": []
   },
   "source": [
    "### Unique values"
   ]
  },
  {
   "cell_type": "code",
   "execution_count": 148,
   "metadata": {
    "_kg_hide-input": true,
    "execution": {
     "iopub.execute_input": "2021-03-20T10:45:41.817921Z",
     "iopub.status.busy": "2021-03-20T10:45:41.817253Z",
     "iopub.status.idle": "2021-03-20T10:45:41.820854Z",
     "shell.execute_reply": "2021-03-20T10:45:41.820157Z"
    },
    "papermill": {
     "duration": 0.049979,
     "end_time": "2021-03-20T10:45:41.821012",
     "exception": false,
     "start_time": "2021-03-20T10:45:41.771033",
     "status": "completed"
    },
    "tags": []
   },
   "outputs": [],
   "source": [
    "def unique_values(data):\n",
    "    total = data.count()\n",
    "    tt = pd.DataFrame(total)\n",
    "    tt.columns = ['Total']\n",
    "    uniques = []\n",
    "    for col in data.columns:\n",
    "        unique = data[col].nunique()\n",
    "        uniques.append(unique)\n",
    "    tt['Uniques'] = uniques\n",
    "    return(np.transpose(tt))"
   ]
  },
  {
   "cell_type": "code",
   "execution_count": 149,
   "metadata": {
    "_kg_hide-input": true,
    "execution": {
     "iopub.execute_input": "2021-03-20T10:45:41.902659Z",
     "iopub.status.busy": "2021-03-20T10:45:41.901971Z",
     "iopub.status.idle": "2021-03-20T10:45:42.068693Z",
     "shell.execute_reply": "2021-03-20T10:45:42.068091Z"
    },
    "papermill": {
     "duration": 0.208623,
     "end_time": "2021-03-20T10:45:42.068984",
     "exception": false,
     "start_time": "2021-03-20T10:45:41.860361",
     "status": "completed"
    },
    "tags": []
   },
   "outputs": [
    {
     "data": {
      "text/html": [
       "<div>\n",
       "<style scoped>\n",
       "    .dataframe tbody tr th:only-of-type {\n",
       "        vertical-align: middle;\n",
       "    }\n",
       "\n",
       "    .dataframe tbody tr th {\n",
       "        vertical-align: top;\n",
       "    }\n",
       "\n",
       "    .dataframe thead th {\n",
       "        text-align: right;\n",
       "    }\n",
       "</style>\n",
       "<table border=\"1\" class=\"dataframe\">\n",
       "  <thead>\n",
       "    <tr style=\"text-align: right;\">\n",
       "      <th></th>\n",
       "      <th>tweet_id</th>\n",
       "      <th>label</th>\n",
       "      <th>tweet_text</th>\n",
       "    </tr>\n",
       "  </thead>\n",
       "  <tbody>\n",
       "    <tr>\n",
       "      <th>Total</th>\n",
       "      <td>6000</td>\n",
       "      <td>6000</td>\n",
       "      <td>6000</td>\n",
       "    </tr>\n",
       "    <tr>\n",
       "      <th>Uniques</th>\n",
       "      <td>6000</td>\n",
       "      <td>3</td>\n",
       "      <td>5991</td>\n",
       "    </tr>\n",
       "  </tbody>\n",
       "</table>\n",
       "</div>"
      ],
      "text/plain": [
       "         tweet_id  label  tweet_text\n",
       "Total        6000   6000        6000\n",
       "Uniques      6000      3        5991"
      ]
     },
     "execution_count": 149,
     "metadata": {},
     "output_type": "execute_result"
    }
   ],
   "source": [
    "unique_values(tweets_df)"
   ]
  },
  {
   "cell_type": "markdown",
   "metadata": {
    "papermill": {
     "duration": 0.039609,
     "end_time": "2021-03-20T10:45:42.148746",
     "exception": false,
     "start_time": "2021-03-20T10:45:42.109137",
     "status": "completed"
    },
    "tags": []
   },
   "source": [
    "### Most frequent values"
   ]
  },
  {
   "cell_type": "code",
   "execution_count": 150,
   "metadata": {
    "_kg_hide-input": true,
    "execution": {
     "iopub.execute_input": "2021-03-20T10:45:42.241057Z",
     "iopub.status.busy": "2021-03-20T10:45:42.239991Z",
     "iopub.status.idle": "2021-03-20T10:45:42.243541Z",
     "shell.execute_reply": "2021-03-20T10:45:42.242538Z"
    },
    "papermill": {
     "duration": 0.054086,
     "end_time": "2021-03-20T10:45:42.243713",
     "exception": false,
     "start_time": "2021-03-20T10:45:42.189627",
     "status": "completed"
    },
    "tags": []
   },
   "outputs": [],
   "source": [
    "def most_frequent_values(data):\n",
    "    total = data.count()\n",
    "    tt = pd.DataFrame(total)\n",
    "    tt.columns = ['Total']\n",
    "    items = []\n",
    "    vals = []\n",
    "    for col in data.columns:\n",
    "        itm = data[col].value_counts().index[0]\n",
    "        val = data[col].value_counts().values[0]\n",
    "        items.append(itm)\n",
    "        vals.append(val)\n",
    "    tt['Most frequent item'] = items\n",
    "    tt['Frequence'] = vals\n",
    "    tt['Percent from total'] = np.round(vals / total * 100, 3)\n",
    "    return(np.transpose(tt))"
   ]
  },
  {
   "cell_type": "code",
   "execution_count": 151,
   "metadata": {
    "_kg_hide-input": true,
    "execution": {
     "iopub.execute_input": "2021-03-20T10:45:42.361902Z",
     "iopub.status.busy": "2021-03-20T10:45:42.361180Z",
     "iopub.status.idle": "2021-03-20T10:45:42.713942Z",
     "shell.execute_reply": "2021-03-20T10:45:42.713229Z"
    },
    "papermill": {
     "duration": 0.428017,
     "end_time": "2021-03-20T10:45:42.714106",
     "exception": false,
     "start_time": "2021-03-20T10:45:42.286089",
     "status": "completed"
    },
    "tags": []
   },
   "outputs": [
    {
     "data": {
      "text/html": [
       "<div>\n",
       "<style scoped>\n",
       "    .dataframe tbody tr th:only-of-type {\n",
       "        vertical-align: middle;\n",
       "    }\n",
       "\n",
       "    .dataframe tbody tr th {\n",
       "        vertical-align: top;\n",
       "    }\n",
       "\n",
       "    .dataframe thead th {\n",
       "        text-align: right;\n",
       "    }\n",
       "</style>\n",
       "<table border=\"1\" class=\"dataframe\">\n",
       "  <thead>\n",
       "    <tr style=\"text-align: right;\">\n",
       "      <th></th>\n",
       "      <th>tweet_id</th>\n",
       "      <th>label</th>\n",
       "      <th>tweet_text</th>\n",
       "    </tr>\n",
       "  </thead>\n",
       "  <tbody>\n",
       "    <tr>\n",
       "      <th>Total</th>\n",
       "      <td>6000</td>\n",
       "      <td>6000</td>\n",
       "      <td>6000</td>\n",
       "    </tr>\n",
       "    <tr>\n",
       "      <th>Most frequent item</th>\n",
       "      <td>1.37412e+18</td>\n",
       "      <td>2</td>\n",
       "      <td>Selling: #NitrileGloves, #1860 #FaceMasks, #Vaccines #SputnikV, #syringes. Contact sales: https://t.co/gWmRopLARO or tweet us! #covid19 #trading #business</td>\n",
       "    </tr>\n",
       "    <tr>\n",
       "      <th>Frequence</th>\n",
       "      <td>1</td>\n",
       "      <td>3680</td>\n",
       "      <td>4</td>\n",
       "    </tr>\n",
       "    <tr>\n",
       "      <th>Percent from total</th>\n",
       "      <td>0.017</td>\n",
       "      <td>61.333</td>\n",
       "      <td>0.067</td>\n",
       "    </tr>\n",
       "  </tbody>\n",
       "</table>\n",
       "</div>"
      ],
      "text/plain": [
       "                       tweet_id   label  \\\n",
       "Total                      6000    6000   \n",
       "Most frequent item  1.37412e+18       2   \n",
       "Frequence                     1    3680   \n",
       "Percent from total        0.017  61.333   \n",
       "\n",
       "                                                                                                                                                                    tweet_text  \n",
       "Total                                                                                                                                                                     6000  \n",
       "Most frequent item  Selling: #NitrileGloves, #1860 #FaceMasks, #Vaccines #SputnikV, #syringes. Contact sales: https://t.co/gWmRopLARO or tweet us! #covid19 #trading #business  \n",
       "Frequence                                                                                                                                                                    4  \n",
       "Percent from total                                                                                                                                                       0.067  "
      ]
     },
     "execution_count": 151,
     "metadata": {},
     "output_type": "execute_result"
    }
   ],
   "source": [
    "most_frequent_values(tweets_df)"
   ]
  },
  {
   "cell_type": "markdown",
   "metadata": {
    "papermill": {
     "duration": 0.039619,
     "end_time": "2021-03-20T10:45:42.793722",
     "exception": false,
     "start_time": "2021-03-20T10:45:42.754103",
     "status": "completed"
    },
    "tags": []
   },
   "source": [
    "## Visualize the data distribution"
   ]
  },
  {
   "cell_type": "markdown",
   "metadata": {
    "papermill": {
     "duration": 0.043697,
     "end_time": "2021-03-20T10:45:44.365261",
     "exception": false,
     "start_time": "2021-03-20T10:45:44.321564",
     "status": "completed"
    },
    "tags": []
   },
   "source": [
    "### Tweet source"
   ]
  },
  {
   "cell_type": "code",
   "execution_count": 152,
   "metadata": {},
   "outputs": [
    {
     "data": {
      "image/png": "[encoded data removed]",
      "text/plain": [
       "<Figure size 648x648 with 2 Axes>"
      ]
     },
     "metadata": {
      "needs_background": "light"
     },
     "output_type": "display_data"
    }
   ],
   "source": [
    "#plot heatmap to see the correlation between features\n",
    "plt.subplots(figsize=(9, 9))\n",
    "sns.heatmap(tweets_df.corr(), annot=True, square=True)\n",
    "plt.show()"
   ]
  },
  {
   "cell_type": "code",
   "execution_count": null,
   "metadata": {},
   "outputs": [],
   "source": []
  },
  {
   "cell_type": "code",
   "execution_count": 153,
   "metadata": {
    "_kg_hide-input": true,
    "execution": {
     "iopub.execute_input": "2021-03-20T10:45:44.944384Z",
     "iopub.status.busy": "2021-03-20T10:45:44.943625Z",
     "iopub.status.idle": "2021-03-20T10:45:44.946935Z",
     "shell.execute_reply": "2021-03-20T10:45:44.946421Z"
    },
    "papermill": {
     "duration": 0.055599,
     "end_time": "2021-03-20T10:45:44.947084",
     "exception": false,
     "start_time": "2021-03-20T10:45:44.891485",
     "status": "completed"
    },
    "tags": []
   },
   "outputs": [],
   "source": [
    "stopwords = set(STOPWORDS)\n",
    "\n",
    "def show_wordcloud(data, title = None):\n",
    "    wordcloud = WordCloud(\n",
    "        background_color='white',\n",
    "        stopwords=stopwords,\n",
    "        max_words=50,\n",
    "        max_font_size=40, \n",
    "        scale=5,\n",
    "        random_state=1\n",
    "    ).generate(str(data))\n",
    "\n",
    "    fig = plt.figure(1, figsize=(10,10))\n",
    "    plt.axis('off')\n",
    "    if title: \n",
    "        fig.suptitle(title, fontsize=20)\n",
    "        fig.subplots_adjust(top=2.3)\n",
    "\n",
    "    plt.imshow(wordcloud)\n",
    "    plt.show()"
   ]
  },
  {
   "cell_type": "code",
   "execution_count": 154,
   "metadata": {
    "_kg_hide-input": true,
    "execution": {
     "iopub.execute_input": "2021-03-20T10:45:45.046036Z",
     "iopub.status.busy": "2021-03-20T10:45:45.045359Z",
     "iopub.status.idle": "2021-03-20T10:45:45.048554Z",
     "shell.execute_reply": "2021-03-20T10:45:45.047904Z"
    },
    "papermill": {
     "duration": 0.0557,
     "end_time": "2021-03-20T10:45:45.048702",
     "exception": false,
     "start_time": "2021-03-20T10:45:44.993002",
     "status": "completed"
    },
    "tags": []
   },
   "outputs": [],
   "source": [
    "\n",
    "from wordcloud import WordCloud, STOPWORDS\n",
    "def show_wordcloud(data, title=\"\"):\n",
    "    text = \" \".join(t for t in data.dropna())\n",
    "    stopwords = set(STOPWORDS)\n",
    "    stopwords.update([\"t\", \"co\", \"https\", \"amp\", \"U\"])\n",
    "    wordcloud = WordCloud(stopwords=stopwords, scale=4, max_font_size=50, max_words=500,background_color=\"black\").generate(text)\n",
    "    fig = plt.figure(1, figsize=(16,16))\n",
    "    plt.axis('off')\n",
    "    fig.suptitle(title, fontsize=20)\n",
    "    fig.subplots_adjust(top=2.3)\n",
    "    plt.imshow(wordcloud, interpolation='bilinear')\n",
    "    plt.show()"
   ]
  },
  {
   "cell_type": "markdown",
   "metadata": {
    "papermill": {
     "duration": 0.045792,
     "end_time": "2021-03-20T10:45:45.140565",
     "exception": false,
     "start_time": "2021-03-20T10:45:45.094773",
     "status": "completed"
    },
    "tags": []
   },
   "source": [
    "### Text wordcloauds"
   ]
  },
  {
   "cell_type": "code",
   "execution_count": 155,
   "metadata": {
    "_kg_hide-input": true,
    "execution": {
     "iopub.execute_input": "2021-03-20T10:45:45.267300Z",
     "iopub.status.busy": "2021-03-20T10:45:45.266547Z",
     "iopub.status.idle": "2021-03-20T10:45:49.712044Z",
     "shell.execute_reply": "2021-03-20T10:45:49.712594Z"
    },
    "papermill": {
     "duration": 4.519726,
     "end_time": "2021-03-20T10:45:49.712785",
     "exception": false,
     "start_time": "2021-03-20T10:45:45.193059",
     "status": "completed"
    },
    "tags": []
   },
   "outputs": [
    {
     "data": {
      "image/png": "[encoded data removed]",
      "text/plain": [
       "<Figure size 1152x1152 with 1 Axes>"
      ]
     },
     "metadata": {
      "needs_background": "light"
     },
     "output_type": "display_data"
    }
   ],
   "source": [
    "show_wordcloud(tweets_df['tweet_text'], title = 'Prevalent words in tweets')"
   ]
  },
  {
   "cell_type": "code",
   "execution_count": 156,
   "metadata": {},
   "outputs": [
    {
     "data": {
      "text/html": [
       "<style  type=\"text/css\" >\n",
       "#T_de21f010_2de1_11ec_8d31_3448ed8377bdrow0_col0,#T_de21f010_2de1_11ec_8d31_3448ed8377bdrow0_col1{\n",
       "            background-color:  #fdfbfb;\n",
       "            color:  #000000;\n",
       "        }#T_de21f010_2de1_11ec_8d31_3448ed8377bdrow1_col0{\n",
       "            background-color:  #5ba04b;\n",
       "            color:  #000000;\n",
       "        }#T_de21f010_2de1_11ec_8d31_3448ed8377bdrow1_col1,#T_de21f010_2de1_11ec_8d31_3448ed8377bdrow2_col0{\n",
       "            background-color:  #000000;\n",
       "            color:  #f1f1f1;\n",
       "        }#T_de21f010_2de1_11ec_8d31_3448ed8377bdrow2_col1{\n",
       "            background-color:  #76a652;\n",
       "            color:  #000000;\n",
       "        }</style><table id=\"T_de21f010_2de1_11ec_8d31_3448ed8377bd\" ><thead>    <tr>        <th class=\"blank level0\" ></th>        <th class=\"col_heading level0 col0\" >label</th>        <th class=\"col_heading level0 col1\" >tweet_text</th>    </tr></thead><tbody>\n",
       "                <tr>\n",
       "                        <th id=\"T_de21f010_2de1_11ec_8d31_3448ed8377bdlevel0_row0\" class=\"row_heading level0 row0\" >0</th>\n",
       "                        <td id=\"T_de21f010_2de1_11ec_8d31_3448ed8377bdrow0_col0\" class=\"data row0 col0\" >1</td>\n",
       "                        <td id=\"T_de21f010_2de1_11ec_8d31_3448ed8377bdrow0_col1\" class=\"data row0 col1\" >420</td>\n",
       "            </tr>\n",
       "            <tr>\n",
       "                        <th id=\"T_de21f010_2de1_11ec_8d31_3448ed8377bdlevel0_row1\" class=\"row_heading level0 row1\" >1</th>\n",
       "                        <td id=\"T_de21f010_2de1_11ec_8d31_3448ed8377bdrow1_col0\" class=\"data row1 col0\" >2</td>\n",
       "                        <td id=\"T_de21f010_2de1_11ec_8d31_3448ed8377bdrow1_col1\" class=\"data row1 col1\" >3680</td>\n",
       "            </tr>\n",
       "            <tr>\n",
       "                        <th id=\"T_de21f010_2de1_11ec_8d31_3448ed8377bdlevel0_row2\" class=\"row_heading level0 row2\" >2</th>\n",
       "                        <td id=\"T_de21f010_2de1_11ec_8d31_3448ed8377bdrow2_col0\" class=\"data row2 col0\" >3</td>\n",
       "                        <td id=\"T_de21f010_2de1_11ec_8d31_3448ed8377bdrow2_col1\" class=\"data row2 col1\" >1900</td>\n",
       "            </tr>\n",
       "    </tbody></table>"
      ],
      "text/plain": [
       "<pandas.io.formats.style.Styler at 0x1f12e75ec48>"
      ]
     },
     "execution_count": 156,
     "metadata": {},
     "output_type": "execute_result"
    }
   ],
   "source": [
    "#@labels=tweets_df.groupby(\"label\").agg({'tweet_text':'count'}).rename(columns={'tweet_text':'tweet_count'}).sort_values(by=\"tweet_count\", ascending=False)\n",
    "\n",
    "\n",
    "labels = tweets_df.groupby('label').count()['tweet_text'].reset_index().sort_values(by='label',ascending=True)\n",
    "labels.style.background_gradient(cmap='gist_earth_r')"
   ]
  },
  {
   "cell_type": "code",
   "execution_count": 157,
   "metadata": {},
   "outputs": [
    {
     "data": {
      "text/plain": [
       "<AxesSubplot:xlabel='label', ylabel='count'>"
      ]
     },
     "execution_count": 157,
     "metadata": {},
     "output_type": "execute_result"
    },
    {
     "data": {
      "image/png": "[encoded data removed]",
      "text/plain": [
       "<Figure size 360x360 with 1 Axes>"
      ]
     },
     "metadata": {
      "needs_background": "light"
     },
     "output_type": "display_data"
    }
   ],
   "source": [
    "plt.figure(figsize=(5,5))\n",
    "sns.countplot(x='label',data=tweets_df)\n",
    "\n"
   ]
  },
  {
   "cell_type": "code",
   "execution_count": null,
   "metadata": {},
   "outputs": [],
   "source": []
  },
  {
   "cell_type": "code",
   "execution_count": 158,
   "metadata": {},
   "outputs": [
    {
     "data": {
      "application/vnd.plotly.v1+json": {
       "config": {
        "plotlyServerURL": "https://plot.ly"
       },
       "data": [
        {
         "text": [
          1,
          2,
          3
         ],
         "title": {
          "position": "top center",
          "text": "Funnel-Chart of Sentiment Distribution"
         },
         "type": "funnelarea",
         "values": [
          420,
          3680,
          1900
         ]
        }
       ],
       "layout": {
        "template": {
         "data": {
          "bar": [
           {
            "error_x": {
             "color": "#2a3f5f"
            },
            "error_y": {
             "color": "#2a3f5f"
            },
            "marker": {
             "line": {
              "color": "#E5ECF6",
              "width": 0.5
             }
            },
            "type": "bar"
           }
          ],
          "barpolar": [
           {
            "marker": {
             "line": {
              "color": "#E5ECF6",
              "width": 0.5
             }
            },
            "type": "barpolar"
           }
          ],
          "carpet": [
           {
            "aaxis": {
             "endlinecolor": "#2a3f5f",
             "gridcolor": "white",
             "linecolor": "white",
             "minorgridcolor": "white",
             "startlinecolor": "#2a3f5f"
            },
            "baxis": {
             "endlinecolor": "#2a3f5f",
             "gridcolor": "white",
             "linecolor": "white",
             "minorgridcolor": "white",
             "startlinecolor": "#2a3f5f"
            },
            "type": "carpet"
           }
          ],
          "choropleth": [
           {
            "colorbar": {
             "outlinewidth": 0,
             "ticks": ""
            },
            "type": "choropleth"
           }
          ],
          "contour": [
           {
            "colorbar": {
             "outlinewidth": 0,
             "ticks": ""
            },
            "colorscale": [
             [
              0,
              "#0d0887"
             ],
             [
              0.1111111111111111,
              "#46039f"
             ],
             [
              0.2222222222222222,
              "#7201a8"
             ],
             [
              0.3333333333333333,
              "#9c179e"
             ],
             [
              0.4444444444444444,
              "#bd3786"
             ],
             [
              0.5555555555555556,
              "#d8576b"
             ],
             [
              0.6666666666666666,
              "#ed7953"
             ],
             [
              0.7777777777777778,
              "#fb9f3a"
             ],
             [
              0.8888888888888888,
              "#fdca26"
             ],
             [
              1,
              "#f0f921"
             ]
            ],
            "type": "contour"
           }
          ],
          "contourcarpet": [
           {
            "colorbar": {
             "outlinewidth": 0,
             "ticks": ""
            },
            "type": "contourcarpet"
           }
          ],
          "heatmap": [
           {
            "colorbar": {
             "outlinewidth": 0,
             "ticks": ""
            },
            "colorscale": [
             [
              0,
              "#0d0887"
             ],
             [
              0.1111111111111111,
              "#46039f"
             ],
             [
              0.2222222222222222,
              "#7201a8"
             ],
             [
              0.3333333333333333,
              "#9c179e"
             ],
             [
              0.4444444444444444,
              "#bd3786"
             ],
             [
              0.5555555555555556,
              "#d8576b"
             ],
             [
              0.6666666666666666,
              "#ed7953"
             ],
             [
              0.7777777777777778,
              "#fb9f3a"
             ],
             [
              0.8888888888888888,
              "#fdca26"
             ],
             [
              1,
              "#f0f921"
             ]
            ],
            "type": "heatmap"
           }
          ],
          "heatmapgl": [
           {
            "colorbar": {
             "outlinewidth": 0,
             "ticks": ""
            },
            "colorscale": [
             [
              0,
              "#0d0887"
             ],
             [
              0.1111111111111111,
              "#46039f"
             ],
             [
              0.2222222222222222,
              "#7201a8"
             ],
             [
              0.3333333333333333,
              "#9c179e"
             ],
             [
              0.4444444444444444,
              "#bd3786"
             ],
             [
              0.5555555555555556,
              "#d8576b"
             ],
             [
              0.6666666666666666,
              "#ed7953"
             ],
             [
              0.7777777777777778,
              "#fb9f3a"
             ],
             [
              0.8888888888888888,
              "#fdca26"
             ],
             [
              1,
              "#f0f921"
             ]
            ],
            "type": "heatmapgl"
           }
          ],
          "histogram": [
           {
            "marker": {
             "colorbar": {
              "outlinewidth": 0,
              "ticks": ""
             }
            },
            "type": "histogram"
           }
          ],
          "histogram2d": [
           {
            "colorbar": {
             "outlinewidth": 0,
             "ticks": ""
            },
            "colorscale": [
             [
              0,
              "#0d0887"
             ],
             [
              0.1111111111111111,
              "#46039f"
             ],
             [
              0.2222222222222222,
              "#7201a8"
             ],
             [
              0.3333333333333333,
              "#9c179e"
             ],
             [
              0.4444444444444444,
              "#bd3786"
             ],
             [
              0.5555555555555556,
              "#d8576b"
             ],
             [
              0.6666666666666666,
              "#ed7953"
             ],
             [
              0.7777777777777778,
              "#fb9f3a"
             ],
             [
              0.8888888888888888,
              "#fdca26"
             ],
             [
              1,
              "#f0f921"
             ]
            ],
            "type": "histogram2d"
           }
          ],
          "histogram2dcontour": [
           {
            "colorbar": {
             "outlinewidth": 0,
             "ticks": ""
            },
            "colorscale": [
             [
              0,
              "#0d0887"
             ],
             [
              0.1111111111111111,
              "#46039f"
             ],
             [
              0.2222222222222222,
              "#7201a8"
             ],
             [
              0.3333333333333333,
              "#9c179e"
             ],
             [
              0.4444444444444444,
              "#bd3786"
             ],
             [
              0.5555555555555556,
              "#d8576b"
             ],
             [
              0.6666666666666666,
              "#ed7953"
             ],
             [
              0.7777777777777778,
              "#fb9f3a"
             ],
             [
              0.8888888888888888,
              "#fdca26"
             ],
             [
              1,
              "#f0f921"
             ]
            ],
            "type": "histogram2dcontour"
           }
          ],
          "mesh3d": [
           {
            "colorbar": {
             "outlinewidth": 0,
             "ticks": ""
            },
            "type": "mesh3d"
           }
          ],
          "parcoords": [
           {
            "line": {
             "colorbar": {
              "outlinewidth": 0,
              "ticks": ""
             }
            },
            "type": "parcoords"
           }
          ],
          "pie": [
           {
            "automargin": true,
            "type": "pie"
           }
          ],
          "scatter": [
           {
            "marker": {
             "colorbar": {
              "outlinewidth": 0,
              "ticks": ""
             }
            },
            "type": "scatter"
           }
          ],
          "scatter3d": [
           {
            "line": {
             "colorbar": {
              "outlinewidth": 0,
              "ticks": ""
             }
            },
            "marker": {
             "colorbar": {
              "outlinewidth": 0,
              "ticks": ""
             }
            },
            "type": "scatter3d"
           }
          ],
          "scattercarpet": [
           {
            "marker": {
             "colorbar": {
              "outlinewidth": 0,
              "ticks": ""
             }
            },
            "type": "scattercarpet"
           }
          ],
          "scattergeo": [
           {
            "marker": {
             "colorbar": {
              "outlinewidth": 0,
              "ticks": ""
             }
            },
            "type": "scattergeo"
           }
          ],
          "scattergl": [
           {
            "marker": {
             "colorbar": {
              "outlinewidth": 0,
              "ticks": ""
             }
            },
            "type": "scattergl"
           }
          ],
          "scattermapbox": [
           {
            "marker": {
             "colorbar": {
              "outlinewidth": 0,
              "ticks": ""
             }
            },
            "type": "scattermapbox"
           }
          ],
          "scatterpolar": [
           {
            "marker": {
             "colorbar": {
              "outlinewidth": 0,
              "ticks": ""
             }
            },
            "type": "scatterpolar"
           }
          ],
          "scatterpolargl": [
           {
            "marker": {
             "colorbar": {
              "outlinewidth": 0,
              "ticks": ""
             }
            },
            "type": "scatterpolargl"
           }
          ],
          "scatterternary": [
           {
            "marker": {
             "colorbar": {
              "outlinewidth": 0,
              "ticks": ""
             }
            },
            "type": "scatterternary"
           }
          ],
          "surface": [
           {
            "colorbar": {
             "outlinewidth": 0,
             "ticks": ""
            },
            "colorscale": [
             [
              0,
              "#0d0887"
             ],
             [
              0.1111111111111111,
              "#46039f"
             ],
             [
              0.2222222222222222,
              "#7201a8"
             ],
             [
              0.3333333333333333,
              "#9c179e"
             ],
             [
              0.4444444444444444,
              "#bd3786"
             ],
             [
              0.5555555555555556,
              "#d8576b"
             ],
             [
              0.6666666666666666,
              "#ed7953"
             ],
             [
              0.7777777777777778,
              "#fb9f3a"
             ],
             [
              0.8888888888888888,
              "#fdca26"
             ],
             [
              1,
              "#f0f921"
             ]
            ],
            "type": "surface"
           }
          ],
          "table": [
           {
            "cells": {
             "fill": {
              "color": "#EBF0F8"
             },
             "line": {
              "color": "white"
             }
            },
            "header": {
             "fill": {
              "color": "#C8D4E3"
             },
             "line": {
              "color": "white"
             }
            },
            "type": "table"
           }
          ]
         },
         "layout": {
          "annotationdefaults": {
           "arrowcolor": "#2a3f5f",
           "arrowhead": 0,
           "arrowwidth": 1
          },
          "coloraxis": {
           "colorbar": {
            "outlinewidth": 0,
            "ticks": ""
           }
          },
          "colorscale": {
           "diverging": [
            [
             0,
             "#8e0152"
            ],
            [
             0.1,
             "#c51b7d"
            ],
            [
             0.2,
             "#de77ae"
            ],
            [
             0.3,
             "#f1b6da"
            ],
            [
             0.4,
             "#fde0ef"
            ],
            [
             0.5,
             "#f7f7f7"
            ],
            [
             0.6,
             "#e6f5d0"
            ],
            [
             0.7,
             "#b8e186"
            ],
            [
             0.8,
             "#7fbc41"
            ],
            [
             0.9,
             "#4d9221"
            ],
            [
             1,
             "#276419"
            ]
           ],
           "sequential": [
            [
             0,
             "#0d0887"
            ],
            [
             0.1111111111111111,
             "#46039f"
            ],
            [
             0.2222222222222222,
             "#7201a8"
            ],
            [
             0.3333333333333333,
             "#9c179e"
            ],
            [
             0.4444444444444444,
             "#bd3786"
            ],
            [
             0.5555555555555556,
             "#d8576b"
            ],
            [
             0.6666666666666666,
             "#ed7953"
            ],
            [
             0.7777777777777778,
             "#fb9f3a"
            ],
            [
             0.8888888888888888,
             "#fdca26"
            ],
            [
             1,
             "#f0f921"
            ]
           ],
           "sequentialminus": [
            [
             0,
             "#0d0887"
            ],
            [
             0.1111111111111111,
             "#46039f"
            ],
            [
             0.2222222222222222,
             "#7201a8"
            ],
            [
             0.3333333333333333,
             "#9c179e"
            ],
            [
             0.4444444444444444,
             "#bd3786"
            ],
            [
             0.5555555555555556,
             "#d8576b"
            ],
            [
             0.6666666666666666,
             "#ed7953"
            ],
            [
             0.7777777777777778,
             "#fb9f3a"
            ],
            [
             0.8888888888888888,
             "#fdca26"
            ],
            [
             1,
             "#f0f921"
            ]
           ]
          },
          "colorway": [
           "#636efa",
           "#EF553B",
           "#00cc96",
           "#ab63fa",
           "#FFA15A",
           "#19d3f3",
           "#FF6692",
           "#B6E880",
           "#FF97FF",
           "#FECB52"
          ],
          "font": {
           "color": "#2a3f5f"
          },
          "geo": {
           "bgcolor": "white",
           "lakecolor": "white",
           "landcolor": "#E5ECF6",
           "showlakes": true,
           "showland": true,
           "subunitcolor": "white"
          },
          "hoverlabel": {
           "align": "left"
          },
          "hovermode": "closest",
          "mapbox": {
           "style": "light"
          },
          "paper_bgcolor": "white",
          "plot_bgcolor": "#E5ECF6",
          "polar": {
           "angularaxis": {
            "gridcolor": "white",
            "linecolor": "white",
            "ticks": ""
           },
           "bgcolor": "#E5ECF6",
           "radialaxis": {
            "gridcolor": "white",
            "linecolor": "white",
            "ticks": ""
           }
          },
          "scene": {
           "xaxis": {
            "backgroundcolor": "#E5ECF6",
            "gridcolor": "white",
            "gridwidth": 2,
            "linecolor": "white",
            "showbackground": true,
            "ticks": "",
            "zerolinecolor": "white"
           },
           "yaxis": {
            "backgroundcolor": "#E5ECF6",
            "gridcolor": "white",
            "gridwidth": 2,
            "linecolor": "white",
            "showbackground": true,
            "ticks": "",
            "zerolinecolor": "white"
           },
           "zaxis": {
            "backgroundcolor": "#E5ECF6",
            "gridcolor": "white",
            "gridwidth": 2,
            "linecolor": "white",
            "showbackground": true,
            "ticks": "",
            "zerolinecolor": "white"
           }
          },
          "shapedefaults": {
           "line": {
            "color": "#2a3f5f"
           }
          },
          "ternary": {
           "aaxis": {
            "gridcolor": "white",
            "linecolor": "white",
            "ticks": ""
           },
           "baxis": {
            "gridcolor": "white",
            "linecolor": "white",
            "ticks": ""
           },
           "bgcolor": "#E5ECF6",
           "caxis": {
            "gridcolor": "white",
            "linecolor": "white",
            "ticks": ""
           }
          },
          "title": {
           "x": 0.05
          },
          "xaxis": {
           "automargin": true,
           "gridcolor": "white",
           "linecolor": "white",
           "ticks": "",
           "title": {
            "standoff": 15
           },
           "zerolinecolor": "white",
           "zerolinewidth": 2
          },
          "yaxis": {
           "automargin": true,
           "gridcolor": "white",
           "linecolor": "white",
           "ticks": "",
           "title": {
            "standoff": 15
           },
           "zerolinecolor": "white",
           "zerolinewidth": 2
          }
         }
        }
       }
      },
      "text/html": [
       "<div>\n",
       "        \n",
       "        \n",
       "            <div id=\"366e26a3-1694-450b-afee-c8b8dbc9eca1\" class=\"plotly-graph-div\" style=\"height:525px; width:100%;\"></div>\n",
       "            <script type=\"text/javascript\">\n",
       "                require([\"plotly\"], function(Plotly) {\n",
       "                    window.PLOTLYENV=window.PLOTLYENV || {};\n",
       "                    \n",
       "                if (document.getElementById(\"366e26a3-1694-450b-afee-c8b8dbc9eca1\")) {\n",
       "                    Plotly.newPlot(\n",
       "                        '366e26a3-1694-450b-afee-c8b8dbc9eca1',\n",
       "                        [{\"text\": [1, 2, 3], \"title\": {\"position\": \"top center\", \"text\": \"Funnel-Chart of Sentiment Distribution\"}, \"type\": \"funnelarea\", \"values\": [420, 3680, 1900]}],\n",
       "                        {\"template\": {\"data\": {\"bar\": [{\"error_x\": {\"color\": \"#2a3f5f\"}, \"error_y\": {\"color\": \"#2a3f5f\"}, \"marker\": {\"line\": {\"color\": \"#E5ECF6\", \"width\": 0.5}}, \"type\": \"bar\"}], \"barpolar\": [{\"marker\": {\"line\": {\"color\": \"#E5ECF6\", \"width\": 0.5}}, \"type\": \"barpolar\"}], \"carpet\": [{\"aaxis\": {\"endlinecolor\": \"#2a3f5f\", \"gridcolor\": \"white\", \"linecolor\": \"white\", \"minorgridcolor\": \"white\", \"startlinecolor\": \"#2a3f5f\"}, \"baxis\": {\"endlinecolor\": \"#2a3f5f\", \"gridcolor\": \"white\", \"linecolor\": \"white\", \"minorgridcolor\": \"white\", \"startlinecolor\": \"#2a3f5f\"}, \"type\": \"carpet\"}], \"choropleth\": [{\"colorbar\": {\"outlinewidth\": 0, \"ticks\": \"\"}, \"type\": \"choropleth\"}], \"contour\": [{\"colorbar\": {\"outlinewidth\": 0, \"ticks\": \"\"}, \"colorscale\": [[0.0, \"#0d0887\"], [0.1111111111111111, \"#46039f\"], [0.2222222222222222, \"#7201a8\"], [0.3333333333333333, \"#9c179e\"], [0.4444444444444444, \"#bd3786\"], [0.5555555555555556, \"#d8576b\"], [0.6666666666666666, \"#ed7953\"], [0.7777777777777778, \"#fb9f3a\"], [0.8888888888888888, \"#fdca26\"], [1.0, \"#f0f921\"]], \"type\": \"contour\"}], \"contourcarpet\": [{\"colorbar\": {\"outlinewidth\": 0, \"ticks\": \"\"}, \"type\": \"contourcarpet\"}], \"heatmap\": [{\"colorbar\": {\"outlinewidth\": 0, \"ticks\": \"\"}, \"colorscale\": [[0.0, \"#0d0887\"], [0.1111111111111111, \"#46039f\"], [0.2222222222222222, \"#7201a8\"], [0.3333333333333333, \"#9c179e\"], [0.4444444444444444, \"#bd3786\"], [0.5555555555555556, \"#d8576b\"], [0.6666666666666666, \"#ed7953\"], [0.7777777777777778, \"#fb9f3a\"], [0.8888888888888888, \"#fdca26\"], [1.0, \"#f0f921\"]], \"type\": \"heatmap\"}], \"heatmapgl\": [{\"colorbar\": {\"outlinewidth\": 0, \"ticks\": \"\"}, \"colorscale\": [[0.0, \"#0d0887\"], [0.1111111111111111, \"#46039f\"], [0.2222222222222222, \"#7201a8\"], [0.3333333333333333, \"#9c179e\"], [0.4444444444444444, \"#bd3786\"], [0.5555555555555556, \"#d8576b\"], [0.6666666666666666, \"#ed7953\"], [0.7777777777777778, \"#fb9f3a\"], [0.8888888888888888, \"#fdca26\"], [1.0, \"#f0f921\"]], \"type\": \"heatmapgl\"}], \"histogram\": [{\"marker\": {\"colorbar\": {\"outlinewidth\": 0, \"ticks\": \"\"}}, \"type\": \"histogram\"}], \"histogram2d\": [{\"colorbar\": {\"outlinewidth\": 0, \"ticks\": \"\"}, \"colorscale\": [[0.0, \"#0d0887\"], [0.1111111111111111, \"#46039f\"], [0.2222222222222222, \"#7201a8\"], [0.3333333333333333, \"#9c179e\"], [0.4444444444444444, \"#bd3786\"], [0.5555555555555556, \"#d8576b\"], [0.6666666666666666, \"#ed7953\"], [0.7777777777777778, \"#fb9f3a\"], [0.8888888888888888, \"#fdca26\"], [1.0, \"#f0f921\"]], \"type\": \"histogram2d\"}], \"histogram2dcontour\": [{\"colorbar\": {\"outlinewidth\": 0, \"ticks\": \"\"}, \"colorscale\": [[0.0, \"#0d0887\"], [0.1111111111111111, \"#46039f\"], [0.2222222222222222, \"#7201a8\"], [0.3333333333333333, \"#9c179e\"], [0.4444444444444444, \"#bd3786\"], [0.5555555555555556, \"#d8576b\"], [0.6666666666666666, \"#ed7953\"], [0.7777777777777778, \"#fb9f3a\"], [0.8888888888888888, \"#fdca26\"], [1.0, \"#f0f921\"]], \"type\": \"histogram2dcontour\"}], \"mesh3d\": [{\"colorbar\": {\"outlinewidth\": 0, \"ticks\": \"\"}, \"type\": \"mesh3d\"}], \"parcoords\": [{\"line\": {\"colorbar\": {\"outlinewidth\": 0, \"ticks\": \"\"}}, \"type\": \"parcoords\"}], \"pie\": [{\"automargin\": true, \"type\": \"pie\"}], \"scatter\": [{\"marker\": {\"colorbar\": {\"outlinewidth\": 0, \"ticks\": \"\"}}, \"type\": \"scatter\"}], \"scatter3d\": [{\"line\": {\"colorbar\": {\"outlinewidth\": 0, \"ticks\": \"\"}}, \"marker\": {\"colorbar\": {\"outlinewidth\": 0, \"ticks\": \"\"}}, \"type\": \"scatter3d\"}], \"scattercarpet\": [{\"marker\": {\"colorbar\": {\"outlinewidth\": 0, \"ticks\": \"\"}}, \"type\": \"scattercarpet\"}], \"scattergeo\": [{\"marker\": {\"colorbar\": {\"outlinewidth\": 0, \"ticks\": \"\"}}, \"type\": \"scattergeo\"}], \"scattergl\": [{\"marker\": {\"colorbar\": {\"outlinewidth\": 0, \"ticks\": \"\"}}, \"type\": \"scattergl\"}], \"scattermapbox\": [{\"marker\": {\"colorbar\": {\"outlinewidth\": 0, \"ticks\": \"\"}}, \"type\": \"scattermapbox\"}], \"scatterpolar\": [{\"marker\": {\"colorbar\": {\"outlinewidth\": 0, \"ticks\": \"\"}}, \"type\": \"scatterpolar\"}], \"scatterpolargl\": [{\"marker\": {\"colorbar\": {\"outlinewidth\": 0, \"ticks\": \"\"}}, \"type\": \"scatterpolargl\"}], \"scatterternary\": [{\"marker\": {\"colorbar\": {\"outlinewidth\": 0, \"ticks\": \"\"}}, \"type\": \"scatterternary\"}], \"surface\": [{\"colorbar\": {\"outlinewidth\": 0, \"ticks\": \"\"}, \"colorscale\": [[0.0, \"#0d0887\"], [0.1111111111111111, \"#46039f\"], [0.2222222222222222, \"#7201a8\"], [0.3333333333333333, \"#9c179e\"], [0.4444444444444444, \"#bd3786\"], [0.5555555555555556, \"#d8576b\"], [0.6666666666666666, \"#ed7953\"], [0.7777777777777778, \"#fb9f3a\"], [0.8888888888888888, \"#fdca26\"], [1.0, \"#f0f921\"]], \"type\": \"surface\"}], \"table\": [{\"cells\": {\"fill\": {\"color\": \"#EBF0F8\"}, \"line\": {\"color\": \"white\"}}, \"header\": {\"fill\": {\"color\": \"#C8D4E3\"}, \"line\": {\"color\": \"white\"}}, \"type\": \"table\"}]}, \"layout\": {\"annotationdefaults\": {\"arrowcolor\": \"#2a3f5f\", \"arrowhead\": 0, \"arrowwidth\": 1}, \"coloraxis\": {\"colorbar\": {\"outlinewidth\": 0, \"ticks\": \"\"}}, \"colorscale\": {\"diverging\": [[0, \"#8e0152\"], [0.1, \"#c51b7d\"], [0.2, \"#de77ae\"], [0.3, \"#f1b6da\"], [0.4, \"#fde0ef\"], [0.5, \"#f7f7f7\"], [0.6, \"#e6f5d0\"], [0.7, \"#b8e186\"], [0.8, \"#7fbc41\"], [0.9, \"#4d9221\"], [1, \"#276419\"]], \"sequential\": [[0.0, \"#0d0887\"], [0.1111111111111111, \"#46039f\"], [0.2222222222222222, \"#7201a8\"], [0.3333333333333333, \"#9c179e\"], [0.4444444444444444, \"#bd3786\"], [0.5555555555555556, \"#d8576b\"], [0.6666666666666666, \"#ed7953\"], [0.7777777777777778, \"#fb9f3a\"], [0.8888888888888888, \"#fdca26\"], [1.0, \"#f0f921\"]], \"sequentialminus\": [[0.0, \"#0d0887\"], [0.1111111111111111, \"#46039f\"], [0.2222222222222222, \"#7201a8\"], [0.3333333333333333, \"#9c179e\"], [0.4444444444444444, \"#bd3786\"], [0.5555555555555556, \"#d8576b\"], [0.6666666666666666, \"#ed7953\"], [0.7777777777777778, \"#fb9f3a\"], [0.8888888888888888, \"#fdca26\"], [1.0, \"#f0f921\"]]}, \"colorway\": [\"#636efa\", \"#EF553B\", \"#00cc96\", \"#ab63fa\", \"#FFA15A\", \"#19d3f3\", \"#FF6692\", \"#B6E880\", \"#FF97FF\", \"#FECB52\"], \"font\": {\"color\": \"#2a3f5f\"}, \"geo\": {\"bgcolor\": \"white\", \"lakecolor\": \"white\", \"landcolor\": \"#E5ECF6\", \"showlakes\": true, \"showland\": true, \"subunitcolor\": \"white\"}, \"hoverlabel\": {\"align\": \"left\"}, \"hovermode\": \"closest\", \"mapbox\": {\"style\": \"light\"}, \"paper_bgcolor\": \"white\", \"plot_bgcolor\": \"#E5ECF6\", \"polar\": {\"angularaxis\": {\"gridcolor\": \"white\", \"linecolor\": \"white\", \"ticks\": \"\"}, \"bgcolor\": \"#E5ECF6\", \"radialaxis\": {\"gridcolor\": \"white\", \"linecolor\": \"white\", \"ticks\": \"\"}}, \"scene\": {\"xaxis\": {\"backgroundcolor\": \"#E5ECF6\", \"gridcolor\": \"white\", \"gridwidth\": 2, \"linecolor\": \"white\", \"showbackground\": true, \"ticks\": \"\", \"zerolinecolor\": \"white\"}, \"yaxis\": {\"backgroundcolor\": \"#E5ECF6\", \"gridcolor\": \"white\", \"gridwidth\": 2, \"linecolor\": \"white\", \"showbackground\": true, \"ticks\": \"\", \"zerolinecolor\": \"white\"}, \"zaxis\": {\"backgroundcolor\": \"#E5ECF6\", \"gridcolor\": \"white\", \"gridwidth\": 2, \"linecolor\": \"white\", \"showbackground\": true, \"ticks\": \"\", \"zerolinecolor\": \"white\"}}, \"shapedefaults\": {\"line\": {\"color\": \"#2a3f5f\"}}, \"ternary\": {\"aaxis\": {\"gridcolor\": \"white\", \"linecolor\": \"white\", \"ticks\": \"\"}, \"baxis\": {\"gridcolor\": \"white\", \"linecolor\": \"white\", \"ticks\": \"\"}, \"bgcolor\": \"#E5ECF6\", \"caxis\": {\"gridcolor\": \"white\", \"linecolor\": \"white\", \"ticks\": \"\"}}, \"title\": {\"x\": 0.05}, \"xaxis\": {\"automargin\": true, \"gridcolor\": \"white\", \"linecolor\": \"white\", \"ticks\": \"\", \"title\": {\"standoff\": 15}, \"zerolinecolor\": \"white\", \"zerolinewidth\": 2}, \"yaxis\": {\"automargin\": true, \"gridcolor\": \"white\", \"linecolor\": \"white\", \"ticks\": \"\", \"title\": {\"standoff\": 15}, \"zerolinecolor\": \"white\", \"zerolinewidth\": 2}}}},\n",
       "                        {\"responsive\": true}\n",
       "                    ).then(function(){\n",
       "                            \n",
       "var gd = document.getElementById('366e26a3-1694-450b-afee-c8b8dbc9eca1');\n",
       "var x = new MutationObserver(function (mutations, observer) {{\n",
       "        var display = window.getComputedStyle(gd).display;\n",
       "        if (!display || display === 'none') {{\n",
       "            console.log([gd, 'removed!']);\n",
       "            Plotly.purge(gd);\n",
       "            observer.disconnect();\n",
       "        }}\n",
       "}});\n",
       "\n",
       "// Listen for the removal of the full notebook cells\n",
       "var notebookContainer = gd.closest('#notebook-container');\n",
       "if (notebookContainer) {{\n",
       "    x.observe(notebookContainer, {childList: true});\n",
       "}}\n",
       "\n",
       "// Listen for the clearing of the current output cell\n",
       "var outputEl = gd.closest('.output');\n",
       "if (outputEl) {{\n",
       "    x.observe(outputEl, {childList: true});\n",
       "}}\n",
       "\n",
       "                        })\n",
       "                };\n",
       "                });\n",
       "            </script>\n",
       "        </div>"
      ]
     },
     "metadata": {},
     "output_type": "display_data"
    }
   ],
   "source": [
    "fig = go.Figure(go.Funnelarea(\n",
    "    text =labels.label,\n",
    "    values = labels.tweet_text,\n",
    "    title = {\"position\": \"top center\", \"text\": \"Funnel-Chart of Sentiment Distribution\"}\n",
    "    ))\n",
    "fig.show()"
   ]
  },
  {
   "cell_type": "code",
   "execution_count": 159,
   "metadata": {},
   "outputs": [
    {
     "data": {
      "text/html": [
       "<div>\n",
       "<style scoped>\n",
       "    .dataframe tbody tr th:only-of-type {\n",
       "        vertical-align: middle;\n",
       "    }\n",
       "\n",
       "    .dataframe tbody tr th {\n",
       "        vertical-align: top;\n",
       "    }\n",
       "\n",
       "    .dataframe thead th {\n",
       "        text-align: right;\n",
       "    }\n",
       "</style>\n",
       "<table border=\"1\" class=\"dataframe\">\n",
       "  <thead>\n",
       "    <tr style=\"text-align: right;\">\n",
       "      <th></th>\n",
       "      <th>tweet_id</th>\n",
       "      <th>label</th>\n",
       "      <th>tweet_text</th>\n",
       "    </tr>\n",
       "  </thead>\n",
       "  <tbody>\n",
       "    <tr>\n",
       "      <th>0</th>\n",
       "      <td>1.360342e+18</td>\n",
       "      <td>1</td>\n",
       "      <td>4,000 a day dying from the so called Covid-19 vaccine @DailyBeast reports. #vaccine #PfizerVaccine #Moderna \\n\\nhttps://t.co/p1nQWWZpk4</td>\n",
       "    </tr>\n",
       "    <tr>\n",
       "      <th>1</th>\n",
       "      <td>1.382896e+18</td>\n",
       "      <td>2</td>\n",
       "      <td>Pranam message for today manifested in Dhyan by @meenapranam #truth #love #karm #light #nature #consciousness #FridayThoughts #fridaymorning #CoronavirusIndia #COVID19India #?????_???????? #navratri #Thane #AmbedkarJayanti2021 #ModiJi #NarendraModi #SecondCOVIDWave #Covaxin https://t.co/bQNoMVowJg</td>\n",
       "    </tr>\n",
       "    <tr>\n",
       "      <th>2</th>\n",
       "      <td>1.375673e+18</td>\n",
       "      <td>2</td>\n",
       "      <td>Hyderabad-based ?@BharatBiotech? has sought funds from the government to ramp up production of its indigenously developed Covid-19 vaccine, #Covaxin .\\nThe company has written to the ??@DBTIndia? seeking Rs 100 crore to ramp up. https://t.co/wjWlVIGMC4</td>\n",
       "    </tr>\n",
       "    <tr>\n",
       "      <th>3</th>\n",
       "      <td>1.381311e+18</td>\n",
       "      <td>1</td>\n",
       "      <td>Confirmation that Chinese #vaccines \"dont have very high protection rates\", according to the director of the China Centers for Disease Control, Gao Fu.\\n\\n#Sinovac effectiveness \"found to be as low as 50.4% by researchers in Brazil\"; &amp;lt;50% is 'not useful'.\\n\\nhttps://t.co/S2OoHjd7Do</td>\n",
       "    </tr>\n",
       "    <tr>\n",
       "      <th>4</th>\n",
       "      <td>1.362166e+18</td>\n",
       "      <td>3</td>\n",
       "      <td>Lab studies suggest #Pfizer, #Moderna vaccines can protect against #coronavirusvariant\\nhttps://t.co/NPaFA68m57</td>\n",
       "    </tr>\n",
       "    <tr>\n",
       "      <th>...</th>\n",
       "      <td>...</td>\n",
       "      <td>...</td>\n",
       "      <td>...</td>\n",
       "    </tr>\n",
       "    <tr>\n",
       "      <th>5995</th>\n",
       "      <td>1.370975e+18</td>\n",
       "      <td>2</td>\n",
       "      <td>@Swamy39 Dr. @Swamy39 jee :\\n\\nMany people like to get Covaxin vaccination done, but this is not available at most places and people are putting Covishield as the only vaccine available. If Rs. 250 is any issue, people are willing to pay more for #Covaxin - You may kindly help people on it. https://t.co/t5IOmwaxVy</td>\n",
       "    </tr>\n",
       "    <tr>\n",
       "      <th>5996</th>\n",
       "      <td>1.379827e+18</td>\n",
       "      <td>3</td>\n",
       "      <td>So happy to be fully vaccinated against COVID-19!! Im ready to serve more with all i can! ??????? #VaccinesWork #VaccinesSaveLives #Sinovac #GetVaccinated @ Manila, Philippines https://t.co/m6LYroEEg8</td>\n",
       "    </tr>\n",
       "    <tr>\n",
       "      <th>5997</th>\n",
       "      <td>1.384789e+18</td>\n",
       "      <td>2</td>\n",
       "      <td>Serum Institute of India announces cost of Covishield vaccine. \\nThe vaccine will cost Rs 400 in Govt hospitals &amp;amp; Rs 600 in private hospitals.\\n#Covaxin #India \\n#Covishieldvaccine #COVID19 #SerumInstituteofIndia https://t.co/gik9zrR4JH</td>\n",
       "    </tr>\n",
       "    <tr>\n",
       "      <th>5998</th>\n",
       "      <td>1.382355e+18</td>\n",
       "      <td>1</td>\n",
       "      <td>@___batshitcrazy @BarrowfordHead @Bectully I had mine yesterday and havent been able to get out of bed today - I feel for you! #vaccinated #oxfordastrazeneca</td>\n",
       "    </tr>\n",
       "    <tr>\n",
       "      <th>5999</th>\n",
       "      <td>1.380051e+18</td>\n",
       "      <td>2</td>\n",
       "      <td>The smart sympathy attends into the oblong nothing. What if the educational feedback ate the ordinary? #COVAXIN https://t.co/N6oGtiETDP</td>\n",
       "    </tr>\n",
       "  </tbody>\n",
       "</table>\n",
       "<p>6000 rows × 3 columns</p>\n",
       "</div>"
      ],
      "text/plain": [
       "          tweet_id  label  \\\n",
       "0     1.360342e+18      1   \n",
       "1     1.382896e+18      2   \n",
       "2     1.375673e+18      2   \n",
       "3     1.381311e+18      1   \n",
       "4     1.362166e+18      3   \n",
       "...            ...    ...   \n",
       "5995  1.370975e+18      2   \n",
       "5996  1.379827e+18      3   \n",
       "5997  1.384789e+18      2   \n",
       "5998  1.382355e+18      1   \n",
       "5999  1.380051e+18      2   \n",
       "\n",
       "                                                                                                                                                                                                                                                                                                                       tweet_text  \n",
       "0                                                                                                                                                                                       4,000 a day dying from the so called Covid-19 vaccine @DailyBeast reports. #vaccine #PfizerVaccine #Moderna \\n\\nhttps://t.co/p1nQWWZpk4  \n",
       "1                      Pranam message for today manifested in Dhyan by @meenapranam #truth #love #karm #light #nature #consciousness #FridayThoughts #fridaymorning #CoronavirusIndia #COVID19India #?????_???????? #navratri #Thane #AmbedkarJayanti2021 #ModiJi #NarendraModi #SecondCOVIDWave #Covaxin https://t.co/bQNoMVowJg  \n",
       "2                                                                    Hyderabad-based ?@BharatBiotech? has sought funds from the government to ramp up production of its indigenously developed Covid-19 vaccine, #Covaxin .\\nThe company has written to the ??@DBTIndia? seeking Rs 100 crore to ramp up. https://t.co/wjWlVIGMC4  \n",
       "3                                  Confirmation that Chinese #vaccines \"dont have very high protection rates\", according to the director of the China Centers for Disease Control, Gao Fu.\\n\\n#Sinovac effectiveness \"found to be as low as 50.4% by researchers in Brazil\"; &lt;50% is 'not useful'.\\n\\nhttps://t.co/S2OoHjd7Do  \n",
       "4                                                                                                                                                                                                                 Lab studies suggest #Pfizer, #Moderna vaccines can protect against #coronavirusvariant\\nhttps://t.co/NPaFA68m57  \n",
       "...                                                                                                                                                                                                                                                                                                                           ...  \n",
       "5995  @Swamy39 Dr. @Swamy39 jee :\\n\\nMany people like to get Covaxin vaccination done, but this is not available at most places and people are putting Covishield as the only vaccine available. If Rs. 250 is any issue, people are willing to pay more for #Covaxin - You may kindly help people on it. https://t.co/t5IOmwaxVy  \n",
       "5996                                                                                                                    So happy to be fully vaccinated against COVID-19!! Im ready to serve more with all i can! ??????? #VaccinesWork #VaccinesSaveLives #Sinovac #GetVaccinated @ Manila, Philippines https://t.co/m6LYroEEg8  \n",
       "5997                                                                             Serum Institute of India announces cost of Covishield vaccine. \\nThe vaccine will cost Rs 400 in Govt hospitals &amp; Rs 600 in private hospitals.\\n#Covaxin #India \\n#Covishieldvaccine #COVID19 #SerumInstituteofIndia https://t.co/gik9zrR4JH  \n",
       "5998                                                                                                                                                               @___batshitcrazy @BarrowfordHead @Bectully I had mine yesterday and havent been able to get out of bed today - I feel for you! #vaccinated #oxfordastrazeneca  \n",
       "5999                                                                                                                                                                                      The smart sympathy attends into the oblong nothing. What if the educational feedback ate the ordinary? #COVAXIN https://t.co/N6oGtiETDP  \n",
       "\n",
       "[6000 rows x 3 columns]"
      ]
     },
     "execution_count": 159,
     "metadata": {},
     "output_type": "execute_result"
    }
   ],
   "source": [
    "tweets_df"
   ]
  },
  {
   "cell_type": "code",
   "execution_count": 160,
   "metadata": {},
   "outputs": [],
   "source": [
    "tweets_df.drop('tweet_id',inplace=True,axis=1)"
   ]
  },
  {
   "cell_type": "code",
   "execution_count": 161,
   "metadata": {},
   "outputs": [
    {
     "data": {
      "text/html": [
       "<div>\n",
       "<style scoped>\n",
       "    .dataframe tbody tr th:only-of-type {\n",
       "        vertical-align: middle;\n",
       "    }\n",
       "\n",
       "    .dataframe tbody tr th {\n",
       "        vertical-align: top;\n",
       "    }\n",
       "\n",
       "    .dataframe thead th {\n",
       "        text-align: right;\n",
       "    }\n",
       "</style>\n",
       "<table border=\"1\" class=\"dataframe\">\n",
       "  <thead>\n",
       "    <tr style=\"text-align: right;\">\n",
       "      <th></th>\n",
       "      <th>label</th>\n",
       "      <th>tweet_text</th>\n",
       "    </tr>\n",
       "  </thead>\n",
       "  <tbody>\n",
       "    <tr>\n",
       "      <th>0</th>\n",
       "      <td>1</td>\n",
       "      <td>4,000 a day dying from the so called Covid-19 vaccine @DailyBeast reports. #vaccine #PfizerVaccine #Moderna \\n\\nhttps://t.co/p1nQWWZpk4</td>\n",
       "    </tr>\n",
       "    <tr>\n",
       "      <th>1</th>\n",
       "      <td>2</td>\n",
       "      <td>Pranam message for today manifested in Dhyan by @meenapranam #truth #love #karm #light #nature #consciousness #FridayThoughts #fridaymorning #CoronavirusIndia #COVID19India #?????_???????? #navratri #Thane #AmbedkarJayanti2021 #ModiJi #NarendraModi #SecondCOVIDWave #Covaxin https://t.co/bQNoMVowJg</td>\n",
       "    </tr>\n",
       "    <tr>\n",
       "      <th>2</th>\n",
       "      <td>2</td>\n",
       "      <td>Hyderabad-based ?@BharatBiotech? has sought funds from the government to ramp up production of its indigenously developed Covid-19 vaccine, #Covaxin .\\nThe company has written to the ??@DBTIndia? seeking Rs 100 crore to ramp up. https://t.co/wjWlVIGMC4</td>\n",
       "    </tr>\n",
       "    <tr>\n",
       "      <th>3</th>\n",
       "      <td>1</td>\n",
       "      <td>Confirmation that Chinese #vaccines \"dont have very high protection rates\", according to the director of the China Centers for Disease Control, Gao Fu.\\n\\n#Sinovac effectiveness \"found to be as low as 50.4% by researchers in Brazil\"; &amp;lt;50% is 'not useful'.\\n\\nhttps://t.co/S2OoHjd7Do</td>\n",
       "    </tr>\n",
       "    <tr>\n",
       "      <th>4</th>\n",
       "      <td>3</td>\n",
       "      <td>Lab studies suggest #Pfizer, #Moderna vaccines can protect against #coronavirusvariant\\nhttps://t.co/NPaFA68m57</td>\n",
       "    </tr>\n",
       "    <tr>\n",
       "      <th>...</th>\n",
       "      <td>...</td>\n",
       "      <td>...</td>\n",
       "    </tr>\n",
       "    <tr>\n",
       "      <th>5995</th>\n",
       "      <td>2</td>\n",
       "      <td>@Swamy39 Dr. @Swamy39 jee :\\n\\nMany people like to get Covaxin vaccination done, but this is not available at most places and people are putting Covishield as the only vaccine available. If Rs. 250 is any issue, people are willing to pay more for #Covaxin - You may kindly help people on it. https://t.co/t5IOmwaxVy</td>\n",
       "    </tr>\n",
       "    <tr>\n",
       "      <th>5996</th>\n",
       "      <td>3</td>\n",
       "      <td>So happy to be fully vaccinated against COVID-19!! Im ready to serve more with all i can! ??????? #VaccinesWork #VaccinesSaveLives #Sinovac #GetVaccinated @ Manila, Philippines https://t.co/m6LYroEEg8</td>\n",
       "    </tr>\n",
       "    <tr>\n",
       "      <th>5997</th>\n",
       "      <td>2</td>\n",
       "      <td>Serum Institute of India announces cost of Covishield vaccine. \\nThe vaccine will cost Rs 400 in Govt hospitals &amp;amp; Rs 600 in private hospitals.\\n#Covaxin #India \\n#Covishieldvaccine #COVID19 #SerumInstituteofIndia https://t.co/gik9zrR4JH</td>\n",
       "    </tr>\n",
       "    <tr>\n",
       "      <th>5998</th>\n",
       "      <td>1</td>\n",
       "      <td>@___batshitcrazy @BarrowfordHead @Bectully I had mine yesterday and havent been able to get out of bed today - I feel for you! #vaccinated #oxfordastrazeneca</td>\n",
       "    </tr>\n",
       "    <tr>\n",
       "      <th>5999</th>\n",
       "      <td>2</td>\n",
       "      <td>The smart sympathy attends into the oblong nothing. What if the educational feedback ate the ordinary? #COVAXIN https://t.co/N6oGtiETDP</td>\n",
       "    </tr>\n",
       "  </tbody>\n",
       "</table>\n",
       "<p>6000 rows × 2 columns</p>\n",
       "</div>"
      ],
      "text/plain": [
       "      label  \\\n",
       "0         1   \n",
       "1         2   \n",
       "2         2   \n",
       "3         1   \n",
       "4         3   \n",
       "...     ...   \n",
       "5995      2   \n",
       "5996      3   \n",
       "5997      2   \n",
       "5998      1   \n",
       "5999      2   \n",
       "\n",
       "                                                                                                                                                                                                                                                                                                                       tweet_text  \n",
       "0                                                                                                                                                                                       4,000 a day dying from the so called Covid-19 vaccine @DailyBeast reports. #vaccine #PfizerVaccine #Moderna \\n\\nhttps://t.co/p1nQWWZpk4  \n",
       "1                      Pranam message for today manifested in Dhyan by @meenapranam #truth #love #karm #light #nature #consciousness #FridayThoughts #fridaymorning #CoronavirusIndia #COVID19India #?????_???????? #navratri #Thane #AmbedkarJayanti2021 #ModiJi #NarendraModi #SecondCOVIDWave #Covaxin https://t.co/bQNoMVowJg  \n",
       "2                                                                    Hyderabad-based ?@BharatBiotech? has sought funds from the government to ramp up production of its indigenously developed Covid-19 vaccine, #Covaxin .\\nThe company has written to the ??@DBTIndia? seeking Rs 100 crore to ramp up. https://t.co/wjWlVIGMC4  \n",
       "3                                  Confirmation that Chinese #vaccines \"dont have very high protection rates\", according to the director of the China Centers for Disease Control, Gao Fu.\\n\\n#Sinovac effectiveness \"found to be as low as 50.4% by researchers in Brazil\"; &lt;50% is 'not useful'.\\n\\nhttps://t.co/S2OoHjd7Do  \n",
       "4                                                                                                                                                                                                                 Lab studies suggest #Pfizer, #Moderna vaccines can protect against #coronavirusvariant\\nhttps://t.co/NPaFA68m57  \n",
       "...                                                                                                                                                                                                                                                                                                                           ...  \n",
       "5995  @Swamy39 Dr. @Swamy39 jee :\\n\\nMany people like to get Covaxin vaccination done, but this is not available at most places and people are putting Covishield as the only vaccine available. If Rs. 250 is any issue, people are willing to pay more for #Covaxin - You may kindly help people on it. https://t.co/t5IOmwaxVy  \n",
       "5996                                                                                                                    So happy to be fully vaccinated against COVID-19!! Im ready to serve more with all i can! ??????? #VaccinesWork #VaccinesSaveLives #Sinovac #GetVaccinated @ Manila, Philippines https://t.co/m6LYroEEg8  \n",
       "5997                                                                             Serum Institute of India announces cost of Covishield vaccine. \\nThe vaccine will cost Rs 400 in Govt hospitals &amp; Rs 600 in private hospitals.\\n#Covaxin #India \\n#Covishieldvaccine #COVID19 #SerumInstituteofIndia https://t.co/gik9zrR4JH  \n",
       "5998                                                                                                                                                               @___batshitcrazy @BarrowfordHead @Bectully I had mine yesterday and havent been able to get out of bed today - I feel for you! #vaccinated #oxfordastrazeneca  \n",
       "5999                                                                                                                                                                                      The smart sympathy attends into the oblong nothing. What if the educational feedback ate the ordinary? #COVAXIN https://t.co/N6oGtiETDP  \n",
       "\n",
       "[6000 rows x 2 columns]"
      ]
     },
     "execution_count": 161,
     "metadata": {},
     "output_type": "execute_result"
    }
   ],
   "source": [
    "tweets_df"
   ]
  },
  {
   "cell_type": "markdown",
   "metadata": {
    "papermill": {
     "duration": 0.116145,
     "end_time": "2021-03-20T10:46:06.343146",
     "exception": false,
     "start_time": "2021-03-20T10:46:06.227001",
     "status": "completed"
    },
    "tags": []
   },
   "source": [
    "## Data  processing"
   ]
  },
  {
   "cell_type": "code",
   "execution_count": 162,
   "metadata": {},
   "outputs": [
    {
     "data": {
      "text/html": [
       "<div>\n",
       "<style scoped>\n",
       "    .dataframe tbody tr th:only-of-type {\n",
       "        vertical-align: middle;\n",
       "    }\n",
       "\n",
       "    .dataframe tbody tr th {\n",
       "        vertical-align: top;\n",
       "    }\n",
       "\n",
       "    .dataframe thead th {\n",
       "        text-align: right;\n",
       "    }\n",
       "</style>\n",
       "<table border=\"1\" class=\"dataframe\">\n",
       "  <thead>\n",
       "    <tr style=\"text-align: right;\">\n",
       "      <th></th>\n",
       "      <th>clean_data</th>\n",
       "      <th>tweet_text</th>\n",
       "    </tr>\n",
       "  </thead>\n",
       "  <tbody>\n",
       "    <tr>\n",
       "      <th>0</th>\n",
       "      <td>a day dying from the so called covid     vaccine  reports</td>\n",
       "      <td>4,000 a day dying from the so called Covid-19 vaccine @DailyBeast reports. #vaccine #PfizerVaccine #Moderna \\n\\nhttps://t.co/p1nQWWZpk4</td>\n",
       "    </tr>\n",
       "    <tr>\n",
       "      <th>1</th>\n",
       "      <td>pranam message for today manifested in dhyan by</td>\n",
       "      <td>Pranam message for today manifested in Dhyan by @meenapranam #truth #love #karm #light #nature #consciousness #FridayThoughts #fridaymorning #CoronavirusIndia #COVID19India #?????_???????? #navratri #Thane #AmbedkarJayanti2021 #ModiJi #NarendraModi #SecondCOVIDWave #Covaxin https://t.co/bQNoMVowJg</td>\n",
       "    </tr>\n",
       "    <tr>\n",
       "      <th>2</th>\n",
       "      <td>hyderabad based   has sought funds from the government to ramp up production of its indigenously developed covid    vaccine    the company has written to the    seeking rs     crore to ramp up</td>\n",
       "      <td>Hyderabad-based ?@BharatBiotech? has sought funds from the government to ramp up production of its indigenously developed Covid-19 vaccine, #Covaxin .\\nThe company has written to the ??@DBTIndia? seeking Rs 100 crore to ramp up. https://t.co/wjWlVIGMC4</td>\n",
       "    </tr>\n",
       "    <tr>\n",
       "      <th>3</th>\n",
       "      <td>confirmation that chinese  don t have very high protection rates   according to the director of the china centers for disease control  gao fu  effectiveness  found to be as low as       by researchers in brazil    lt     is  not useful</td>\n",
       "      <td>Confirmation that Chinese #vaccines \"dont have very high protection rates\", according to the director of the China Centers for Disease Control, Gao Fu.\\n\\n#Sinovac effectiveness \"found to be as low as 50.4% by researchers in Brazil\"; &amp;lt;50% is 'not useful'.\\n\\nhttps://t.co/S2OoHjd7Do</td>\n",
       "    </tr>\n",
       "    <tr>\n",
       "      <th>4</th>\n",
       "      <td>lab studies suggest vaccines can protect against</td>\n",
       "      <td>Lab studies suggest #Pfizer, #Moderna vaccines can protect against #coronavirusvariant\\nhttps://t.co/NPaFA68m57</td>\n",
       "    </tr>\n",
       "  </tbody>\n",
       "</table>\n",
       "</div>"
      ],
      "text/plain": [
       "                                                                                                                                                                                                                                       clean_data  \\\n",
       "0                                                                                                                                                                                     a day dying from the so called covid     vaccine  reports     \n",
       "1                                                                                                                                                                                                pranam message for today manifested in dhyan by    \n",
       "2                                              hyderabad based   has sought funds from the government to ramp up production of its indigenously developed covid    vaccine    the company has written to the    seeking rs     crore to ramp up     \n",
       "3  confirmation that chinese  don t have very high protection rates   according to the director of the china centers for disease control  gao fu  effectiveness  found to be as low as       by researchers in brazil    lt     is  not useful      \n",
       "4                                                                                                                                                                                               lab studies suggest vaccines can protect against    \n",
       "\n",
       "                                                                                                                                                                                                                                                                                                   tweet_text  \n",
       "0                                                                                                                                                                   4,000 a day dying from the so called Covid-19 vaccine @DailyBeast reports. #vaccine #PfizerVaccine #Moderna \\n\\nhttps://t.co/p1nQWWZpk4  \n",
       "1  Pranam message for today manifested in Dhyan by @meenapranam #truth #love #karm #light #nature #consciousness #FridayThoughts #fridaymorning #CoronavirusIndia #COVID19India #?????_???????? #navratri #Thane #AmbedkarJayanti2021 #ModiJi #NarendraModi #SecondCOVIDWave #Covaxin https://t.co/bQNoMVowJg  \n",
       "2                                                Hyderabad-based ?@BharatBiotech? has sought funds from the government to ramp up production of its indigenously developed Covid-19 vaccine, #Covaxin .\\nThe company has written to the ??@DBTIndia? seeking Rs 100 crore to ramp up. https://t.co/wjWlVIGMC4  \n",
       "3              Confirmation that Chinese #vaccines \"dont have very high protection rates\", according to the director of the China Centers for Disease Control, Gao Fu.\\n\\n#Sinovac effectiveness \"found to be as low as 50.4% by researchers in Brazil\"; &lt;50% is 'not useful'.\\n\\nhttps://t.co/S2OoHjd7Do  \n",
       "4                                                                                                                                                                                             Lab studies suggest #Pfizer, #Moderna vaccines can protect against #coronavirusvariant\\nhttps://t.co/NPaFA68m57  "
      ]
     },
     "execution_count": 162,
     "metadata": {},
     "output_type": "execute_result"
    }
   ],
   "source": [
    "import neattext as ntx\n",
    "tweets_df['clean_data']=tweets_df['tweet_text']\n",
    "# Cleaning the data using neattext library\n",
    "tweets_df['clean_data']=tweets_df['clean_data'].apply(ntx.remove_hashtags)\n",
    "tweets_df['clean_data']=tweets_df['clean_data'].apply(ntx.remove_urls)\n",
    "tweets_df['clean_data']=tweets_df['clean_data'].apply(ntx.remove_userhandles)\n",
    "tweets_df['clean_data']=tweets_df['clean_data'].apply(ntx.remove_multiple_spaces)\n",
    "#tweets_df['clean_data']=tweets_df['clean_data'].apply(ntx.remove_special_characters)#\n",
    "tweets_df['clean_data']=tweets_df['clean_data'].str.replace(\"[^a-zA-Z#]\", \" \")\n",
    "tweets_df['clean_data']=tweets_df['clean_data'].apply(ntx.remove_numbers)\n",
    "tweets_df['clean_data']=tweets_df['clean_data'].apply(ntx.remove_puncts)\n",
    "tweets_df['clean_data']=tweets_df['clean_data'].apply(ntx.remove_emojis)\n",
    "tweets_df['clean_data']=tweets_df['clean_data'].str.lower()\n",
    "tweets_df[['clean_data','tweet_text']].head()\n"
   ]
  },
  {
   "cell_type": "code",
   "execution_count": 163,
   "metadata": {},
   "outputs": [
    {
     "name": "stderr",
     "output_type": "stream",
     "text": [
      "[nltk_data] Downloading package stopwords to\n",
      "[nltk_data]     C:\\Users\\rkr\\AppData\\Roaming\\nltk_data...\n",
      "[nltk_data]   Package stopwords is already up-to-date!\n",
      "[nltk_data] Downloading package wordnet to\n",
      "[nltk_data]     C:\\Users\\rkr\\AppData\\Roaming\\nltk_data...\n",
      "[nltk_data]   Package wordnet is already up-to-date!\n"
     ]
    }
   ],
   "source": [
    "import nltk\n",
    "from nltk.corpus import stopwords\n",
    "\n",
    "nltk.download('stopwords')\n",
    "nltk.download('wordnet')\n",
    "remove_words=lambda x : ' '.join([word for word in x.split() if word not in stopwords.words('english')])\n",
    "tweets_df['clean_data']=tweets_df['clean_data'].apply(remove_words)\n",
    "\n"
   ]
  },
  {
   "cell_type": "code",
   "execution_count": 164,
   "metadata": {},
   "outputs": [
    {
     "data": {
      "text/html": [
       "<div>\n",
       "<style scoped>\n",
       "    .dataframe tbody tr th:only-of-type {\n",
       "        vertical-align: middle;\n",
       "    }\n",
       "\n",
       "    .dataframe tbody tr th {\n",
       "        vertical-align: top;\n",
       "    }\n",
       "\n",
       "    .dataframe thead th {\n",
       "        text-align: right;\n",
       "    }\n",
       "</style>\n",
       "<table border=\"1\" class=\"dataframe\">\n",
       "  <thead>\n",
       "    <tr style=\"text-align: right;\">\n",
       "      <th></th>\n",
       "      <th>clean_data</th>\n",
       "      <th>tweet_text</th>\n",
       "    </tr>\n",
       "  </thead>\n",
       "  <tbody>\n",
       "    <tr>\n",
       "      <th>0</th>\n",
       "      <td>day dying called covid vaccine reports</td>\n",
       "      <td>4,000 a day dying from the so called Covid-19 vaccine @DailyBeast reports. #vaccine #PfizerVaccine #Moderna \\n\\nhttps://t.co/p1nQWWZpk4</td>\n",
       "    </tr>\n",
       "    <tr>\n",
       "      <th>1</th>\n",
       "      <td>pranam message today manifested dhyan</td>\n",
       "      <td>Pranam message for today manifested in Dhyan by @meenapranam #truth #love #karm #light #nature #consciousness #FridayThoughts #fridaymorning #CoronavirusIndia #COVID19India #?????_???????? #navratri #Thane #AmbedkarJayanti2021 #ModiJi #NarendraModi #SecondCOVIDWave #Covaxin https://t.co/bQNoMVowJg</td>\n",
       "    </tr>\n",
       "    <tr>\n",
       "      <th>2</th>\n",
       "      <td>hyderabad based sought funds government ramp production indigenously developed covid vaccine company written seeking rs crore ramp</td>\n",
       "      <td>Hyderabad-based ?@BharatBiotech? has sought funds from the government to ramp up production of its indigenously developed Covid-19 vaccine, #Covaxin .\\nThe company has written to the ??@DBTIndia? seeking Rs 100 crore to ramp up. https://t.co/wjWlVIGMC4</td>\n",
       "    </tr>\n",
       "    <tr>\n",
       "      <th>3</th>\n",
       "      <td>confirmation chinese high protection rates according director china centers disease control gao fu effectiveness found low researchers brazil lt useful</td>\n",
       "      <td>Confirmation that Chinese #vaccines \"dont have very high protection rates\", according to the director of the China Centers for Disease Control, Gao Fu.\\n\\n#Sinovac effectiveness \"found to be as low as 50.4% by researchers in Brazil\"; &amp;lt;50% is 'not useful'.\\n\\nhttps://t.co/S2OoHjd7Do</td>\n",
       "    </tr>\n",
       "    <tr>\n",
       "      <th>4</th>\n",
       "      <td>lab studies suggest vaccines protect</td>\n",
       "      <td>Lab studies suggest #Pfizer, #Moderna vaccines can protect against #coronavirusvariant\\nhttps://t.co/NPaFA68m57</td>\n",
       "    </tr>\n",
       "    <tr>\n",
       "      <th>...</th>\n",
       "      <td>...</td>\n",
       "      <td>...</td>\n",
       "    </tr>\n",
       "    <tr>\n",
       "      <th>5995</th>\n",
       "      <td>dr jee many people like get covaxin vaccination done available places people putting covishield vaccine available rs issue people willing pay may kindly help people</td>\n",
       "      <td>@Swamy39 Dr. @Swamy39 jee :\\n\\nMany people like to get Covaxin vaccination done, but this is not available at most places and people are putting Covishield as the only vaccine available. If Rs. 250 is any issue, people are willing to pay more for #Covaxin - You may kindly help people on it. https://t.co/t5IOmwaxVy</td>\n",
       "    </tr>\n",
       "    <tr>\n",
       "      <th>5996</th>\n",
       "      <td>happy fully vaccinated covid ready serve manila philippines</td>\n",
       "      <td>So happy to be fully vaccinated against COVID-19!! Im ready to serve more with all i can! ??????? #VaccinesWork #VaccinesSaveLives #Sinovac #GetVaccinated @ Manila, Philippines https://t.co/m6LYroEEg8</td>\n",
       "    </tr>\n",
       "    <tr>\n",
       "      <th>5997</th>\n",
       "      <td>serum institute india announces cost covishield vaccine vaccine cost rs govt hospitals amp rs private hospitals</td>\n",
       "      <td>Serum Institute of India announces cost of Covishield vaccine. \\nThe vaccine will cost Rs 400 in Govt hospitals &amp;amp; Rs 600 in private hospitals.\\n#Covaxin #India \\n#Covishieldvaccine #COVID19 #SerumInstituteofIndia https://t.co/gik9zrR4JH</td>\n",
       "    </tr>\n",
       "    <tr>\n",
       "      <th>5998</th>\n",
       "      <td>mine yesterday able get bed today feel</td>\n",
       "      <td>@___batshitcrazy @BarrowfordHead @Bectully I had mine yesterday and havent been able to get out of bed today - I feel for you! #vaccinated #oxfordastrazeneca</td>\n",
       "    </tr>\n",
       "    <tr>\n",
       "      <th>5999</th>\n",
       "      <td>smart sympathy attends oblong nothing educational feedback ate ordinary</td>\n",
       "      <td>The smart sympathy attends into the oblong nothing. What if the educational feedback ate the ordinary? #COVAXIN https://t.co/N6oGtiETDP</td>\n",
       "    </tr>\n",
       "  </tbody>\n",
       "</table>\n",
       "<p>6000 rows × 2 columns</p>\n",
       "</div>"
      ],
      "text/plain": [
       "                                                                                                                                                                clean_data  \\\n",
       "0                                                                                                                                   day dying called covid vaccine reports   \n",
       "1                                                                                                                                    pranam message today manifested dhyan   \n",
       "2                                       hyderabad based sought funds government ramp production indigenously developed covid vaccine company written seeking rs crore ramp   \n",
       "3                  confirmation chinese high protection rates according director china centers disease control gao fu effectiveness found low researchers brazil lt useful   \n",
       "4                                                                                                                                     lab studies suggest vaccines protect   \n",
       "...                                                                                                                                                                    ...   \n",
       "5995  dr jee many people like get covaxin vaccination done available places people putting covishield vaccine available rs issue people willing pay may kindly help people   \n",
       "5996                                                                                                           happy fully vaccinated covid ready serve manila philippines   \n",
       "5997                                                       serum institute india announces cost covishield vaccine vaccine cost rs govt hospitals amp rs private hospitals   \n",
       "5998                                                                                                                                mine yesterday able get bed today feel   \n",
       "5999                                                                                               smart sympathy attends oblong nothing educational feedback ate ordinary   \n",
       "\n",
       "                                                                                                                                                                                                                                                                                                                       tweet_text  \n",
       "0                                                                                                                                                                                       4,000 a day dying from the so called Covid-19 vaccine @DailyBeast reports. #vaccine #PfizerVaccine #Moderna \\n\\nhttps://t.co/p1nQWWZpk4  \n",
       "1                      Pranam message for today manifested in Dhyan by @meenapranam #truth #love #karm #light #nature #consciousness #FridayThoughts #fridaymorning #CoronavirusIndia #COVID19India #?????_???????? #navratri #Thane #AmbedkarJayanti2021 #ModiJi #NarendraModi #SecondCOVIDWave #Covaxin https://t.co/bQNoMVowJg  \n",
       "2                                                                    Hyderabad-based ?@BharatBiotech? has sought funds from the government to ramp up production of its indigenously developed Covid-19 vaccine, #Covaxin .\\nThe company has written to the ??@DBTIndia? seeking Rs 100 crore to ramp up. https://t.co/wjWlVIGMC4  \n",
       "3                                  Confirmation that Chinese #vaccines \"dont have very high protection rates\", according to the director of the China Centers for Disease Control, Gao Fu.\\n\\n#Sinovac effectiveness \"found to be as low as 50.4% by researchers in Brazil\"; &lt;50% is 'not useful'.\\n\\nhttps://t.co/S2OoHjd7Do  \n",
       "4                                                                                                                                                                                                                 Lab studies suggest #Pfizer, #Moderna vaccines can protect against #coronavirusvariant\\nhttps://t.co/NPaFA68m57  \n",
       "...                                                                                                                                                                                                                                                                                                                           ...  \n",
       "5995  @Swamy39 Dr. @Swamy39 jee :\\n\\nMany people like to get Covaxin vaccination done, but this is not available at most places and people are putting Covishield as the only vaccine available. If Rs. 250 is any issue, people are willing to pay more for #Covaxin - You may kindly help people on it. https://t.co/t5IOmwaxVy  \n",
       "5996                                                                                                                    So happy to be fully vaccinated against COVID-19!! Im ready to serve more with all i can! ??????? #VaccinesWork #VaccinesSaveLives #Sinovac #GetVaccinated @ Manila, Philippines https://t.co/m6LYroEEg8  \n",
       "5997                                                                             Serum Institute of India announces cost of Covishield vaccine. \\nThe vaccine will cost Rs 400 in Govt hospitals &amp; Rs 600 in private hospitals.\\n#Covaxin #India \\n#Covishieldvaccine #COVID19 #SerumInstituteofIndia https://t.co/gik9zrR4JH  \n",
       "5998                                                                                                                                                               @___batshitcrazy @BarrowfordHead @Bectully I had mine yesterday and havent been able to get out of bed today - I feel for you! #vaccinated #oxfordastrazeneca  \n",
       "5999                                                                                                                                                                                      The smart sympathy attends into the oblong nothing. What if the educational feedback ate the ordinary? #COVAXIN https://t.co/N6oGtiETDP  \n",
       "\n",
       "[6000 rows x 2 columns]"
      ]
     },
     "execution_count": 164,
     "metadata": {},
     "output_type": "execute_result"
    }
   ],
   "source": [
    "pd.set_option('display.max_colwidth', 1000)\n",
    "tweets_df[['clean_data','tweet_text']]"
   ]
  },
  {
   "cell_type": "code",
   "execution_count": 165,
   "metadata": {},
   "outputs": [],
   "source": [
    "from nltk.tokenize import TweetTokenizer\n",
    "from nltk.stem import PorterStemmer\n",
    "\n",
    "def tokenize(tweet_text):\n",
    "    tokenizer = TweetTokenizer()\n",
    "    tweet_tokens = tokenizer.tokenize(tweet_text)\n",
    "    tweets_clean = []\n",
    "    stemmer = PorterStemmer()\n",
    "    for word in tweet_tokens:\n",
    "            stem_word = stemmer.stem(word)  # stemming word\n",
    "            tweets_clean.append(stem_word)\n",
    "    return ' '.join(tweets_clean)\n",
    "    \n"
   ]
  },
  {
   "cell_type": "code",
   "execution_count": 166,
   "metadata": {},
   "outputs": [
    {
     "data": {
      "text/html": [
       "<div>\n",
       "<style scoped>\n",
       "    .dataframe tbody tr th:only-of-type {\n",
       "        vertical-align: middle;\n",
       "    }\n",
       "\n",
       "    .dataframe tbody tr th {\n",
       "        vertical-align: top;\n",
       "    }\n",
       "\n",
       "    .dataframe thead th {\n",
       "        text-align: right;\n",
       "    }\n",
       "</style>\n",
       "<table border=\"1\" class=\"dataframe\">\n",
       "  <thead>\n",
       "    <tr style=\"text-align: right;\">\n",
       "      <th></th>\n",
       "      <th>clean_data</th>\n",
       "      <th>tweet_text</th>\n",
       "    </tr>\n",
       "  </thead>\n",
       "  <tbody>\n",
       "    <tr>\n",
       "      <th>0</th>\n",
       "      <td>day die call covid vaccin report</td>\n",
       "      <td>4,000 a day dying from the so called Covid-19 vaccine @DailyBeast reports. #vaccine #PfizerVaccine #Moderna \\n\\nhttps://t.co/p1nQWWZpk4</td>\n",
       "    </tr>\n",
       "    <tr>\n",
       "      <th>1</th>\n",
       "      <td>pranam messag today manifest dhyan</td>\n",
       "      <td>Pranam message for today manifested in Dhyan by @meenapranam #truth #love #karm #light #nature #consciousness #FridayThoughts #fridaymorning #CoronavirusIndia #COVID19India #?????_???????? #navratri #Thane #AmbedkarJayanti2021 #ModiJi #NarendraModi #SecondCOVIDWave #Covaxin https://t.co/bQNoMVowJg</td>\n",
       "    </tr>\n",
       "    <tr>\n",
       "      <th>2</th>\n",
       "      <td>hyderabad base sought fund govern ramp product indigen develop covid vaccin compani written seek rs crore ramp</td>\n",
       "      <td>Hyderabad-based ?@BharatBiotech? has sought funds from the government to ramp up production of its indigenously developed Covid-19 vaccine, #Covaxin .\\nThe company has written to the ??@DBTIndia? seeking Rs 100 crore to ramp up. https://t.co/wjWlVIGMC4</td>\n",
       "    </tr>\n",
       "    <tr>\n",
       "      <th>3</th>\n",
       "      <td>confirm chines high protect rate accord director china center diseas control gao fu effect found low research brazil lt use</td>\n",
       "      <td>Confirmation that Chinese #vaccines \"dont have very high protection rates\", according to the director of the China Centers for Disease Control, Gao Fu.\\n\\n#Sinovac effectiveness \"found to be as low as 50.4% by researchers in Brazil\"; &amp;lt;50% is 'not useful'.\\n\\nhttps://t.co/S2OoHjd7Do</td>\n",
       "    </tr>\n",
       "    <tr>\n",
       "      <th>4</th>\n",
       "      <td>lab studi suggest vaccin protect</td>\n",
       "      <td>Lab studies suggest #Pfizer, #Moderna vaccines can protect against #coronavirusvariant\\nhttps://t.co/NPaFA68m57</td>\n",
       "    </tr>\n",
       "    <tr>\n",
       "      <th>...</th>\n",
       "      <td>...</td>\n",
       "      <td>...</td>\n",
       "    </tr>\n",
       "    <tr>\n",
       "      <th>5995</th>\n",
       "      <td>dr jee mani peopl like get covaxin vaccin done avail place peopl put covishield vaccin avail rs issu peopl will pay may kindli help peopl</td>\n",
       "      <td>@Swamy39 Dr. @Swamy39 jee :\\n\\nMany people like to get Covaxin vaccination done, but this is not available at most places and people are putting Covishield as the only vaccine available. If Rs. 250 is any issue, people are willing to pay more for #Covaxin - You may kindly help people on it. https://t.co/t5IOmwaxVy</td>\n",
       "    </tr>\n",
       "    <tr>\n",
       "      <th>5996</th>\n",
       "      <td>happi fulli vaccin covid readi serv manila philippin</td>\n",
       "      <td>So happy to be fully vaccinated against COVID-19!! Im ready to serve more with all i can! ??????? #VaccinesWork #VaccinesSaveLives #Sinovac #GetVaccinated @ Manila, Philippines https://t.co/m6LYroEEg8</td>\n",
       "    </tr>\n",
       "    <tr>\n",
       "      <th>5997</th>\n",
       "      <td>serum institut india announc cost covishield vaccin vaccin cost rs govt hospit amp rs privat hospit</td>\n",
       "      <td>Serum Institute of India announces cost of Covishield vaccine. \\nThe vaccine will cost Rs 400 in Govt hospitals &amp;amp; Rs 600 in private hospitals.\\n#Covaxin #India \\n#Covishieldvaccine #COVID19 #SerumInstituteofIndia https://t.co/gik9zrR4JH</td>\n",
       "    </tr>\n",
       "    <tr>\n",
       "      <th>5998</th>\n",
       "      <td>mine yesterday abl get bed today feel</td>\n",
       "      <td>@___batshitcrazy @BarrowfordHead @Bectully I had mine yesterday and havent been able to get out of bed today - I feel for you! #vaccinated #oxfordastrazeneca</td>\n",
       "    </tr>\n",
       "    <tr>\n",
       "      <th>5999</th>\n",
       "      <td>smart sympathi attend oblong noth educ feedback ate ordinari</td>\n",
       "      <td>The smart sympathy attends into the oblong nothing. What if the educational feedback ate the ordinary? #COVAXIN https://t.co/N6oGtiETDP</td>\n",
       "    </tr>\n",
       "  </tbody>\n",
       "</table>\n",
       "<p>6000 rows × 2 columns</p>\n",
       "</div>"
      ],
      "text/plain": [
       "                                                                                                                                     clean_data  \\\n",
       "0                                                                                                              day die call covid vaccin report   \n",
       "1                                                                                                            pranam messag today manifest dhyan   \n",
       "2                                hyderabad base sought fund govern ramp product indigen develop covid vaccin compani written seek rs crore ramp   \n",
       "3                   confirm chines high protect rate accord director china center diseas control gao fu effect found low research brazil lt use   \n",
       "4                                                                                                              lab studi suggest vaccin protect   \n",
       "...                                                                                                                                         ...   \n",
       "5995  dr jee mani peopl like get covaxin vaccin done avail place peopl put covishield vaccin avail rs issu peopl will pay may kindli help peopl   \n",
       "5996                                                                                       happi fulli vaccin covid readi serv manila philippin   \n",
       "5997                                        serum institut india announc cost covishield vaccin vaccin cost rs govt hospit amp rs privat hospit   \n",
       "5998                                                                                                      mine yesterday abl get bed today feel   \n",
       "5999                                                                               smart sympathi attend oblong noth educ feedback ate ordinari   \n",
       "\n",
       "                                                                                                                                                                                                                                                                                                                       tweet_text  \n",
       "0                                                                                                                                                                                       4,000 a day dying from the so called Covid-19 vaccine @DailyBeast reports. #vaccine #PfizerVaccine #Moderna \\n\\nhttps://t.co/p1nQWWZpk4  \n",
       "1                      Pranam message for today manifested in Dhyan by @meenapranam #truth #love #karm #light #nature #consciousness #FridayThoughts #fridaymorning #CoronavirusIndia #COVID19India #?????_???????? #navratri #Thane #AmbedkarJayanti2021 #ModiJi #NarendraModi #SecondCOVIDWave #Covaxin https://t.co/bQNoMVowJg  \n",
       "2                                                                    Hyderabad-based ?@BharatBiotech? has sought funds from the government to ramp up production of its indigenously developed Covid-19 vaccine, #Covaxin .\\nThe company has written to the ??@DBTIndia? seeking Rs 100 crore to ramp up. https://t.co/wjWlVIGMC4  \n",
       "3                                  Confirmation that Chinese #vaccines \"dont have very high protection rates\", according to the director of the China Centers for Disease Control, Gao Fu.\\n\\n#Sinovac effectiveness \"found to be as low as 50.4% by researchers in Brazil\"; &lt;50% is 'not useful'.\\n\\nhttps://t.co/S2OoHjd7Do  \n",
       "4                                                                                                                                                                                                                 Lab studies suggest #Pfizer, #Moderna vaccines can protect against #coronavirusvariant\\nhttps://t.co/NPaFA68m57  \n",
       "...                                                                                                                                                                                                                                                                                                                           ...  \n",
       "5995  @Swamy39 Dr. @Swamy39 jee :\\n\\nMany people like to get Covaxin vaccination done, but this is not available at most places and people are putting Covishield as the only vaccine available. If Rs. 250 is any issue, people are willing to pay more for #Covaxin - You may kindly help people on it. https://t.co/t5IOmwaxVy  \n",
       "5996                                                                                                                    So happy to be fully vaccinated against COVID-19!! Im ready to serve more with all i can! ??????? #VaccinesWork #VaccinesSaveLives #Sinovac #GetVaccinated @ Manila, Philippines https://t.co/m6LYroEEg8  \n",
       "5997                                                                             Serum Institute of India announces cost of Covishield vaccine. \\nThe vaccine will cost Rs 400 in Govt hospitals &amp; Rs 600 in private hospitals.\\n#Covaxin #India \\n#Covishieldvaccine #COVID19 #SerumInstituteofIndia https://t.co/gik9zrR4JH  \n",
       "5998                                                                                                                                                               @___batshitcrazy @BarrowfordHead @Bectully I had mine yesterday and havent been able to get out of bed today - I feel for you! #vaccinated #oxfordastrazeneca  \n",
       "5999                                                                                                                                                                                      The smart sympathy attends into the oblong nothing. What if the educational feedback ate the ordinary? #COVAXIN https://t.co/N6oGtiETDP  \n",
       "\n",
       "[6000 rows x 2 columns]"
      ]
     },
     "execution_count": 166,
     "metadata": {},
     "output_type": "execute_result"
    }
   ],
   "source": [
    "tweets_df['clean_data']=tweets_df['clean_data'].apply(tokenize)\n",
    "pd.set_option('display.max_colwidth', 500)\n",
    "tweets_df[['clean_data','tweet_text']]"
   ]
  },
  {
   "cell_type": "code",
   "execution_count": 167,
   "metadata": {},
   "outputs": [
    {
     "data": {
      "text/plain": [
       "'\\nimport neattext.functions as ntf\\nfrom nltk.corpus import stopwords\\nfrom nltk.stem import PorterStemmer\\nimport re\\nfrom nltk.tokenize import TweetTokenizer\\nimport string\\n\\n\\n\\n\\ndef pre_process_tweet(tweet_data):\\n    \"\"\"\\n    Process tweet function.\\n    Input:\\n        tweet: a string containing a tweet\\n    Returns:\\n        tweets_clean: a list of words containing the processed tweet\\n\\n    \"\"\"\\n    stemmer = PorterStemmer()\\n    stopwords_english = stopwords.words(\\'english\\')\\n     # remove old style retweet text \"RT\"\\n    tweet_data = re.sub(r\\'^RT[\\\\s]+\\', \\'\\', str(tweet_data))\\n    # remove hashtags\\n    ntf.remove_hashtags(tweet_data)\\n        # remove Urls\\n    ntf.remove_urls(tweet_data)\\n        # remove_userhandles\\n    ntf.remove_multiple_spaces(tweet_data)\\n    ntf.remove_numbers(tweet_data)\\n    ntf.remove_puncts(tweet_data)\\n    ntf.remove_special_characters(tweet_data)\\n    ntf.remove_emojis(tweet_data)\\n    ntf.remove_userhandles(tweet_data)\\n    return tweet_data\\n    # tokenize tweets\\n    tokenizer = TweetTokenizer(preserve_case=False, strip_handles=True,\\n                               reduce_len=True)\\n    tweet_tokens = tokenizer.tokenize(tweet_data)\\n\\n    tweets_clean = []\\n    for word in tweet_tokens:\\n        if (word not in stopwords_english and word not in string.punctuation):  # remove punctuation\\n            # tweets_clean.append(word)\\n            stem_word = stemmer.stem(word)  # stemming word\\n            tweets_clean.append(stem_word)\\n\\n    return \" \".join(tweets_clean) '"
      ]
     },
     "execution_count": 167,
     "metadata": {},
     "output_type": "execute_result"
    }
   ],
   "source": [
    "'''\n",
    "import neattext.functions as ntf\n",
    "from nltk.corpus import stopwords\n",
    "from nltk.stem import PorterStemmer\n",
    "import re\n",
    "from nltk.tokenize import TweetTokenizer\n",
    "import string\n",
    "\n",
    "\n",
    "\n",
    "\n",
    "def pre_process_tweet(tweet_data):\n",
    "    \"\"\"\n",
    "    Process tweet function.\n",
    "    Input:\n",
    "        tweet: a string containing a tweet\n",
    "    Returns:\n",
    "        tweets_clean: a list of words containing the processed tweet\n",
    "\n",
    "    \"\"\"\n",
    "    stemmer = PorterStemmer()\n",
    "    stopwords_english = stopwords.words('english')\n",
    "     # remove old style retweet text \"RT\"\n",
    "    tweet_data = re.sub(r'^RT[\\s]+', '', str(tweet_data))\n",
    "    # remove hashtags\n",
    "    ntf.remove_hashtags(tweet_data)\n",
    "        # remove Urls\n",
    "    ntf.remove_urls(tweet_data)\n",
    "        # remove_userhandles\n",
    "    ntf.remove_multiple_spaces(tweet_data)\n",
    "    ntf.remove_numbers(tweet_data)\n",
    "    ntf.remove_puncts(tweet_data)\n",
    "    ntf.remove_special_characters(tweet_data)\n",
    "    ntf.remove_emojis(tweet_data)\n",
    "    ntf.remove_userhandles(tweet_data)\n",
    "    return tweet_data\n",
    "    # tokenize tweets\n",
    "    tokenizer = TweetTokenizer(preserve_case=False, strip_handles=True,\n",
    "                               reduce_len=True)\n",
    "    tweet_tokens = tokenizer.tokenize(tweet_data)\n",
    "\n",
    "    tweets_clean = []\n",
    "    for word in tweet_tokens:\n",
    "        if (word not in stopwords_english and word not in string.punctuation):  # remove punctuation\n",
    "            # tweets_clean.append(word)\n",
    "            stem_word = stemmer.stem(word)  # stemming word\n",
    "            tweets_clean.append(stem_word)\n",
    "\n",
    "    return \" \".join(tweets_clean) '''"
   ]
  },
  {
   "cell_type": "code",
   "execution_count": null,
   "metadata": {},
   "outputs": [],
   "source": []
  },
  {
   "cell_type": "code",
   "execution_count": 168,
   "metadata": {},
   "outputs": [
    {
     "data": {
      "text/plain": [
       "'\\ndef removeStopwords(text):\\n        \\n    stemmer = PorterStemmer()\\n    stopwords_english = stopwords.words(\\'english\\')\\n    tokenizer = TweetTokenizer(preserve_case=False, strip_handles=True,\\n                               reduce_len=True)\\n    tweet_tokens = tokenizer.tokenize(text)\\n\\n    tweets_clean = []\\n    for word in tweet_tokens:\\n        if (word not in stopwords_english and word not in string.punctuation):  # remove punctuation\\n            tweets_clean.append(word)\\n            #stem_word = stemmer.stem(word)  # stemming word\\n            #tweets_clean.append(stem_word)\\n\\n    return \" \".join(tweets_clean)\\n\\ndef removePunctuations(text):\\n    return text.translate(str.maketrans(\\'\\', \\'\\', string.punctuation)).replace(\" s \", \" \")\\n\\ndef removeLinks(text):\\n    clean_text = re.sub(\\'https?://\\\\S+|www\\\\.\\\\S+\\', \\'\\', text)\\n    return clean_text\\n\\ndef removeNumbers(text):\\n    clean_text = re.sub(r\\'\\\\d+\\', \\'\\', text)\\n    return clean_text\\ndef removenewline(text):\\n    clean_text = re.sub(r\\'(\\n+)\\', \\'\\', text)\\n    return clean_text\\n\\n\\nimport emoji\\n#does the text contain an emoji?\\ndef text_has_emoji(text):\\n    for character in text:\\n        if character in emoji.UNICODE_EMOJI:\\n            return True\\n    return False\\n#remove the emoji\\ndef deEmojify(inputString):\\n    return inputString.encode(\\'ascii\\', \\'ignore\\').decode(\\'ascii\\')\\n    '"
      ]
     },
     "execution_count": 168,
     "metadata": {},
     "output_type": "execute_result"
    }
   ],
   "source": [
    "\"\"\"\n",
    "def removeStopwords(text):\n",
    "        \n",
    "    stemmer = PorterStemmer()\n",
    "    stopwords_english = stopwords.words('english')\n",
    "    tokenizer = TweetTokenizer(preserve_case=False, strip_handles=True,\n",
    "                               reduce_len=True)\n",
    "    tweet_tokens = tokenizer.tokenize(text)\n",
    "\n",
    "    tweets_clean = []\n",
    "    for word in tweet_tokens:\n",
    "        if (word not in stopwords_english and word not in string.punctuation):  # remove punctuation\n",
    "            tweets_clean.append(word)\n",
    "            #stem_word = stemmer.stem(word)  # stemming word\n",
    "            #tweets_clean.append(stem_word)\n",
    "\n",
    "    return \" \".join(tweets_clean)\n",
    "\n",
    "def removePunctuations(text):\n",
    "    return text.translate(str.maketrans('', '', string.punctuation)).replace(\" s \", \" \")\n",
    "\n",
    "def removeLinks(text):\n",
    "    clean_text = re.sub('https?://\\S+|www\\.\\S+', '', text)\n",
    "    return clean_text\n",
    "\n",
    "def removeNumbers(text):\n",
    "    clean_text = re.sub(r'\\d+', '', text)\n",
    "    return clean_text\n",
    "def removenewline(text):\n",
    "    clean_text = re.sub(r'(\\n+)', '', text)\n",
    "    return clean_text\n",
    "\n",
    "\n",
    "import emoji\n",
    "#does the text contain an emoji?\n",
    "def text_has_emoji(text):\n",
    "    for character in text:\n",
    "        if character in emoji.UNICODE_EMOJI:\n",
    "            return True\n",
    "    return False\n",
    "#remove the emoji\n",
    "def deEmojify(inputString):\n",
    "    return inputString.encode('ascii', 'ignore').decode('ascii')\n",
    "    \"\"\""
   ]
  },
  {
   "cell_type": "code",
   "execution_count": 169,
   "metadata": {},
   "outputs": [
    {
     "data": {
      "text/plain": [
       "'def clean_text(text):\\n    if text_has_emoji(text):\\n        text=deEmojify(text)\\n    text = text.lower()\\n    text =removenewline(text)\\n    text = removeStopwords(text)\\n    text = removePunctuations(text)\\n    text = removeNumbers(text)\\n    text = removeLinks(text)\\n    return text\\n    '"
      ]
     },
     "execution_count": 169,
     "metadata": {},
     "output_type": "execute_result"
    }
   ],
   "source": [
    "\"\"\"def clean_text(text):\n",
    "    if text_has_emoji(text):\n",
    "        text=deEmojify(text)\n",
    "    text = text.lower()\n",
    "    text =removenewline(text)\n",
    "    text = removeStopwords(text)\n",
    "    text = removePunctuations(text)\n",
    "    text = removeNumbers(text)\n",
    "    text = removeLinks(text)\n",
    "    return text\n",
    "    \"\"\""
   ]
  },
  {
   "cell_type": "code",
   "execution_count": 170,
   "metadata": {},
   "outputs": [],
   "source": [
    "#tweets_df['clean_data'] = tweets_df['clean_data'].apply(clean_text)\n",
    "#tweetsDF['label'] = tweetsDF['label'].map({1:0, 2:1, 3:2})# renumbering labels to avoid error in the one hot encoding process\n",
    "#tweetsDF.drop(\"tweet_text\",axis=1).to_csv('mycsvfile.csv',index=False)"
   ]
  },
  {
   "cell_type": "markdown",
   "metadata": {},
   "source": [
    "###  Dropping columns not needed"
   ]
  },
  {
   "cell_type": "code",
   "execution_count": 171,
   "metadata": {},
   "outputs": [],
   "source": [
    "tweets_df.drop('tweet_text',inplace=True,axis=1)"
   ]
  },
  {
   "cell_type": "markdown",
   "metadata": {},
   "source": [
    "tweets_df.head()"
   ]
  },
  {
   "cell_type": "markdown",
   "metadata": {},
   "source": [
    "### For SSl splitting the data to 70-30  , where 30 will be used for final prediction task \n",
    "\n",
    "\n",
    "\n"
   ]
  },
  {
   "cell_type": "code",
   "execution_count": 172,
   "metadata": {},
   "outputs": [],
   "source": [
    "# seperate off train and test\n",
    "train = tweets_df.iloc[:4200, :]\n",
    "test = tweets_df.iloc[4200:, :]"
   ]
  },
  {
   "cell_type": "markdown",
   "metadata": {},
   "source": [
    "\n",
    "### Classification Tasks"
   ]
  },
  {
   "cell_type": "code",
   "execution_count": 173,
   "metadata": {},
   "outputs": [],
   "source": [
    "from sklearn.feature_extraction.text import TfidfVectorizer, CountVectorizer\n",
    "#import gensim\n",
    "\n",
    "from sklearn.svm import SVC\n",
    "from sklearn.naive_bayes import MultinomialNB,BernoulliNB\n",
    "from sklearn.ensemble import RandomForestClassifier\n",
    "from sklearn.linear_model import LogisticRegression, SGDClassifier\n",
    "from sklearn.metrics import classification_report, f1_score, confusion_matrix,recall_score,precision_score,make_scorer\n",
    "from sklearn.model_selection import StratifiedKFold, train_test_split, learning_curve,cross_val_score\n",
    "from sklearn.feature_extraction.text import CountVectorizer, TfidfVectorizer, HashingVectorizer\n",
    "from sklearn.tree import DecisionTreeClassifier\n",
    "from sklearn.neighbors import KNeighborsClassifier\n",
    "from statistics import mean, stdev\n",
    "import lightgbm as lgb\n",
    "\n",
    "# target variable \n",
    "y = train[\"label\"].values\n",
    "\n",
    "no_of_splits=5\n",
    "# initializing Kfold\n",
    "skf = StratifiedKFold(n_splits=no_of_splits, shuffle=True, random_state=24)\n",
    "\n",
    "# count vectorizer transformation\n",
    "count_vect = CountVectorizer()\n",
    "count_vect.fit(tweets_df[\"clean_data\"].values.tolist())\n",
    "train_count_vect = count_vect.transform(train[\"clean_data\"])\n",
    "\n",
    "# tfidf vectorizer transformation \n",
    "tfidf_vect = TfidfVectorizer()\n",
    "tfidf_vect.fit(tweets_df[\"clean_data\"].values.tolist())\n",
    "train_tfidf_vect = tfidf_vect.transform(train[\"clean_data\"])\n"
   ]
  },
  {
   "cell_type": "code",
   "execution_count": 174,
   "metadata": {},
   "outputs": [],
   "source": [
    "\n",
    "# light gbm parameters\n",
    "lgbm_params = {\n",
    "    \"learning_rate\": 0.02, \n",
    "    \"random_state\": 24, \n",
    "    \"metric\": \"auc_mu\",\n",
    "    \"n_estimators\": 2000,\n",
    "    \"objective\": \"multiclass\"\n",
    "}\n",
    "# models\n",
    "models= {\n",
    "    \"svm\": SVC(),\n",
    "    \"logistic_regression\": LogisticRegression(),\n",
    "    \"naive_bayes\": MultinomialNB(),\n",
    "    \"SGD\": SGDClassifier(),\n",
    "    \"random_forest\": RandomForestClassifier(),\n",
    "    #\"BernoulliNB\": BernoulliNB(),\n",
    "    \"DecisionTreeClassifier\": DecisionTreeClassifier(),\n",
    "    \"KNeighborsClassifier\": KNeighborsClassifier(),\n",
    "    \"LGBM\":lgb.LGBMClassifier(**lgbm_params)\n",
    "    \n",
    "}\n",
    "\n",
    "# current vectors\n",
    "vectors = {\n",
    "    \"count_vectorizer\": train_count_vect,\n",
    "    \"tfidf_vectorizer\": train_tfidf_vect\n",
    "}"
   ]
  },
  {
   "cell_type": "code",
   "execution_count": 175,
   "metadata": {},
   "outputs": [],
   "source": [
    "from sklearn import metrics\n",
    "\n",
    "#scoring methods that calculate the precision, recall and f-mesure values for every fold of k-fold cross validation \n",
    "\n",
    "def precEval(y_true, y_pred):\n",
    "    fold_report = metrics.classification_report(y_true, y_pred, output_dict=True)\n",
    "    prec = fold_report['macro avg']['precision']\n",
    "    return prec\n",
    "\n",
    "def recEval(y_true, y_pred):\n",
    "    fold_report = metrics.classification_report(y_true, y_pred, output_dict=True)\n",
    "    rec = fold_report['macro avg']['recall']\n",
    "    return rec\n",
    "\n",
    "def f1Eval(y_true, y_pred):\n",
    "    fold_report = metrics.classification_report(y_true, y_pred, output_dict=True)\n",
    "    f1 = fold_report['macro avg']['f1-score']\n",
    "    return f1"
   ]
  },
  {
   "cell_type": "code",
   "execution_count": 176,
   "metadata": {},
   "outputs": [],
   "source": [
    "def stratified_kfold(clf:str, vect_type:str, y, kfold):\n",
    "    \"\"\"\n",
    "    Perform Kfold Cross-Validation\n",
    "    :param model: the model used to make predictions\n",
    "    :param X: the train features being used \n",
    "    :param y: the target feature,\n",
    "    :param kfold: the cross validation strategy\n",
    "    :return: dictionary with model name key and results as the values\n",
    "    \"\"\"\n",
    "    results = {}\n",
    "    # store the name of the model in dictionary\n",
    "    results[\"modelname_vectorType\"] = clf + \"_\" + vect_type\n",
    "    \n",
    "    # call the model and training data\n",
    "    model = models[clf]\n",
    "    X = vectors[vect_type]\n",
    "\n",
    "    #prec = cross_val_score(model, X, y, cv=kfold, scoring=make_scorer(precEval))\n",
    "    #rec = cross_val_score(model, X, y, cv=kfold, scoring=make_scorer(recEval))\n",
    "    #f1 = cross_val_score(model, X, y, cv=kfold, scoring=make_scorer(f1Eval))\n",
    "    \n",
    "\n",
    "    #results[\"Precision\"] =  \"%.3f%%\" % (prec.mean() * 100)\n",
    "    #results[\"Recall\"] = \"%.3f%%\" % (rec.mean() * 100)\n",
    "    \n",
    "    \n",
    "    f1score_list= []\n",
    "    lst_accu_stratified = []\n",
    "    # perfrom kfold cv\n",
    "    for fold, (train_idx, valid_idx) in enumerate(kfold.split(X, y)):\n",
    "        #print(f\"\\nCurrently Training: {results['modelname_vectorType']}... Fold: {fold+1}\")\n",
    "        X_train, X_valid = X[train_idx], X[valid_idx]\n",
    "        y_train, y_valid = y[train_idx], y[valid_idx]\n",
    "        \n",
    "        \n",
    "        # train on seen data, predict on unseen\n",
    "        model.fit(X_train, y_train)\n",
    "        y_preds = model.predict(X_valid)\n",
    "        #results[\"Accuracy\"].append(model.score(X_valid, y_valid))\n",
    "        lst_accu_stratified.append(model.score(X_valid, y_valid))\n",
    "        f1score_list.append(f1_score(y_valid, y_preds,average='weighted'))\n",
    "\n",
    "        # lst_accu_stratified.append(lr.score(x_test_fold, y_test_fold))\n",
    "        #print(fold, f1_score(y_valid, y_preds, average='micro'))\n",
    "        #print(fold, recall_score(y_valid, y_preds, average='micro'))\n",
    "        #print(fold, precision_score(y_valid, y_preds, average='micro'))\n",
    "        #if fold ==  0 :\n",
    "            #print\"fold_{} f1-score is \".format(fold+1), f1_score(y_valid, y_preds, average='micro')\n",
    "            #results[\"fold_{}\".format(fold+2)] = recall_score(y_valid, y_preds, average='micro')\n",
    "            #print(fold)\n",
    "        #if fold ==  no_of_splits-1:\n",
    "        #    results[\"F1-Score\"] =\"%.3f%%\" % (f1_score(y_valid, y_preds, average='micro')*100)\n",
    "        #    results[\"Recall\"] = \"%.3f%%\" % (recall_score(y_valid, y_preds,average=='micro')* 100)\n",
    "        #    results[\"Precision\"] = \"%.3f%%\" % (precision_score(y_valid, y_preds,average=='micro') *100)\n",
    "    results[\"Accuracy\"] = \"%.3f%%\" % (mean(lst_accu_stratified) * 100)\n",
    "    results[\"F1-Score\"] = \"%.3f%%\" % (mean(f1score_list)*100)\n",
    "    return results"
   ]
  },
  {
   "cell_type": "code",
   "execution_count": 177,
   "metadata": {},
   "outputs": [],
   "source": [
    "def stratified_kfold_lbgm(clf:str, vect_type:str, y, kfold):\n",
    "    \"\"\"\n",
    "    Perform Kfold Cross-Validation\n",
    "    :param model: the model used to make predictions\n",
    "    :param X: the train features being used \n",
    "    :param y: the target feature,\n",
    "    :param kfold: the cross validation strategy\n",
    "    :return: dictionary with model name key and results as the values\n",
    "    \"\"\"\n",
    "    results = {}\n",
    "    # store the name of the model in dictionary\n",
    "    results[\"modelname_vectorType\"] = clf + \"_\" + vect_type\n",
    "    \n",
    "    # call the model and training data\n",
    "    model = models[clf]\n",
    "    X = vectors[vect_type]\n",
    "    \n",
    "    f1score_list= []\n",
    "    lst_accu_stratified = []\n",
    "    # perfrom kfold cv\n",
    "    for fold, (train_idx, valid_idx) in enumerate(kfold.split(X, y)):\n",
    "        print(f\"\\nCurrently Training: {results['modelname_vectorType']}... Fold: {fold+1}\")\n",
    "        X_train, X_valid= X[train_idx].astype(np.float64), X[valid_idx].astype(np.float64)\n",
    "        y_train, y_valid= y[train_idx].astype(np.float64), y[valid_idx].astype(np.float64)\n",
    "        # train on seen data, predict on unseen\n",
    "        model.fit(X_train,\n",
    "             y_train,\n",
    "             eval_set=[(X_valid, y_valid)],\n",
    "             verbose=100,\n",
    "             early_stopping_rounds=100)\n",
    "        \n",
    "        y_preds = model.predict(X_valid)\n",
    "        lst_accu_stratified.append(model.score(X_valid, y_valid))\n",
    "        f1score_list.append(f1_score(y_valid, y_preds,average='weighted'))\n",
    "\n",
    "\n",
    "    results[\"Accuracy\"] = \"%.3f%%\" % (mean(lst_accu_stratified) * 100)\n",
    "    results[\"F1-Score\"] = \"%.3f%%\" % (mean(f1score_list)*100)\n",
    "    return results"
   ]
  },
  {
   "cell_type": "code",
   "execution_count": 178,
   "metadata": {},
   "outputs": [
    {
     "name": "stdout",
     "output_type": "stream",
     "text": [
      "\n",
      "Currently Training: svm_count_vectorizer... Fold: 1\n",
      "\n",
      "Currently Training: svm_count_vectorizer... Fold: 2\n",
      "\n",
      "Currently Training: svm_count_vectorizer... Fold: 3\n",
      "\n",
      "Currently Training: svm_count_vectorizer... Fold: 4\n",
      "\n",
      "Currently Training: svm_count_vectorizer... Fold: 5\n",
      "Current Model: svm_count_vectorizer...\n",
      "\n",
      "\n",
      "Currently Training: svm_tfidf_vectorizer... Fold: 1\n",
      "\n",
      "Currently Training: svm_tfidf_vectorizer... Fold: 2\n",
      "\n",
      "Currently Training: svm_tfidf_vectorizer... Fold: 3\n",
      "\n",
      "Currently Training: svm_tfidf_vectorizer... Fold: 4\n",
      "\n",
      "Currently Training: svm_tfidf_vectorizer... Fold: 5\n",
      "Current Model: svm_tfidf_vectorizer...\n",
      "\n",
      "\n",
      "Currently Training: logistic_regression_count_vectorizer... Fold: 1\n",
      "\n",
      "Currently Training: logistic_regression_count_vectorizer... Fold: 2\n",
      "\n",
      "Currently Training: logistic_regression_count_vectorizer... Fold: 3\n",
      "\n",
      "Currently Training: logistic_regression_count_vectorizer... Fold: 4\n",
      "\n",
      "Currently Training: logistic_regression_count_vectorizer... Fold: 5\n",
      "Current Model: logistic_regression_count_vectorizer...\n",
      "\n",
      "\n",
      "Currently Training: logistic_regression_tfidf_vectorizer... Fold: 1\n",
      "\n",
      "Currently Training: logistic_regression_tfidf_vectorizer... Fold: 2\n",
      "\n",
      "Currently Training: logistic_regression_tfidf_vectorizer... Fold: 3\n",
      "\n",
      "Currently Training: logistic_regression_tfidf_vectorizer... Fold: 4\n",
      "\n",
      "Currently Training: logistic_regression_tfidf_vectorizer... Fold: 5\n",
      "Current Model: logistic_regression_tfidf_vectorizer...\n",
      "\n",
      "\n",
      "Currently Training: naive_bayes_count_vectorizer... Fold: 1\n",
      "\n",
      "Currently Training: naive_bayes_count_vectorizer... Fold: 2\n",
      "\n",
      "Currently Training: naive_bayes_count_vectorizer... Fold: 3\n",
      "\n",
      "Currently Training: naive_bayes_count_vectorizer... Fold: 4\n",
      "\n",
      "Currently Training: naive_bayes_count_vectorizer... Fold: 5\n",
      "Current Model: naive_bayes_count_vectorizer...\n",
      "\n",
      "\n",
      "Currently Training: naive_bayes_tfidf_vectorizer... Fold: 1\n",
      "\n",
      "Currently Training: naive_bayes_tfidf_vectorizer... Fold: 2\n",
      "\n",
      "Currently Training: naive_bayes_tfidf_vectorizer... Fold: 3\n",
      "\n",
      "Currently Training: naive_bayes_tfidf_vectorizer... Fold: 4\n",
      "\n",
      "Currently Training: naive_bayes_tfidf_vectorizer... Fold: 5\n",
      "Current Model: naive_bayes_tfidf_vectorizer...\n",
      "\n",
      "\n",
      "Currently Training: SGD_count_vectorizer... Fold: 1\n",
      "\n",
      "Currently Training: SGD_count_vectorizer... Fold: 2\n",
      "\n",
      "Currently Training: SGD_count_vectorizer... Fold: 3\n",
      "\n",
      "Currently Training: SGD_count_vectorizer... Fold: 4\n",
      "\n",
      "Currently Training: SGD_count_vectorizer... Fold: 5\n",
      "Current Model: SGD_count_vectorizer...\n",
      "\n",
      "\n",
      "Currently Training: SGD_tfidf_vectorizer... Fold: 1\n",
      "\n",
      "Currently Training: SGD_tfidf_vectorizer... Fold: 2\n",
      "\n",
      "Currently Training: SGD_tfidf_vectorizer... Fold: 3\n",
      "\n",
      "Currently Training: SGD_tfidf_vectorizer... Fold: 4\n",
      "\n",
      "Currently Training: SGD_tfidf_vectorizer... Fold: 5\n",
      "Current Model: SGD_tfidf_vectorizer...\n",
      "\n",
      "\n",
      "Currently Training: random_forest_count_vectorizer... Fold: 1\n",
      "\n",
      "Currently Training: random_forest_count_vectorizer... Fold: 2\n",
      "\n",
      "Currently Training: random_forest_count_vectorizer... Fold: 3\n",
      "\n",
      "Currently Training: random_forest_count_vectorizer... Fold: 4\n",
      "\n",
      "Currently Training: random_forest_count_vectorizer... Fold: 5\n",
      "Current Model: random_forest_count_vectorizer...\n",
      "\n",
      "\n",
      "Currently Training: random_forest_tfidf_vectorizer... Fold: 1\n",
      "\n",
      "Currently Training: random_forest_tfidf_vectorizer... Fold: 2\n",
      "\n",
      "Currently Training: random_forest_tfidf_vectorizer... Fold: 3\n",
      "\n",
      "Currently Training: random_forest_tfidf_vectorizer... Fold: 4\n",
      "\n",
      "Currently Training: random_forest_tfidf_vectorizer... Fold: 5\n",
      "Current Model: random_forest_tfidf_vectorizer...\n",
      "\n",
      "\n",
      "Currently Training: DecisionTreeClassifier_count_vectorizer... Fold: 1\n",
      "\n",
      "Currently Training: DecisionTreeClassifier_count_vectorizer... Fold: 2\n",
      "\n",
      "Currently Training: DecisionTreeClassifier_count_vectorizer... Fold: 3\n",
      "\n",
      "Currently Training: DecisionTreeClassifier_count_vectorizer... Fold: 4\n",
      "\n",
      "Currently Training: DecisionTreeClassifier_count_vectorizer... Fold: 5\n",
      "Current Model: DecisionTreeClassifier_count_vectorizer...\n",
      "\n",
      "\n",
      "Currently Training: DecisionTreeClassifier_tfidf_vectorizer... Fold: 1\n",
      "\n",
      "Currently Training: DecisionTreeClassifier_tfidf_vectorizer... Fold: 2\n",
      "\n",
      "Currently Training: DecisionTreeClassifier_tfidf_vectorizer... Fold: 3\n",
      "\n",
      "Currently Training: DecisionTreeClassifier_tfidf_vectorizer... Fold: 4\n",
      "\n",
      "Currently Training: DecisionTreeClassifier_tfidf_vectorizer... Fold: 5\n",
      "Current Model: DecisionTreeClassifier_tfidf_vectorizer...\n",
      "\n",
      "\n",
      "Currently Training: KNeighborsClassifier_count_vectorizer... Fold: 1\n",
      "\n",
      "Currently Training: KNeighborsClassifier_count_vectorizer... Fold: 2\n",
      "\n",
      "Currently Training: KNeighborsClassifier_count_vectorizer... Fold: 3\n",
      "\n",
      "Currently Training: KNeighborsClassifier_count_vectorizer... Fold: 4\n",
      "\n",
      "Currently Training: KNeighborsClassifier_count_vectorizer... Fold: 5\n",
      "Current Model: KNeighborsClassifier_count_vectorizer...\n",
      "\n",
      "\n",
      "Currently Training: KNeighborsClassifier_tfidf_vectorizer... Fold: 1\n",
      "\n",
      "Currently Training: KNeighborsClassifier_tfidf_vectorizer... Fold: 2\n",
      "\n",
      "Currently Training: KNeighborsClassifier_tfidf_vectorizer... Fold: 3\n",
      "\n",
      "Currently Training: KNeighborsClassifier_tfidf_vectorizer... Fold: 4\n",
      "\n",
      "Currently Training: KNeighborsClassifier_tfidf_vectorizer... Fold: 5\n",
      "Current Model: KNeighborsClassifier_tfidf_vectorizer...\n",
      "\n",
      "\n",
      "Currently Training: LGBM_count_vectorizer... Fold: 1\n",
      "[100]\tvalid_0's auc_mu: 0.795251\n",
      "[200]\tvalid_0's auc_mu: 0.795045\n",
      "\n",
      "Currently Training: LGBM_count_vectorizer... Fold: 2\n",
      "[100]\tvalid_0's auc_mu: 0.802977\n",
      "[200]\tvalid_0's auc_mu: 0.802348\n",
      "\n",
      "Currently Training: LGBM_count_vectorizer... Fold: 3\n",
      "[100]\tvalid_0's auc_mu: 0.804381\n",
      "[200]\tvalid_0's auc_mu: 0.822567\n",
      "[300]\tvalid_0's auc_mu: 0.820107\n",
      "\n",
      "Currently Training: LGBM_count_vectorizer... Fold: 4\n",
      "[100]\tvalid_0's auc_mu: 0.802487\n",
      "[200]\tvalid_0's auc_mu: 0.811122\n",
      "[300]\tvalid_0's auc_mu: 0.808729\n",
      "\n",
      "Currently Training: LGBM_count_vectorizer... Fold: 5\n",
      "[100]\tvalid_0's auc_mu: 0.77672\n",
      "[200]\tvalid_0's auc_mu: 0.803281\n",
      "[300]\tvalid_0's auc_mu: 0.810081\n",
      "[400]\tvalid_0's auc_mu: 0.809277\n",
      "Current Model: LGBM_count_vectorizer...\n",
      "\n",
      "\n",
      "Currently Training: LGBM_tfidf_vectorizer... Fold: 1\n",
      "[100]\tvalid_0's auc_mu: 0.79604\n",
      "[200]\tvalid_0's auc_mu: 0.795943\n",
      "\n",
      "Currently Training: LGBM_tfidf_vectorizer... Fold: 2\n",
      "[100]\tvalid_0's auc_mu: 0.799649\n",
      "[200]\tvalid_0's auc_mu: 0.808781\n",
      "\n",
      "Currently Training: LGBM_tfidf_vectorizer... Fold: 3\n",
      "[100]\tvalid_0's auc_mu: 0.799243\n",
      "[200]\tvalid_0's auc_mu: 0.807069\n",
      "\n",
      "Currently Training: LGBM_tfidf_vectorizer... Fold: 4\n",
      "[100]\tvalid_0's auc_mu: 0.792956\n",
      "[200]\tvalid_0's auc_mu: 0.794612\n",
      "\n",
      "Currently Training: LGBM_tfidf_vectorizer... Fold: 5\n",
      "[100]\tvalid_0's auc_mu: 0.755611\n",
      "[200]\tvalid_0's auc_mu: 0.771098\n",
      "[300]\tvalid_0's auc_mu: 0.777779\n",
      "[400]\tvalid_0's auc_mu: 0.780397\n",
      "[500]\tvalid_0's auc_mu: 0.779796\n",
      "Current Model: LGBM_tfidf_vectorizer...\n",
      "\n"
     ]
    }
   ],
   "source": [
    "# store all models\n",
    "all_models = []\n",
    "for clf in models:\n",
    "    for vect in vectors:\n",
    "        if clf == \"LGBM\":\n",
    "            all_models.append(stratified_kfold_lbgm(clf, vect, y, skf))\n",
    "        else:\n",
    "            all_models.append(stratified_kfold(clf, vect, y, skf))            \n",
    "        print(f\"Current Model: {clf}_{vect}...\\n\")"
   ]
  },
  {
   "cell_type": "code",
   "execution_count": 179,
   "metadata": {},
   "outputs": [
    {
     "data": {
      "text/html": [
       "<div>\n",
       "<style scoped>\n",
       "    .dataframe tbody tr th:only-of-type {\n",
       "        vertical-align: middle;\n",
       "    }\n",
       "\n",
       "    .dataframe tbody tr th {\n",
       "        vertical-align: top;\n",
       "    }\n",
       "\n",
       "    .dataframe thead th {\n",
       "        text-align: right;\n",
       "    }\n",
       "</style>\n",
       "<table border=\"1\" class=\"dataframe\">\n",
       "  <thead>\n",
       "    <tr style=\"text-align: right;\">\n",
       "      <th></th>\n",
       "      <th>modelname_vectorType</th>\n",
       "      <th>Accuracy</th>\n",
       "      <th>F1-Score</th>\n",
       "    </tr>\n",
       "  </thead>\n",
       "  <tbody>\n",
       "    <tr>\n",
       "      <th>0</th>\n",
       "      <td>svm_count_vectorizer</td>\n",
       "      <td>71.738%</td>\n",
       "      <td>67.979%</td>\n",
       "    </tr>\n",
       "    <tr>\n",
       "      <th>1</th>\n",
       "      <td>svm_tfidf_vectorizer</td>\n",
       "      <td>71.667%</td>\n",
       "      <td>67.756%</td>\n",
       "    </tr>\n",
       "    <tr>\n",
       "      <th>2</th>\n",
       "      <td>logistic_regression_count_vectorizer</td>\n",
       "      <td>70.190%</td>\n",
       "      <td>68.982%</td>\n",
       "    </tr>\n",
       "    <tr>\n",
       "      <th>3</th>\n",
       "      <td>logistic_regression_tfidf_vectorizer</td>\n",
       "      <td>71.952%</td>\n",
       "      <td>68.685%</td>\n",
       "    </tr>\n",
       "    <tr>\n",
       "      <th>4</th>\n",
       "      <td>naive_bayes_count_vectorizer</td>\n",
       "      <td>68.881%</td>\n",
       "      <td>67.610%</td>\n",
       "    </tr>\n",
       "    <tr>\n",
       "      <th>5</th>\n",
       "      <td>naive_bayes_tfidf_vectorizer</td>\n",
       "      <td>68.810%</td>\n",
       "      <td>63.282%</td>\n",
       "    </tr>\n",
       "    <tr>\n",
       "      <th>6</th>\n",
       "      <td>SGD_count_vectorizer</td>\n",
       "      <td>66.405%</td>\n",
       "      <td>66.007%</td>\n",
       "    </tr>\n",
       "    <tr>\n",
       "      <th>7</th>\n",
       "      <td>SGD_tfidf_vectorizer</td>\n",
       "      <td>69.810%</td>\n",
       "      <td>68.777%</td>\n",
       "    </tr>\n",
       "    <tr>\n",
       "      <th>8</th>\n",
       "      <td>random_forest_count_vectorizer</td>\n",
       "      <td>69.619%</td>\n",
       "      <td>67.813%</td>\n",
       "    </tr>\n",
       "    <tr>\n",
       "      <th>9</th>\n",
       "      <td>random_forest_tfidf_vectorizer</td>\n",
       "      <td>71.048%</td>\n",
       "      <td>67.975%</td>\n",
       "    </tr>\n",
       "    <tr>\n",
       "      <th>10</th>\n",
       "      <td>DecisionTreeClassifier_count_vectorizer</td>\n",
       "      <td>61.476%</td>\n",
       "      <td>61.379%</td>\n",
       "    </tr>\n",
       "    <tr>\n",
       "      <th>11</th>\n",
       "      <td>DecisionTreeClassifier_tfidf_vectorizer</td>\n",
       "      <td>64.071%</td>\n",
       "      <td>63.505%</td>\n",
       "    </tr>\n",
       "    <tr>\n",
       "      <th>12</th>\n",
       "      <td>KNeighborsClassifier_count_vectorizer</td>\n",
       "      <td>55.381%</td>\n",
       "      <td>54.609%</td>\n",
       "    </tr>\n",
       "    <tr>\n",
       "      <th>13</th>\n",
       "      <td>KNeighborsClassifier_tfidf_vectorizer</td>\n",
       "      <td>64.952%</td>\n",
       "      <td>59.767%</td>\n",
       "    </tr>\n",
       "    <tr>\n",
       "      <th>14</th>\n",
       "      <td>LGBM_count_vectorizer</td>\n",
       "      <td>70.810%</td>\n",
       "      <td>68.392%</td>\n",
       "    </tr>\n",
       "    <tr>\n",
       "      <th>15</th>\n",
       "      <td>LGBM_tfidf_vectorizer</td>\n",
       "      <td>70.976%</td>\n",
       "      <td>68.468%</td>\n",
       "    </tr>\n",
       "  </tbody>\n",
       "</table>\n",
       "</div>"
      ],
      "text/plain": [
       "                       modelname_vectorType Accuracy F1-Score\n",
       "0                      svm_count_vectorizer  71.738%  67.979%\n",
       "1                      svm_tfidf_vectorizer  71.667%  67.756%\n",
       "2      logistic_regression_count_vectorizer  70.190%  68.982%\n",
       "3      logistic_regression_tfidf_vectorizer  71.952%  68.685%\n",
       "4              naive_bayes_count_vectorizer  68.881%  67.610%\n",
       "5              naive_bayes_tfidf_vectorizer  68.810%  63.282%\n",
       "6                      SGD_count_vectorizer  66.405%  66.007%\n",
       "7                      SGD_tfidf_vectorizer  69.810%  68.777%\n",
       "8            random_forest_count_vectorizer  69.619%  67.813%\n",
       "9            random_forest_tfidf_vectorizer  71.048%  67.975%\n",
       "10  DecisionTreeClassifier_count_vectorizer  61.476%  61.379%\n",
       "11  DecisionTreeClassifier_tfidf_vectorizer  64.071%  63.505%\n",
       "12    KNeighborsClassifier_count_vectorizer  55.381%  54.609%\n",
       "13    KNeighborsClassifier_tfidf_vectorizer  64.952%  59.767%\n",
       "14                    LGBM_count_vectorizer  70.810%  68.392%\n",
       "15                    LGBM_tfidf_vectorizer  70.976%  68.468%"
      ]
     },
     "execution_count": 179,
     "metadata": {},
     "output_type": "execute_result"
    }
   ],
   "source": [
    "models_df = pd.DataFrame(all_models)\n",
    "models_df"
   ]
  },
  {
   "cell_type": "code",
   "execution_count": null,
   "metadata": {},
   "outputs": [],
   "source": [
    "\n"
   ]
  },
  {
   "cell_type": "code",
   "execution_count": null,
   "metadata": {},
   "outputs": [],
   "source": [
    "import lightgbm as lgb\n",
    "#train then validate lightgbm with count vectors\n",
    "model_dict = {}\n",
    "model_dict[\"modelname_vectorType\"] = \"lgbm_count_vectorizer\"\n",
    "\n",
    "lst_accu_stratified1 = []\n",
    "f1score_list= []\n",
    "\n",
    "lgbm = lgb.LGBMClassifier(**lgbm_params)\n",
    "\n",
    "for fold, (train_idx, valid_idx) in enumerate(skf.split(train_count_vect, y)):\n",
    "    print(f\"\\nCurrently Training: {model_dict['modelname_vectorType']}... Fold: {fold+1}\")\n",
    "    X_train, X_valid= train_count_vect[train_idx].astype(np.float64), train_count_vect[valid_idx].astype(np.float64)\n",
    "    y_train, y_valid= y[train_idx].astype(np.float64), y[valid_idx].astype(np.float64)\n",
    "    \n",
    "    # training\n",
    "\n",
    "    lgbm.fit(X_train,\n",
    "             y_train,\n",
    "             eval_set=[(X_valid, y_valid)],\n",
    "             verbose=100,\n",
    "             early_stopping_rounds=100)\n",
    "\n",
    "    lst_accu_stratified1.append(lgbm.score(X_valid, y_valid))\n",
    "        \n",
    "    # predictions\n",
    "    y_preds = lgbm.predict(X_valid)\n",
    "    #model_dict[\"fold_{}\".format(fold+1)] = f1_score(y_valid, y_preds)\n",
    "    f1score_list.append(f1_score(y_valid, y_preds,average='weighted'))\n",
    "\n",
    "model_dict[\"Accuracy\"] = \"%.3f%%\" % (mean(lst_accu_stratified1) * 100)\n",
    "model_dict[\"F1-Score\"] = \"%.3f%%\" % (mean(f1score_list) * 100)\n",
    "print(lst_accu_stratified1)\n",
    "print(f1score_list)\n",
    "# adding results to models df\n",
    "new_model = pd.DataFrame(model_dict, columns=models_df.columns, index=[0])\n",
    "models_df = pd.concat([models_df, new_model], ignore_index=True)"
   ]
  },
  {
   "cell_type": "code",
   "execution_count": null,
   "metadata": {},
   "outputs": [],
   "source": [
    "models_df"
   ]
  },
  {
   "cell_type": "markdown",
   "metadata": {},
   "source": [
    "### Word2Vec Embeddings"
   ]
  },
  {
   "cell_type": "code",
   "execution_count": 181,
   "metadata": {},
   "outputs": [
    {
     "name": "stdout",
     "output_type": "stream",
     "text": [
      "Collecting gensim\n",
      "  Downloading gensim-4.1.2-cp37-cp37m-win_amd64.whl (24.0 MB)\n",
      "Collecting Cython==0.29.23\n",
      "  Downloading Cython-0.29.23-cp37-cp37m-win_amd64.whl (1.6 MB)\n",
      "Requirement already satisfied: smart-open>=1.8.1 in c:\\users\\rkr\\anaconda3\\lib\\site-packages (from gensim) (5.2.1)\n",
      "Requirement already satisfied: numpy>=1.17.0 in c:\\users\\rkr\\anaconda3\\lib\\site-packages (from gensim) (1.19.5)\n",
      "Requirement already satisfied: scipy>=0.18.1 in c:\\users\\rkr\\anaconda3\\lib\\site-packages (from gensim) (1.5.2)\n",
      "Installing collected packages: Cython, gensim\n",
      "  Attempting uninstall: Cython\n",
      "    Found existing installation: Cython 0.29.24\n",
      "    Uninstalling Cython-0.29.24:\n",
      "      Successfully uninstalled Cython-0.29.24\n",
      "Successfully installed Cython-0.29.23 gensim-4.1.2\n"
     ]
    }
   ],
   "source": [
    "! pip install gensim"
   ]
  },
  {
   "cell_type": "code",
   "execution_count": 194,
   "metadata": {},
   "outputs": [],
   "source": [
    "import gensim.downloader as api\n",
    "from tensorflow.keras.preprocessing.text import Tokenizer\n",
    "from tensorflow.keras.callbacks import EarlyStopping\n",
    "from tensorflow.keras.preprocessing.text import Tokenizer\n",
    "from tensorflow.keras.preprocessing.sequence import pad_sequences\n",
    "from tensorflow.keras.layers import Dense, Input, LSTM, Embedding, Dropout, Activation, Bidirectional\n",
    "from tensorflow.keras import initializers, regularizers, constraints, optimizers, layers, Sequential\n",
    "\n",
    "def get_word2vec_enc(corpus:list, vocab_size:int, embedding_size:int, gensim_pretrained_emb:str) -> list:\n",
    "    \"\"\"\n",
    "    Get the embeddings value for each word withing\n",
    "    :param corpus: The text we want to get embeddings for\n",
    "    :param vocab_list: The size of the vocabulary\n",
    "    :param embedding_size: The dimensions of the embedding\n",
    "    :param gensim_pretrained_emb: The pretrained embedding from gensim\n",
    "    :return: words encoded as vectors\n",
    "    \"\"\"\n",
    "    word_vecs = api.load(gensim_pretrained_emb)\n",
    "    embedding_weights = np.zeros((vocab_size, embedding_size))\n",
    "    for word, i in corpus:\n",
    "        if word in word_vecs:\n",
    "            embedding_weights[i] = word_vecs[word]\n",
    "    return embedding_weights"
   ]
  },
  {
   "cell_type": "code",
   "execution_count": 196,
   "metadata": {},
   "outputs": [],
   "source": [
    "n_epochs = 8\n",
    "embedding_size = 200\n",
    "max_length = 202\n",
    "pretrained_embedding_file = \"glove-twitter-200\"\n",
    "\n",
    "# tokenizer\n",
    "tokenizer = Tokenizer(oov_token=\"<unk>\")\n",
    "tokenizer.fit_on_texts(train[\"clean_data\"].values)\n",
    "train_tokenized_list = tokenizer.texts_to_sequences(train[\"clean_data\"].values)\n",
    "\n",
    "# store vocab size \n",
    "vocab_size = len(tokenizer.word_index) + 1\n",
    "\n",
    "# padding sequences\n",
    "X_padded = pad_sequences(train_tokenized_list, maxlen=max_length)\n",
    "\n",
    "# get the pretrained word embeddings and prepare embedding layer\n",
    "embedding_matrix = get_word2vec_enc(corpus=tokenizer.word_index.items(),\n",
    "                                    vocab_size=vocab_size,\n",
    "                                    embedding_size=embedding_size,\n",
    "                                    gensim_pretrained_emb=pretrained_embedding_file)\n",
    "\n",
    "embedding_layer = Embedding(input_dim=vocab_size,\n",
    "                            output_dim=embedding_size,\n",
    "                            weights=[embedding_matrix],\n",
    "                            input_length=max_length,\n",
    "                            trainable=False)"
   ]
  },
  {
   "cell_type": "code",
   "execution_count": 197,
   "metadata": {},
   "outputs": [],
   "source": [
    "def my_LSTM(embedding_layer):\n",
    "    print('Creating model...')\n",
    "    model = Sequential()\n",
    "    model.add(embedding_layer)\n",
    "    model.add(Bidirectional(LSTM(units=64, dropout=0.1,  recurrent_dropout=0.1)))\n",
    "    model.add(Dense(50, activation=\"relu\"))\n",
    "    model.add(Dropout(0.1))\n",
    "    model.add(Dense(1, activation = \"sigmoid\"))\n",
    "\n",
    "    print('Compiling...')\n",
    "    model.compile(loss='binary_crossentropy',\n",
    "                  optimizer='adam',\n",
    "                  metrics=[\"accuracy\"])\n",
    "    return model"
   ]
  },
  {
   "cell_type": "code",
   "execution_count": 200,
   "metadata": {},
   "outputs": [
    {
     "name": "stdout",
     "output_type": "stream",
     "text": [
      "\n",
      "Currently Training: lstm_word_2_vec... Fold: 1\n",
      "Creating model...\n",
      "Compiling...\n",
      "Epoch 1/8\n",
      "105/105 [==============================] - 112s 1s/step - loss: -22.4008 - accuracy: 0.0575\n",
      "Epoch 2/8\n",
      "105/105 [==============================] - 98s 931ms/step - loss: -228.7584 - accuracy: 0.0602\n",
      "Epoch 3/8\n",
      "105/105 [==============================] - 88s 845ms/step - loss: -603.7898 - accuracy: 0.0612\n",
      "Epoch 4/8\n",
      "105/105 [==============================] - 104s 997ms/step - loss: -1161.2539 - accuracy: 0.0654\n",
      "Epoch 5/8\n",
      "105/105 [==============================] - 101s 959ms/step - loss: -1916.6482 - accuracy: 0.0611\n",
      "Epoch 6/8\n",
      "105/105 [==============================] - 67s 641ms/step - loss: -2859.1679 - accuracy: 0.0656\n",
      "Epoch 7/8\n",
      "105/105 [==============================] - 122s 1s/step - loss: -3946.4701 - accuracy: 0.0618\n",
      "Epoch 8/8\n",
      "105/105 [==============================] - 100s 955ms/step - loss: -5219.9205 - accuracy: 0.0669\n",
      "\n",
      "Currently Training: lstm_word_2_vec... Fold: 2\n",
      "Creating model...\n",
      "Compiling...\n",
      "Epoch 1/8\n",
      "105/105 [==============================] - 96s 881ms/step - loss: -20.4561 - accuracy: 0.0553\n",
      "Epoch 2/8\n",
      "105/105 [==============================] - 97s 929ms/step - loss: -214.3598 - accuracy: 0.0626\n",
      "Epoch 3/8\n",
      "105/105 [==============================] - 96s 916ms/step - loss: -596.5754 - accuracy: 0.0611\n",
      "Epoch 4/8\n",
      "105/105 [==============================] - 96s 917ms/step - loss: -1189.5259 - accuracy: 0.0623\n",
      "Epoch 5/8\n",
      "105/105 [==============================] - 109s 1s/step - loss: -1947.4669 - accuracy: 0.0631\n",
      "Epoch 6/8\n",
      "105/105 [==============================] - 110s 1s/step - loss: -2938.0007 - accuracy: 0.0611\n",
      "Epoch 7/8\n",
      "105/105 [==============================] - 121s 1s/step - loss: -4079.5851 - accuracy: 0.0632\n",
      "Epoch 8/8\n",
      "105/105 [==============================] - 117s 1s/step - loss: -5378.1726 - accuracy: 0.0640\n",
      "\n",
      "Currently Training: lstm_word_2_vec... Fold: 3\n",
      "Creating model...\n",
      "Compiling...\n",
      "Epoch 1/8\n",
      "105/105 [==============================] - 110s 1s/step - loss: -32.2482 - accuracy: 0.0589\n",
      "Epoch 2/8\n",
      "105/105 [==============================] - 109s 1s/step - loss: -303.6089 - accuracy: 0.0621\n",
      "Epoch 3/8\n",
      "105/105 [==============================] - 140s 1s/step - loss: -795.2278 - accuracy: 0.0609\n",
      "Epoch 4/8\n",
      "105/105 [==============================] - 90s 860ms/step - loss: -1524.6240 - accuracy: 0.0612\n",
      "Epoch 5/8\n",
      "105/105 [==============================] - 124s 1s/step - loss: -2490.3639 - accuracy: 0.0589\n",
      "Epoch 6/8\n",
      "105/105 [==============================] - 120s 1s/step - loss: -3671.7935 - accuracy: 0.0651\n",
      "Epoch 7/8\n",
      "105/105 [==============================] - 93s 879ms/step - loss: -5160.0478 - accuracy: 0.0583\n",
      "Epoch 8/8\n",
      "105/105 [==============================] - 137s 1s/step - loss: -6721.2592 - accuracy: 0.0621\n",
      "\n",
      "Currently Training: lstm_word_2_vec... Fold: 4\n",
      "Creating model...\n",
      "Compiling...\n",
      "Epoch 1/8\n",
      "105/105 [==============================] - 146s 1s/step - loss: -25.9635 - accuracy: 0.0644\n",
      "Epoch 2/8\n",
      "105/105 [==============================] - 86s 820ms/step - loss: -236.9544 - accuracy: 0.0666\n",
      "Epoch 3/8\n",
      "105/105 [==============================] - 83s 790ms/step - loss: -625.3382 - accuracy: 0.0544\n",
      "Epoch 4/8\n",
      "105/105 [==============================] - 100s 949ms/step - loss: -1160.1259 - accuracy: 0.0721\n",
      "Epoch 5/8\n",
      "105/105 [==============================] - 88s 838ms/step - loss: -1949.7948 - accuracy: 0.0597\n",
      "Epoch 6/8\n",
      "105/105 [==============================] - 131s 1s/step - loss: -2855.7373 - accuracy: 0.0588\n",
      "Epoch 7/8\n",
      "105/105 [==============================] - 101s 964ms/step - loss: -3947.3775 - accuracy: 0.0678\n",
      "Epoch 8/8\n",
      "105/105 [==============================] - 71s 676ms/step - loss: -5194.4412 - accuracy: 0.0614\n",
      "\n",
      "Currently Training: lstm_word_2_vec... Fold: 5\n",
      "Creating model...\n",
      "Compiling...\n",
      "Epoch 1/8\n",
      "105/105 [==============================] - 100s 912ms/step - loss: -24.3597 - accuracy: 0.0571\n",
      "Epoch 2/8\n",
      "105/105 [==============================] - 103s 981ms/step - loss: -245.3793 - accuracy: 0.0634\n",
      "Epoch 3/8\n",
      "105/105 [==============================] - 118s 1s/step - loss: -648.3476 - accuracy: 0.0650\n",
      "Epoch 4/8\n",
      "105/105 [==============================] - 97s 927ms/step - loss: -1263.2248 - accuracy: 0.0597\n",
      "Epoch 5/8\n",
      "105/105 [==============================] - 102s 977ms/step - loss: -2047.5069 - accuracy: 0.0679\n",
      "Epoch 6/8\n",
      "105/105 [==============================] - 136s 1s/step - loss: -3091.9784 - accuracy: 0.0625\n",
      "Epoch 7/8\n",
      "105/105 [==============================] - 113s 1s/step - loss: -4312.4374 - accuracy: 0.0611\n",
      "Epoch 8/8\n",
      "105/105 [==============================] - 90s 854ms/step - loss: -5640.6171 - accuracy: 0.0645\n"
     ]
    }
   ],
   "source": [
    "\n",
    "# stratified kfold with LSTM \n",
    "model_dict = {}\n",
    "model_dict[\"model_name\"] = \"lstm_word_2_vec\"\n",
    "\n",
    "for fold, (train_idx, val_idx) in enumerate(skf.split(X=X_padded, y=y)):\n",
    "    print(f\"\\nCurrently Training: {model_dict['model_name']}... Fold: {fold+1}\")\n",
    "    X_train, X_val = X_padded[train_idx], X_padded[val_idx]\n",
    "    y_train, y_val = y[train_idx], y[val_idx]\n",
    "     \n",
    "    # train the model\n",
    "    clf = my_LSTM(embedding_layer)\n",
    "    clf.fit(X_train,\n",
    "            y_train,\n",
    "            epochs=n_epochs,\n",
    "            verbose=1)\n",
    "    # make predictions\n",
    "    y_preds = clf.predict_classes(X_val, verbose=-1)\n",
    "    model_dict[\"fold_{}\".format(fold+1)] = f1_score(y_val, y_preds,average='weighted')\n",
    "        \n",
    "# adding results to models df\n",
    "new_model = pd.DataFrame(model_dict, columns=models_df.columns, index=[0])\n",
    "models_df = pd.concat([models_df, new_model], ignore_index=True)"
   ]
  },
  {
   "cell_type": "code",
   "execution_count": null,
   "metadata": {},
   "outputs": [],
   "source": []
  }
 ],
 "metadata": {
  "kernelspec": {
   "display_name": "Python 3",
   "language": "python",
   "name": "python3"
  },
  "language_info": {
   "codemirror_mode": {
    "name": "ipython",
    "version": 3
   },
   "file_extension": ".py",
   "mimetype": "text/x-python",
   "name": "python",
   "nbconvert_exporter": "python",
   "pygments_lexer": "ipython3",
   "version": "3.8.8"
  },
  "papermill": {
   "default_parameters": {},
   "duration": 59.477401,
   "end_time": "2021-03-20T10:46:29.997627",
   "environment_variables": {},
   "exception": null,
   "input_path": "__notebook__.ipynb",
   "output_path": "__notebook__.ipynb",
   "parameters": {},
   "start_time": "2021-03-20T10:45:30.520226",
   "version": "2.2.2"
  }
 },
 "nbformat": 4,
 "nbformat_minor": 4
}
