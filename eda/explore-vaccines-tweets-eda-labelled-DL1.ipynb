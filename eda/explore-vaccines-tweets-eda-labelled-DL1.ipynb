{
 "cells": [
  {
   "cell_type": "markdown",
   "metadata": {
    "papermill": {
     "duration": 0.041214,
     "end_time": "2021-03-20T10:45:37.541685",
     "exception": false,
     "start_time": "2021-03-20T10:45:37.500471",
     "status": "completed"
    },
    "tags": []
   },
   "source": [
    "<center><h1>Explore Vaccines Tweets - Labelled data\n",
    "   </h1></center>\n",
    "\n",
    "# Introduction\n",
    "\n",
    "\n",
    "The Dataset we are using here is collected using Twitter API, **tweepy** and Python package.\n",
    "\n",
    "The following vaccines are included:  \n",
    "* Pfizer/BioNTech;   \n",
    "* Sinopharm;  \n",
    "* Sinovac;  \n",
    "* Moderna;  \n",
    "* Oxford/AstraZeneca;   \n",
    "* Covaxin;   \n",
    "* Sputnik V.  \n",
    "\n"
   ]
  },
  {
   "cell_type": "markdown",
   "metadata": {
    "papermill": {
     "duration": 0.037002,
     "end_time": "2021-03-20T10:45:37.617702",
     "exception": false,
     "start_time": "2021-03-20T10:45:37.580700",
     "status": "completed"
    },
    "tags": []
   },
   "source": [
    "# Data preparation\n",
    "\n",
    "## Load packages"
   ]
  },
  {
   "cell_type": "code",
   "execution_count": 168,
   "metadata": {
    "gather": {
     "logged": 1634622462441
    }
   },
   "outputs": [],
   "source": [
    "#! pip install tensorflow==2.6  seaborn  lightgbm   pandas plotly  matplotlib nltk numpy gensim wordcloud textblob neattext scikit_learn nbformat"
   ]
  },
  {
   "cell_type": "code",
   "execution_count": 169,
   "metadata": {},
   "outputs": [
    {
     "data": {
      "text/plain": [
       "'2.4.0'"
      ]
     },
     "execution_count": 169,
     "metadata": {},
     "output_type": "execute_result"
    }
   ],
   "source": [
    "import tensorflow as tf\n",
    "tf.__version__\n",
    "\n"
   ]
  },
  {
   "cell_type": "code",
   "execution_count": 170,
   "metadata": {
    "_cell_guid": "b1076dfc-b9ad-4769-8c92-a6c4dae69d19",
    "_kg_hide-input": true,
    "_uuid": "8f2839f25d086af736a60e9eeb907d3b93b6e0e5",
    "execution": {
     "iopub.execute_input": "2021-03-20T10:45:37.701980Z",
     "iopub.status.busy": "2021-03-20T10:45:37.701035Z",
     "iopub.status.idle": "2021-03-20T10:45:39.927063Z",
     "shell.execute_reply": "2021-03-20T10:45:39.925993Z"
    },
    "gather": {
     "logged": 1634622464697
    },
    "papermill": {
     "duration": 2.272787,
     "end_time": "2021-03-20T10:45:39.927368",
     "exception": false,
     "start_time": "2021-03-20T10:45:37.654581",
     "status": "completed"
    },
    "tags": []
   },
   "outputs": [],
   "source": [
    "import numpy as np \n",
    "import pandas as pd\n",
    "import matplotlib as mp\n",
    "import seaborn as sns\n",
    "import matplotlib.pyplot as plt\n",
    "from textblob import TextBlob\n",
    "%matplotlib inline \n",
    "from wordcloud import WordCloud, STOPWORDS\n",
    "##\n",
    "import plotly.express as px\n",
    "import plotly.graph_objs as go\n",
    "from plotly.offline import init_notebook_mode, iplot\n",
    "##\n",
    "import warnings\n",
    "warnings.simplefilter(\"ignore\")"
   ]
  },
  {
   "cell_type": "code",
   "execution_count": null,
   "metadata": {},
   "outputs": [],
   "source": []
  },
  {
   "cell_type": "markdown",
   "metadata": {
    "papermill": {
     "duration": 0.037597,
     "end_time": "2021-03-20T10:45:40.003701",
     "exception": false,
     "start_time": "2021-03-20T10:45:39.966104",
     "status": "completed"
    },
    "tags": []
   },
   "source": [
    "## Load data"
   ]
  },
  {
   "cell_type": "code",
   "execution_count": 171,
   "metadata": {
    "_cell_guid": "79c7e3d0-c299-4dcb-8224-4455121ee9b0",
    "_kg_hide-input": true,
    "_uuid": "d629ff2d2480ee46fbb7e2d37f6b5fab8052498a",
    "execution": {
     "iopub.execute_input": "2021-03-20T10:45:40.087705Z",
     "iopub.status.busy": "2021-03-20T10:45:40.086954Z",
     "iopub.status.idle": "2021-03-20T10:45:40.712486Z",
     "shell.execute_reply": "2021-03-20T10:45:40.711691Z"
    },
    "gather": {
     "logged": 1634622465171
    },
    "papermill": {
     "duration": 0.67196,
     "end_time": "2021-03-20T10:45:40.712655",
     "exception": false,
     "start_time": "2021-03-20T10:45:40.040695",
     "status": "completed"
    },
    "tags": []
   },
   "outputs": [],
   "source": [
    "tweets_df = pd.read_csv(\"covid-19_vaccine_tweets_with_sentiment.csv\", encoding='latin1')"
   ]
  },
  {
   "cell_type": "markdown",
   "metadata": {
    "papermill": {
     "duration": 0.037395,
     "end_time": "2021-03-20T10:45:40.786967",
     "exception": false,
     "start_time": "2021-03-20T10:45:40.749572",
     "status": "completed"
    },
    "tags": []
   },
   "source": [
    "# Data exploration\n",
    "\n",
    "\n",
    "## Glimpse the data"
   ]
  },
  {
   "cell_type": "code",
   "execution_count": 172,
   "metadata": {
    "_kg_hide-input": true,
    "execution": {
     "iopub.execute_input": "2021-03-20T10:45:40.866051Z",
     "iopub.status.busy": "2021-03-20T10:45:40.865333Z",
     "iopub.status.idle": "2021-03-20T10:45:40.869951Z",
     "shell.execute_reply": "2021-03-20T10:45:40.869370Z"
    },
    "gather": {
     "logged": 1634622465566
    },
    "papermill": {
     "duration": 0.04582,
     "end_time": "2021-03-20T10:45:40.870100",
     "exception": false,
     "start_time": "2021-03-20T10:45:40.824280",
     "status": "completed"
    },
    "tags": []
   },
   "outputs": [
    {
     "name": "stdout",
     "output_type": "stream",
     "text": [
      "data shape: (6000, 3)\n"
     ]
    }
   ],
   "source": [
    "print(f\"data shape: {tweets_df.shape}\")"
   ]
  },
  {
   "cell_type": "code",
   "execution_count": 173,
   "metadata": {
    "_kg_hide-input": true,
    "execution": {
     "iopub.execute_input": "2021-03-20T10:45:40.960462Z",
     "iopub.status.busy": "2021-03-20T10:45:40.959758Z",
     "iopub.status.idle": "2021-03-20T10:45:41.014944Z",
     "shell.execute_reply": "2021-03-20T10:45:41.013889Z"
    },
    "gather": {
     "logged": 1634622465934
    },
    "papermill": {
     "duration": 0.108513,
     "end_time": "2021-03-20T10:45:41.015483",
     "exception": false,
     "start_time": "2021-03-20T10:45:40.906970",
     "status": "completed"
    },
    "tags": []
   },
   "outputs": [
    {
     "name": "stdout",
     "output_type": "stream",
     "text": [
      "<class 'pandas.core.frame.DataFrame'>\n",
      "RangeIndex: 6000 entries, 0 to 5999\n",
      "Data columns (total 3 columns):\n",
      " #   Column      Non-Null Count  Dtype  \n",
      "---  ------      --------------  -----  \n",
      " 0   tweet_id    6000 non-null   float64\n",
      " 1   label       6000 non-null   int64  \n",
      " 2   tweet_text  6000 non-null   object \n",
      "dtypes: float64(1), int64(1), object(1)\n",
      "memory usage: 140.8+ KB\n"
     ]
    }
   ],
   "source": [
    "tweets_df.info()"
   ]
  },
  {
   "cell_type": "code",
   "execution_count": 174,
   "metadata": {
    "_kg_hide-input": true,
    "execution": {
     "iopub.execute_input": "2021-03-20T10:45:41.098548Z",
     "iopub.status.busy": "2021-03-20T10:45:41.097819Z",
     "iopub.status.idle": "2021-03-20T10:45:41.152726Z",
     "shell.execute_reply": "2021-03-20T10:45:41.152127Z"
    },
    "gather": {
     "logged": 1634622466368
    },
    "papermill": {
     "duration": 0.097833,
     "end_time": "2021-03-20T10:45:41.152886",
     "exception": false,
     "start_time": "2021-03-20T10:45:41.055053",
     "status": "completed"
    },
    "tags": []
   },
   "outputs": [
    {
     "data": {
      "text/html": [
       "<div>\n",
       "<style scoped>\n",
       "    .dataframe tbody tr th:only-of-type {\n",
       "        vertical-align: middle;\n",
       "    }\n",
       "\n",
       "    .dataframe tbody tr th {\n",
       "        vertical-align: top;\n",
       "    }\n",
       "\n",
       "    .dataframe thead th {\n",
       "        text-align: right;\n",
       "    }\n",
       "</style>\n",
       "<table border=\"1\" class=\"dataframe\">\n",
       "  <thead>\n",
       "    <tr style=\"text-align: right;\">\n",
       "      <th></th>\n",
       "      <th>tweet_id</th>\n",
       "      <th>label</th>\n",
       "    </tr>\n",
       "  </thead>\n",
       "  <tbody>\n",
       "    <tr>\n",
       "      <th>count</th>\n",
       "      <td>6.000000e+03</td>\n",
       "      <td>6000.000000</td>\n",
       "    </tr>\n",
       "    <tr>\n",
       "      <th>mean</th>\n",
       "      <td>1.372192e+18</td>\n",
       "      <td>2.246667</td>\n",
       "    </tr>\n",
       "    <tr>\n",
       "      <th>std</th>\n",
       "      <td>1.036489e+16</td>\n",
       "      <td>0.570856</td>\n",
       "    </tr>\n",
       "    <tr>\n",
       "      <th>min</th>\n",
       "      <td>1.337736e+18</td>\n",
       "      <td>1.000000</td>\n",
       "    </tr>\n",
       "    <tr>\n",
       "      <th>25%</th>\n",
       "      <td>1.366304e+18</td>\n",
       "      <td>2.000000</td>\n",
       "    </tr>\n",
       "    <tr>\n",
       "      <th>50%</th>\n",
       "      <td>1.373906e+18</td>\n",
       "      <td>2.000000</td>\n",
       "    </tr>\n",
       "    <tr>\n",
       "      <th>75%</th>\n",
       "      <td>1.380625e+18</td>\n",
       "      <td>3.000000</td>\n",
       "    </tr>\n",
       "    <tr>\n",
       "      <th>max</th>\n",
       "      <td>1.385237e+18</td>\n",
       "      <td>3.000000</td>\n",
       "    </tr>\n",
       "  </tbody>\n",
       "</table>\n",
       "</div>"
      ],
      "text/plain": [
       "           tweet_id        label\n",
       "count  6.000000e+03  6000.000000\n",
       "mean   1.372192e+18     2.246667\n",
       "std    1.036489e+16     0.570856\n",
       "min    1.337736e+18     1.000000\n",
       "25%    1.366304e+18     2.000000\n",
       "50%    1.373906e+18     2.000000\n",
       "75%    1.380625e+18     3.000000\n",
       "max    1.385237e+18     3.000000"
      ]
     },
     "execution_count": 174,
     "metadata": {},
     "output_type": "execute_result"
    }
   ],
   "source": [
    "tweets_df.describe()"
   ]
  },
  {
   "cell_type": "code",
   "execution_count": 175,
   "metadata": {
    "_kg_hide-input": true,
    "execution": {
     "iopub.execute_input": "2021-03-20T10:45:41.256677Z",
     "iopub.status.busy": "2021-03-20T10:45:41.247462Z",
     "iopub.status.idle": "2021-03-20T10:45:41.262378Z",
     "shell.execute_reply": "2021-03-20T10:45:41.262924Z"
    },
    "gather": {
     "logged": 1634622466805
    },
    "papermill": {
     "duration": 0.069645,
     "end_time": "2021-03-20T10:45:41.263117",
     "exception": false,
     "start_time": "2021-03-20T10:45:41.193472",
     "status": "completed"
    },
    "tags": []
   },
   "outputs": [
    {
     "data": {
      "text/html": [
       "<div>\n",
       "<style scoped>\n",
       "    .dataframe tbody tr th:only-of-type {\n",
       "        vertical-align: middle;\n",
       "    }\n",
       "\n",
       "    .dataframe tbody tr th {\n",
       "        vertical-align: top;\n",
       "    }\n",
       "\n",
       "    .dataframe thead th {\n",
       "        text-align: right;\n",
       "    }\n",
       "</style>\n",
       "<table border=\"1\" class=\"dataframe\">\n",
       "  <thead>\n",
       "    <tr style=\"text-align: right;\">\n",
       "      <th></th>\n",
       "      <th>tweet_id</th>\n",
       "      <th>label</th>\n",
       "      <th>tweet_text</th>\n",
       "    </tr>\n",
       "  </thead>\n",
       "  <tbody>\n",
       "    <tr>\n",
       "      <th>0</th>\n",
       "      <td>1.360342e+18</td>\n",
       "      <td>1</td>\n",
       "      <td>4,000 a day dying from the so called Covid-19 vaccine @DailyBeast reports. #vaccine #PfizerVac...</td>\n",
       "    </tr>\n",
       "    <tr>\n",
       "      <th>1</th>\n",
       "      <td>1.382896e+18</td>\n",
       "      <td>2</td>\n",
       "      <td>Pranam message for today manifested in Dhyan by @meenapranam #truth #love #karm #light #nature #...</td>\n",
       "    </tr>\n",
       "    <tr>\n",
       "      <th>2</th>\n",
       "      <td>1.375673e+18</td>\n",
       "      <td>2</td>\n",
       "      <td>Hyderabad-based ?@BharatBiotech? has sought funds from the government to ramp up production of i...</td>\n",
       "    </tr>\n",
       "    <tr>\n",
       "      <th>3</th>\n",
       "      <td>1.381311e+18</td>\n",
       "      <td>1</td>\n",
       "      <td>Confirmation that Chinese #vaccines \"dont have very high protection rates\", according to the di...</td>\n",
       "    </tr>\n",
       "    <tr>\n",
       "      <th>4</th>\n",
       "      <td>1.362166e+18</td>\n",
       "      <td>3</td>\n",
       "      <td>Lab studies suggest #Pfizer, #Moderna vaccines can protect against #coronavirusvariant\\nhttps://...</td>\n",
       "    </tr>\n",
       "  </tbody>\n",
       "</table>\n",
       "</div>"
      ],
      "text/plain": [
       "       tweet_id  label  \\\n",
       "0  1.360342e+18      1   \n",
       "1  1.382896e+18      2   \n",
       "2  1.375673e+18      2   \n",
       "3  1.381311e+18      1   \n",
       "4  1.362166e+18      3   \n",
       "\n",
       "                                                                                            tweet_text  \n",
       "0  4,000 a day dying from the so called Covid-19 vaccine @DailyBeast reports. #vaccine #PfizerVac...  \n",
       "1  Pranam message for today manifested in Dhyan by @meenapranam #truth #love #karm #light #nature #...  \n",
       "2  Hyderabad-based ?@BharatBiotech? has sought funds from the government to ramp up production of i...  \n",
       "3  Confirmation that Chinese #vaccines \"dont have very high protection rates\", according to the di...  \n",
       "4  Lab studies suggest #Pfizer, #Moderna vaccines can protect against #coronavirusvariant\\nhttps://...  "
      ]
     },
     "execution_count": 175,
     "metadata": {},
     "output_type": "execute_result"
    }
   ],
   "source": [
    "tweets_df.head()"
   ]
  },
  {
   "cell_type": "markdown",
   "metadata": {
    "papermill": {
     "duration": 0.039048,
     "end_time": "2021-03-20T10:45:41.340579",
     "exception": false,
     "start_time": "2021-03-20T10:45:41.301531",
     "status": "completed"
    },
    "tags": []
   },
   "source": [
    "### Missing data"
   ]
  },
  {
   "cell_type": "code",
   "execution_count": 176,
   "metadata": {
    "_kg_hide-input": true,
    "execution": {
     "iopub.execute_input": "2021-03-20T10:45:41.427825Z",
     "iopub.status.busy": "2021-03-20T10:45:41.427029Z",
     "iopub.status.idle": "2021-03-20T10:45:41.429159Z",
     "shell.execute_reply": "2021-03-20T10:45:41.429638Z"
    },
    "gather": {
     "logged": 1634622467377
    },
    "papermill": {
     "duration": 0.050226,
     "end_time": "2021-03-20T10:45:41.429846",
     "exception": false,
     "start_time": "2021-03-20T10:45:41.379620",
     "status": "completed"
    },
    "tags": []
   },
   "outputs": [],
   "source": [
    "def missing_data(data):\n",
    "    total = data.isnull().sum()\n",
    "    percent = (data.isnull().sum()/data.isnull().count()*100)\n",
    "    tt = pd.concat([total, percent], axis=1, keys=['Total', 'Percent'])\n",
    "    types = []\n",
    "    for col in data.columns:\n",
    "        dtype = str(data[col].dtype)\n",
    "        types.append(dtype)\n",
    "    tt['Types'] = types\n",
    "    return(np.transpose(tt))"
   ]
  },
  {
   "cell_type": "code",
   "execution_count": 177,
   "metadata": {
    "_kg_hide-input": true,
    "execution": {
     "iopub.execute_input": "2021-03-20T10:45:41.511708Z",
     "iopub.status.busy": "2021-03-20T10:45:41.510996Z",
     "iopub.status.idle": "2021-03-20T10:45:41.649119Z",
     "shell.execute_reply": "2021-03-20T10:45:41.647867Z"
    },
    "gather": {
     "logged": 1634622467930
    },
    "papermill": {
     "duration": 0.179852,
     "end_time": "2021-03-20T10:45:41.649318",
     "exception": false,
     "start_time": "2021-03-20T10:45:41.469466",
     "status": "completed"
    },
    "tags": []
   },
   "outputs": [
    {
     "data": {
      "text/html": [
       "<div>\n",
       "<style scoped>\n",
       "    .dataframe tbody tr th:only-of-type {\n",
       "        vertical-align: middle;\n",
       "    }\n",
       "\n",
       "    .dataframe tbody tr th {\n",
       "        vertical-align: top;\n",
       "    }\n",
       "\n",
       "    .dataframe thead th {\n",
       "        text-align: right;\n",
       "    }\n",
       "</style>\n",
       "<table border=\"1\" class=\"dataframe\">\n",
       "  <thead>\n",
       "    <tr style=\"text-align: right;\">\n",
       "      <th></th>\n",
       "      <th>tweet_id</th>\n",
       "      <th>label</th>\n",
       "      <th>tweet_text</th>\n",
       "    </tr>\n",
       "  </thead>\n",
       "  <tbody>\n",
       "    <tr>\n",
       "      <th>Total</th>\n",
       "      <td>0</td>\n",
       "      <td>0</td>\n",
       "      <td>0</td>\n",
       "    </tr>\n",
       "    <tr>\n",
       "      <th>Percent</th>\n",
       "      <td>0</td>\n",
       "      <td>0</td>\n",
       "      <td>0</td>\n",
       "    </tr>\n",
       "    <tr>\n",
       "      <th>Types</th>\n",
       "      <td>float64</td>\n",
       "      <td>int64</td>\n",
       "      <td>object</td>\n",
       "    </tr>\n",
       "  </tbody>\n",
       "</table>\n",
       "</div>"
      ],
      "text/plain": [
       "        tweet_id  label tweet_text\n",
       "Total          0      0          0\n",
       "Percent        0      0          0\n",
       "Types    float64  int64     object"
      ]
     },
     "execution_count": 177,
     "metadata": {},
     "output_type": "execute_result"
    }
   ],
   "source": [
    "missing_data(tweets_df)"
   ]
  },
  {
   "cell_type": "code",
   "execution_count": 178,
   "metadata": {
    "gather": {
     "logged": 1634622468325
    }
   },
   "outputs": [
    {
     "name": "stdout",
     "output_type": "stream",
     "text": [
      "Empty DataFrame\n",
      "Columns: [column, percent]\n",
      "Index: []\n"
     ]
    }
   ],
   "source": [
    "missed = pd.DataFrame()\n",
    "missed['column'] = tweets_df.columns\n",
    "missed['percent'] = [round(100* tweets_df[col].isnull().sum() / len(tweets_df), 2) for col in tweets_df.columns]\n",
    "missed = missed.sort_values('percent',ascending=False)\n",
    "missed = missed[missed['percent']>0]\n",
    "print(missed)\n",
    "#fig = sns.barplot(\n",
    "#    x=missed['percent'], \n",
    "#    y=missed[\"column\"], \n",
    "#    orientation='horizontal'\n",
    "#).set_title('Missed values percent for every column')"
   ]
  },
  {
   "cell_type": "markdown",
   "metadata": {
    "papermill": {
     "duration": 0.042518,
     "end_time": "2021-03-20T10:45:41.731054",
     "exception": false,
     "start_time": "2021-03-20T10:45:41.688536",
     "status": "completed"
    },
    "tags": []
   },
   "source": [
    "### Unique values"
   ]
  },
  {
   "cell_type": "code",
   "execution_count": 179,
   "metadata": {
    "_kg_hide-input": true,
    "execution": {
     "iopub.execute_input": "2021-03-20T10:45:41.817921Z",
     "iopub.status.busy": "2021-03-20T10:45:41.817253Z",
     "iopub.status.idle": "2021-03-20T10:45:41.820854Z",
     "shell.execute_reply": "2021-03-20T10:45:41.820157Z"
    },
    "gather": {
     "logged": 1634622468687
    },
    "papermill": {
     "duration": 0.049979,
     "end_time": "2021-03-20T10:45:41.821012",
     "exception": false,
     "start_time": "2021-03-20T10:45:41.771033",
     "status": "completed"
    },
    "tags": []
   },
   "outputs": [],
   "source": [
    "def unique_values(data):\n",
    "    total = data.count()\n",
    "    tt = pd.DataFrame(total)\n",
    "    tt.columns = ['Total']\n",
    "    uniques = []\n",
    "    for col in data.columns:\n",
    "        unique = data[col].nunique()\n",
    "        uniques.append(unique)\n",
    "    tt['Uniques'] = uniques\n",
    "    return(np.transpose(tt))"
   ]
  },
  {
   "cell_type": "code",
   "execution_count": 180,
   "metadata": {
    "_kg_hide-input": true,
    "execution": {
     "iopub.execute_input": "2021-03-20T10:45:41.902659Z",
     "iopub.status.busy": "2021-03-20T10:45:41.901971Z",
     "iopub.status.idle": "2021-03-20T10:45:42.068693Z",
     "shell.execute_reply": "2021-03-20T10:45:42.068091Z"
    },
    "gather": {
     "logged": 1634622469131
    },
    "papermill": {
     "duration": 0.208623,
     "end_time": "2021-03-20T10:45:42.068984",
     "exception": false,
     "start_time": "2021-03-20T10:45:41.860361",
     "status": "completed"
    },
    "tags": []
   },
   "outputs": [
    {
     "data": {
      "text/html": [
       "<div>\n",
       "<style scoped>\n",
       "    .dataframe tbody tr th:only-of-type {\n",
       "        vertical-align: middle;\n",
       "    }\n",
       "\n",
       "    .dataframe tbody tr th {\n",
       "        vertical-align: top;\n",
       "    }\n",
       "\n",
       "    .dataframe thead th {\n",
       "        text-align: right;\n",
       "    }\n",
       "</style>\n",
       "<table border=\"1\" class=\"dataframe\">\n",
       "  <thead>\n",
       "    <tr style=\"text-align: right;\">\n",
       "      <th></th>\n",
       "      <th>tweet_id</th>\n",
       "      <th>label</th>\n",
       "      <th>tweet_text</th>\n",
       "    </tr>\n",
       "  </thead>\n",
       "  <tbody>\n",
       "    <tr>\n",
       "      <th>Total</th>\n",
       "      <td>6000</td>\n",
       "      <td>6000</td>\n",
       "      <td>6000</td>\n",
       "    </tr>\n",
       "    <tr>\n",
       "      <th>Uniques</th>\n",
       "      <td>6000</td>\n",
       "      <td>3</td>\n",
       "      <td>5991</td>\n",
       "    </tr>\n",
       "  </tbody>\n",
       "</table>\n",
       "</div>"
      ],
      "text/plain": [
       "         tweet_id  label  tweet_text\n",
       "Total        6000   6000        6000\n",
       "Uniques      6000      3        5991"
      ]
     },
     "execution_count": 180,
     "metadata": {},
     "output_type": "execute_result"
    }
   ],
   "source": [
    "unique_values(tweets_df)"
   ]
  },
  {
   "cell_type": "markdown",
   "metadata": {
    "papermill": {
     "duration": 0.039609,
     "end_time": "2021-03-20T10:45:42.148746",
     "exception": false,
     "start_time": "2021-03-20T10:45:42.109137",
     "status": "completed"
    },
    "tags": []
   },
   "source": [
    "### Most frequent values"
   ]
  },
  {
   "cell_type": "code",
   "execution_count": 181,
   "metadata": {
    "_kg_hide-input": true,
    "execution": {
     "iopub.execute_input": "2021-03-20T10:45:42.241057Z",
     "iopub.status.busy": "2021-03-20T10:45:42.239991Z",
     "iopub.status.idle": "2021-03-20T10:45:42.243541Z",
     "shell.execute_reply": "2021-03-20T10:45:42.242538Z"
    },
    "gather": {
     "logged": 1634622469528
    },
    "papermill": {
     "duration": 0.054086,
     "end_time": "2021-03-20T10:45:42.243713",
     "exception": false,
     "start_time": "2021-03-20T10:45:42.189627",
     "status": "completed"
    },
    "tags": []
   },
   "outputs": [],
   "source": [
    "def most_frequent_values(data):\n",
    "    total = data.count()\n",
    "    tt = pd.DataFrame(total)\n",
    "    tt.columns = ['Total']\n",
    "    items = []\n",
    "    vals = []\n",
    "    for col in data.columns:\n",
    "        itm = data[col].value_counts().index[0]\n",
    "        val = data[col].value_counts().values[0]\n",
    "        items.append(itm)\n",
    "        vals.append(val)\n",
    "    tt['Most frequent item'] = items\n",
    "    tt['Frequence'] = vals\n",
    "    tt['Percent from total'] = np.round(vals / total * 100, 3)\n",
    "    return(np.transpose(tt))"
   ]
  },
  {
   "cell_type": "code",
   "execution_count": 182,
   "metadata": {
    "_kg_hide-input": true,
    "execution": {
     "iopub.execute_input": "2021-03-20T10:45:42.361902Z",
     "iopub.status.busy": "2021-03-20T10:45:42.361180Z",
     "iopub.status.idle": "2021-03-20T10:45:42.713942Z",
     "shell.execute_reply": "2021-03-20T10:45:42.713229Z"
    },
    "gather": {
     "logged": 1634622469937
    },
    "papermill": {
     "duration": 0.428017,
     "end_time": "2021-03-20T10:45:42.714106",
     "exception": false,
     "start_time": "2021-03-20T10:45:42.286089",
     "status": "completed"
    },
    "tags": []
   },
   "outputs": [
    {
     "data": {
      "text/html": [
       "<div>\n",
       "<style scoped>\n",
       "    .dataframe tbody tr th:only-of-type {\n",
       "        vertical-align: middle;\n",
       "    }\n",
       "\n",
       "    .dataframe tbody tr th {\n",
       "        vertical-align: top;\n",
       "    }\n",
       "\n",
       "    .dataframe thead th {\n",
       "        text-align: right;\n",
       "    }\n",
       "</style>\n",
       "<table border=\"1\" class=\"dataframe\">\n",
       "  <thead>\n",
       "    <tr style=\"text-align: right;\">\n",
       "      <th></th>\n",
       "      <th>tweet_id</th>\n",
       "      <th>label</th>\n",
       "      <th>tweet_text</th>\n",
       "    </tr>\n",
       "  </thead>\n",
       "  <tbody>\n",
       "    <tr>\n",
       "      <th>Total</th>\n",
       "      <td>6000</td>\n",
       "      <td>6000</td>\n",
       "      <td>6000</td>\n",
       "    </tr>\n",
       "    <tr>\n",
       "      <th>Most frequent item</th>\n",
       "      <td>1.37412e+18</td>\n",
       "      <td>2</td>\n",
       "      <td>Selling: #NitrileGloves, #1860 #FaceMasks, #Vaccines #SputnikV, #syringes. Contact sales: https:...</td>\n",
       "    </tr>\n",
       "    <tr>\n",
       "      <th>Frequence</th>\n",
       "      <td>1</td>\n",
       "      <td>3680</td>\n",
       "      <td>4</td>\n",
       "    </tr>\n",
       "    <tr>\n",
       "      <th>Percent from total</th>\n",
       "      <td>0.017</td>\n",
       "      <td>61.333</td>\n",
       "      <td>0.067</td>\n",
       "    </tr>\n",
       "  </tbody>\n",
       "</table>\n",
       "</div>"
      ],
      "text/plain": [
       "                       tweet_id   label  \\\n",
       "Total                      6000    6000   \n",
       "Most frequent item  1.37412e+18       2   \n",
       "Frequence                     1    3680   \n",
       "Percent from total        0.017  61.333   \n",
       "\n",
       "                                                                                                             tweet_text  \n",
       "Total                                                                                                              6000  \n",
       "Most frequent item  Selling: #NitrileGloves, #1860 #FaceMasks, #Vaccines #SputnikV, #syringes. Contact sales: https:...  \n",
       "Frequence                                                                                                             4  \n",
       "Percent from total                                                                                                0.067  "
      ]
     },
     "execution_count": 182,
     "metadata": {},
     "output_type": "execute_result"
    }
   ],
   "source": [
    "most_frequent_values(tweets_df)"
   ]
  },
  {
   "cell_type": "markdown",
   "metadata": {
    "papermill": {
     "duration": 0.039619,
     "end_time": "2021-03-20T10:45:42.793722",
     "exception": false,
     "start_time": "2021-03-20T10:45:42.754103",
     "status": "completed"
    },
    "tags": []
   },
   "source": [
    "## Visualize the data distribution"
   ]
  },
  {
   "cell_type": "markdown",
   "metadata": {
    "papermill": {
     "duration": 0.043697,
     "end_time": "2021-03-20T10:45:44.365261",
     "exception": false,
     "start_time": "2021-03-20T10:45:44.321564",
     "status": "completed"
    },
    "tags": []
   },
   "source": [
    "### Tweet source"
   ]
  },
  {
   "cell_type": "code",
   "execution_count": 183,
   "metadata": {
    "gather": {
     "logged": 1634622470348
    }
   },
   "outputs": [
    {
     "data": {
      "image/png": "[encoded data removed]",
      "text/plain": [
       "<Figure size 648x648 with 2 Axes>"
      ]
     },
     "metadata": {
      "needs_background": "light"
     },
     "output_type": "display_data"
    }
   ],
   "source": [
    "#plot heatmap to see the correlation between features\n",
    "plt.subplots(figsize=(9, 9))\n",
    "sns.heatmap(tweets_df.corr(), annot=True, square=True)\n",
    "plt.show()"
   ]
  },
  {
   "cell_type": "code",
   "execution_count": null,
   "metadata": {},
   "outputs": [],
   "source": []
  },
  {
   "cell_type": "code",
   "execution_count": 184,
   "metadata": {
    "_kg_hide-input": true,
    "execution": {
     "iopub.execute_input": "2021-03-20T10:45:44.944384Z",
     "iopub.status.busy": "2021-03-20T10:45:44.943625Z",
     "iopub.status.idle": "2021-03-20T10:45:44.946935Z",
     "shell.execute_reply": "2021-03-20T10:45:44.946421Z"
    },
    "gather": {
     "logged": 1634622470730
    },
    "papermill": {
     "duration": 0.055599,
     "end_time": "2021-03-20T10:45:44.947084",
     "exception": false,
     "start_time": "2021-03-20T10:45:44.891485",
     "status": "completed"
    },
    "tags": []
   },
   "outputs": [],
   "source": [
    "stopwords = set(STOPWORDS)\n",
    "\n",
    "def show_wordcloud(data, title = None):\n",
    "    wordcloud = WordCloud(\n",
    "        background_color='white',\n",
    "        stopwords=stopwords,\n",
    "        max_words=50,\n",
    "        max_font_size=40, \n",
    "        scale=5,\n",
    "        random_state=1\n",
    "    ).generate(str(data))\n",
    "\n",
    "    fig = plt.figure(1, figsize=(10,10))\n",
    "    plt.axis('off')\n",
    "    if title: \n",
    "        fig.suptitle(title, fontsize=20)\n",
    "        fig.subplots_adjust(top=2.3)\n",
    "\n",
    "    plt.imshow(wordcloud)\n",
    "    plt.show()"
   ]
  },
  {
   "cell_type": "code",
   "execution_count": 185,
   "metadata": {
    "_kg_hide-input": true,
    "execution": {
     "iopub.execute_input": "2021-03-20T10:45:45.046036Z",
     "iopub.status.busy": "2021-03-20T10:45:45.045359Z",
     "iopub.status.idle": "2021-03-20T10:45:45.048554Z",
     "shell.execute_reply": "2021-03-20T10:45:45.047904Z"
    },
    "gather": {
     "logged": 1634622471125
    },
    "papermill": {
     "duration": 0.0557,
     "end_time": "2021-03-20T10:45:45.048702",
     "exception": false,
     "start_time": "2021-03-20T10:45:44.993002",
     "status": "completed"
    },
    "tags": []
   },
   "outputs": [],
   "source": [
    "\n",
    "from wordcloud import WordCloud, STOPWORDS\n",
    "def show_wordcloud(data, title=\"\"):\n",
    "    text = \" \".join(t for t in data.dropna())\n",
    "    stopwords = set(STOPWORDS)\n",
    "    stopwords.update([\"t\", \"co\", \"https\", \"amp\", \"U\"])\n",
    "    wordcloud = WordCloud(stopwords=stopwords, scale=4, max_font_size=50, max_words=500,background_color=\"black\").generate(text)\n",
    "    fig = plt.figure(1, figsize=(16,16))\n",
    "    plt.axis('off')\n",
    "    fig.suptitle(title, fontsize=20)\n",
    "    fig.subplots_adjust(top=2.3)\n",
    "    plt.imshow(wordcloud, interpolation='bilinear')\n",
    "    plt.show()"
   ]
  },
  {
   "cell_type": "markdown",
   "metadata": {
    "papermill": {
     "duration": 0.045792,
     "end_time": "2021-03-20T10:45:45.140565",
     "exception": false,
     "start_time": "2021-03-20T10:45:45.094773",
     "status": "completed"
    },
    "tags": []
   },
   "source": [
    "### Text wordcloauds"
   ]
  },
  {
   "cell_type": "code",
   "execution_count": 186,
   "metadata": {
    "_kg_hide-input": true,
    "execution": {
     "iopub.execute_input": "2021-03-20T10:45:45.267300Z",
     "iopub.status.busy": "2021-03-20T10:45:45.266547Z",
     "iopub.status.idle": "2021-03-20T10:45:49.712044Z",
     "shell.execute_reply": "2021-03-20T10:45:49.712594Z"
    },
    "gather": {
     "logged": 1634622472621
    },
    "papermill": {
     "duration": 4.519726,
     "end_time": "2021-03-20T10:45:49.712785",
     "exception": false,
     "start_time": "2021-03-20T10:45:45.193059",
     "status": "completed"
    },
    "tags": []
   },
   "outputs": [
    {
     "data": {
      "image/png": "[encoded data removed]",
      "text/plain": [
       "<Figure size 1152x1152 with 1 Axes>"
      ]
     },
     "metadata": {
      "needs_background": "light"
     },
     "output_type": "display_data"
    }
   ],
   "source": [
    "show_wordcloud(tweets_df['tweet_text'], title = 'Prevalent words in tweets')"
   ]
  },
  {
   "cell_type": "code",
   "execution_count": 187,
   "metadata": {
    "gather": {
     "logged": 1634622473036
    }
   },
   "outputs": [
    {
     "data": {
      "text/html": [
       "<style  type=\"text/css\" >\n",
       "#T_712eef86_3305_11ec_9910_3448ed8377bdrow0_col0,#T_712eef86_3305_11ec_9910_3448ed8377bdrow0_col1{\n",
       "            background-color:  #fdfbfb;\n",
       "            color:  #000000;\n",
       "        }#T_712eef86_3305_11ec_9910_3448ed8377bdrow1_col0{\n",
       "            background-color:  #5ba04b;\n",
       "            color:  #000000;\n",
       "        }#T_712eef86_3305_11ec_9910_3448ed8377bdrow1_col1,#T_712eef86_3305_11ec_9910_3448ed8377bdrow2_col0{\n",
       "            background-color:  #000000;\n",
       "            color:  #f1f1f1;\n",
       "        }#T_712eef86_3305_11ec_9910_3448ed8377bdrow2_col1{\n",
       "            background-color:  #76a652;\n",
       "            color:  #000000;\n",
       "        }</style><table id=\"T_712eef86_3305_11ec_9910_3448ed8377bd\" ><thead>    <tr>        <th class=\"blank level0\" ></th>        <th class=\"col_heading level0 col0\" >label</th>        <th class=\"col_heading level0 col1\" >tweet_text</th>    </tr></thead><tbody>\n",
       "                <tr>\n",
       "                        <th id=\"T_712eef86_3305_11ec_9910_3448ed8377bdlevel0_row0\" class=\"row_heading level0 row0\" >0</th>\n",
       "                        <td id=\"T_712eef86_3305_11ec_9910_3448ed8377bdrow0_col0\" class=\"data row0 col0\" >1</td>\n",
       "                        <td id=\"T_712eef86_3305_11ec_9910_3448ed8377bdrow0_col1\" class=\"data row0 col1\" >420</td>\n",
       "            </tr>\n",
       "            <tr>\n",
       "                        <th id=\"T_712eef86_3305_11ec_9910_3448ed8377bdlevel0_row1\" class=\"row_heading level0 row1\" >1</th>\n",
       "                        <td id=\"T_712eef86_3305_11ec_9910_3448ed8377bdrow1_col0\" class=\"data row1 col0\" >2</td>\n",
       "                        <td id=\"T_712eef86_3305_11ec_9910_3448ed8377bdrow1_col1\" class=\"data row1 col1\" >3680</td>\n",
       "            </tr>\n",
       "            <tr>\n",
       "                        <th id=\"T_712eef86_3305_11ec_9910_3448ed8377bdlevel0_row2\" class=\"row_heading level0 row2\" >2</th>\n",
       "                        <td id=\"T_712eef86_3305_11ec_9910_3448ed8377bdrow2_col0\" class=\"data row2 col0\" >3</td>\n",
       "                        <td id=\"T_712eef86_3305_11ec_9910_3448ed8377bdrow2_col1\" class=\"data row2 col1\" >1900</td>\n",
       "            </tr>\n",
       "    </tbody></table>"
      ],
      "text/plain": [
       "<pandas.io.formats.style.Styler at 0x192613edb08>"
      ]
     },
     "execution_count": 187,
     "metadata": {},
     "output_type": "execute_result"
    }
   ],
   "source": [
    "#@labels=tweets_df.groupby(\"label\").agg({'tweet_text':'count'}).rename(columns={'tweet_text':'tweet_count'}).sort_values(by=\"tweet_count\", ascending=False)\n",
    "\n",
    "\n",
    "labels = tweets_df.groupby('label').count()['tweet_text'].reset_index().sort_values(by='label',ascending=True)\n",
    "labels.style.background_gradient(cmap='gist_earth_r')"
   ]
  },
  {
   "cell_type": "code",
   "execution_count": 188,
   "metadata": {
    "gather": {
     "logged": 1634622473457
    }
   },
   "outputs": [
    {
     "data": {
      "text/plain": [
       "<AxesSubplot:xlabel='label', ylabel='count'>"
      ]
     },
     "execution_count": 188,
     "metadata": {},
     "output_type": "execute_result"
    },
    {
     "data": {
      "image/png": "[encoded data removed]",
      "text/plain": [
       "<Figure size 360x360 with 1 Axes>"
      ]
     },
     "metadata": {
      "needs_background": "light"
     },
     "output_type": "display_data"
    }
   ],
   "source": [
    "plt.figure(figsize=(5,5))\n",
    "sns.countplot(x='label',data=tweets_df)\n",
    "\n"
   ]
  },
  {
   "cell_type": "code",
   "execution_count": null,
   "metadata": {},
   "outputs": [],
   "source": []
  },
  {
   "cell_type": "code",
   "execution_count": 189,
   "metadata": {
    "gather": {
     "logged": 1634622478321
    }
   },
   "outputs": [
    {
     "data": {
      "application/vnd.plotly.v1+json": {
       "config": {
        "plotlyServerURL": "https://plot.ly"
       },
       "data": [
        {
         "text": [
          1,
          2,
          3
         ],
         "title": {
          "position": "top center",
          "text": "Funnel-Chart of Sentiment Distribution"
         },
         "type": "funnelarea",
         "values": [
          420,
          3680,
          1900
         ]
        }
       ],
       "layout": {
        "template": {
         "data": {
          "bar": [
           {
            "error_x": {
             "color": "#2a3f5f"
            },
            "error_y": {
             "color": "#2a3f5f"
            },
            "marker": {
             "line": {
              "color": "#E5ECF6",
              "width": 0.5
             }
            },
            "type": "bar"
           }
          ],
          "barpolar": [
           {
            "marker": {
             "line": {
              "color": "#E5ECF6",
              "width": 0.5
             }
            },
            "type": "barpolar"
           }
          ],
          "carpet": [
           {
            "aaxis": {
             "endlinecolor": "#2a3f5f",
             "gridcolor": "white",
             "linecolor": "white",
             "minorgridcolor": "white",
             "startlinecolor": "#2a3f5f"
            },
            "baxis": {
             "endlinecolor": "#2a3f5f",
             "gridcolor": "white",
             "linecolor": "white",
             "minorgridcolor": "white",
             "startlinecolor": "#2a3f5f"
            },
            "type": "carpet"
           }
          ],
          "choropleth": [
           {
            "colorbar": {
             "outlinewidth": 0,
             "ticks": ""
            },
            "type": "choropleth"
           }
          ],
          "contour": [
           {
            "colorbar": {
             "outlinewidth": 0,
             "ticks": ""
            },
            "colorscale": [
             [
              0,
              "#0d0887"
             ],
             [
              0.1111111111111111,
              "#46039f"
             ],
             [
              0.2222222222222222,
              "#7201a8"
             ],
             [
              0.3333333333333333,
              "#9c179e"
             ],
             [
              0.4444444444444444,
              "#bd3786"
             ],
             [
              0.5555555555555556,
              "#d8576b"
             ],
             [
              0.6666666666666666,
              "#ed7953"
             ],
             [
              0.7777777777777778,
              "#fb9f3a"
             ],
             [
              0.8888888888888888,
              "#fdca26"
             ],
             [
              1,
              "#f0f921"
             ]
            ],
            "type": "contour"
           }
          ],
          "contourcarpet": [
           {
            "colorbar": {
             "outlinewidth": 0,
             "ticks": ""
            },
            "type": "contourcarpet"
           }
          ],
          "heatmap": [
           {
            "colorbar": {
             "outlinewidth": 0,
             "ticks": ""
            },
            "colorscale": [
             [
              0,
              "#0d0887"
             ],
             [
              0.1111111111111111,
              "#46039f"
             ],
             [
              0.2222222222222222,
              "#7201a8"
             ],
             [
              0.3333333333333333,
              "#9c179e"
             ],
             [
              0.4444444444444444,
              "#bd3786"
             ],
             [
              0.5555555555555556,
              "#d8576b"
             ],
             [
              0.6666666666666666,
              "#ed7953"
             ],
             [
              0.7777777777777778,
              "#fb9f3a"
             ],
             [
              0.8888888888888888,
              "#fdca26"
             ],
             [
              1,
              "#f0f921"
             ]
            ],
            "type": "heatmap"
           }
          ],
          "heatmapgl": [
           {
            "colorbar": {
             "outlinewidth": 0,
             "ticks": ""
            },
            "colorscale": [
             [
              0,
              "#0d0887"
             ],
             [
              0.1111111111111111,
              "#46039f"
             ],
             [
              0.2222222222222222,
              "#7201a8"
             ],
             [
              0.3333333333333333,
              "#9c179e"
             ],
             [
              0.4444444444444444,
              "#bd3786"
             ],
             [
              0.5555555555555556,
              "#d8576b"
             ],
             [
              0.6666666666666666,
              "#ed7953"
             ],
             [
              0.7777777777777778,
              "#fb9f3a"
             ],
             [
              0.8888888888888888,
              "#fdca26"
             ],
             [
              1,
              "#f0f921"
             ]
            ],
            "type": "heatmapgl"
           }
          ],
          "histogram": [
           {
            "marker": {
             "colorbar": {
              "outlinewidth": 0,
              "ticks": ""
             }
            },
            "type": "histogram"
           }
          ],
          "histogram2d": [
           {
            "colorbar": {
             "outlinewidth": 0,
             "ticks": ""
            },
            "colorscale": [
             [
              0,
              "#0d0887"
             ],
             [
              0.1111111111111111,
              "#46039f"
             ],
             [
              0.2222222222222222,
              "#7201a8"
             ],
             [
              0.3333333333333333,
              "#9c179e"
             ],
             [
              0.4444444444444444,
              "#bd3786"
             ],
             [
              0.5555555555555556,
              "#d8576b"
             ],
             [
              0.6666666666666666,
              "#ed7953"
             ],
             [
              0.7777777777777778,
              "#fb9f3a"
             ],
             [
              0.8888888888888888,
              "#fdca26"
             ],
             [
              1,
              "#f0f921"
             ]
            ],
            "type": "histogram2d"
           }
          ],
          "histogram2dcontour": [
           {
            "colorbar": {
             "outlinewidth": 0,
             "ticks": ""
            },
            "colorscale": [
             [
              0,
              "#0d0887"
             ],
             [
              0.1111111111111111,
              "#46039f"
             ],
             [
              0.2222222222222222,
              "#7201a8"
             ],
             [
              0.3333333333333333,
              "#9c179e"
             ],
             [
              0.4444444444444444,
              "#bd3786"
             ],
             [
              0.5555555555555556,
              "#d8576b"
             ],
             [
              0.6666666666666666,
              "#ed7953"
             ],
             [
              0.7777777777777778,
              "#fb9f3a"
             ],
             [
              0.8888888888888888,
              "#fdca26"
             ],
             [
              1,
              "#f0f921"
             ]
            ],
            "type": "histogram2dcontour"
           }
          ],
          "mesh3d": [
           {
            "colorbar": {
             "outlinewidth": 0,
             "ticks": ""
            },
            "type": "mesh3d"
           }
          ],
          "parcoords": [
           {
            "line": {
             "colorbar": {
              "outlinewidth": 0,
              "ticks": ""
             }
            },
            "type": "parcoords"
           }
          ],
          "pie": [
           {
            "automargin": true,
            "type": "pie"
           }
          ],
          "scatter": [
           {
            "marker": {
             "colorbar": {
              "outlinewidth": 0,
              "ticks": ""
             }
            },
            "type": "scatter"
           }
          ],
          "scatter3d": [
           {
            "line": {
             "colorbar": {
              "outlinewidth": 0,
              "ticks": ""
             }
            },
            "marker": {
             "colorbar": {
              "outlinewidth": 0,
              "ticks": ""
             }
            },
            "type": "scatter3d"
           }
          ],
          "scattercarpet": [
           {
            "marker": {
             "colorbar": {
              "outlinewidth": 0,
              "ticks": ""
             }
            },
            "type": "scattercarpet"
           }
          ],
          "scattergeo": [
           {
            "marker": {
             "colorbar": {
              "outlinewidth": 0,
              "ticks": ""
             }
            },
            "type": "scattergeo"
           }
          ],
          "scattergl": [
           {
            "marker": {
             "colorbar": {
              "outlinewidth": 0,
              "ticks": ""
             }
            },
            "type": "scattergl"
           }
          ],
          "scattermapbox": [
           {
            "marker": {
             "colorbar": {
              "outlinewidth": 0,
              "ticks": ""
             }
            },
            "type": "scattermapbox"
           }
          ],
          "scatterpolar": [
           {
            "marker": {
             "colorbar": {
              "outlinewidth": 0,
              "ticks": ""
             }
            },
            "type": "scatterpolar"
           }
          ],
          "scatterpolargl": [
           {
            "marker": {
             "colorbar": {
              "outlinewidth": 0,
              "ticks": ""
             }
            },
            "type": "scatterpolargl"
           }
          ],
          "scatterternary": [
           {
            "marker": {
             "colorbar": {
              "outlinewidth": 0,
              "ticks": ""
             }
            },
            "type": "scatterternary"
           }
          ],
          "surface": [
           {
            "colorbar": {
             "outlinewidth": 0,
             "ticks": ""
            },
            "colorscale": [
             [
              0,
              "#0d0887"
             ],
             [
              0.1111111111111111,
              "#46039f"
             ],
             [
              0.2222222222222222,
              "#7201a8"
             ],
             [
              0.3333333333333333,
              "#9c179e"
             ],
             [
              0.4444444444444444,
              "#bd3786"
             ],
             [
              0.5555555555555556,
              "#d8576b"
             ],
             [
              0.6666666666666666,
              "#ed7953"
             ],
             [
              0.7777777777777778,
              "#fb9f3a"
             ],
             [
              0.8888888888888888,
              "#fdca26"
             ],
             [
              1,
              "#f0f921"
             ]
            ],
            "type": "surface"
           }
          ],
          "table": [
           {
            "cells": {
             "fill": {
              "color": "#EBF0F8"
             },
             "line": {
              "color": "white"
             }
            },
            "header": {
             "fill": {
              "color": "#C8D4E3"
             },
             "line": {
              "color": "white"
             }
            },
            "type": "table"
           }
          ]
         },
         "layout": {
          "annotationdefaults": {
           "arrowcolor": "#2a3f5f",
           "arrowhead": 0,
           "arrowwidth": 1
          },
          "coloraxis": {
           "colorbar": {
            "outlinewidth": 0,
            "ticks": ""
           }
          },
          "colorscale": {
           "diverging": [
            [
             0,
             "#8e0152"
            ],
            [
             0.1,
             "#c51b7d"
            ],
            [
             0.2,
             "#de77ae"
            ],
            [
             0.3,
             "#f1b6da"
            ],
            [
             0.4,
             "#fde0ef"
            ],
            [
             0.5,
             "#f7f7f7"
            ],
            [
             0.6,
             "#e6f5d0"
            ],
            [
             0.7,
             "#b8e186"
            ],
            [
             0.8,
             "#7fbc41"
            ],
            [
             0.9,
             "#4d9221"
            ],
            [
             1,
             "#276419"
            ]
           ],
           "sequential": [
            [
             0,
             "#0d0887"
            ],
            [
             0.1111111111111111,
             "#46039f"
            ],
            [
             0.2222222222222222,
             "#7201a8"
            ],
            [
             0.3333333333333333,
             "#9c179e"
            ],
            [
             0.4444444444444444,
             "#bd3786"
            ],
            [
             0.5555555555555556,
             "#d8576b"
            ],
            [
             0.6666666666666666,
             "#ed7953"
            ],
            [
             0.7777777777777778,
             "#fb9f3a"
            ],
            [
             0.8888888888888888,
             "#fdca26"
            ],
            [
             1,
             "#f0f921"
            ]
           ],
           "sequentialminus": [
            [
             0,
             "#0d0887"
            ],
            [
             0.1111111111111111,
             "#46039f"
            ],
            [
             0.2222222222222222,
             "#7201a8"
            ],
            [
             0.3333333333333333,
             "#9c179e"
            ],
            [
             0.4444444444444444,
             "#bd3786"
            ],
            [
             0.5555555555555556,
             "#d8576b"
            ],
            [
             0.6666666666666666,
             "#ed7953"
            ],
            [
             0.7777777777777778,
             "#fb9f3a"
            ],
            [
             0.8888888888888888,
             "#fdca26"
            ],
            [
             1,
             "#f0f921"
            ]
           ]
          },
          "colorway": [
           "#636efa",
           "#EF553B",
           "#00cc96",
           "#ab63fa",
           "#FFA15A",
           "#19d3f3",
           "#FF6692",
           "#B6E880",
           "#FF97FF",
           "#FECB52"
          ],
          "font": {
           "color": "#2a3f5f"
          },
          "geo": {
           "bgcolor": "white",
           "lakecolor": "white",
           "landcolor": "#E5ECF6",
           "showlakes": true,
           "showland": true,
           "subunitcolor": "white"
          },
          "hoverlabel": {
           "align": "left"
          },
          "hovermode": "closest",
          "mapbox": {
           "style": "light"
          },
          "paper_bgcolor": "white",
          "plot_bgcolor": "#E5ECF6",
          "polar": {
           "angularaxis": {
            "gridcolor": "white",
            "linecolor": "white",
            "ticks": ""
           },
           "bgcolor": "#E5ECF6",
           "radialaxis": {
            "gridcolor": "white",
            "linecolor": "white",
            "ticks": ""
           }
          },
          "scene": {
           "xaxis": {
            "backgroundcolor": "#E5ECF6",
            "gridcolor": "white",
            "gridwidth": 2,
            "linecolor": "white",
            "showbackground": true,
            "ticks": "",
            "zerolinecolor": "white"
           },
           "yaxis": {
            "backgroundcolor": "#E5ECF6",
            "gridcolor": "white",
            "gridwidth": 2,
            "linecolor": "white",
            "showbackground": true,
            "ticks": "",
            "zerolinecolor": "white"
           },
           "zaxis": {
            "backgroundcolor": "#E5ECF6",
            "gridcolor": "white",
            "gridwidth": 2,
            "linecolor": "white",
            "showbackground": true,
            "ticks": "",
            "zerolinecolor": "white"
           }
          },
          "shapedefaults": {
           "line": {
            "color": "#2a3f5f"
           }
          },
          "ternary": {
           "aaxis": {
            "gridcolor": "white",
            "linecolor": "white",
            "ticks": ""
           },
           "baxis": {
            "gridcolor": "white",
            "linecolor": "white",
            "ticks": ""
           },
           "bgcolor": "#E5ECF6",
           "caxis": {
            "gridcolor": "white",
            "linecolor": "white",
            "ticks": ""
           }
          },
          "title": {
           "x": 0.05
          },
          "xaxis": {
           "automargin": true,
           "gridcolor": "white",
           "linecolor": "white",
           "ticks": "",
           "title": {
            "standoff": 15
           },
           "zerolinecolor": "white",
           "zerolinewidth": 2
          },
          "yaxis": {
           "automargin": true,
           "gridcolor": "white",
           "linecolor": "white",
           "ticks": "",
           "title": {
            "standoff": 15
           },
           "zerolinecolor": "white",
           "zerolinewidth": 2
          }
         }
        }
       }
      },
      "text/html": [
       "<div>\n",
       "        \n",
       "        \n",
       "            <div id=\"d5e0bec1-7ff9-451e-8c3d-5b4a1710fade\" class=\"plotly-graph-div\" style=\"height:525px; width:100%;\"></div>\n",
       "            <script type=\"text/javascript\">\n",
       "                require([\"plotly\"], function(Plotly) {\n",
       "                    window.PLOTLYENV=window.PLOTLYENV || {};\n",
       "                    \n",
       "                if (document.getElementById(\"d5e0bec1-7ff9-451e-8c3d-5b4a1710fade\")) {\n",
       "                    Plotly.newPlot(\n",
       "                        'd5e0bec1-7ff9-451e-8c3d-5b4a1710fade',\n",
       "                        [{\"text\": [1, 2, 3], \"title\": {\"position\": \"top center\", \"text\": \"Funnel-Chart of Sentiment Distribution\"}, \"type\": \"funnelarea\", \"values\": [420, 3680, 1900]}],\n",
       "                        {\"template\": {\"data\": {\"bar\": [{\"error_x\": {\"color\": \"#2a3f5f\"}, \"error_y\": {\"color\": \"#2a3f5f\"}, \"marker\": {\"line\": {\"color\": \"#E5ECF6\", \"width\": 0.5}}, \"type\": \"bar\"}], \"barpolar\": [{\"marker\": {\"line\": {\"color\": \"#E5ECF6\", \"width\": 0.5}}, \"type\": \"barpolar\"}], \"carpet\": [{\"aaxis\": {\"endlinecolor\": \"#2a3f5f\", \"gridcolor\": \"white\", \"linecolor\": \"white\", \"minorgridcolor\": \"white\", \"startlinecolor\": \"#2a3f5f\"}, \"baxis\": {\"endlinecolor\": \"#2a3f5f\", \"gridcolor\": \"white\", \"linecolor\": \"white\", \"minorgridcolor\": \"white\", \"startlinecolor\": \"#2a3f5f\"}, \"type\": \"carpet\"}], \"choropleth\": [{\"colorbar\": {\"outlinewidth\": 0, \"ticks\": \"\"}, \"type\": \"choropleth\"}], \"contour\": [{\"colorbar\": {\"outlinewidth\": 0, \"ticks\": \"\"}, \"colorscale\": [[0.0, \"#0d0887\"], [0.1111111111111111, \"#46039f\"], [0.2222222222222222, \"#7201a8\"], [0.3333333333333333, \"#9c179e\"], [0.4444444444444444, \"#bd3786\"], [0.5555555555555556, \"#d8576b\"], [0.6666666666666666, \"#ed7953\"], [0.7777777777777778, \"#fb9f3a\"], [0.8888888888888888, \"#fdca26\"], [1.0, \"#f0f921\"]], \"type\": \"contour\"}], \"contourcarpet\": [{\"colorbar\": {\"outlinewidth\": 0, \"ticks\": \"\"}, \"type\": \"contourcarpet\"}], \"heatmap\": [{\"colorbar\": {\"outlinewidth\": 0, \"ticks\": \"\"}, \"colorscale\": [[0.0, \"#0d0887\"], [0.1111111111111111, \"#46039f\"], [0.2222222222222222, \"#7201a8\"], [0.3333333333333333, \"#9c179e\"], [0.4444444444444444, \"#bd3786\"], [0.5555555555555556, \"#d8576b\"], [0.6666666666666666, \"#ed7953\"], [0.7777777777777778, \"#fb9f3a\"], [0.8888888888888888, \"#fdca26\"], [1.0, \"#f0f921\"]], \"type\": \"heatmap\"}], \"heatmapgl\": [{\"colorbar\": {\"outlinewidth\": 0, \"ticks\": \"\"}, \"colorscale\": [[0.0, \"#0d0887\"], [0.1111111111111111, \"#46039f\"], [0.2222222222222222, \"#7201a8\"], [0.3333333333333333, \"#9c179e\"], [0.4444444444444444, \"#bd3786\"], [0.5555555555555556, \"#d8576b\"], [0.6666666666666666, \"#ed7953\"], [0.7777777777777778, \"#fb9f3a\"], [0.8888888888888888, \"#fdca26\"], [1.0, \"#f0f921\"]], \"type\": \"heatmapgl\"}], \"histogram\": [{\"marker\": {\"colorbar\": {\"outlinewidth\": 0, \"ticks\": \"\"}}, \"type\": \"histogram\"}], \"histogram2d\": [{\"colorbar\": {\"outlinewidth\": 0, \"ticks\": \"\"}, \"colorscale\": [[0.0, \"#0d0887\"], [0.1111111111111111, \"#46039f\"], [0.2222222222222222, \"#7201a8\"], [0.3333333333333333, \"#9c179e\"], [0.4444444444444444, \"#bd3786\"], [0.5555555555555556, \"#d8576b\"], [0.6666666666666666, \"#ed7953\"], [0.7777777777777778, \"#fb9f3a\"], [0.8888888888888888, \"#fdca26\"], [1.0, \"#f0f921\"]], \"type\": \"histogram2d\"}], \"histogram2dcontour\": [{\"colorbar\": {\"outlinewidth\": 0, \"ticks\": \"\"}, \"colorscale\": [[0.0, \"#0d0887\"], [0.1111111111111111, \"#46039f\"], [0.2222222222222222, \"#7201a8\"], [0.3333333333333333, \"#9c179e\"], [0.4444444444444444, \"#bd3786\"], [0.5555555555555556, \"#d8576b\"], [0.6666666666666666, \"#ed7953\"], [0.7777777777777778, \"#fb9f3a\"], [0.8888888888888888, \"#fdca26\"], [1.0, \"#f0f921\"]], \"type\": \"histogram2dcontour\"}], \"mesh3d\": [{\"colorbar\": {\"outlinewidth\": 0, \"ticks\": \"\"}, \"type\": \"mesh3d\"}], \"parcoords\": [{\"line\": {\"colorbar\": {\"outlinewidth\": 0, \"ticks\": \"\"}}, \"type\": \"parcoords\"}], \"pie\": [{\"automargin\": true, \"type\": \"pie\"}], \"scatter\": [{\"marker\": {\"colorbar\": {\"outlinewidth\": 0, \"ticks\": \"\"}}, \"type\": \"scatter\"}], \"scatter3d\": [{\"line\": {\"colorbar\": {\"outlinewidth\": 0, \"ticks\": \"\"}}, \"marker\": {\"colorbar\": {\"outlinewidth\": 0, \"ticks\": \"\"}}, \"type\": \"scatter3d\"}], \"scattercarpet\": [{\"marker\": {\"colorbar\": {\"outlinewidth\": 0, \"ticks\": \"\"}}, \"type\": \"scattercarpet\"}], \"scattergeo\": [{\"marker\": {\"colorbar\": {\"outlinewidth\": 0, \"ticks\": \"\"}}, \"type\": \"scattergeo\"}], \"scattergl\": [{\"marker\": {\"colorbar\": {\"outlinewidth\": 0, \"ticks\": \"\"}}, \"type\": \"scattergl\"}], \"scattermapbox\": [{\"marker\": {\"colorbar\": {\"outlinewidth\": 0, \"ticks\": \"\"}}, \"type\": \"scattermapbox\"}], \"scatterpolar\": [{\"marker\": {\"colorbar\": {\"outlinewidth\": 0, \"ticks\": \"\"}}, \"type\": \"scatterpolar\"}], \"scatterpolargl\": [{\"marker\": {\"colorbar\": {\"outlinewidth\": 0, \"ticks\": \"\"}}, \"type\": \"scatterpolargl\"}], \"scatterternary\": [{\"marker\": {\"colorbar\": {\"outlinewidth\": 0, \"ticks\": \"\"}}, \"type\": \"scatterternary\"}], \"surface\": [{\"colorbar\": {\"outlinewidth\": 0, \"ticks\": \"\"}, \"colorscale\": [[0.0, \"#0d0887\"], [0.1111111111111111, \"#46039f\"], [0.2222222222222222, \"#7201a8\"], [0.3333333333333333, \"#9c179e\"], [0.4444444444444444, \"#bd3786\"], [0.5555555555555556, \"#d8576b\"], [0.6666666666666666, \"#ed7953\"], [0.7777777777777778, \"#fb9f3a\"], [0.8888888888888888, \"#fdca26\"], [1.0, \"#f0f921\"]], \"type\": \"surface\"}], \"table\": [{\"cells\": {\"fill\": {\"color\": \"#EBF0F8\"}, \"line\": {\"color\": \"white\"}}, \"header\": {\"fill\": {\"color\": \"#C8D4E3\"}, \"line\": {\"color\": \"white\"}}, \"type\": \"table\"}]}, \"layout\": {\"annotationdefaults\": {\"arrowcolor\": \"#2a3f5f\", \"arrowhead\": 0, \"arrowwidth\": 1}, \"coloraxis\": {\"colorbar\": {\"outlinewidth\": 0, \"ticks\": \"\"}}, \"colorscale\": {\"diverging\": [[0, \"#8e0152\"], [0.1, \"#c51b7d\"], [0.2, \"#de77ae\"], [0.3, \"#f1b6da\"], [0.4, \"#fde0ef\"], [0.5, \"#f7f7f7\"], [0.6, \"#e6f5d0\"], [0.7, \"#b8e186\"], [0.8, \"#7fbc41\"], [0.9, \"#4d9221\"], [1, \"#276419\"]], \"sequential\": [[0.0, \"#0d0887\"], [0.1111111111111111, \"#46039f\"], [0.2222222222222222, \"#7201a8\"], [0.3333333333333333, \"#9c179e\"], [0.4444444444444444, \"#bd3786\"], [0.5555555555555556, \"#d8576b\"], [0.6666666666666666, \"#ed7953\"], [0.7777777777777778, \"#fb9f3a\"], [0.8888888888888888, \"#fdca26\"], [1.0, \"#f0f921\"]], \"sequentialminus\": [[0.0, \"#0d0887\"], [0.1111111111111111, \"#46039f\"], [0.2222222222222222, \"#7201a8\"], [0.3333333333333333, \"#9c179e\"], [0.4444444444444444, \"#bd3786\"], [0.5555555555555556, \"#d8576b\"], [0.6666666666666666, \"#ed7953\"], [0.7777777777777778, \"#fb9f3a\"], [0.8888888888888888, \"#fdca26\"], [1.0, \"#f0f921\"]]}, \"colorway\": [\"#636efa\", \"#EF553B\", \"#00cc96\", \"#ab63fa\", \"#FFA15A\", \"#19d3f3\", \"#FF6692\", \"#B6E880\", \"#FF97FF\", \"#FECB52\"], \"font\": {\"color\": \"#2a3f5f\"}, \"geo\": {\"bgcolor\": \"white\", \"lakecolor\": \"white\", \"landcolor\": \"#E5ECF6\", \"showlakes\": true, \"showland\": true, \"subunitcolor\": \"white\"}, \"hoverlabel\": {\"align\": \"left\"}, \"hovermode\": \"closest\", \"mapbox\": {\"style\": \"light\"}, \"paper_bgcolor\": \"white\", \"plot_bgcolor\": \"#E5ECF6\", \"polar\": {\"angularaxis\": {\"gridcolor\": \"white\", \"linecolor\": \"white\", \"ticks\": \"\"}, \"bgcolor\": \"#E5ECF6\", \"radialaxis\": {\"gridcolor\": \"white\", \"linecolor\": \"white\", \"ticks\": \"\"}}, \"scene\": {\"xaxis\": {\"backgroundcolor\": \"#E5ECF6\", \"gridcolor\": \"white\", \"gridwidth\": 2, \"linecolor\": \"white\", \"showbackground\": true, \"ticks\": \"\", \"zerolinecolor\": \"white\"}, \"yaxis\": {\"backgroundcolor\": \"#E5ECF6\", \"gridcolor\": \"white\", \"gridwidth\": 2, \"linecolor\": \"white\", \"showbackground\": true, \"ticks\": \"\", \"zerolinecolor\": \"white\"}, \"zaxis\": {\"backgroundcolor\": \"#E5ECF6\", \"gridcolor\": \"white\", \"gridwidth\": 2, \"linecolor\": \"white\", \"showbackground\": true, \"ticks\": \"\", \"zerolinecolor\": \"white\"}}, \"shapedefaults\": {\"line\": {\"color\": \"#2a3f5f\"}}, \"ternary\": {\"aaxis\": {\"gridcolor\": \"white\", \"linecolor\": \"white\", \"ticks\": \"\"}, \"baxis\": {\"gridcolor\": \"white\", \"linecolor\": \"white\", \"ticks\": \"\"}, \"bgcolor\": \"#E5ECF6\", \"caxis\": {\"gridcolor\": \"white\", \"linecolor\": \"white\", \"ticks\": \"\"}}, \"title\": {\"x\": 0.05}, \"xaxis\": {\"automargin\": true, \"gridcolor\": \"white\", \"linecolor\": \"white\", \"ticks\": \"\", \"title\": {\"standoff\": 15}, \"zerolinecolor\": \"white\", \"zerolinewidth\": 2}, \"yaxis\": {\"automargin\": true, \"gridcolor\": \"white\", \"linecolor\": \"white\", \"ticks\": \"\", \"title\": {\"standoff\": 15}, \"zerolinecolor\": \"white\", \"zerolinewidth\": 2}}}},\n",
       "                        {\"responsive\": true}\n",
       "                    ).then(function(){\n",
       "                            \n",
       "var gd = document.getElementById('d5e0bec1-7ff9-451e-8c3d-5b4a1710fade');\n",
       "var x = new MutationObserver(function (mutations, observer) {{\n",
       "        var display = window.getComputedStyle(gd).display;\n",
       "        if (!display || display === 'none') {{\n",
       "            console.log([gd, 'removed!']);\n",
       "            Plotly.purge(gd);\n",
       "            observer.disconnect();\n",
       "        }}\n",
       "}});\n",
       "\n",
       "// Listen for the removal of the full notebook cells\n",
       "var notebookContainer = gd.closest('#notebook-container');\n",
       "if (notebookContainer) {{\n",
       "    x.observe(notebookContainer, {childList: true});\n",
       "}}\n",
       "\n",
       "// Listen for the clearing of the current output cell\n",
       "var outputEl = gd.closest('.output');\n",
       "if (outputEl) {{\n",
       "    x.observe(outputEl, {childList: true});\n",
       "}}\n",
       "\n",
       "                        })\n",
       "                };\n",
       "                });\n",
       "            </script>\n",
       "        </div>"
      ]
     },
     "metadata": {},
     "output_type": "display_data"
    }
   ],
   "source": [
    "fig = go.Figure(go.Funnelarea( text =labels.label,\n",
    "    values = labels.tweet_text,\n",
    "    title = {\"position\": \"top center\", \"text\": \"Funnel-Chart of Sentiment Distribution\"}\n",
    "    ))\n",
    "fig.show()"
   ]
  },
  {
   "cell_type": "code",
   "execution_count": 190,
   "metadata": {
    "gather": {
     "logged": 1634622478758
    }
   },
   "outputs": [
    {
     "data": {
      "text/html": [
       "<div>\n",
       "<style scoped>\n",
       "    .dataframe tbody tr th:only-of-type {\n",
       "        vertical-align: middle;\n",
       "    }\n",
       "\n",
       "    .dataframe tbody tr th {\n",
       "        vertical-align: top;\n",
       "    }\n",
       "\n",
       "    .dataframe thead th {\n",
       "        text-align: right;\n",
       "    }\n",
       "</style>\n",
       "<table border=\"1\" class=\"dataframe\">\n",
       "  <thead>\n",
       "    <tr style=\"text-align: right;\">\n",
       "      <th></th>\n",
       "      <th>tweet_id</th>\n",
       "      <th>label</th>\n",
       "      <th>tweet_text</th>\n",
       "    </tr>\n",
       "  </thead>\n",
       "  <tbody>\n",
       "    <tr>\n",
       "      <th>0</th>\n",
       "      <td>1.360342e+18</td>\n",
       "      <td>1</td>\n",
       "      <td>4,000 a day dying from the so called Covid-19 vaccine @DailyBeast reports. #vaccine #PfizerVac...</td>\n",
       "    </tr>\n",
       "    <tr>\n",
       "      <th>1</th>\n",
       "      <td>1.382896e+18</td>\n",
       "      <td>2</td>\n",
       "      <td>Pranam message for today manifested in Dhyan by @meenapranam #truth #love #karm #light #nature #...</td>\n",
       "    </tr>\n",
       "    <tr>\n",
       "      <th>2</th>\n",
       "      <td>1.375673e+18</td>\n",
       "      <td>2</td>\n",
       "      <td>Hyderabad-based ?@BharatBiotech? has sought funds from the government to ramp up production of i...</td>\n",
       "    </tr>\n",
       "    <tr>\n",
       "      <th>3</th>\n",
       "      <td>1.381311e+18</td>\n",
       "      <td>1</td>\n",
       "      <td>Confirmation that Chinese #vaccines \"dont have very high protection rates\", according to the di...</td>\n",
       "    </tr>\n",
       "    <tr>\n",
       "      <th>4</th>\n",
       "      <td>1.362166e+18</td>\n",
       "      <td>3</td>\n",
       "      <td>Lab studies suggest #Pfizer, #Moderna vaccines can protect against #coronavirusvariant\\nhttps://...</td>\n",
       "    </tr>\n",
       "    <tr>\n",
       "      <th>...</th>\n",
       "      <td>...</td>\n",
       "      <td>...</td>\n",
       "      <td>...</td>\n",
       "    </tr>\n",
       "    <tr>\n",
       "      <th>5995</th>\n",
       "      <td>1.370975e+18</td>\n",
       "      <td>2</td>\n",
       "      <td>@Swamy39 Dr. @Swamy39 jee :\\n\\nMany people like to get Covaxin vaccination done, but this is not...</td>\n",
       "    </tr>\n",
       "    <tr>\n",
       "      <th>5996</th>\n",
       "      <td>1.379827e+18</td>\n",
       "      <td>3</td>\n",
       "      <td>So happy to be fully vaccinated against COVID-19!! Im ready to serve more with all i can! ?????...</td>\n",
       "    </tr>\n",
       "    <tr>\n",
       "      <th>5997</th>\n",
       "      <td>1.384789e+18</td>\n",
       "      <td>2</td>\n",
       "      <td>Serum Institute of India announces cost of Covishield vaccine. \\nThe vaccine will cost Rs 400 in...</td>\n",
       "    </tr>\n",
       "    <tr>\n",
       "      <th>5998</th>\n",
       "      <td>1.382355e+18</td>\n",
       "      <td>1</td>\n",
       "      <td>@___batshitcrazy @BarrowfordHead @Bectully I had mine yesterday and havent been able to get out...</td>\n",
       "    </tr>\n",
       "    <tr>\n",
       "      <th>5999</th>\n",
       "      <td>1.380051e+18</td>\n",
       "      <td>2</td>\n",
       "      <td>The smart sympathy attends into the oblong nothing. What if the educational feedback ate the ord...</td>\n",
       "    </tr>\n",
       "  </tbody>\n",
       "</table>\n",
       "<p>6000 rows × 3 columns</p>\n",
       "</div>"
      ],
      "text/plain": [
       "          tweet_id  label  \\\n",
       "0     1.360342e+18      1   \n",
       "1     1.382896e+18      2   \n",
       "2     1.375673e+18      2   \n",
       "3     1.381311e+18      1   \n",
       "4     1.362166e+18      3   \n",
       "...            ...    ...   \n",
       "5995  1.370975e+18      2   \n",
       "5996  1.379827e+18      3   \n",
       "5997  1.384789e+18      2   \n",
       "5998  1.382355e+18      1   \n",
       "5999  1.380051e+18      2   \n",
       "\n",
       "                                                                                               tweet_text  \n",
       "0     4,000 a day dying from the so called Covid-19 vaccine @DailyBeast reports. #vaccine #PfizerVac...  \n",
       "1     Pranam message for today manifested in Dhyan by @meenapranam #truth #love #karm #light #nature #...  \n",
       "2     Hyderabad-based ?@BharatBiotech? has sought funds from the government to ramp up production of i...  \n",
       "3     Confirmation that Chinese #vaccines \"dont have very high protection rates\", according to the di...  \n",
       "4     Lab studies suggest #Pfizer, #Moderna vaccines can protect against #coronavirusvariant\\nhttps://...  \n",
       "...                                                                                                   ...  \n",
       "5995  @Swamy39 Dr. @Swamy39 jee :\\n\\nMany people like to get Covaxin vaccination done, but this is not...  \n",
       "5996  So happy to be fully vaccinated against COVID-19!! Im ready to serve more with all i can! ?????...  \n",
       "5997  Serum Institute of India announces cost of Covishield vaccine. \\nThe vaccine will cost Rs 400 in...  \n",
       "5998  @___batshitcrazy @BarrowfordHead @Bectully I had mine yesterday and havent been able to get out...  \n",
       "5999  The smart sympathy attends into the oblong nothing. What if the educational feedback ate the ord...  \n",
       "\n",
       "[6000 rows x 3 columns]"
      ]
     },
     "execution_count": 190,
     "metadata": {},
     "output_type": "execute_result"
    }
   ],
   "source": [
    "tweets_df"
   ]
  },
  {
   "cell_type": "code",
   "execution_count": 191,
   "metadata": {
    "gather": {
     "logged": 1634622479052
    }
   },
   "outputs": [],
   "source": [
    "tweets_df.drop('tweet_id',inplace=True,axis=1)"
   ]
  },
  {
   "cell_type": "code",
   "execution_count": 192,
   "metadata": {
    "gather": {
     "logged": 1634622479428
    }
   },
   "outputs": [
    {
     "data": {
      "text/html": [
       "<div>\n",
       "<style scoped>\n",
       "    .dataframe tbody tr th:only-of-type {\n",
       "        vertical-align: middle;\n",
       "    }\n",
       "\n",
       "    .dataframe tbody tr th {\n",
       "        vertical-align: top;\n",
       "    }\n",
       "\n",
       "    .dataframe thead th {\n",
       "        text-align: right;\n",
       "    }\n",
       "</style>\n",
       "<table border=\"1\" class=\"dataframe\">\n",
       "  <thead>\n",
       "    <tr style=\"text-align: right;\">\n",
       "      <th></th>\n",
       "      <th>label</th>\n",
       "      <th>tweet_text</th>\n",
       "    </tr>\n",
       "  </thead>\n",
       "  <tbody>\n",
       "    <tr>\n",
       "      <th>0</th>\n",
       "      <td>1</td>\n",
       "      <td>4,000 a day dying from the so called Covid-19 vaccine @DailyBeast reports. #vaccine #PfizerVac...</td>\n",
       "    </tr>\n",
       "    <tr>\n",
       "      <th>1</th>\n",
       "      <td>2</td>\n",
       "      <td>Pranam message for today manifested in Dhyan by @meenapranam #truth #love #karm #light #nature #...</td>\n",
       "    </tr>\n",
       "    <tr>\n",
       "      <th>2</th>\n",
       "      <td>2</td>\n",
       "      <td>Hyderabad-based ?@BharatBiotech? has sought funds from the government to ramp up production of i...</td>\n",
       "    </tr>\n",
       "    <tr>\n",
       "      <th>3</th>\n",
       "      <td>1</td>\n",
       "      <td>Confirmation that Chinese #vaccines \"dont have very high protection rates\", according to the di...</td>\n",
       "    </tr>\n",
       "    <tr>\n",
       "      <th>4</th>\n",
       "      <td>3</td>\n",
       "      <td>Lab studies suggest #Pfizer, #Moderna vaccines can protect against #coronavirusvariant\\nhttps://...</td>\n",
       "    </tr>\n",
       "    <tr>\n",
       "      <th>...</th>\n",
       "      <td>...</td>\n",
       "      <td>...</td>\n",
       "    </tr>\n",
       "    <tr>\n",
       "      <th>5995</th>\n",
       "      <td>2</td>\n",
       "      <td>@Swamy39 Dr. @Swamy39 jee :\\n\\nMany people like to get Covaxin vaccination done, but this is not...</td>\n",
       "    </tr>\n",
       "    <tr>\n",
       "      <th>5996</th>\n",
       "      <td>3</td>\n",
       "      <td>So happy to be fully vaccinated against COVID-19!! Im ready to serve more with all i can! ?????...</td>\n",
       "    </tr>\n",
       "    <tr>\n",
       "      <th>5997</th>\n",
       "      <td>2</td>\n",
       "      <td>Serum Institute of India announces cost of Covishield vaccine. \\nThe vaccine will cost Rs 400 in...</td>\n",
       "    </tr>\n",
       "    <tr>\n",
       "      <th>5998</th>\n",
       "      <td>1</td>\n",
       "      <td>@___batshitcrazy @BarrowfordHead @Bectully I had mine yesterday and havent been able to get out...</td>\n",
       "    </tr>\n",
       "    <tr>\n",
       "      <th>5999</th>\n",
       "      <td>2</td>\n",
       "      <td>The smart sympathy attends into the oblong nothing. What if the educational feedback ate the ord...</td>\n",
       "    </tr>\n",
       "  </tbody>\n",
       "</table>\n",
       "<p>6000 rows × 2 columns</p>\n",
       "</div>"
      ],
      "text/plain": [
       "      label  \\\n",
       "0         1   \n",
       "1         2   \n",
       "2         2   \n",
       "3         1   \n",
       "4         3   \n",
       "...     ...   \n",
       "5995      2   \n",
       "5996      3   \n",
       "5997      2   \n",
       "5998      1   \n",
       "5999      2   \n",
       "\n",
       "                                                                                               tweet_text  \n",
       "0     4,000 a day dying from the so called Covid-19 vaccine @DailyBeast reports. #vaccine #PfizerVac...  \n",
       "1     Pranam message for today manifested in Dhyan by @meenapranam #truth #love #karm #light #nature #...  \n",
       "2     Hyderabad-based ?@BharatBiotech? has sought funds from the government to ramp up production of i...  \n",
       "3     Confirmation that Chinese #vaccines \"dont have very high protection rates\", according to the di...  \n",
       "4     Lab studies suggest #Pfizer, #Moderna vaccines can protect against #coronavirusvariant\\nhttps://...  \n",
       "...                                                                                                   ...  \n",
       "5995  @Swamy39 Dr. @Swamy39 jee :\\n\\nMany people like to get Covaxin vaccination done, but this is not...  \n",
       "5996  So happy to be fully vaccinated against COVID-19!! Im ready to serve more with all i can! ?????...  \n",
       "5997  Serum Institute of India announces cost of Covishield vaccine. \\nThe vaccine will cost Rs 400 in...  \n",
       "5998  @___batshitcrazy @BarrowfordHead @Bectully I had mine yesterday and havent been able to get out...  \n",
       "5999  The smart sympathy attends into the oblong nothing. What if the educational feedback ate the ord...  \n",
       "\n",
       "[6000 rows x 2 columns]"
      ]
     },
     "execution_count": 192,
     "metadata": {},
     "output_type": "execute_result"
    }
   ],
   "source": [
    "tweets_df"
   ]
  },
  {
   "cell_type": "markdown",
   "metadata": {
    "papermill": {
     "duration": 0.116145,
     "end_time": "2021-03-20T10:46:06.343146",
     "exception": false,
     "start_time": "2021-03-20T10:46:06.227001",
     "status": "completed"
    },
    "tags": []
   },
   "source": [
    "## Data  processing"
   ]
  },
  {
   "cell_type": "code",
   "execution_count": 193,
   "metadata": {
    "gather": {
     "logged": 1634622479872
    }
   },
   "outputs": [
    {
     "data": {
      "text/html": [
       "<div>\n",
       "<style scoped>\n",
       "    .dataframe tbody tr th:only-of-type {\n",
       "        vertical-align: middle;\n",
       "    }\n",
       "\n",
       "    .dataframe tbody tr th {\n",
       "        vertical-align: top;\n",
       "    }\n",
       "\n",
       "    .dataframe thead th {\n",
       "        text-align: right;\n",
       "    }\n",
       "</style>\n",
       "<table border=\"1\" class=\"dataframe\">\n",
       "  <thead>\n",
       "    <tr style=\"text-align: right;\">\n",
       "      <th></th>\n",
       "      <th>clean_data</th>\n",
       "      <th>tweet_text</th>\n",
       "    </tr>\n",
       "  </thead>\n",
       "  <tbody>\n",
       "    <tr>\n",
       "      <th>0</th>\n",
       "      <td>a day dying from the so called covid     vaccine  reports</td>\n",
       "      <td>4,000 a day dying from the so called Covid-19 vaccine @DailyBeast reports. #vaccine #PfizerVac...</td>\n",
       "    </tr>\n",
       "    <tr>\n",
       "      <th>1</th>\n",
       "      <td>pranam message for today manifested in dhyan by</td>\n",
       "      <td>Pranam message for today manifested in Dhyan by @meenapranam #truth #love #karm #light #nature #...</td>\n",
       "    </tr>\n",
       "    <tr>\n",
       "      <th>2</th>\n",
       "      <td>hyderabad based   has sought funds from the government to ramp up production of its indigenously...</td>\n",
       "      <td>Hyderabad-based ?@BharatBiotech? has sought funds from the government to ramp up production of i...</td>\n",
       "    </tr>\n",
       "    <tr>\n",
       "      <th>3</th>\n",
       "      <td>confirmation that chinese  don t have very high protection rates   according to the director of ...</td>\n",
       "      <td>Confirmation that Chinese #vaccines \"dont have very high protection rates\", according to the di...</td>\n",
       "    </tr>\n",
       "    <tr>\n",
       "      <th>4</th>\n",
       "      <td>lab studies suggest vaccines can protect against</td>\n",
       "      <td>Lab studies suggest #Pfizer, #Moderna vaccines can protect against #coronavirusvariant\\nhttps://...</td>\n",
       "    </tr>\n",
       "  </tbody>\n",
       "</table>\n",
       "</div>"
      ],
      "text/plain": [
       "                                                                                            clean_data  \\\n",
       "0                                          a day dying from the so called covid     vaccine  reports     \n",
       "1                                                     pranam message for today manifested in dhyan by    \n",
       "2  hyderabad based   has sought funds from the government to ramp up production of its indigenously...   \n",
       "3  confirmation that chinese  don t have very high protection rates   according to the director of ...   \n",
       "4                                                    lab studies suggest vaccines can protect against    \n",
       "\n",
       "                                                                                            tweet_text  \n",
       "0  4,000 a day dying from the so called Covid-19 vaccine @DailyBeast reports. #vaccine #PfizerVac...  \n",
       "1  Pranam message for today manifested in Dhyan by @meenapranam #truth #love #karm #light #nature #...  \n",
       "2  Hyderabad-based ?@BharatBiotech? has sought funds from the government to ramp up production of i...  \n",
       "3  Confirmation that Chinese #vaccines \"dont have very high protection rates\", according to the di...  \n",
       "4  Lab studies suggest #Pfizer, #Moderna vaccines can protect against #coronavirusvariant\\nhttps://...  "
      ]
     },
     "execution_count": 193,
     "metadata": {},
     "output_type": "execute_result"
    }
   ],
   "source": [
    "import neattext as ntx\n",
    "tweets_df['clean_data']=tweets_df['tweet_text']\n",
    "# Cleaning the data using neattext library\n",
    "tweets_df['clean_data']=tweets_df['clean_data'].apply(ntx.remove_hashtags)\n",
    "tweets_df['clean_data']=tweets_df['clean_data'].apply(ntx.remove_urls)\n",
    "tweets_df['clean_data']=tweets_df['clean_data'].apply(ntx.remove_userhandles)\n",
    "tweets_df['clean_data']=tweets_df['clean_data'].apply(ntx.remove_multiple_spaces)\n",
    "#tweets_df['clean_data']=tweets_df['clean_data'].apply(ntx.remove_special_characters)#\n",
    "tweets_df['clean_data']=tweets_df['clean_data'].str.replace(\"[^a-zA-Z#]\", \" \")\n",
    "tweets_df['clean_data']=tweets_df['clean_data'].apply(ntx.remove_numbers)\n",
    "tweets_df['clean_data']=tweets_df['clean_data'].apply(ntx.remove_puncts)\n",
    "tweets_df['clean_data']=tweets_df['clean_data'].apply(ntx.remove_emojis)\n",
    "tweets_df['clean_data']=tweets_df['clean_data'].str.lower()\n",
    "tweets_df[['clean_data','tweet_text']].head()\n"
   ]
  },
  {
   "cell_type": "code",
   "execution_count": 194,
   "metadata": {
    "gather": {
     "logged": 1634622488218
    }
   },
   "outputs": [
    {
     "name": "stderr",
     "output_type": "stream",
     "text": [
      "[nltk_data] Downloading package stopwords to\n",
      "[nltk_data]     C:\\Users\\rkr\\AppData\\Roaming\\nltk_data...\n",
      "[nltk_data]   Package stopwords is already up-to-date!\n",
      "[nltk_data] Downloading package wordnet to\n",
      "[nltk_data]     C:\\Users\\rkr\\AppData\\Roaming\\nltk_data...\n",
      "[nltk_data]   Package wordnet is already up-to-date!\n"
     ]
    }
   ],
   "source": [
    "import nltk\n",
    "from nltk.corpus import stopwords\n",
    "\n",
    "nltk.download('stopwords')\n",
    "nltk.download('wordnet')\n",
    "remove_words=lambda x : ' '.join([word for word in x.split() if word not in stopwords.words('english')])\n",
    "tweets_df['clean_data']=tweets_df['clean_data'].apply(remove_words)\n",
    "\n"
   ]
  },
  {
   "cell_type": "code",
   "execution_count": 195,
   "metadata": {
    "gather": {
     "logged": 1634622488616
    }
   },
   "outputs": [
    {
     "data": {
      "text/html": [
       "<div>\n",
       "<style scoped>\n",
       "    .dataframe tbody tr th:only-of-type {\n",
       "        vertical-align: middle;\n",
       "    }\n",
       "\n",
       "    .dataframe tbody tr th {\n",
       "        vertical-align: top;\n",
       "    }\n",
       "\n",
       "    .dataframe thead th {\n",
       "        text-align: right;\n",
       "    }\n",
       "</style>\n",
       "<table border=\"1\" class=\"dataframe\">\n",
       "  <thead>\n",
       "    <tr style=\"text-align: right;\">\n",
       "      <th></th>\n",
       "      <th>clean_data</th>\n",
       "      <th>tweet_text</th>\n",
       "    </tr>\n",
       "  </thead>\n",
       "  <tbody>\n",
       "    <tr>\n",
       "      <th>0</th>\n",
       "      <td>day dying called covid vaccine reports</td>\n",
       "      <td>4,000 a day dying from the so called Covid-19 vaccine @DailyBeast reports. #vaccine #PfizerVac...</td>\n",
       "    </tr>\n",
       "    <tr>\n",
       "      <th>1</th>\n",
       "      <td>pranam message today manifested dhyan</td>\n",
       "      <td>Pranam message for today manifested in Dhyan by @meenapranam #truth #love #karm #light #nature #...</td>\n",
       "    </tr>\n",
       "    <tr>\n",
       "      <th>2</th>\n",
       "      <td>hyderabad based sought funds government ramp production indigenously developed covid vaccine com...</td>\n",
       "      <td>Hyderabad-based ?@BharatBiotech? has sought funds from the government to ramp up production of i...</td>\n",
       "    </tr>\n",
       "    <tr>\n",
       "      <th>3</th>\n",
       "      <td>confirmation chinese high protection rates according director china centers disease control gao ...</td>\n",
       "      <td>Confirmation that Chinese #vaccines \"dont have very high protection rates\", according to the di...</td>\n",
       "    </tr>\n",
       "    <tr>\n",
       "      <th>4</th>\n",
       "      <td>lab studies suggest vaccines protect</td>\n",
       "      <td>Lab studies suggest #Pfizer, #Moderna vaccines can protect against #coronavirusvariant\\nhttps://...</td>\n",
       "    </tr>\n",
       "    <tr>\n",
       "      <th>...</th>\n",
       "      <td>...</td>\n",
       "      <td>...</td>\n",
       "    </tr>\n",
       "    <tr>\n",
       "      <th>5995</th>\n",
       "      <td>dr jee many people like get covaxin vaccination done available places people putting covishield ...</td>\n",
       "      <td>@Swamy39 Dr. @Swamy39 jee :\\n\\nMany people like to get Covaxin vaccination done, but this is not...</td>\n",
       "    </tr>\n",
       "    <tr>\n",
       "      <th>5996</th>\n",
       "      <td>happy fully vaccinated covid ready serve manila philippines</td>\n",
       "      <td>So happy to be fully vaccinated against COVID-19!! Im ready to serve more with all i can! ?????...</td>\n",
       "    </tr>\n",
       "    <tr>\n",
       "      <th>5997</th>\n",
       "      <td>serum institute india announces cost covishield vaccine vaccine cost rs govt hospitals amp rs pr...</td>\n",
       "      <td>Serum Institute of India announces cost of Covishield vaccine. \\nThe vaccine will cost Rs 400 in...</td>\n",
       "    </tr>\n",
       "    <tr>\n",
       "      <th>5998</th>\n",
       "      <td>mine yesterday able get bed today feel</td>\n",
       "      <td>@___batshitcrazy @BarrowfordHead @Bectully I had mine yesterday and havent been able to get out...</td>\n",
       "    </tr>\n",
       "    <tr>\n",
       "      <th>5999</th>\n",
       "      <td>smart sympathy attends oblong nothing educational feedback ate ordinary</td>\n",
       "      <td>The smart sympathy attends into the oblong nothing. What if the educational feedback ate the ord...</td>\n",
       "    </tr>\n",
       "  </tbody>\n",
       "</table>\n",
       "<p>6000 rows × 2 columns</p>\n",
       "</div>"
      ],
      "text/plain": [
       "                                                                                               clean_data  \\\n",
       "0                                                                  day dying called covid vaccine reports   \n",
       "1                                                                   pranam message today manifested dhyan   \n",
       "2     hyderabad based sought funds government ramp production indigenously developed covid vaccine com...   \n",
       "3     confirmation chinese high protection rates according director china centers disease control gao ...   \n",
       "4                                                                    lab studies suggest vaccines protect   \n",
       "...                                                                                                   ...   \n",
       "5995  dr jee many people like get covaxin vaccination done available places people putting covishield ...   \n",
       "5996                                          happy fully vaccinated covid ready serve manila philippines   \n",
       "5997  serum institute india announces cost covishield vaccine vaccine cost rs govt hospitals amp rs pr...   \n",
       "5998                                                               mine yesterday able get bed today feel   \n",
       "5999                              smart sympathy attends oblong nothing educational feedback ate ordinary   \n",
       "\n",
       "                                                                                               tweet_text  \n",
       "0     4,000 a day dying from the so called Covid-19 vaccine @DailyBeast reports. #vaccine #PfizerVac...  \n",
       "1     Pranam message for today manifested in Dhyan by @meenapranam #truth #love #karm #light #nature #...  \n",
       "2     Hyderabad-based ?@BharatBiotech? has sought funds from the government to ramp up production of i...  \n",
       "3     Confirmation that Chinese #vaccines \"dont have very high protection rates\", according to the di...  \n",
       "4     Lab studies suggest #Pfizer, #Moderna vaccines can protect against #coronavirusvariant\\nhttps://...  \n",
       "...                                                                                                   ...  \n",
       "5995  @Swamy39 Dr. @Swamy39 jee :\\n\\nMany people like to get Covaxin vaccination done, but this is not...  \n",
       "5996  So happy to be fully vaccinated against COVID-19!! Im ready to serve more with all i can! ?????...  \n",
       "5997  Serum Institute of India announces cost of Covishield vaccine. \\nThe vaccine will cost Rs 400 in...  \n",
       "5998  @___batshitcrazy @BarrowfordHead @Bectully I had mine yesterday and havent been able to get out...  \n",
       "5999  The smart sympathy attends into the oblong nothing. What if the educational feedback ate the ord...  \n",
       "\n",
       "[6000 rows x 2 columns]"
      ]
     },
     "execution_count": 195,
     "metadata": {},
     "output_type": "execute_result"
    }
   ],
   "source": [
    "pd.set_option('display.max_colwidth', 100)\n",
    "tweets_df[['clean_data','tweet_text']]"
   ]
  },
  {
   "cell_type": "code",
   "execution_count": 196,
   "metadata": {
    "gather": {
     "logged": 1634622489052
    }
   },
   "outputs": [],
   "source": [
    "from nltk.tokenize import TweetTokenizer\n",
    "from nltk.stem import PorterStemmer\n",
    "\n",
    "def tokenize(tweet_text):\n",
    "    tokenizer = TweetTokenizer()\n",
    "    tweet_tokens = tokenizer.tokenize(tweet_text)\n",
    "    tweets_clean = []\n",
    "    stemmer = PorterStemmer()\n",
    "    for word in tweet_tokens:\n",
    "            stem_word = stemmer.stem(word)  # stemming word\n",
    "            tweets_clean.append(stem_word)\n",
    "    return ' '.join(tweets_clean)\n",
    "    \n"
   ]
  },
  {
   "cell_type": "code",
   "execution_count": 197,
   "metadata": {
    "gather": {
     "logged": 1634622490218
    }
   },
   "outputs": [
    {
     "data": {
      "text/html": [
       "<div>\n",
       "<style scoped>\n",
       "    .dataframe tbody tr th:only-of-type {\n",
       "        vertical-align: middle;\n",
       "    }\n",
       "\n",
       "    .dataframe tbody tr th {\n",
       "        vertical-align: top;\n",
       "    }\n",
       "\n",
       "    .dataframe thead th {\n",
       "        text-align: right;\n",
       "    }\n",
       "</style>\n",
       "<table border=\"1\" class=\"dataframe\">\n",
       "  <thead>\n",
       "    <tr style=\"text-align: right;\">\n",
       "      <th></th>\n",
       "      <th>clean_data</th>\n",
       "      <th>tweet_text</th>\n",
       "    </tr>\n",
       "  </thead>\n",
       "  <tbody>\n",
       "    <tr>\n",
       "      <th>0</th>\n",
       "      <td>day die call covid vaccin report</td>\n",
       "      <td>4,000 a day dying from the so called Covid-19 vaccine @DailyBeast reports. #vaccine #PfizerVac...</td>\n",
       "    </tr>\n",
       "    <tr>\n",
       "      <th>1</th>\n",
       "      <td>pranam messag today manifest dhyan</td>\n",
       "      <td>Pranam message for today manifested in Dhyan by @meenapranam #truth #love #karm #light #nature #...</td>\n",
       "    </tr>\n",
       "    <tr>\n",
       "      <th>2</th>\n",
       "      <td>hyderabad base sought fund govern ramp product indigen develop covid vaccin compani written seek...</td>\n",
       "      <td>Hyderabad-based ?@BharatBiotech? has sought funds from the government to ramp up production of i...</td>\n",
       "    </tr>\n",
       "    <tr>\n",
       "      <th>3</th>\n",
       "      <td>confirm chines high protect rate accord director china center diseas control gao fu effect found...</td>\n",
       "      <td>Confirmation that Chinese #vaccines \"dont have very high protection rates\", according to the di...</td>\n",
       "    </tr>\n",
       "    <tr>\n",
       "      <th>4</th>\n",
       "      <td>lab studi suggest vaccin protect</td>\n",
       "      <td>Lab studies suggest #Pfizer, #Moderna vaccines can protect against #coronavirusvariant\\nhttps://...</td>\n",
       "    </tr>\n",
       "    <tr>\n",
       "      <th>...</th>\n",
       "      <td>...</td>\n",
       "      <td>...</td>\n",
       "    </tr>\n",
       "    <tr>\n",
       "      <th>5995</th>\n",
       "      <td>dr jee mani peopl like get covaxin vaccin done avail place peopl put covishield vaccin avail rs ...</td>\n",
       "      <td>@Swamy39 Dr. @Swamy39 jee :\\n\\nMany people like to get Covaxin vaccination done, but this is not...</td>\n",
       "    </tr>\n",
       "    <tr>\n",
       "      <th>5996</th>\n",
       "      <td>happi fulli vaccin covid readi serv manila philippin</td>\n",
       "      <td>So happy to be fully vaccinated against COVID-19!! Im ready to serve more with all i can! ?????...</td>\n",
       "    </tr>\n",
       "    <tr>\n",
       "      <th>5997</th>\n",
       "      <td>serum institut india announc cost covishield vaccin vaccin cost rs govt hospit amp rs privat hospit</td>\n",
       "      <td>Serum Institute of India announces cost of Covishield vaccine. \\nThe vaccine will cost Rs 400 in...</td>\n",
       "    </tr>\n",
       "    <tr>\n",
       "      <th>5998</th>\n",
       "      <td>mine yesterday abl get bed today feel</td>\n",
       "      <td>@___batshitcrazy @BarrowfordHead @Bectully I had mine yesterday and havent been able to get out...</td>\n",
       "    </tr>\n",
       "    <tr>\n",
       "      <th>5999</th>\n",
       "      <td>smart sympathi attend oblong noth educ feedback ate ordinari</td>\n",
       "      <td>The smart sympathy attends into the oblong nothing. What if the educational feedback ate the ord...</td>\n",
       "    </tr>\n",
       "  </tbody>\n",
       "</table>\n",
       "<p>6000 rows × 2 columns</p>\n",
       "</div>"
      ],
      "text/plain": [
       "                                                                                               clean_data  \\\n",
       "0                                                                        day die call covid vaccin report   \n",
       "1                                                                      pranam messag today manifest dhyan   \n",
       "2     hyderabad base sought fund govern ramp product indigen develop covid vaccin compani written seek...   \n",
       "3     confirm chines high protect rate accord director china center diseas control gao fu effect found...   \n",
       "4                                                                        lab studi suggest vaccin protect   \n",
       "...                                                                                                   ...   \n",
       "5995  dr jee mani peopl like get covaxin vaccin done avail place peopl put covishield vaccin avail rs ...   \n",
       "5996                                                 happi fulli vaccin covid readi serv manila philippin   \n",
       "5997  serum institut india announc cost covishield vaccin vaccin cost rs govt hospit amp rs privat hospit   \n",
       "5998                                                                mine yesterday abl get bed today feel   \n",
       "5999                                         smart sympathi attend oblong noth educ feedback ate ordinari   \n",
       "\n",
       "                                                                                               tweet_text  \n",
       "0     4,000 a day dying from the so called Covid-19 vaccine @DailyBeast reports. #vaccine #PfizerVac...  \n",
       "1     Pranam message for today manifested in Dhyan by @meenapranam #truth #love #karm #light #nature #...  \n",
       "2     Hyderabad-based ?@BharatBiotech? has sought funds from the government to ramp up production of i...  \n",
       "3     Confirmation that Chinese #vaccines \"dont have very high protection rates\", according to the di...  \n",
       "4     Lab studies suggest #Pfizer, #Moderna vaccines can protect against #coronavirusvariant\\nhttps://...  \n",
       "...                                                                                                   ...  \n",
       "5995  @Swamy39 Dr. @Swamy39 jee :\\n\\nMany people like to get Covaxin vaccination done, but this is not...  \n",
       "5996  So happy to be fully vaccinated against COVID-19!! Im ready to serve more with all i can! ?????...  \n",
       "5997  Serum Institute of India announces cost of Covishield vaccine. \\nThe vaccine will cost Rs 400 in...  \n",
       "5998  @___batshitcrazy @BarrowfordHead @Bectully I had mine yesterday and havent been able to get out...  \n",
       "5999  The smart sympathy attends into the oblong nothing. What if the educational feedback ate the ord...  \n",
       "\n",
       "[6000 rows x 2 columns]"
      ]
     },
     "execution_count": 197,
     "metadata": {},
     "output_type": "execute_result"
    }
   ],
   "source": [
    "tweets_df['clean_data']=tweets_df['clean_data'].apply(tokenize)\n",
    "pd.set_option('display.max_colwidth', 100)\n",
    "tweets_df[['clean_data','tweet_text']]"
   ]
  },
  {
   "cell_type": "code",
   "execution_count": 198,
   "metadata": {},
   "outputs": [],
   "source": [
    "# renumbering labels to avoid error in the one hot encoding process\n",
    "tweets_df['label'] = tweets_df['label'].map({1:0, 2:1, 3:2})"
   ]
  },
  {
   "cell_type": "markdown",
   "metadata": {},
   "source": [
    "###  Dropping columns not needed"
   ]
  },
  {
   "cell_type": "code",
   "execution_count": 199,
   "metadata": {
    "gather": {
     "logged": 1634622490641
    }
   },
   "outputs": [],
   "source": [
    "tweets_df.drop('tweet_text',inplace=True,axis=1)"
   ]
  },
  {
   "cell_type": "markdown",
   "metadata": {},
   "source": [
    "tweets_df.head()"
   ]
  },
  {
   "cell_type": "markdown",
   "metadata": {},
   "source": [
    "### For SSl splitting the data to 70-30  , where 30 will be used for final prediction task \n",
    "\n",
    "\n",
    "\n"
   ]
  },
  {
   "cell_type": "code",
   "execution_count": 200,
   "metadata": {
    "gather": {
     "logged": 1634622491025
    }
   },
   "outputs": [],
   "source": [
    "# seperate off train and test\n",
    "train = tweets_df.iloc[:4200, :]\n",
    "test = tweets_df.iloc[4200:, :]"
   ]
  },
  {
   "cell_type": "markdown",
   "metadata": {},
   "source": [
    "\n",
    "### Classification Tasks"
   ]
  },
  {
   "cell_type": "code",
   "execution_count": 201,
   "metadata": {
    "gather": {
     "logged": 1634622492752
    }
   },
   "outputs": [],
   "source": [
    "from sklearn.feature_extraction.text import TfidfVectorizer, CountVectorizer\n",
    "#import gensim\n",
    "\n",
    "from sklearn.svm import SVC\n",
    "from sklearn.naive_bayes import MultinomialNB,BernoulliNB\n",
    "from sklearn.ensemble import RandomForestClassifier\n",
    "from sklearn.linear_model import LogisticRegression, SGDClassifier\n",
    "from sklearn.metrics import classification_report, f1_score, confusion_matrix,recall_score,precision_score,make_scorer\n",
    "from sklearn.model_selection import StratifiedKFold, train_test_split, learning_curve,cross_val_score\n",
    "from sklearn.feature_extraction.text import CountVectorizer, TfidfVectorizer, HashingVectorizer\n",
    "from sklearn.tree import DecisionTreeClassifier\n",
    "from sklearn.neighbors import KNeighborsClassifier\n",
    "from statistics import mean, stdev\n",
    "import lightgbm as lgb\n",
    "\n",
    "# target variable \n",
    "y = train[\"label\"].values\n",
    "\n",
    "no_of_splits=5\n",
    "# initializing Kfold\n",
    "skf = StratifiedKFold(n_splits=no_of_splits, shuffle=True, random_state=24)\n",
    "\n",
    "# count vectorizer transformation\n",
    "count_vect = CountVectorizer()\n",
    "count_vect.fit(tweets_df[\"clean_data\"].values.tolist())\n",
    "train_count_vect = count_vect.transform(train[\"clean_data\"])\n",
    "\n",
    "# tfidf vectorizer transformation \n",
    "tfidf_vect = TfidfVectorizer()\n",
    "tfidf_vect.fit(tweets_df[\"clean_data\"].values.tolist())\n",
    "train_tfidf_vect = tfidf_vect.transform(train[\"clean_data\"])\n"
   ]
  },
  {
   "cell_type": "code",
   "execution_count": 202,
   "metadata": {
    "gather": {
     "logged": 1634622493135
    }
   },
   "outputs": [],
   "source": [
    "\n",
    "# light gbm parameters\n",
    "lgbm_params = {\n",
    "    \"learning_rate\": 0.02, \n",
    "    \"random_state\": 24, \n",
    "    \"metric\": \"auc_mu\",\n",
    "    \"n_estimators\": 2000,\n",
    "    \"objective\": \"multiclass\"\n",
    "}\n",
    "# models\n",
    "models =  {\n",
    "    \"svm\": SVC(),\n",
    "    \"logistic_regression\": LogisticRegression(),\n",
    "    \"naive_bayes\": MultinomialNB(),\n",
    "    \"SGD\": SGDClassifier(),\n",
    "    \"random_forest\": RandomForestClassifier(),\n",
    "    #\"BernoulliNB\": BernoulliNB(),\n",
    "    \"DecisionTreeClassifier\": DecisionTreeClassifier(),\n",
    "    \"KNeighborsClassifier\": KNeighborsClassifier(),\n",
    "    \"LGBM\":lgb.LGBMClassifier(**lgbm_params)\n",
    "    \n",
    "} \n",
    "\n",
    "# current vectors\n",
    "vectors = {\n",
    "    \"count_vectorizer\": train_count_vect,\n",
    "    \"tfidf_vectorizer\": train_tfidf_vect\n",
    "}"
   ]
  },
  {
   "cell_type": "code",
   "execution_count": 203,
   "metadata": {
    "gather": {
     "logged": 1634622493919
    }
   },
   "outputs": [],
   "source": [
    "def stratified_kfold(clf:str, vect_type:str, y, kfold):\n",
    "    \"\"\"\n",
    "    Perform Kfold Cross-Validation\n",
    "    :param model: the model used to make predictions\n",
    "    :param X: the train features being used \n",
    "    :param y: the target feature,\n",
    "    :param kfold: the cross validation strategy\n",
    "    :return: dictionary with model name key and results as the values\n",
    "    \"\"\"\n",
    "    results = {}\n",
    "    # store the name of the model in dictionary\n",
    "    results[\"modelname_vectorType\"] = clf + \"_\" + vect_type\n",
    "    \n",
    "    # call the model and training data\n",
    "    model = models[clf]\n",
    "    X = vectors[vect_type]\n",
    "\n",
    "    f1score_list= []\n",
    "    lst_accu_stratified = []\n",
    "    # perfrom kfold cv\n",
    "    for fold, (train_idx, valid_idx) in enumerate(kfold.split(X, y)):\n",
    "        #print(f\"\\nCurrently Training: {results['modelname_vectorType']}... Fold: {fold+1}\")\n",
    "        X_train, X_valid = X[train_idx], X[valid_idx]\n",
    "        y_train, y_valid = y[train_idx], y[valid_idx]\n",
    "        \n",
    "        # train on seen data, predict on unseen\n",
    "        model.fit(X_train, y_train)\n",
    "        y_preds = model.predict(X_valid)\n",
    "        f1score = f1_score(y_valid, y_preds,average='weighted')\n",
    "        results[\"fold_{}\".format(fold+1)] = f1score\n",
    "        lst_accu_stratified.append(model.score(X_valid, y_valid))\n",
    "        f1score_list.append(f1score)\n",
    "    results[\"accuracy\"] = \"%.3f%%\" % (mean(lst_accu_stratified) * 100)\n",
    "    #results[\"mean_f1-score\"] = \"%.3f%%\" % (mean(f1score_list)*100)\n",
    "    return results"
   ]
  },
  {
   "cell_type": "code",
   "execution_count": 204,
   "metadata": {
    "gather": {
     "logged": 1634622494282
    }
   },
   "outputs": [],
   "source": [
    "def stratified_kfold_lbgm(clf:str, vect_type:str, y, kfold):\n",
    "    \"\"\"\n",
    "    Perform Kfold Cross-Validation\n",
    "    :param model: the model used to make predictions\n",
    "    :param X: the train features being used \n",
    "    :param y: the target feature,\n",
    "    :param kfold: the cross validation strategy\n",
    "    :return: dictionary with model name key and results as the values\n",
    "    \"\"\"\n",
    "    results = {}\n",
    "    # store the name of the model in dictionary\n",
    "    results[\"modelname_vectorType\"] = clf + \"_\" + vect_type\n",
    "    \n",
    "    # call the model and training data\n",
    "    model = models[clf]\n",
    "    X = vectors[vect_type]\n",
    "    \n",
    "    f1score_list= []\n",
    "    lst_accu_stratified = []\n",
    "    # perfrom kfold cv\n",
    "    for fold, (train_idx, valid_idx) in enumerate(kfold.split(X, y)):\n",
    "        print(f\"\\nCurrently Training: {results['modelname_vectorType']}... Fold: {fold+1}\")\n",
    "        X_train, X_valid= X[train_idx].astype(np.float64), X[valid_idx].astype(np.float64)\n",
    "        y_train, y_valid= y[train_idx].astype(np.float64), y[valid_idx].astype(np.float64)\n",
    "        # train on seen data, predict on unseen\n",
    "        model.fit(X_train,\n",
    "             y_train,\n",
    "             eval_set=[(X_valid, y_valid)],\n",
    "             verbose=100,\n",
    "             early_stopping_rounds=100)\n",
    "        \n",
    "        y_preds = model.predict(X_valid)\n",
    "        f1score = f1_score(y_valid, y_preds,average='weighted')\n",
    "        results[\"fold_{}\".format(fold+1)] = f1score\n",
    "        lst_accu_stratified.append(model.score(X_valid, y_valid))\n",
    "        f1score_list.append(f1score)\n",
    "\n",
    "\n",
    "    results[\"accuracy\"] = \"%.3f%%\" % (mean(lst_accu_stratified) * 100)\n",
    "    #results[\"mean_f1-score\"] = \"%.3f%%\" % (mean(f1score_list)*100)\n",
    "    return results"
   ]
  },
  {
   "cell_type": "code",
   "execution_count": 205,
   "metadata": {
    "gather": {
     "logged": 1634622593653
    }
   },
   "outputs": [
    {
     "name": "stdout",
     "output_type": "stream",
     "text": [
      "Current Model: svm_count_vectorizer...\n",
      "\n",
      "Current Model: svm_tfidf_vectorizer...\n",
      "\n",
      "Current Model: logistic_regression_count_vectorizer...\n",
      "\n",
      "Current Model: logistic_regression_tfidf_vectorizer...\n",
      "\n",
      "Current Model: naive_bayes_count_vectorizer...\n",
      "\n",
      "Current Model: naive_bayes_tfidf_vectorizer...\n",
      "\n",
      "Current Model: SGD_count_vectorizer...\n",
      "\n",
      "Current Model: SGD_tfidf_vectorizer...\n",
      "\n",
      "Current Model: random_forest_count_vectorizer...\n",
      "\n",
      "Current Model: random_forest_tfidf_vectorizer...\n",
      "\n",
      "Current Model: DecisionTreeClassifier_count_vectorizer...\n",
      "\n",
      "Current Model: DecisionTreeClassifier_tfidf_vectorizer...\n",
      "\n",
      "Current Model: KNeighborsClassifier_count_vectorizer...\n",
      "\n",
      "Current Model: KNeighborsClassifier_tfidf_vectorizer...\n",
      "\n",
      "\n",
      "Currently Training: LGBM_count_vectorizer... Fold: 1\n",
      "[100]\tvalid_0's auc_mu: 0.795251\n",
      "[200]\tvalid_0's auc_mu: 0.795045\n",
      "\n",
      "Currently Training: LGBM_count_vectorizer... Fold: 2\n",
      "[100]\tvalid_0's auc_mu: 0.802977\n",
      "[200]\tvalid_0's auc_mu: 0.802348\n",
      "\n",
      "Currently Training: LGBM_count_vectorizer... Fold: 3\n",
      "[100]\tvalid_0's auc_mu: 0.804381\n",
      "[200]\tvalid_0's auc_mu: 0.822567\n",
      "[300]\tvalid_0's auc_mu: 0.820107\n",
      "\n",
      "Currently Training: LGBM_count_vectorizer... Fold: 4\n",
      "[100]\tvalid_0's auc_mu: 0.802487\n",
      "[200]\tvalid_0's auc_mu: 0.811122\n",
      "[300]\tvalid_0's auc_mu: 0.808729\n",
      "\n",
      "Currently Training: LGBM_count_vectorizer... Fold: 5\n",
      "[100]\tvalid_0's auc_mu: 0.77672\n",
      "[200]\tvalid_0's auc_mu: 0.803281\n",
      "[300]\tvalid_0's auc_mu: 0.810081\n",
      "[400]\tvalid_0's auc_mu: 0.809277\n",
      "Current Model: LGBM_count_vectorizer...\n",
      "\n",
      "\n",
      "Currently Training: LGBM_tfidf_vectorizer... Fold: 1\n",
      "[100]\tvalid_0's auc_mu: 0.79604\n",
      "[200]\tvalid_0's auc_mu: 0.795943\n",
      "\n",
      "Currently Training: LGBM_tfidf_vectorizer... Fold: 2\n",
      "[100]\tvalid_0's auc_mu: 0.799649\n",
      "[200]\tvalid_0's auc_mu: 0.808781\n",
      "\n",
      "Currently Training: LGBM_tfidf_vectorizer... Fold: 3\n",
      "[100]\tvalid_0's auc_mu: 0.799243\n",
      "[200]\tvalid_0's auc_mu: 0.807069\n",
      "\n",
      "Currently Training: LGBM_tfidf_vectorizer... Fold: 4\n",
      "[100]\tvalid_0's auc_mu: 0.792956\n",
      "[200]\tvalid_0's auc_mu: 0.794612\n",
      "\n",
      "Currently Training: LGBM_tfidf_vectorizer... Fold: 5\n",
      "[100]\tvalid_0's auc_mu: 0.755611\n",
      "[200]\tvalid_0's auc_mu: 0.771098\n",
      "[300]\tvalid_0's auc_mu: 0.777779\n",
      "[400]\tvalid_0's auc_mu: 0.780397\n",
      "[500]\tvalid_0's auc_mu: 0.779796\n",
      "Current Model: LGBM_tfidf_vectorizer...\n",
      "\n"
     ]
    }
   ],
   "source": [
    "# store all models\n",
    "all_models = []\n",
    "for clf in models:\n",
    "    for vect in vectors:\n",
    "        if clf == \"LGBM\":\n",
    "            all_models.append(stratified_kfold_lbgm(clf, vect, y, skf))\n",
    "        else:\n",
    "            all_models.append(stratified_kfold(clf, vect, y, skf))            \n",
    "        print(f\"Current Model: {clf}_{vect}...\\n\")"
   ]
  },
  {
   "cell_type": "code",
   "execution_count": 206,
   "metadata": {
    "gather": {
     "logged": 1634622594285
    }
   },
   "outputs": [
    {
     "data": {
      "text/html": [
       "<div>\n",
       "<style scoped>\n",
       "    .dataframe tbody tr th:only-of-type {\n",
       "        vertical-align: middle;\n",
       "    }\n",
       "\n",
       "    .dataframe tbody tr th {\n",
       "        vertical-align: top;\n",
       "    }\n",
       "\n",
       "    .dataframe thead th {\n",
       "        text-align: right;\n",
       "    }\n",
       "</style>\n",
       "<table border=\"1\" class=\"dataframe\">\n",
       "  <thead>\n",
       "    <tr style=\"text-align: right;\">\n",
       "      <th></th>\n",
       "      <th>modelname_vectorType</th>\n",
       "      <th>fold_1</th>\n",
       "      <th>fold_2</th>\n",
       "      <th>fold_3</th>\n",
       "      <th>fold_4</th>\n",
       "      <th>fold_5</th>\n",
       "      <th>accuracy</th>\n",
       "    </tr>\n",
       "  </thead>\n",
       "  <tbody>\n",
       "    <tr>\n",
       "      <th>0</th>\n",
       "      <td>svm_count_vectorizer</td>\n",
       "      <td>0.681246</td>\n",
       "      <td>0.669688</td>\n",
       "      <td>0.676671</td>\n",
       "      <td>0.686930</td>\n",
       "      <td>0.684430</td>\n",
       "      <td>71.738%</td>\n",
       "    </tr>\n",
       "    <tr>\n",
       "      <th>1</th>\n",
       "      <td>svm_tfidf_vectorizer</td>\n",
       "      <td>0.684362</td>\n",
       "      <td>0.670483</td>\n",
       "      <td>0.670439</td>\n",
       "      <td>0.670327</td>\n",
       "      <td>0.692210</td>\n",
       "      <td>71.667%</td>\n",
       "    </tr>\n",
       "    <tr>\n",
       "      <th>2</th>\n",
       "      <td>logistic_regression_count_vectorizer</td>\n",
       "      <td>0.690526</td>\n",
       "      <td>0.694939</td>\n",
       "      <td>0.689576</td>\n",
       "      <td>0.676607</td>\n",
       "      <td>0.697442</td>\n",
       "      <td>70.190%</td>\n",
       "    </tr>\n",
       "    <tr>\n",
       "      <th>3</th>\n",
       "      <td>logistic_regression_tfidf_vectorizer</td>\n",
       "      <td>0.694953</td>\n",
       "      <td>0.667076</td>\n",
       "      <td>0.686922</td>\n",
       "      <td>0.670206</td>\n",
       "      <td>0.715095</td>\n",
       "      <td>71.952%</td>\n",
       "    </tr>\n",
       "    <tr>\n",
       "      <th>4</th>\n",
       "      <td>naive_bayes_count_vectorizer</td>\n",
       "      <td>0.669570</td>\n",
       "      <td>0.672779</td>\n",
       "      <td>0.681108</td>\n",
       "      <td>0.675133</td>\n",
       "      <td>0.681927</td>\n",
       "      <td>68.881%</td>\n",
       "    </tr>\n",
       "    <tr>\n",
       "      <th>5</th>\n",
       "      <td>naive_bayes_tfidf_vectorizer</td>\n",
       "      <td>0.639955</td>\n",
       "      <td>0.625476</td>\n",
       "      <td>0.631205</td>\n",
       "      <td>0.623044</td>\n",
       "      <td>0.644443</td>\n",
       "      <td>68.810%</td>\n",
       "    </tr>\n",
       "    <tr>\n",
       "      <th>6</th>\n",
       "      <td>SGD_count_vectorizer</td>\n",
       "      <td>0.663563</td>\n",
       "      <td>0.669770</td>\n",
       "      <td>0.660406</td>\n",
       "      <td>0.647533</td>\n",
       "      <td>0.674095</td>\n",
       "      <td>66.690%</td>\n",
       "    </tr>\n",
       "    <tr>\n",
       "      <th>7</th>\n",
       "      <td>SGD_tfidf_vectorizer</td>\n",
       "      <td>0.701068</td>\n",
       "      <td>0.686178</td>\n",
       "      <td>0.689801</td>\n",
       "      <td>0.677979</td>\n",
       "      <td>0.696219</td>\n",
       "      <td>70.071%</td>\n",
       "    </tr>\n",
       "    <tr>\n",
       "      <th>8</th>\n",
       "      <td>random_forest_count_vectorizer</td>\n",
       "      <td>0.672023</td>\n",
       "      <td>0.667098</td>\n",
       "      <td>0.682658</td>\n",
       "      <td>0.669502</td>\n",
       "      <td>0.683369</td>\n",
       "      <td>69.476%</td>\n",
       "    </tr>\n",
       "    <tr>\n",
       "      <th>9</th>\n",
       "      <td>random_forest_tfidf_vectorizer</td>\n",
       "      <td>0.689880</td>\n",
       "      <td>0.649892</td>\n",
       "      <td>0.698457</td>\n",
       "      <td>0.677042</td>\n",
       "      <td>0.683273</td>\n",
       "      <td>71.071%</td>\n",
       "    </tr>\n",
       "    <tr>\n",
       "      <th>10</th>\n",
       "      <td>DecisionTreeClassifier_count_vectorizer</td>\n",
       "      <td>0.635694</td>\n",
       "      <td>0.597548</td>\n",
       "      <td>0.576009</td>\n",
       "      <td>0.600560</td>\n",
       "      <td>0.614500</td>\n",
       "      <td>60.571%</td>\n",
       "    </tr>\n",
       "    <tr>\n",
       "      <th>11</th>\n",
       "      <td>DecisionTreeClassifier_tfidf_vectorizer</td>\n",
       "      <td>0.644670</td>\n",
       "      <td>0.611072</td>\n",
       "      <td>0.650376</td>\n",
       "      <td>0.622201</td>\n",
       "      <td>0.637419</td>\n",
       "      <td>63.952%</td>\n",
       "    </tr>\n",
       "    <tr>\n",
       "      <th>12</th>\n",
       "      <td>KNeighborsClassifier_count_vectorizer</td>\n",
       "      <td>0.559986</td>\n",
       "      <td>0.478379</td>\n",
       "      <td>0.572500</td>\n",
       "      <td>0.552867</td>\n",
       "      <td>0.566734</td>\n",
       "      <td>55.381%</td>\n",
       "    </tr>\n",
       "    <tr>\n",
       "      <th>13</th>\n",
       "      <td>KNeighborsClassifier_tfidf_vectorizer</td>\n",
       "      <td>0.598697</td>\n",
       "      <td>0.568273</td>\n",
       "      <td>0.570504</td>\n",
       "      <td>0.597482</td>\n",
       "      <td>0.653403</td>\n",
       "      <td>64.952%</td>\n",
       "    </tr>\n",
       "    <tr>\n",
       "      <th>14</th>\n",
       "      <td>LGBM_count_vectorizer</td>\n",
       "      <td>0.661940</td>\n",
       "      <td>0.679490</td>\n",
       "      <td>0.688103</td>\n",
       "      <td>0.672645</td>\n",
       "      <td>0.717445</td>\n",
       "      <td>70.810%</td>\n",
       "    </tr>\n",
       "    <tr>\n",
       "      <th>15</th>\n",
       "      <td>LGBM_tfidf_vectorizer</td>\n",
       "      <td>0.688837</td>\n",
       "      <td>0.685241</td>\n",
       "      <td>0.676125</td>\n",
       "      <td>0.681337</td>\n",
       "      <td>0.691873</td>\n",
       "      <td>70.976%</td>\n",
       "    </tr>\n",
       "  </tbody>\n",
       "</table>\n",
       "</div>"
      ],
      "text/plain": [
       "                       modelname_vectorType    fold_1    fold_2    fold_3  \\\n",
       "0                      svm_count_vectorizer  0.681246  0.669688  0.676671   \n",
       "1                      svm_tfidf_vectorizer  0.684362  0.670483  0.670439   \n",
       "2      logistic_regression_count_vectorizer  0.690526  0.694939  0.689576   \n",
       "3      logistic_regression_tfidf_vectorizer  0.694953  0.667076  0.686922   \n",
       "4              naive_bayes_count_vectorizer  0.669570  0.672779  0.681108   \n",
       "5              naive_bayes_tfidf_vectorizer  0.639955  0.625476  0.631205   \n",
       "6                      SGD_count_vectorizer  0.663563  0.669770  0.660406   \n",
       "7                      SGD_tfidf_vectorizer  0.701068  0.686178  0.689801   \n",
       "8            random_forest_count_vectorizer  0.672023  0.667098  0.682658   \n",
       "9            random_forest_tfidf_vectorizer  0.689880  0.649892  0.698457   \n",
       "10  DecisionTreeClassifier_count_vectorizer  0.635694  0.597548  0.576009   \n",
       "11  DecisionTreeClassifier_tfidf_vectorizer  0.644670  0.611072  0.650376   \n",
       "12    KNeighborsClassifier_count_vectorizer  0.559986  0.478379  0.572500   \n",
       "13    KNeighborsClassifier_tfidf_vectorizer  0.598697  0.568273  0.570504   \n",
       "14                    LGBM_count_vectorizer  0.661940  0.679490  0.688103   \n",
       "15                    LGBM_tfidf_vectorizer  0.688837  0.685241  0.676125   \n",
       "\n",
       "      fold_4    fold_5 accuracy  \n",
       "0   0.686930  0.684430  71.738%  \n",
       "1   0.670327  0.692210  71.667%  \n",
       "2   0.676607  0.697442  70.190%  \n",
       "3   0.670206  0.715095  71.952%  \n",
       "4   0.675133  0.681927  68.881%  \n",
       "5   0.623044  0.644443  68.810%  \n",
       "6   0.647533  0.674095  66.690%  \n",
       "7   0.677979  0.696219  70.071%  \n",
       "8   0.669502  0.683369  69.476%  \n",
       "9   0.677042  0.683273  71.071%  \n",
       "10  0.600560  0.614500  60.571%  \n",
       "11  0.622201  0.637419  63.952%  \n",
       "12  0.552867  0.566734  55.381%  \n",
       "13  0.597482  0.653403  64.952%  \n",
       "14  0.672645  0.717445  70.810%  \n",
       "15  0.681337  0.691873  70.976%  "
      ]
     },
     "execution_count": 206,
     "metadata": {},
     "output_type": "execute_result"
    }
   ],
   "source": [
    "models_df = pd.DataFrame(all_models)\n",
    "models_df"
   ]
  },
  {
   "cell_type": "code",
   "execution_count": 207,
   "metadata": {
    "gather": {
     "logged": 1634622594821
    }
   },
   "outputs": [
    {
     "data": {
      "text/plain": [
       "'2.4.0'"
      ]
     },
     "execution_count": 207,
     "metadata": {},
     "output_type": "execute_result"
    }
   ],
   "source": [
    "import tensorflow\n",
    "tensorflow.__version__"
   ]
  },
  {
   "cell_type": "markdown",
   "metadata": {},
   "source": [
    "### Word2Vec Embeddings"
   ]
  },
  {
   "cell_type": "code",
   "execution_count": 208,
   "metadata": {},
   "outputs": [
    {
     "data": {
      "text/plain": [
       "array([0, 1, 2], dtype=int64)"
      ]
     },
     "execution_count": 208,
     "metadata": {},
     "output_type": "execute_result"
    }
   ],
   "source": [
    "train[\"label\"].unique()\n",
    "\n",
    "\n"
   ]
  },
  {
   "cell_type": "code",
   "execution_count": 209,
   "metadata": {},
   "outputs": [],
   "source": [
    "labels = tf.keras.utils.to_categorical(train[\"label\"], dtype=\"float32\")"
   ]
  },
  {
   "cell_type": "code",
   "execution_count": 210,
   "metadata": {},
   "outputs": [
    {
     "data": {
      "text/plain": [
       "array([[1., 0., 0.],\n",
       "       [0., 1., 0.],\n",
       "       [0., 1., 0.],\n",
       "       ...,\n",
       "       [0., 1., 0.],\n",
       "       [0., 1., 0.],\n",
       "       [0., 0., 1.]], dtype=float32)"
      ]
     },
     "execution_count": 210,
     "metadata": {},
     "output_type": "execute_result"
    }
   ],
   "source": [
    "labels"
   ]
  },
  {
   "cell_type": "code",
   "execution_count": 211,
   "metadata": {
    "gather": {
     "logged": 1634641599480
    }
   },
   "outputs": [],
   "source": [
    "import gensim.downloader as api\n",
    "from tensorflow.keras.preprocessing.text import Tokenizer\n",
    "from tensorflow.keras.callbacks import EarlyStopping\n",
    "from tensorflow.keras.preprocessing.text import Tokenizer\n",
    "from tensorflow.keras.preprocessing.sequence import pad_sequences\n",
    "from tensorflow.keras.layers import Dense, Input, LSTM, Embedding, Dropout, Activation, Bidirectional,SpatialDropout1D,GRU,Conv1D,MaxPooling1D\n",
    "from tensorflow.keras import initializers, regularizers, constraints, optimizers, layers, Sequential\n",
    "\n",
    "def get_word2vec_enc(corpus:list, vocab_size:int, embedding_size:int, gensim_pretrained_emb:str) -> list:\n",
    "    word_vecs = api.load(gensim_pretrained_emb)\n",
    "    embedding_weights = np.zeros((vocab_size, embedding_size))\n",
    "    for word, i in corpus:\n",
    "        if word in word_vecs:\n",
    "            embedding_weights[i] = word_vecs[word]\n",
    "    return embedding_weights"
   ]
  },
  {
   "cell_type": "code",
   "execution_count": 212,
   "metadata": {},
   "outputs": [
    {
     "name": "stdout",
     "output_type": "stream",
     "text": [
      "[[   0    0    0 ...    5    1   29]\n",
      " [   0    0    0 ...   10 2206 3099]\n",
      " [   0    0    0 ...  274  478  741]\n",
      " ...\n",
      " [   0    0    0 ... 2603 2198   34]\n",
      " [   0    0    0 ...   44   47    1]\n",
      " [   0    0    0 ... 1596   52  173]]\n"
     ]
    }
   ],
   "source": [
    "from tensorflow.keras.models import Sequential\n",
    "from tensorflow.keras import layers\n",
    "from tensorflow.keras.optimizers import RMSprop,Adam\n",
    "from tensorflow.keras.preprocessing.text import Tokenizer\n",
    "from tensorflow.keras.preprocessing.sequence import pad_sequences\n",
    "from tensorflow.keras import regularizers\n",
    "from tensorflow.keras import backend as K\n",
    "from tensorflow.keras.callbacks import ModelCheckpoint\n",
    "max_words = 5000\n",
    "max_len = 200\n",
    "\n",
    "n_epochs = 8\n",
    "tokenizer = Tokenizer(num_words=max_words)\n",
    "tokenizer.fit_on_texts(train[\"clean_data\"].values)\n",
    "sequences = tokenizer.texts_to_sequences(train[\"clean_data\"].values)\n",
    "tweets = pad_sequences(sequences, maxlen=max_len)\n",
    "print(tweets)"
   ]
  },
  {
   "cell_type": "code",
   "execution_count": 213,
   "metadata": {
    "gather": {
     "logged": 1634622892734
    }
   },
   "outputs": [],
   "source": [
    "#n_epochs = 8\n",
    "##embedding_size = 200\n",
    "#max_length = 30\n",
    "#pretrained_embedding_file = \"glove-twitter-200\"\n",
    "\n",
    "\n",
    "#embedding_size = 300\n",
    "#pretrained_embedding_file = \"word2vec-google-news-300\"\n",
    "\n",
    "# tokenizer\n",
    "#tokenizer = Tokenizer(oov_token=\"<unk>\")\n",
    "#tokenizer.fit_on_texts(train[\"clean_data\"].values)\n",
    "#train_tokenized_list = tokenizer.texts_to_sequences(train[\"clean_data\"].values)\n",
    "\n",
    "# store vocab size \n",
    "#vocab_size = len(tokenizer.word_index) + 1\n",
    "\n",
    "# padding sequences\n",
    "#X_padded = pad_sequences(train_tokenized_list, maxlen=max_length)\n",
    "#print (X_padded.shape)\n",
    "\n",
    "# get the pretrained word embeddings and prepare embedding layer\n",
    "#embedding_matrix = get_word2vec_enc(corpus=tokenizer.word_index.items(),\n",
    "#                                    vocab_size=vocab_size,\n",
    "#                                    gensim_pretrained_emb=pretrained_embedding_file)\n",
    "\n",
    "\n",
    "#embedding_layer = Embedding(input_dim=vocab_size,\n",
    "#                            output_dim=embedding_size,\n",
    "#                            weights=[embedding_matrix],\n",
    "#                            input_length=max_length,\n",
    "#                            trainable=False)"
   ]
  },
  {
   "cell_type": "code",
   "execution_count": 214,
   "metadata": {
    "gather": {
     "logged": 1634622893324
    }
   },
   "outputs": [
    {
     "name": "stdout",
     "output_type": "stream",
     "text": [
      "3150 1050 3150 1050\n"
     ]
    }
   ],
   "source": [
    "#Splitting the data\n",
    "X_train, X_test, y_train, y_test = train_test_split(tweets,labels, random_state=0)\n",
    "print (len(X_train),len(X_test),len(y_train),len(y_test))"
   ]
  },
  {
   "cell_type": "code",
   "execution_count": 217,
   "metadata": {
    "gather": {
     "logged": 1634622893700
    }
   },
   "outputs": [],
   "source": [
    "model = Sequential()\n",
    "model.add(Embedding(max_words, 20))\n",
    "model.add(LSTM(15,dropout=0.5))\n",
    "model.add(Dense(3,activation='softmax'))\n",
    "model.compile(optimizer='rmsprop',loss='categorical_crossentropy', metrics=['accuracy'])"
   ]
  },
  {
   "cell_type": "code",
   "execution_count": 218,
   "metadata": {},
   "outputs": [
    {
     "name": "stdout",
     "output_type": "stream",
     "text": [
      " 1/99 [..............................] - ETA: 4:12 - loss: 1.1045 - accuracy: 0.2188WARNING:tensorflow:Can save best model only with val_accuracy available, skipping.\n",
      " 2/99 [..............................] - ETA: 5s - loss: 1.1019 - accuracy: 0.2500  WARNING:tensorflow:Can save best model only with val_accuracy available, skipping.\n",
      " 3/99 [..............................] - ETA: 5s - loss: 1.1001 - accuracy: 0.2917WARNING:tensorflow:Can save best model only with val_accuracy available, skipping.\n",
      " 4/99 [>.............................] - ETA: 5s - loss: 1.0983 - accuracy: 0.3301WARNING:tensorflow:Can save best model only with val_accuracy available, skipping.\n",
      " 5/99 [>.............................] - ETA: 5s - loss: 1.0966 - accuracy: 0.3678WARNING:tensorflow:Can save best model only with val_accuracy available, skipping.\n",
      " 6/99 [>.............................] - ETA: 5s - loss: 1.0949 - accuracy: 0.3968WARNING:tensorflow:Can save best model only with val_accuracy available, skipping.\n",
      " 7/99 [=>............................] - ETA: 5s - loss: 1.0934 - accuracy: 0.4179WARNING:tensorflow:Can save best model only with val_accuracy available, skipping.\n",
      " 8/99 [=>............................] - ETA: 5s - loss: 1.0920 - accuracy: 0.4355WARNING:tensorflow:Can save best model only with val_accuracy available, skipping.\n",
      " 9/99 [=>............................] - ETA: 5s - loss: 1.0905 - accuracy: 0.4508WARNING:tensorflow:Can save best model only with val_accuracy available, skipping.\n",
      "10/99 [==>...........................] - ETA: 5s - loss: 1.0889 - accuracy: 0.4648WARNING:tensorflow:Can save best model only with val_accuracy available, skipping.\n",
      "11/99 [==>...........................] - ETA: 5s - loss: 1.0875 - accuracy: 0.4754WARNING:tensorflow:Can save best model only with val_accuracy available, skipping.\n",
      "12/99 [==>...........................] - ETA: 5s - loss: 1.0861 - accuracy: 0.4840WARNING:tensorflow:Can save best model only with val_accuracy available, skipping.\n",
      "13/99 [==>...........................] - ETA: 5s - loss: 1.0848 - accuracy: 0.4910WARNING:tensorflow:Can save best model only with val_accuracy available, skipping.\n",
      "14/99 [===>..........................] - ETA: 4s - loss: 1.0836 - accuracy: 0.4977WARNING:tensorflow:Can save best model only with val_accuracy available, skipping.\n",
      "15/99 [===>..........................] - ETA: 4s - loss: 1.0822 - accuracy: 0.5041WARNING:tensorflow:Can save best model only with val_accuracy available, skipping.\n",
      "16/99 [===>..........................] - ETA: 4s - loss: 1.0808 - accuracy: 0.5100WARNING:tensorflow:Can save best model only with val_accuracy available, skipping.\n",
      "17/99 [====>.........................] - ETA: 4s - loss: 1.0794 - accuracy: 0.5153WARNING:tensorflow:Can save best model only with val_accuracy available, skipping.\n",
      "18/99 [====>.........................] - ETA: 4s - loss: 1.0780 - accuracy: 0.5199WARNING:tensorflow:Can save best model only with val_accuracy available, skipping.\n",
      "19/99 [====>.........................] - ETA: 4s - loss: 1.0765 - accuracy: 0.5243WARNING:tensorflow:Can save best model only with val_accuracy available, skipping.\n",
      "20/99 [=====>........................] - ETA: 4s - loss: 1.0749 - accuracy: 0.5281WARNING:tensorflow:Can save best model only with val_accuracy available, skipping.\n",
      "21/99 [=====>........................] - ETA: 4s - loss: 1.0731 - accuracy: 0.5319WARNING:tensorflow:Can save best model only with val_accuracy available, skipping.\n",
      "22/99 [=====>........................] - ETA: 4s - loss: 1.0714 - accuracy: 0.5351WARNING:tensorflow:Can save best model only with val_accuracy available, skipping.\n",
      "23/99 [=====>........................] - ETA: 4s - loss: 1.0695 - accuracy: 0.5383WARNING:tensorflow:Can save best model only with val_accuracy available, skipping.\n",
      "24/99 [======>.......................] - ETA: 4s - loss: 1.0675 - accuracy: 0.5414WARNING:tensorflow:Can save best model only with val_accuracy available, skipping.\n",
      "25/99 [======>.......................] - ETA: 4s - loss: 1.0655 - accuracy: 0.5445WARNING:tensorflow:Can save best model only with val_accuracy available, skipping.\n",
      "26/99 [======>.......................] - ETA: 4s - loss: 1.0634 - accuracy: 0.5473WARNING:tensorflow:Can save best model only with val_accuracy available, skipping.\n",
      "27/99 [=======>......................] - ETA: 4s - loss: 1.0613 - accuracy: 0.5499WARNING:tensorflow:Can save best model only with val_accuracy available, skipping.\n",
      "28/99 [=======>......................] - ETA: 4s - loss: 1.0593 - accuracy: 0.5521WARNING:tensorflow:Can save best model only with val_accuracy available, skipping.\n",
      "29/99 [=======>......................] - ETA: 4s - loss: 1.0572 - accuracy: 0.5544WARNING:tensorflow:Can save best model only with val_accuracy available, skipping.\n",
      "30/99 [========>.....................] - ETA: 4s - loss: 1.0551 - accuracy: 0.5565WARNING:tensorflow:Can save best model only with val_accuracy available, skipping.\n",
      "31/99 [========>.....................] - ETA: 4s - loss: 1.0528 - accuracy: 0.5586WARNING:tensorflow:Can save best model only with val_accuracy available, skipping.\n",
      "32/99 [========>.....................] - ETA: 3s - loss: 1.0505 - accuracy: 0.5606WARNING:tensorflow:Can save best model only with val_accuracy available, skipping.\n",
      "33/99 [=========>....................] - ETA: 3s - loss: 1.0482 - accuracy: 0.5625WARNING:tensorflow:Can save best model only with val_accuracy available, skipping.\n",
      "34/99 [=========>....................] - ETA: 3s - loss: 1.0459 - accuracy: 0.5643WARNING:tensorflow:Can save best model only with val_accuracy available, skipping.\n",
      "35/99 [=========>....................] - ETA: 3s - loss: 1.0435 - accuracy: 0.5661WARNING:tensorflow:Can save best model only with val_accuracy available, skipping.\n",
      "36/99 [=========>....................] - ETA: 3s - loss: 1.0412 - accuracy: 0.5677WARNING:tensorflow:Can save best model only with val_accuracy available, skipping.\n",
      "37/99 [==========>...................] - ETA: 3s - loss: 1.0390 - accuracy: 0.5693WARNING:tensorflow:Can save best model only with val_accuracy available, skipping.\n",
      "38/99 [==========>...................] - ETA: 3s - loss: 1.0367 - accuracy: 0.5708WARNING:tensorflow:Can save best model only with val_accuracy available, skipping.\n",
      "39/99 [==========>...................] - ETA: 3s - loss: 1.0345 - accuracy: 0.5723WARNING:tensorflow:Can save best model only with val_accuracy available, skipping.\n",
      "40/99 [===========>..................] - ETA: 3s - loss: 1.0323 - accuracy: 0.5736WARNING:tensorflow:Can save best model only with val_accuracy available, skipping.\n",
      "41/99 [===========>..................] - ETA: 3s - loss: 1.0303 - accuracy: 0.5748WARNING:tensorflow:Can save best model only with val_accuracy available, skipping.\n",
      "42/99 [===========>..................] - ETA: 3s - loss: 1.0283 - accuracy: 0.5758WARNING:tensorflow:Can save best model only with val_accuracy available, skipping.\n",
      "43/99 [============>.................] - ETA: 3s - loss: 1.0263 - accuracy: 0.5769WARNING:tensorflow:Can save best model only with val_accuracy available, skipping.\n",
      "44/99 [============>.................] - ETA: 3s - loss: 1.0244 - accuracy: 0.5779WARNING:tensorflow:Can save best model only with val_accuracy available, skipping.\n",
      "45/99 [============>.................] - ETA: 3s - loss: 1.0224 - accuracy: 0.5788WARNING:tensorflow:Can save best model only with val_accuracy available, skipping.\n",
      "46/99 [============>.................] - ETA: 3s - loss: 1.0204 - accuracy: 0.5797WARNING:tensorflow:Can save best model only with val_accuracy available, skipping.\n",
      "47/99 [=============>................] - ETA: 3s - loss: 1.0185 - accuracy: 0.5805WARNING:tensorflow:Can save best model only with val_accuracy available, skipping.\n",
      "48/99 [=============>................] - ETA: 3s - loss: 1.0167 - accuracy: 0.5812WARNING:tensorflow:Can save best model only with val_accuracy available, skipping.\n",
      "49/99 [=============>................] - ETA: 2s - loss: 1.0150 - accuracy: 0.5819WARNING:tensorflow:Can save best model only with val_accuracy available, skipping.\n",
      "50/99 [==============>...............] - ETA: 2s - loss: 1.0133 - accuracy: 0.5825WARNING:tensorflow:Can save best model only with val_accuracy available, skipping.\n",
      "51/99 [==============>...............] - ETA: 2s - loss: 1.0117 - accuracy: 0.5831WARNING:tensorflow:Can save best model only with val_accuracy available, skipping.\n",
      "52/99 [==============>...............] - ETA: 2s - loss: 1.0101 - accuracy: 0.5837WARNING:tensorflow:Can save best model only with val_accuracy available, skipping.\n",
      "53/99 [===============>..............] - ETA: 2s - loss: 1.0085 - accuracy: 0.5842WARNING:tensorflow:Can save best model only with val_accuracy available, skipping.\n",
      "54/99 [===============>..............] - ETA: 2s - loss: 1.0070 - accuracy: 0.5847WARNING:tensorflow:Can save best model only with val_accuracy available, skipping.\n",
      "55/99 [===============>..............] - ETA: 2s - loss: 1.0054 - accuracy: 0.5851WARNING:tensorflow:Can save best model only with val_accuracy available, skipping.\n",
      "56/99 [===============>..............] - ETA: 2s - loss: 1.0040 - accuracy: 0.5856WARNING:tensorflow:Can save best model only with val_accuracy available, skipping.\n",
      "57/99 [================>.............] - ETA: 2s - loss: 1.0026 - accuracy: 0.5860WARNING:tensorflow:Can save best model only with val_accuracy available, skipping.\n",
      "58/99 [================>.............] - ETA: 2s - loss: 1.0012 - accuracy: 0.5865WARNING:tensorflow:Can save best model only with val_accuracy available, skipping.\n",
      "59/99 [================>.............] - ETA: 2s - loss: 0.9998 - accuracy: 0.5869WARNING:tensorflow:Can save best model only with val_accuracy available, skipping.\n",
      "60/99 [=================>............] - ETA: 2s - loss: 0.9985 - accuracy: 0.5872WARNING:tensorflow:Can save best model only with val_accuracy available, skipping.\n",
      "61/99 [=================>............] - ETA: 2s - loss: 0.9973 - accuracy: 0.5876WARNING:tensorflow:Can save best model only with val_accuracy available, skipping.\n",
      "62/99 [=================>............] - ETA: 2s - loss: 0.9961 - accuracy: 0.5879WARNING:tensorflow:Can save best model only with val_accuracy available, skipping.\n",
      "63/99 [==================>...........] - ETA: 2s - loss: 0.9949 - accuracy: 0.5883WARNING:tensorflow:Can save best model only with val_accuracy available, skipping.\n",
      "64/99 [==================>...........] - ETA: 2s - loss: 0.9937 - accuracy: 0.5886WARNING:tensorflow:Can save best model only with val_accuracy available, skipping.\n",
      "65/99 [==================>...........] - ETA: 2s - loss: 0.9925 - accuracy: 0.5889WARNING:tensorflow:Can save best model only with val_accuracy available, skipping.\n",
      "66/99 [===================>..........] - ETA: 1s - loss: 0.9914 - accuracy: 0.5892WARNING:tensorflow:Can save best model only with val_accuracy available, skipping.\n",
      "67/99 [===================>..........] - ETA: 1s - loss: 0.9903 - accuracy: 0.5895WARNING:tensorflow:Can save best model only with val_accuracy available, skipping.\n",
      "68/99 [===================>..........] - ETA: 1s - loss: 0.9891 - accuracy: 0.5898WARNING:tensorflow:Can save best model only with val_accuracy available, skipping.\n",
      "69/99 [===================>..........] - ETA: 1s - loss: 0.9880 - accuracy: 0.5900WARNING:tensorflow:Can save best model only with val_accuracy available, skipping.\n",
      "70/99 [====================>.........] - ETA: 1s - loss: 0.9869 - accuracy: 0.5903WARNING:tensorflow:Can save best model only with val_accuracy available, skipping.\n",
      "71/99 [====================>.........] - ETA: 1s - loss: 0.9858 - accuracy: 0.5906WARNING:tensorflow:Can save best model only with val_accuracy available, skipping.\n",
      "72/99 [====================>.........] - ETA: 1s - loss: 0.9847 - accuracy: 0.5909WARNING:tensorflow:Can save best model only with val_accuracy available, skipping.\n",
      "73/99 [=====================>........] - ETA: 1s - loss: 0.9836 - accuracy: 0.5912WARNING:tensorflow:Can save best model only with val_accuracy available, skipping.\n",
      "74/99 [=====================>........] - ETA: 1s - loss: 0.9825 - accuracy: 0.5915WARNING:tensorflow:Can save best model only with val_accuracy available, skipping.\n",
      "75/99 [=====================>........] - ETA: 1s - loss: 0.9814 - accuracy: 0.5917WARNING:tensorflow:Can save best model only with val_accuracy available, skipping.\n",
      "76/99 [======================>.......] - ETA: 1s - loss: 0.9804 - accuracy: 0.5919WARNING:tensorflow:Can save best model only with val_accuracy available, skipping.\n",
      "77/99 [======================>.......] - ETA: 1s - loss: 0.9793 - accuracy: 0.5921WARNING:tensorflow:Can save best model only with val_accuracy available, skipping.\n",
      "78/99 [======================>.......] - ETA: 1s - loss: 0.9783 - accuracy: 0.5924WARNING:tensorflow:Can save best model only with val_accuracy available, skipping.\n",
      "79/99 [======================>.......] - ETA: 1s - loss: 0.9773 - accuracy: 0.5926WARNING:tensorflow:Can save best model only with val_accuracy available, skipping.\n",
      "80/99 [=======================>......] - ETA: 1s - loss: 0.9764 - accuracy: 0.5928WARNING:tensorflow:Can save best model only with val_accuracy available, skipping.\n",
      "81/99 [=======================>......] - ETA: 1s - loss: 0.9754 - accuracy: 0.5931WARNING:tensorflow:Can save best model only with val_accuracy available, skipping.\n",
      "82/99 [=======================>......] - ETA: 1s - loss: 0.9745 - accuracy: 0.5933WARNING:tensorflow:Can save best model only with val_accuracy available, skipping.\n",
      "83/99 [========================>.....] - ETA: 0s - loss: 0.9735 - accuracy: 0.5935WARNING:tensorflow:Can save best model only with val_accuracy available, skipping.\n",
      "84/99 [========================>.....] - ETA: 0s - loss: 0.9727 - accuracy: 0.5937WARNING:tensorflow:Can save best model only with val_accuracy available, skipping.\n",
      "85/99 [========================>.....] - ETA: 0s - loss: 0.9718 - accuracy: 0.5939WARNING:tensorflow:Can save best model only with val_accuracy available, skipping.\n",
      "86/99 [=========================>....] - ETA: 0s - loss: 0.9709 - accuracy: 0.5941WARNING:tensorflow:Can save best model only with val_accuracy available, skipping.\n",
      "87/99 [=========================>....] - ETA: 0s - loss: 0.9700 - accuracy: 0.5943WARNING:tensorflow:Can save best model only with val_accuracy available, skipping.\n",
      "88/99 [=========================>....] - ETA: 0s - loss: 0.9692 - accuracy: 0.5944WARNING:tensorflow:Can save best model only with val_accuracy available, skipping.\n",
      "89/99 [=========================>....] - ETA: 0s - loss: 0.9684 - accuracy: 0.5946WARNING:tensorflow:Can save best model only with val_accuracy available, skipping.\n",
      "90/99 [==========================>...] - ETA: 0s - loss: 0.9675 - accuracy: 0.5948WARNING:tensorflow:Can save best model only with val_accuracy available, skipping.\n",
      "91/99 [==========================>...] - ETA: 0s - loss: 0.9667 - accuracy: 0.5949WARNING:tensorflow:Can save best model only with val_accuracy available, skipping.\n",
      "92/99 [==========================>...] - ETA: 0s - loss: 0.9659 - accuracy: 0.5951WARNING:tensorflow:Can save best model only with val_accuracy available, skipping.\n",
      "93/99 [===========================>..] - ETA: 0s - loss: 0.9652 - accuracy: 0.5953WARNING:tensorflow:Can save best model only with val_accuracy available, skipping.\n",
      "94/99 [===========================>..] - ETA: 0s - loss: 0.9644 - accuracy: 0.5954WARNING:tensorflow:Can save best model only with val_accuracy available, skipping.\n",
      "95/99 [===========================>..] - ETA: 0s - loss: 0.9637 - accuracy: 0.5956WARNING:tensorflow:Can save best model only with val_accuracy available, skipping.\n",
      "96/99 [============================>.] - ETA: 0s - loss: 0.9629 - accuracy: 0.5957WARNING:tensorflow:Can save best model only with val_accuracy available, skipping.\n",
      "97/99 [============================>.] - ETA: 0s - loss: 0.9622 - accuracy: 0.5958WARNING:tensorflow:Can save best model only with val_accuracy available, skipping.\n",
      "98/99 [============================>.] - ETA: 0s - loss: 0.9615 - accuracy: 0.5960WARNING:tensorflow:Can save best model only with val_accuracy available, skipping.\n",
      "99/99 [==============================] - ETA: 0s - loss: 0.9608 - accuracy: 0.5961WARNING:tensorflow:Can save best model only with val_accuracy available, skipping.\n",
      "99/99 [==============================] - 10s 74ms/step - loss: 0.9601 - accuracy: 0.5962 - val_loss: 0.8300 - val_accuracy: 0.6105\n"
     ]
    }
   ],
   "source": [
    "#Implementing model checkpoins to save the best metric and do not lose it on training.\n",
    "checkpoint1 = ModelCheckpoint(\"best_lstm_model.hdf5\", monitor='val_accuracy', verbose=1,save_best_only=True, mode='auto', save_freq=1,save_weights_only=False)\n",
    "history = model.fit(X_train, y_train, epochs=1,validation_data=(X_test, y_test),callbacks=[checkpoint1])"
   ]
  },
  {
   "cell_type": "code",
   "execution_count": 116,
   "metadata": {
    "gather": {
     "logged": 1634629849824
    }
   },
   "outputs": [
    {
     "name": "stdout",
     "output_type": "stream",
     "text": [
      "Creating model...\n"
     ]
    },
    {
     "ename": "TypeError",
     "evalue": "Dimension value must be integer or None or have an __index__ method, got value '(4200, 34)' with type '<class 'tuple'>'",
     "output_type": "error",
     "traceback": [
      "\u001b[1;31m---------------------------------------------------------------------------\u001b[0m",
      "\u001b[1;31mTypeError\u001b[0m                                 Traceback (most recent call last)",
      "\u001b[1;32m~\\AppData\\Local\\Temp/ipykernel_21204/57651380.py\u001b[0m in \u001b[0;36m<module>\u001b[1;34m\u001b[0m\n\u001b[0;32m      4\u001b[0m \u001b[1;33m\u001b[0m\u001b[0m\n\u001b[0;32m      5\u001b[0m \u001b[1;31m# train the model\u001b[0m\u001b[1;33m\u001b[0m\u001b[1;33m\u001b[0m\u001b[1;33m\u001b[0m\u001b[0m\n\u001b[1;32m----> 6\u001b[1;33m \u001b[0mclf\u001b[0m \u001b[1;33m=\u001b[0m \u001b[0msimple_LSTM\u001b[0m\u001b[1;33m(\u001b[0m\u001b[0membedding_layer\u001b[0m\u001b[1;33m)\u001b[0m\u001b[1;33m\u001b[0m\u001b[1;33m\u001b[0m\u001b[0m\n\u001b[0m\u001b[0;32m      7\u001b[0m \u001b[0mprint\u001b[0m\u001b[1;33m(\u001b[0m\u001b[0mclf\u001b[0m\u001b[1;33m.\u001b[0m\u001b[0msummary\u001b[0m\u001b[1;33m(\u001b[0m\u001b[1;33m)\u001b[0m\u001b[1;33m)\u001b[0m\u001b[1;33m\u001b[0m\u001b[1;33m\u001b[0m\u001b[0m\n\u001b[0;32m      8\u001b[0m \u001b[1;33m\u001b[0m\u001b[0m\n",
      "\u001b[1;32m~\\AppData\\Local\\Temp/ipykernel_21204/634602982.py\u001b[0m in \u001b[0;36msimple_LSTM\u001b[1;34m(embedding_layer)\u001b[0m\n\u001b[0;32m     13\u001b[0m \u001b[1;33m\u001b[0m\u001b[0m\n\u001b[0;32m     14\u001b[0m     \u001b[0mmodel\u001b[0m \u001b[1;33m=\u001b[0m \u001b[0mSequential\u001b[0m\u001b[1;33m(\u001b[0m\u001b[1;33m)\u001b[0m\u001b[1;33m\u001b[0m\u001b[1;33m\u001b[0m\u001b[0m\n\u001b[1;32m---> 15\u001b[1;33m     \u001b[0mmodel\u001b[0m\u001b[1;33m.\u001b[0m\u001b[0madd\u001b[0m\u001b[1;33m(\u001b[0m\u001b[0membedding_layer\u001b[0m\u001b[1;33m)\u001b[0m\u001b[1;33m\u001b[0m\u001b[1;33m\u001b[0m\u001b[0m\n\u001b[0m\u001b[0;32m     16\u001b[0m     \u001b[0mmodel\u001b[0m\u001b[1;33m.\u001b[0m\u001b[0madd\u001b[0m\u001b[1;33m(\u001b[0m\u001b[0mSpatialDropout1D\u001b[0m\u001b[1;33m(\u001b[0m\u001b[1;36m0.4\u001b[0m\u001b[1;33m)\u001b[0m\u001b[1;33m)\u001b[0m\u001b[1;33m\u001b[0m\u001b[1;33m\u001b[0m\u001b[0m\n\u001b[0;32m     17\u001b[0m     \u001b[0mmodel\u001b[0m\u001b[1;33m.\u001b[0m\u001b[0madd\u001b[0m\u001b[1;33m(\u001b[0m\u001b[0mLSTM\u001b[0m\u001b[1;33m(\u001b[0m\u001b[1;36m256\u001b[0m\u001b[1;33m,\u001b[0m \u001b[0mdropout\u001b[0m \u001b[1;33m=\u001b[0m \u001b[1;36m0.2\u001b[0m\u001b[1;33m)\u001b[0m\u001b[1;33m)\u001b[0m\u001b[1;33m\u001b[0m\u001b[1;33m\u001b[0m\u001b[0m\n",
      "\u001b[1;32m~\\Anaconda3\\lib\\site-packages\\tensorflow\\python\\training\\tracking\\base.py\u001b[0m in \u001b[0;36m_method_wrapper\u001b[1;34m(self, *args, **kwargs)\u001b[0m\n\u001b[0;32m    515\u001b[0m     \u001b[0mself\u001b[0m\u001b[1;33m.\u001b[0m\u001b[0m_self_setattr_tracking\u001b[0m \u001b[1;33m=\u001b[0m \u001b[1;32mFalse\u001b[0m  \u001b[1;31m# pylint: disable=protected-access\u001b[0m\u001b[1;33m\u001b[0m\u001b[1;33m\u001b[0m\u001b[0m\n\u001b[0;32m    516\u001b[0m     \u001b[1;32mtry\u001b[0m\u001b[1;33m:\u001b[0m\u001b[1;33m\u001b[0m\u001b[1;33m\u001b[0m\u001b[0m\n\u001b[1;32m--> 517\u001b[1;33m       \u001b[0mresult\u001b[0m \u001b[1;33m=\u001b[0m \u001b[0mmethod\u001b[0m\u001b[1;33m(\u001b[0m\u001b[0mself\u001b[0m\u001b[1;33m,\u001b[0m \u001b[1;33m*\u001b[0m\u001b[0margs\u001b[0m\u001b[1;33m,\u001b[0m \u001b[1;33m**\u001b[0m\u001b[0mkwargs\u001b[0m\u001b[1;33m)\u001b[0m\u001b[1;33m\u001b[0m\u001b[1;33m\u001b[0m\u001b[0m\n\u001b[0m\u001b[0;32m    518\u001b[0m     \u001b[1;32mfinally\u001b[0m\u001b[1;33m:\u001b[0m\u001b[1;33m\u001b[0m\u001b[1;33m\u001b[0m\u001b[0m\n\u001b[0;32m    519\u001b[0m       \u001b[0mself\u001b[0m\u001b[1;33m.\u001b[0m\u001b[0m_self_setattr_tracking\u001b[0m \u001b[1;33m=\u001b[0m \u001b[0mprevious_value\u001b[0m  \u001b[1;31m# pylint: disable=protected-access\u001b[0m\u001b[1;33m\u001b[0m\u001b[1;33m\u001b[0m\u001b[0m\n",
      "\u001b[1;32m~\\Anaconda3\\lib\\site-packages\\tensorflow\\python\\keras\\engine\\sequential.py\u001b[0m in \u001b[0;36madd\u001b[1;34m(self, layer)\u001b[0m\n\u001b[0;32m    202\u001b[0m           \u001b[1;31m# Instantiate an input layer.\u001b[0m\u001b[1;33m\u001b[0m\u001b[1;33m\u001b[0m\u001b[1;33m\u001b[0m\u001b[0m\n\u001b[0;32m    203\u001b[0m           x = input_layer.Input(\n\u001b[1;32m--> 204\u001b[1;33m               batch_shape=batch_shape, dtype=dtype, name=layer.name + '_input')\n\u001b[0m\u001b[0;32m    205\u001b[0m           \u001b[1;31m# This will build the current layer\u001b[0m\u001b[1;33m\u001b[0m\u001b[1;33m\u001b[0m\u001b[1;33m\u001b[0m\u001b[0m\n\u001b[0;32m    206\u001b[0m           \u001b[1;31m# and create the node connecting the current layer\u001b[0m\u001b[1;33m\u001b[0m\u001b[1;33m\u001b[0m\u001b[1;33m\u001b[0m\u001b[0m\n",
      "\u001b[1;32m~\\Anaconda3\\lib\\site-packages\\tensorflow\\python\\keras\\engine\\input_layer.py\u001b[0m in \u001b[0;36mInput\u001b[1;34m(shape, batch_size, name, dtype, sparse, tensor, ragged, **kwargs)\u001b[0m\n\u001b[0;32m    307\u001b[0m     input_layer_config.update(\n\u001b[0;32m    308\u001b[0m         {'batch_size': batch_size, 'input_shape': shape})\n\u001b[1;32m--> 309\u001b[1;33m   \u001b[0minput_layer\u001b[0m \u001b[1;33m=\u001b[0m \u001b[0mInputLayer\u001b[0m\u001b[1;33m(\u001b[0m\u001b[1;33m**\u001b[0m\u001b[0minput_layer_config\u001b[0m\u001b[1;33m)\u001b[0m\u001b[1;33m\u001b[0m\u001b[1;33m\u001b[0m\u001b[0m\n\u001b[0m\u001b[0;32m    310\u001b[0m \u001b[1;33m\u001b[0m\u001b[0m\n\u001b[0;32m    311\u001b[0m   \u001b[1;31m# Return tensor including `_keras_history`.\u001b[0m\u001b[1;33m\u001b[0m\u001b[1;33m\u001b[0m\u001b[1;33m\u001b[0m\u001b[0m\n",
      "\u001b[1;32m~\\Anaconda3\\lib\\site-packages\\tensorflow\\python\\keras\\engine\\input_layer.py\u001b[0m in \u001b[0;36m__init__\u001b[1;34m(self, input_shape, batch_size, dtype, input_tensor, sparse, name, ragged, **kwargs)\u001b[0m\n\u001b[0;32m    158\u001b[0m             \u001b[0mname\u001b[0m\u001b[1;33m=\u001b[0m\u001b[0mself\u001b[0m\u001b[1;33m.\u001b[0m\u001b[0mname\u001b[0m\u001b[1;33m,\u001b[0m\u001b[1;33m\u001b[0m\u001b[1;33m\u001b[0m\u001b[0m\n\u001b[0;32m    159\u001b[0m             \u001b[0msparse\u001b[0m\u001b[1;33m=\u001b[0m\u001b[0msparse\u001b[0m\u001b[1;33m,\u001b[0m\u001b[1;33m\u001b[0m\u001b[1;33m\u001b[0m\u001b[0m\n\u001b[1;32m--> 160\u001b[1;33m             ragged=ragged)\n\u001b[0m\u001b[0;32m    161\u001b[0m \u001b[1;33m\u001b[0m\u001b[0m\n\u001b[0;32m    162\u001b[0m       \u001b[0mself\u001b[0m\u001b[1;33m.\u001b[0m\u001b[0mis_placeholder\u001b[0m \u001b[1;33m=\u001b[0m \u001b[1;32mTrue\u001b[0m\u001b[1;33m\u001b[0m\u001b[1;33m\u001b[0m\u001b[0m\n",
      "\u001b[1;32m~\\Anaconda3\\lib\\site-packages\\tensorflow\\python\\keras\\backend.py\u001b[0m in \u001b[0;36mplaceholder\u001b[1;34m(shape, ndim, dtype, sparse, name, ragged)\u001b[0m\n\u001b[0;32m   1245\u001b[0m     \u001b[1;32melse\u001b[0m\u001b[1;33m:\u001b[0m\u001b[1;33m\u001b[0m\u001b[1;33m\u001b[0m\u001b[0m\n\u001b[0;32m   1246\u001b[0m       spec = tensor_spec.TensorSpec(\n\u001b[1;32m-> 1247\u001b[1;33m           shape=shape, dtype=dtype, name=name)\n\u001b[0m\u001b[0;32m   1248\u001b[0m       \u001b[0mx\u001b[0m \u001b[1;33m=\u001b[0m \u001b[0mkeras_tensor\u001b[0m\u001b[1;33m.\u001b[0m\u001b[0mKerasTensor\u001b[0m\u001b[1;33m(\u001b[0m\u001b[0mspec\u001b[0m\u001b[1;33m,\u001b[0m \u001b[0mname\u001b[0m\u001b[1;33m=\u001b[0m\u001b[0mname\u001b[0m\u001b[1;33m)\u001b[0m\u001b[1;33m\u001b[0m\u001b[1;33m\u001b[0m\u001b[0m\n\u001b[0;32m   1249\u001b[0m   \u001b[1;32melse\u001b[0m\u001b[1;33m:\u001b[0m\u001b[1;33m\u001b[0m\u001b[1;33m\u001b[0m\u001b[0m\n",
      "\u001b[1;32m~\\Anaconda3\\lib\\site-packages\\tensorflow\\python\\framework\\tensor_spec.py\u001b[0m in \u001b[0;36m__init__\u001b[1;34m(self, shape, dtype, name)\u001b[0m\n\u001b[0;32m     49\u001b[0m         \u001b[1;32mnot\u001b[0m \u001b[0mconvertible\u001b[0m \u001b[0mto\u001b[0m \u001b[0ma\u001b[0m\u001b[0;31m \u001b[0m\u001b[0;31m`\u001b[0m\u001b[0mtf\u001b[0m\u001b[1;33m.\u001b[0m\u001b[0mDType\u001b[0m\u001b[0;31m`\u001b[0m\u001b[1;33m.\u001b[0m\u001b[1;33m\u001b[0m\u001b[1;33m\u001b[0m\u001b[0m\n\u001b[0;32m     50\u001b[0m     \"\"\"\n\u001b[1;32m---> 51\u001b[1;33m     \u001b[0mself\u001b[0m\u001b[1;33m.\u001b[0m\u001b[0m_shape\u001b[0m \u001b[1;33m=\u001b[0m \u001b[0mtensor_shape\u001b[0m\u001b[1;33m.\u001b[0m\u001b[0mTensorShape\u001b[0m\u001b[1;33m(\u001b[0m\u001b[0mshape\u001b[0m\u001b[1;33m)\u001b[0m\u001b[1;33m\u001b[0m\u001b[1;33m\u001b[0m\u001b[0m\n\u001b[0m\u001b[0;32m     52\u001b[0m     \u001b[1;32mtry\u001b[0m\u001b[1;33m:\u001b[0m\u001b[1;33m\u001b[0m\u001b[1;33m\u001b[0m\u001b[0m\n\u001b[0;32m     53\u001b[0m       \u001b[0mself\u001b[0m\u001b[1;33m.\u001b[0m\u001b[0m_shape_tuple\u001b[0m \u001b[1;33m=\u001b[0m \u001b[0mtuple\u001b[0m\u001b[1;33m(\u001b[0m\u001b[0mself\u001b[0m\u001b[1;33m.\u001b[0m\u001b[0mshape\u001b[0m\u001b[1;33m.\u001b[0m\u001b[0mas_list\u001b[0m\u001b[1;33m(\u001b[0m\u001b[1;33m)\u001b[0m\u001b[1;33m)\u001b[0m\u001b[1;33m\u001b[0m\u001b[1;33m\u001b[0m\u001b[0m\n",
      "\u001b[1;32m~\\Anaconda3\\lib\\site-packages\\tensorflow\\python\\framework\\tensor_shape.py\u001b[0m in \u001b[0;36m__init__\u001b[1;34m(self, dims)\u001b[0m\n\u001b[0;32m    756\u001b[0m     \"\"\"\n\u001b[0;32m    757\u001b[0m     \u001b[1;32mif\u001b[0m \u001b[0misinstance\u001b[0m\u001b[1;33m(\u001b[0m\u001b[0mdims\u001b[0m\u001b[1;33m,\u001b[0m \u001b[1;33m(\u001b[0m\u001b[0mtuple\u001b[0m\u001b[1;33m,\u001b[0m \u001b[0mlist\u001b[0m\u001b[1;33m)\u001b[0m\u001b[1;33m)\u001b[0m\u001b[1;33m:\u001b[0m  \u001b[1;31m# Most common case.\u001b[0m\u001b[1;33m\u001b[0m\u001b[1;33m\u001b[0m\u001b[0m\n\u001b[1;32m--> 758\u001b[1;33m       \u001b[0mself\u001b[0m\u001b[1;33m.\u001b[0m\u001b[0m_dims\u001b[0m \u001b[1;33m=\u001b[0m \u001b[1;33m[\u001b[0m\u001b[0mDimension\u001b[0m\u001b[1;33m(\u001b[0m\u001b[0md\u001b[0m\u001b[1;33m)\u001b[0m \u001b[1;32mfor\u001b[0m \u001b[0md\u001b[0m \u001b[1;32min\u001b[0m \u001b[0mdims\u001b[0m\u001b[1;33m]\u001b[0m\u001b[1;33m\u001b[0m\u001b[1;33m\u001b[0m\u001b[0m\n\u001b[0m\u001b[0;32m    759\u001b[0m     \u001b[1;32melif\u001b[0m \u001b[0mdims\u001b[0m \u001b[1;32mis\u001b[0m \u001b[1;32mNone\u001b[0m\u001b[1;33m:\u001b[0m\u001b[1;33m\u001b[0m\u001b[1;33m\u001b[0m\u001b[0m\n\u001b[0;32m    760\u001b[0m       \u001b[0mself\u001b[0m\u001b[1;33m.\u001b[0m\u001b[0m_dims\u001b[0m \u001b[1;33m=\u001b[0m \u001b[1;32mNone\u001b[0m\u001b[1;33m\u001b[0m\u001b[1;33m\u001b[0m\u001b[0m\n",
      "\u001b[1;32m~\\Anaconda3\\lib\\site-packages\\tensorflow\\python\\framework\\tensor_shape.py\u001b[0m in \u001b[0;36m<listcomp>\u001b[1;34m(.0)\u001b[0m\n\u001b[0;32m    756\u001b[0m     \"\"\"\n\u001b[0;32m    757\u001b[0m     \u001b[1;32mif\u001b[0m \u001b[0misinstance\u001b[0m\u001b[1;33m(\u001b[0m\u001b[0mdims\u001b[0m\u001b[1;33m,\u001b[0m \u001b[1;33m(\u001b[0m\u001b[0mtuple\u001b[0m\u001b[1;33m,\u001b[0m \u001b[0mlist\u001b[0m\u001b[1;33m)\u001b[0m\u001b[1;33m)\u001b[0m\u001b[1;33m:\u001b[0m  \u001b[1;31m# Most common case.\u001b[0m\u001b[1;33m\u001b[0m\u001b[1;33m\u001b[0m\u001b[0m\n\u001b[1;32m--> 758\u001b[1;33m       \u001b[0mself\u001b[0m\u001b[1;33m.\u001b[0m\u001b[0m_dims\u001b[0m \u001b[1;33m=\u001b[0m \u001b[1;33m[\u001b[0m\u001b[0mDimension\u001b[0m\u001b[1;33m(\u001b[0m\u001b[0md\u001b[0m\u001b[1;33m)\u001b[0m \u001b[1;32mfor\u001b[0m \u001b[0md\u001b[0m \u001b[1;32min\u001b[0m \u001b[0mdims\u001b[0m\u001b[1;33m]\u001b[0m\u001b[1;33m\u001b[0m\u001b[1;33m\u001b[0m\u001b[0m\n\u001b[0m\u001b[0;32m    759\u001b[0m     \u001b[1;32melif\u001b[0m \u001b[0mdims\u001b[0m \u001b[1;32mis\u001b[0m \u001b[1;32mNone\u001b[0m\u001b[1;33m:\u001b[0m\u001b[1;33m\u001b[0m\u001b[1;33m\u001b[0m\u001b[0m\n\u001b[0;32m    760\u001b[0m       \u001b[0mself\u001b[0m\u001b[1;33m.\u001b[0m\u001b[0m_dims\u001b[0m \u001b[1;33m=\u001b[0m \u001b[1;32mNone\u001b[0m\u001b[1;33m\u001b[0m\u001b[1;33m\u001b[0m\u001b[0m\n",
      "\u001b[1;32m~\\Anaconda3\\lib\\site-packages\\tensorflow\\python\\framework\\tensor_shape.py\u001b[0m in \u001b[0;36m__init__\u001b[1;34m(self, value)\u001b[0m\n\u001b[0;32m    204\u001b[0m             TypeError(\"Dimension value must be integer or None or have \"\n\u001b[0;32m    205\u001b[0m                       \u001b[1;34m\"an __index__ method, got value '{0!r}' with type '{1!r}'\"\u001b[0m\u001b[1;33m\u001b[0m\u001b[1;33m\u001b[0m\u001b[0m\n\u001b[1;32m--> 206\u001b[1;33m                       .format(value, type(value))), None)\n\u001b[0m\u001b[0;32m    207\u001b[0m       \u001b[1;32mif\u001b[0m \u001b[0mself\u001b[0m\u001b[1;33m.\u001b[0m\u001b[0m_value\u001b[0m \u001b[1;33m<\u001b[0m \u001b[1;36m0\u001b[0m\u001b[1;33m:\u001b[0m\u001b[1;33m\u001b[0m\u001b[1;33m\u001b[0m\u001b[0m\n\u001b[0;32m    208\u001b[0m         \u001b[1;32mraise\u001b[0m \u001b[0mValueError\u001b[0m\u001b[1;33m(\u001b[0m\u001b[1;34m\"Dimension %d must be >= 0\"\u001b[0m \u001b[1;33m%\u001b[0m \u001b[0mself\u001b[0m\u001b[1;33m.\u001b[0m\u001b[0m_value\u001b[0m\u001b[1;33m)\u001b[0m\u001b[1;33m\u001b[0m\u001b[1;33m\u001b[0m\u001b[0m\n",
      "\u001b[1;32m~\\Anaconda3\\lib\\site-packages\\six.py\u001b[0m in \u001b[0;36mraise_from\u001b[1;34m(value, from_value)\u001b[0m\n",
      "\u001b[1;31mTypeError\u001b[0m: Dimension value must be integer or None or have an __index__ method, got value '(4200, 34)' with type '<class 'tuple'>'"
     ]
    }
   ],
   "source": [
    "\n",
    "# stratified kfold with LSTM \n",
    "model_dict = {}\n",
    "model_dict[\"modelname_vectorType\"] = \"lstm_word_2_vec\"\n",
    "\n",
    "# train the model\n",
    "clf = simple_LSTM(embedding_layer)\n",
    "print(clf.summary())\n",
    "    \n",
    "for fold, (train_idx, val_idx) in enumerate(skf.split(X=X_padded, y=y)):\n",
    "    print(f\"\\nCurrently Training: {model_dict['modelname_vectorType']}... Fold: {fold+1}\")\n",
    "    X_train, X_val = X_padded[train_idx], X_padded[val_idx]\n",
    "    y_train, y_val = y[train_idx], y[val_idx]\n",
    "     \n",
    "    clf.fit(X_train,\n",
    "            y_train,\n",
    "            epochs=n_epochs,\n",
    "            verbose=1)\n",
    "    # make predictions\n",
    "    y_preds = clf.predict_classes(X_val, verbose=-1)\n",
    "    #y_preds = np.argmax(clf.predict(X_val), axis=-1)\n",
    "    model_dict[\"fold_{}\".format(fold+1)] = f1_score(y_val, y_preds,average='weighted')\n",
    "    print(model_dict)\n",
    "  \n",
    "# adding results to models df\n",
    "new_model = pd.DataFrame(model_dict, columns=models_df.columns, index=[0])\n",
    "models_df = pd.concat([models_df, new_model], ignore_index=True)"
   ]
  },
  {
   "cell_type": "code",
   "execution_count": 219,
   "metadata": {},
   "outputs": [
    {
     "name": "stdout",
     "output_type": "stream",
     "text": [
      " 1/99 [..............................] - ETA: 6:44 - loss: 1.0905 - accuracy: 0.5312WARNING:tensorflow:Can save best model only with val_accuracy available, skipping.\n",
      " 2/99 [..............................] - ETA: 7s - loss: 1.0848 - accuracy: 0.5391  WARNING:tensorflow:Can save best model only with val_accuracy available, skipping.\n",
      " 3/99 [..............................] - ETA: 6s - loss: 1.0821 - accuracy: 0.5260WARNING:tensorflow:Can save best model only with val_accuracy available, skipping.\n",
      " 4/99 [>.............................] - ETA: 6s - loss: 1.0786 - accuracy: 0.5234WARNING:tensorflow:Can save best model only with val_accuracy available, skipping.\n",
      " 5/99 [>.............................] - ETA: 6s - loss: 1.0744 - accuracy: 0.5263WARNING:tensorflow:Can save best model only with val_accuracy available, skipping.\n",
      " 6/99 [>.............................] - ETA: 5s - loss: 1.0701 - accuracy: 0.5306WARNING:tensorflow:Can save best model only with val_accuracy available, skipping.\n",
      " 7/99 [=>............................] - ETA: 6s - loss: 1.0655 - accuracy: 0.5338WARNING:tensorflow:Can save best model only with val_accuracy available, skipping.\n",
      " 8/99 [=>............................] - ETA: 5s - loss: 1.0604 - accuracy: 0.5384WARNING:tensorflow:Can save best model only with val_accuracy available, skipping.\n",
      " 9/99 [=>............................] - ETA: 5s - loss: 1.0552 - accuracy: 0.5426WARNING:tensorflow:Can save best model only with val_accuracy available, skipping.\n",
      "10/99 [==>...........................] - ETA: 5s - loss: 1.0497 - accuracy: 0.5468WARNING:tensorflow:Can save best model only with val_accuracy available, skipping.\n",
      "11/99 [==>...........................] - ETA: 5s - loss: 1.0442 - accuracy: 0.5498WARNING:tensorflow:Can save best model only with val_accuracy available, skipping.\n",
      "12/99 [==>...........................] - ETA: 5s - loss: 1.0396 - accuracy: 0.5513WARNING:tensorflow:Can save best model only with val_accuracy available, skipping.\n",
      "13/99 [==>...........................] - ETA: 5s - loss: 1.0353 - accuracy: 0.5527WARNING:tensorflow:Can save best model only with val_accuracy available, skipping.\n",
      "14/99 [===>..........................] - ETA: 5s - loss: 1.0315 - accuracy: 0.5535WARNING:tensorflow:Can save best model only with val_accuracy available, skipping.\n",
      "15/99 [===>..........................] - ETA: 5s - loss: 1.0273 - accuracy: 0.5550WARNING:tensorflow:Can save best model only with val_accuracy available, skipping.\n",
      "16/99 [===>..........................] - ETA: 5s - loss: 1.0229 - accuracy: 0.5568WARNING:tensorflow:Can save best model only with val_accuracy available, skipping.\n",
      "17/99 [====>.........................] - ETA: 5s - loss: 1.0185 - accuracy: 0.5586WARNING:tensorflow:Can save best model only with val_accuracy available, skipping.\n",
      "18/99 [====>.........................] - ETA: 5s - loss: 1.0144 - accuracy: 0.5607WARNING:tensorflow:Can save best model only with val_accuracy available, skipping.\n",
      "19/99 [====>.........................] - ETA: 4s - loss: 1.0104 - accuracy: 0.5626WARNING:tensorflow:Can save best model only with val_accuracy available, skipping.\n",
      "20/99 [=====>........................] - ETA: 4s - loss: 1.0064 - accuracy: 0.5644WARNING:tensorflow:Can save best model only with val_accuracy available, skipping.\n",
      "21/99 [=====>........................] - ETA: 4s - loss: 1.0027 - accuracy: 0.5660WARNING:tensorflow:Can save best model only with val_accuracy available, skipping.\n",
      "22/99 [=====>........................] - ETA: 4s - loss: 0.9987 - accuracy: 0.5678WARNING:tensorflow:Can save best model only with val_accuracy available, skipping.\n",
      "23/99 [=====>........................] - ETA: 4s - loss: 0.9950 - accuracy: 0.5694WARNING:tensorflow:Can save best model only with val_accuracy available, skipping.\n",
      "24/99 [======>.......................] - ETA: 4s - loss: 0.9914 - accuracy: 0.5709WARNING:tensorflow:Can save best model only with val_accuracy available, skipping.\n",
      "25/99 [======>.......................] - ETA: 4s - loss: 0.9881 - accuracy: 0.5724WARNING:tensorflow:Can save best model only with val_accuracy available, skipping.\n",
      "26/99 [======>.......................] - ETA: 4s - loss: 0.9848 - accuracy: 0.5739WARNING:tensorflow:Can save best model only with val_accuracy available, skipping.\n",
      "27/99 [=======>......................] - ETA: 4s - loss: 0.9814 - accuracy: 0.5755WARNING:tensorflow:Can save best model only with val_accuracy available, skipping.\n",
      "28/99 [=======>......................] - ETA: 4s - loss: 0.9780 - accuracy: 0.5770WARNING:tensorflow:Can save best model only with val_accuracy available, skipping.\n",
      "29/99 [=======>......................] - ETA: 4s - loss: 0.9747 - accuracy: 0.5787WARNING:tensorflow:Can save best model only with val_accuracy available, skipping.\n",
      "30/99 [========>.....................] - ETA: 4s - loss: 0.9719 - accuracy: 0.5800WARNING:tensorflow:Can save best model only with val_accuracy available, skipping.\n",
      "31/99 [========>.....................] - ETA: 4s - loss: 0.9691 - accuracy: 0.5813WARNING:tensorflow:Can save best model only with val_accuracy available, skipping.\n",
      "32/99 [========>.....................] - ETA: 4s - loss: 0.9663 - accuracy: 0.5825WARNING:tensorflow:Can save best model only with val_accuracy available, skipping.\n",
      "33/99 [=========>....................] - ETA: 4s - loss: 0.9635 - accuracy: 0.5838WARNING:tensorflow:Can save best model only with val_accuracy available, skipping.\n",
      "34/99 [=========>....................] - ETA: 4s - loss: 0.9606 - accuracy: 0.5852WARNING:tensorflow:Can save best model only with val_accuracy available, skipping.\n",
      "35/99 [=========>....................] - ETA: 4s - loss: 0.9577 - accuracy: 0.5866WARNING:tensorflow:Can save best model only with val_accuracy available, skipping.\n",
      "36/99 [=========>....................] - ETA: 3s - loss: 0.9549 - accuracy: 0.5879WARNING:tensorflow:Can save best model only with val_accuracy available, skipping.\n",
      "37/99 [==========>...................] - ETA: 3s - loss: 0.9522 - accuracy: 0.5892WARNING:tensorflow:Can save best model only with val_accuracy available, skipping.\n",
      "38/99 [==========>...................] - ETA: 3s - loss: 0.9495 - accuracy: 0.5905WARNING:tensorflow:Can save best model only with val_accuracy available, skipping.\n",
      "39/99 [==========>...................] - ETA: 3s - loss: 0.9470 - accuracy: 0.5916WARNING:tensorflow:Can save best model only with val_accuracy available, skipping.\n",
      "40/99 [===========>..................] - ETA: 3s - loss: 0.9446 - accuracy: 0.5927WARNING:tensorflow:Can save best model only with val_accuracy available, skipping.\n",
      "41/99 [===========>..................] - ETA: 3s - loss: 0.9423 - accuracy: 0.5938WARNING:tensorflow:Can save best model only with val_accuracy available, skipping.\n",
      "42/99 [===========>..................] - ETA: 3s - loss: 0.9400 - accuracy: 0.5948WARNING:tensorflow:Can save best model only with val_accuracy available, skipping.\n",
      "43/99 [============>.................] - ETA: 3s - loss: 0.9378 - accuracy: 0.5958WARNING:tensorflow:Can save best model only with val_accuracy available, skipping.\n",
      "44/99 [============>.................] - ETA: 3s - loss: 0.9358 - accuracy: 0.5966WARNING:tensorflow:Can save best model only with val_accuracy available, skipping.\n",
      "45/99 [============>.................] - ETA: 3s - loss: 0.9339 - accuracy: 0.5973WARNING:tensorflow:Can save best model only with val_accuracy available, skipping.\n",
      "46/99 [============>.................] - ETA: 3s - loss: 0.9321 - accuracy: 0.5980WARNING:tensorflow:Can save best model only with val_accuracy available, skipping.\n",
      "47/99 [=============>................] - ETA: 3s - loss: 0.9304 - accuracy: 0.5986WARNING:tensorflow:Can save best model only with val_accuracy available, skipping.\n",
      "48/99 [=============>................] - ETA: 3s - loss: 0.9287 - accuracy: 0.5991WARNING:tensorflow:Can save best model only with val_accuracy available, skipping.\n",
      "49/99 [=============>................] - ETA: 3s - loss: 0.9272 - accuracy: 0.5995WARNING:tensorflow:Can save best model only with val_accuracy available, skipping.\n",
      "50/99 [==============>...............] - ETA: 3s - loss: 0.9257 - accuracy: 0.6000WARNING:tensorflow:Can save best model only with val_accuracy available, skipping.\n",
      "51/99 [==============>...............] - ETA: 3s - loss: 0.9243 - accuracy: 0.6004WARNING:tensorflow:Can save best model only with val_accuracy available, skipping.\n",
      "52/99 [==============>...............] - ETA: 2s - loss: 0.9229 - accuracy: 0.6008WARNING:tensorflow:Can save best model only with val_accuracy available, skipping.\n",
      "53/99 [===============>..............] - ETA: 2s - loss: 0.9216 - accuracy: 0.6013WARNING:tensorflow:Can save best model only with val_accuracy available, skipping.\n",
      "54/99 [===============>..............] - ETA: 2s - loss: 0.9203 - accuracy: 0.6016WARNING:tensorflow:Can save best model only with val_accuracy available, skipping.\n",
      "55/99 [===============>..............] - ETA: 2s - loss: 0.9191 - accuracy: 0.6020WARNING:tensorflow:Can save best model only with val_accuracy available, skipping.\n",
      "56/99 [===============>..............] - ETA: 2s - loss: 0.9179 - accuracy: 0.6023WARNING:tensorflow:Can save best model only with val_accuracy available, skipping.\n",
      "57/99 [================>.............] - ETA: 2s - loss: 0.9168 - accuracy: 0.6026WARNING:tensorflow:Can save best model only with val_accuracy available, skipping.\n",
      "58/99 [================>.............] - ETA: 2s - loss: 0.9157 - accuracy: 0.6029WARNING:tensorflow:Can save best model only with val_accuracy available, skipping.\n",
      "59/99 [================>.............] - ETA: 2s - loss: 0.9146 - accuracy: 0.6032WARNING:tensorflow:Can save best model only with val_accuracy available, skipping.\n",
      "60/99 [=================>............] - ETA: 2s - loss: 0.9135 - accuracy: 0.6034WARNING:tensorflow:Can save best model only with val_accuracy available, skipping.\n",
      "61/99 [=================>............] - ETA: 2s - loss: 0.9125 - accuracy: 0.6037WARNING:tensorflow:Can save best model only with val_accuracy available, skipping.\n",
      "62/99 [=================>............] - ETA: 2s - loss: 0.9115 - accuracy: 0.6039WARNING:tensorflow:Can save best model only with val_accuracy available, skipping.\n",
      "63/99 [==================>...........] - ETA: 2s - loss: 0.9105 - accuracy: 0.6042WARNING:tensorflow:Can save best model only with val_accuracy available, skipping.\n",
      "64/99 [==================>...........] - ETA: 2s - loss: 0.9096 - accuracy: 0.6045WARNING:tensorflow:Can save best model only with val_accuracy available, skipping.\n",
      "65/99 [==================>...........] - ETA: 2s - loss: 0.9087 - accuracy: 0.6047WARNING:tensorflow:Can save best model only with val_accuracy available, skipping.\n",
      "66/99 [===================>..........] - ETA: 2s - loss: 0.9078 - accuracy: 0.6050WARNING:tensorflow:Can save best model only with val_accuracy available, skipping.\n",
      "67/99 [===================>..........] - ETA: 2s - loss: 0.9069 - accuracy: 0.6053WARNING:tensorflow:Can save best model only with val_accuracy available, skipping.\n",
      "68/99 [===================>..........] - ETA: 1s - loss: 0.9061 - accuracy: 0.6055WARNING:tensorflow:Can save best model only with val_accuracy available, skipping.\n",
      "69/99 [===================>..........] - ETA: 1s - loss: 0.9054 - accuracy: 0.6057WARNING:tensorflow:Can save best model only with val_accuracy available, skipping.\n",
      "70/99 [====================>.........] - ETA: 1s - loss: 0.9046 - accuracy: 0.6059WARNING:tensorflow:Can save best model only with val_accuracy available, skipping.\n",
      "71/99 [====================>.........] - ETA: 1s - loss: 0.9039 - accuracy: 0.6061WARNING:tensorflow:Can save best model only with val_accuracy available, skipping.\n",
      "72/99 [====================>.........] - ETA: 1s - loss: 0.9032 - accuracy: 0.6063WARNING:tensorflow:Can save best model only with val_accuracy available, skipping.\n",
      "73/99 [=====================>........] - ETA: 1s - loss: 0.9026 - accuracy: 0.6064WARNING:tensorflow:Can save best model only with val_accuracy available, skipping.\n",
      "74/99 [=====================>........] - ETA: 1s - loss: 0.9019 - accuracy: 0.6066WARNING:tensorflow:Can save best model only with val_accuracy available, skipping.\n",
      "75/99 [=====================>........] - ETA: 1s - loss: 0.9013 - accuracy: 0.6068WARNING:tensorflow:Can save best model only with val_accuracy available, skipping.\n",
      "76/99 [======================>.......] - ETA: 1s - loss: 0.9006 - accuracy: 0.6070WARNING:tensorflow:Can save best model only with val_accuracy available, skipping.\n",
      "77/99 [======================>.......] - ETA: 1s - loss: 0.8999 - accuracy: 0.6071WARNING:tensorflow:Can save best model only with val_accuracy available, skipping.\n",
      "78/99 [======================>.......] - ETA: 1s - loss: 0.8993 - accuracy: 0.6073WARNING:tensorflow:Can save best model only with val_accuracy available, skipping.\n",
      "79/99 [======================>.......] - ETA: 1s - loss: 0.8987 - accuracy: 0.6075WARNING:tensorflow:Can save best model only with val_accuracy available, skipping.\n",
      "80/99 [=======================>......] - ETA: 1s - loss: 0.8981 - accuracy: 0.6077WARNING:tensorflow:Can save best model only with val_accuracy available, skipping.\n",
      "81/99 [=======================>......] - ETA: 1s - loss: 0.8975 - accuracy: 0.6078WARNING:tensorflow:Can save best model only with val_accuracy available, skipping.\n",
      "82/99 [=======================>......] - ETA: 1s - loss: 0.8970 - accuracy: 0.6079WARNING:tensorflow:Can save best model only with val_accuracy available, skipping.\n",
      "83/99 [========================>.....] - ETA: 1s - loss: 0.8965 - accuracy: 0.6080WARNING:tensorflow:Can save best model only with val_accuracy available, skipping.\n",
      "84/99 [========================>.....] - ETA: 0s - loss: 0.8960 - accuracy: 0.6081WARNING:tensorflow:Can save best model only with val_accuracy available, skipping.\n",
      "85/99 [========================>.....] - ETA: 0s - loss: 0.8955 - accuracy: 0.6082WARNING:tensorflow:Can save best model only with val_accuracy available, skipping.\n",
      "86/99 [=========================>....] - ETA: 0s - loss: 0.8950 - accuracy: 0.6083WARNING:tensorflow:Can save best model only with val_accuracy available, skipping.\n",
      "87/99 [=========================>....] - ETA: 0s - loss: 0.8946 - accuracy: 0.6084WARNING:tensorflow:Can save best model only with val_accuracy available, skipping.\n",
      "88/99 [=========================>....] - ETA: 0s - loss: 0.8941 - accuracy: 0.6084WARNING:tensorflow:Can save best model only with val_accuracy available, skipping.\n",
      "89/99 [=========================>....] - ETA: 0s - loss: 0.8936 - accuracy: 0.6085WARNING:tensorflow:Can save best model only with val_accuracy available, skipping.\n",
      "90/99 [==========================>...] - ETA: 0s - loss: 0.8932 - accuracy: 0.6086WARNING:tensorflow:Can save best model only with val_accuracy available, skipping.\n",
      "91/99 [==========================>...] - ETA: 0s - loss: 0.8927 - accuracy: 0.6087WARNING:tensorflow:Can save best model only with val_accuracy available, skipping.\n",
      "92/99 [==========================>...] - ETA: 0s - loss: 0.8922 - accuracy: 0.6088WARNING:tensorflow:Can save best model only with val_accuracy available, skipping.\n",
      "93/99 [===========================>..] - ETA: 0s - loss: 0.8918 - accuracy: 0.6089WARNING:tensorflow:Can save best model only with val_accuracy available, skipping.\n",
      "94/99 [===========================>..] - ETA: 0s - loss: 0.8913 - accuracy: 0.6090WARNING:tensorflow:Can save best model only with val_accuracy available, skipping.\n",
      "95/99 [===========================>..] - ETA: 0s - loss: 0.8909 - accuracy: 0.6091WARNING:tensorflow:Can save best model only with val_accuracy available, skipping.\n",
      "96/99 [============================>.] - ETA: 0s - loss: 0.8904 - accuracy: 0.6092WARNING:tensorflow:Can save best model only with val_accuracy available, skipping.\n",
      "97/99 [============================>.] - ETA: 0s - loss: 0.8900 - accuracy: 0.6093WARNING:tensorflow:Can save best model only with val_accuracy available, skipping.\n",
      "98/99 [============================>.] - ETA: 0s - loss: 0.8896 - accuracy: 0.6093WARNING:tensorflow:Can save best model only with val_accuracy available, skipping.\n",
      "99/99 [==============================] - ETA: 0s - loss: 0.8892 - accuracy: 0.6094WARNING:tensorflow:Can save best model only with val_accuracy available, skipping.\n",
      "99/99 [==============================] - 12s 81ms/step - loss: 0.8888 - accuracy: 0.6095 - val_loss: 0.8299 - val_accuracy: 0.6105\n"
     ]
    }
   ],
   "source": [
    "model2 = Sequential()\n",
    "model2.add(layers.Embedding(max_words, 40, input_length=max_len))\n",
    "model2.add(layers.Bidirectional(layers.LSTM(20,dropout=0.6)))\n",
    "model2.add(layers.Dense(3,activation='softmax'))\n",
    "model2.compile(optimizer='rmsprop',loss='categorical_crossentropy', metrics=['accuracy'])\n",
    "#Implementing model checkpoins to save the best metric and do not lose it on training.\n",
    "#model2 = keras.models.load_model('./best_model2.hdf5')\n",
    "checkpoint2 = ModelCheckpoint(\"bi_lstm_best_model2.hdf5\", monitor='val_accuracy', verbose=1,save_best_only=True, mode='auto', save_freq=1,save_weights_only=False)\n",
    "history = model2.fit(X_train, y_train, epochs=1,validation_data=(X_test, y_test),callbacks=[checkpoint2])"
   ]
  },
  {
   "cell_type": "code",
   "execution_count": null,
   "metadata": {
    "collapsed": false,
    "gather": {
     "logged": 1634629850606
    },
    "jupyter": {
     "outputs_hidden": false,
     "source_hidden": false
    },
    "nteract": {
     "transient": {
      "deleting": false
     }
    }
   },
   "outputs": [],
   "source": [
    "models_df"
   ]
  },
  {
   "cell_type": "markdown",
   "metadata": {},
   "source": [
    "### Bi-Directional RNN's"
   ]
  },
  {
   "cell_type": "code",
   "execution_count": null,
   "metadata": {
    "gather": {
     "logged": 1634629851070
    }
   },
   "outputs": [],
   "source": [
    "def bi_LSTM(embedding_layer):\n",
    "    print('Creating model...')\n",
    "    model = Sequential()\n",
    "    model.add(embedding_layer)\n",
    "    model.add(Bidirectional(LSTM(units=64, dropout=0.1,  recurrent_dropout=0.1)))\n",
    "    model.add(Dense(50, kernel_regularizer=regularizers.l2(0.001), activation=\"relu\"))\n",
    "    model.add(Dropout(0.1))\n",
    "    model.add(Dense(1, activation = \"sigmoid\"))\n",
    "\n",
    "    print('Compiling...')\n",
    "    model.compile(loss='binary_crossentropy',\n",
    "                  optimizer='adam',\n",
    "                  metrics=[\"accuracy\"])\n",
    "    return model\n",
    "  "
   ]
  },
  {
   "cell_type": "code",
   "execution_count": null,
   "metadata": {
    "gather": {
     "logged": 1634626148708
    }
   },
   "outputs": [],
   "source": [
    "    \n",
    "# stratified kfold with LSTM \n",
    "model_dict = {}\n",
    "model_dict[\"modelname_vectorType\"] = \"bi_lstm_word_2_vec\"\n",
    "\n",
    "# train the model\n",
    "clf = bi_LSTM(embedding_layer)\n",
    "print(clf.summary())\n",
    "    \n",
    "for fold, (train_idx, val_idx) in enumerate(skf.split(X=X_padded, y=y)):\n",
    "    print(f\"\\nCurrently Training: {model_dict['modelname_vectorType']}... Fold: {fold+1}\")\n",
    "    X_train, X_val = X_padded[train_idx], X_padded[val_idx]\n",
    "    y_train, y_val = y[train_idx], y[val_idx]\n",
    "     \n",
    "    # initializing early stopping \n",
    "    early_stopping = EarlyStopping(monitor='loss', patience=3)\n",
    "\n",
    "    # training model\n",
    "    clf.fit(X_train,\n",
    "            y_train,\n",
    "            epochs=n_epochs,\n",
    "            callbacks=[early_stopping],\n",
    "            verbose=1)\n",
    "    # make predictions\n",
    "    y_preds=clf.predict(X_val) \n",
    "    #y_preds=np.argmax(y_preds,axis=1)\n",
    "    #classes_x=np.argmax(predict_x,axis=1)\n",
    "    model_dict[\"fold_{}\".format(fold+1)] = f1_score(y_val, y_preds,average='weighted')\n",
    "        \n",
    "# adding results to models df\n",
    "new_model = pd.DataFrame(model_dict, columns=models_df.columns, index=[0])\n",
    "models_df = pd.concat([models_df, new_model], ignore_index=True)"
   ]
  },
  {
   "cell_type": "code",
   "execution_count": null,
   "metadata": {
    "gather": {
     "logged": 1634626149659
    }
   },
   "outputs": [],
   "source": [
    "models_df[\"avg\"] = 100*(models_df.loc[:, \"fold_1\":\"fold_5\"].sum(axis=1)/5)\n",
    "models_df"
   ]
  },
  {
   "cell_type": "code",
   "execution_count": null,
   "metadata": {
    "gather": {
     "logged": 1634626150313
    }
   },
   "outputs": [],
   "source": [
    "# transposing the dataframe\n",
    "model_names = models_df[\"modelname_vectorType\"].values\n",
    "model_names_mappings = dict(zip(range(0, len(model_names)), model_names))\n",
    "transpose_models_df = models_df.loc[:, \"fold_1\":\"fold_5\"].T.rename(columns=model_names_mappings)\n",
    "\n",
    "x = transpose_models_df.index\n",
    "fig, ax = plt.subplots(figsize=(10,8))\n",
    "\n",
    "for model in transpose_models_df.columns:\n",
    "    plt.plot(x, transpose_models_df[model], label=model)\n",
    "plt.title(\"Model Performances\", size=20, weight=\"bold\")\n",
    "plt.xlabel(\"Folds\", size=14, weight=\"bold\")\n",
    "plt.ylabel(\"F1 Score\", size=14, weight=\"bold\")\n",
    "plt.legend(title=\"Models\", bbox_to_anchor=(1.05, 1), loc=\"upper left\")\n",
    "plt.show()"
   ]
  },
  {
   "cell_type": "markdown",
   "metadata": {},
   "source": [
    "## GRU "
   ]
  },
  {
   "cell_type": "code",
   "execution_count": 68,
   "metadata": {},
   "outputs": [],
   "source": [
    "def simple_GRU(embedding_layer):\n",
    "    print('Creating model...')\n",
    "    model = Sequential()\n",
    "    model.add(embedding_layer)\n",
    "    model.add(GRU(units=64,  dropout=0.2, recurrent_dropout=0.2))\n",
    "    model.add(Dense(1, activation='sigmoid'))\n",
    "    # try using different optimizers and different optimizer configs\n",
    "    model.compile(loss='binary_crossentropy', optimizer='rmsprop', metrics=['accuracy'])\n",
    "    return model"
   ]
  },
  {
   "cell_type": "code",
   "execution_count": 69,
   "metadata": {},
   "outputs": [
    {
     "name": "stdout",
     "output_type": "stream",
     "text": [
      "Creating model...\n",
      "Model: \"sequential_13\"\n",
      "_________________________________________________________________\n",
      "Layer (type)                 Output Shape              Param #   \n",
      "=================================================================\n",
      "embedding (Embedding)        (None, 202, 200)          1225000   \n",
      "_________________________________________________________________\n",
      "gru_16 (GRU)                 (None, 64)                51072     \n",
      "_________________________________________________________________\n",
      "dense_14 (Dense)             (None, 1)                 65        \n",
      "=================================================================\n",
      "Total params: 1,276,137\n",
      "Trainable params: 51,137\n",
      "Non-trainable params: 1,225,000\n",
      "_________________________________________________________________\n",
      "None\n",
      "\n",
      "Currently Training: GRU_word_2_vec... Fold: 1\n",
      "Epoch 1/8\n",
      "105/105 [==============================] - 38s 341ms/step - loss: -10.6115 - accuracy: 0.0623\n",
      "Epoch 2/8\n",
      "105/105 [==============================] - 35s 330ms/step - loss: -24.4530 - accuracy: 0.0637\n",
      "Epoch 3/8\n",
      "105/105 [==============================] - 31s 296ms/step - loss: -32.5166 - accuracy: 0.0653\n",
      "Epoch 4/8\n",
      "105/105 [==============================] - 36s 343ms/step - loss: -41.7150 - accuracy: 0.0600\n",
      "Epoch 5/8\n",
      "105/105 [==============================] - 26s 246ms/step - loss: -50.0834 - accuracy: 0.0616\n",
      "Epoch 6/8\n",
      "105/105 [==============================] - 21s 200ms/step - loss: -58.2902 - accuracy: 0.0657\n",
      "Epoch 7/8\n",
      "105/105 [==============================] - 31s 298ms/step - loss: -66.8485 - accuracy: 0.0626\n",
      "Epoch 8/8\n",
      "105/105 [==============================] - 29s 280ms/step - loss: -75.6120 - accuracy: 0.0583\n",
      "\n",
      "Currently Training: GRU_word_2_vec... Fold: 2\n",
      "Epoch 1/8\n",
      "105/105 [==============================] - 41s 395ms/step - loss: -86.4426 - accuracy: 0.0625\n",
      "Epoch 2/8\n",
      "105/105 [==============================] - 37s 356ms/step - loss: -94.9892 - accuracy: 0.0625\n",
      "Epoch 3/8\n",
      "105/105 [==============================] - 47s 452ms/step - loss: -103.5576 - accuracy: 0.0625\n",
      "Epoch 4/8\n",
      "105/105 [==============================] - 45s 434ms/step - loss: -112.1079 - accuracy: 0.0625\n",
      "Epoch 5/8\n",
      "105/105 [==============================] - 42s 399ms/step - loss: -120.7223 - accuracy: 0.0625\n",
      "Epoch 6/8\n",
      "105/105 [==============================] - 44s 419ms/step - loss: -129.2569 - accuracy: 0.0625\n",
      "Epoch 7/8\n",
      "105/105 [==============================] - 40s 377ms/step - loss: -137.8207 - accuracy: 0.0625\n",
      "Epoch 8/8\n",
      "105/105 [==============================] - 46s 440ms/step - loss: -146.3776 - accuracy: 0.0625\n",
      "\n",
      "Currently Training: GRU_word_2_vec... Fold: 3\n",
      "Epoch 1/8\n",
      "105/105 [==============================] - 50s 477ms/step - loss: -154.9301 - accuracy: 0.0625\n",
      "Epoch 2/8\n",
      "105/105 [==============================] - 39s 366ms/step - loss: -163.5465 - accuracy: 0.0625\n",
      "Epoch 3/8\n",
      "105/105 [==============================] - 38s 364ms/step - loss: -172.0809 - accuracy: 0.0625\n",
      "Epoch 4/8\n",
      "105/105 [==============================] - 27s 262ms/step - loss: -180.6640 - accuracy: 0.062510s - loss: -178.5608 - accurac - ETA: 8s - loss\n",
      "Epoch 5/8\n",
      "105/105 [==============================] - 22s 206ms/step - loss: -189.2137 - accuracy: 0.0625\n",
      "Epoch 6/8\n",
      "105/105 [==============================] - 32s 302ms/step - loss: -197.7769 - accuracy: 0.0625\n",
      "Epoch 7/8\n",
      "105/105 [==============================] - 35s 330ms/step - loss: -206.3454 - accuracy: 0.0625\n",
      "Epoch 8/8\n",
      "105/105 [==============================] - 37s 350ms/step - loss: -214.9410 - accuracy: 0.0625\n",
      "\n",
      "Currently Training: GRU_word_2_vec... Fold: 4\n",
      "Epoch 1/8\n",
      "105/105 [==============================] - 45s 430ms/step - loss: -223.4465 - accuracy: 0.0628\n",
      "Epoch 2/8\n",
      "105/105 [==============================] - 47s 452ms/step - loss: -232.0051 - accuracy: 0.0628\n",
      "Epoch 3/8\n",
      "105/105 [==============================] - 46s 436ms/step - loss: -240.5622 - accuracy: 0.0628\n",
      "Epoch 4/8\n",
      "105/105 [==============================] - 47s 446ms/step - loss: -249.1153 - accuracy: 0.0628\n",
      "Epoch 5/8\n",
      "105/105 [==============================] - 36s 342ms/step - loss: -257.6829 - accuracy: 0.0628\n",
      "Epoch 6/8\n",
      "105/105 [==============================] - 24s 226ms/step - loss: -266.2585 - accuracy: 0.0628\n",
      "Epoch 7/8\n",
      "105/105 [==============================] - 21s 204ms/step - loss: -274.7958 - accuracy: 0.0628\n",
      "Epoch 8/8\n",
      "105/105 [==============================] - 22s 206ms/step - loss: -283.3996 - accuracy: 0.0628\n",
      "\n",
      "Currently Training: GRU_word_2_vec... Fold: 5\n",
      "Epoch 1/8\n",
      "105/105 [==============================] - 22s 213ms/step - loss: -291.9188 - accuracy: 0.0628\n",
      "Epoch 2/8\n",
      "105/105 [==============================] - 23s 218ms/step - loss: -300.4839 - accuracy: 0.0628\n",
      "Epoch 3/8\n",
      "105/105 [==============================] - 45s 432ms/step - loss: -309.0617 - accuracy: 0.0628\n",
      "Epoch 4/8\n",
      "105/105 [==============================] - 37s 356ms/step - loss: -317.6003 - accuracy: 0.0628\n",
      "Epoch 5/8\n",
      "105/105 [==============================] - 49s 466ms/step - loss: -326.1849 - accuracy: 0.0628\n",
      "Epoch 6/8\n",
      "105/105 [==============================] - 50s 475ms/step - loss: -334.7673 - accuracy: 0.0628\n",
      "Epoch 7/8\n",
      "105/105 [==============================] - 36s 341ms/step - loss: -343.3473 - accuracy: 0.0628\n",
      "Epoch 8/8\n",
      "105/105 [==============================] - 38s 360ms/step - loss: -351.8584 - accuracy: 0.0628\n"
     ]
    }
   ],
   "source": [
    "# stratified kfold with LSTM \n",
    "model_dict = {}\n",
    "model_dict[\"modelname_vectorType\"] = \"GRU_word_2_vec\"\n",
    "\n",
    "# train the model\n",
    "clf = simple_GRU(embedding_layer)\n",
    "print(clf.summary())\n",
    "    \n",
    "for fold, (train_idx, val_idx) in enumerate(skf.split(X=X_padded, y=y)):\n",
    "    print(f\"\\nCurrently Training: {model_dict['modelname_vectorType']}... Fold: {fold+1}\")\n",
    "    X_train, X_val = X_padded[train_idx], X_padded[val_idx]\n",
    "    y_train, y_val = y[train_idx], y[val_idx]\n",
    "     \n",
    "    # initializing early stopping \n",
    "    early_stopping = EarlyStopping(monitor='loss', patience=3)\n",
    "\n",
    "    # training model\n",
    "    clf.fit(X_train,\n",
    "            y_train,\n",
    "            epochs=n_epochs,\n",
    "            callbacks=[early_stopping],\n",
    "            verbose=1)\n",
    "    # make predictions\n",
    "    y_preds=clf.predict(X_val) \n",
    "    model_dict[\"fold_{}\".format(fold+1)] = f1_score(y_val, y_preds,average='weighted')\n",
    "        \n",
    "# adding results to models df\n",
    "new_model = pd.DataFrame(model_dict, columns=models_df.columns, index=[0])\n",
    "models_df = pd.concat([models_df, new_model], ignore_index=True)"
   ]
  },
  {
   "cell_type": "code",
   "execution_count": null,
   "metadata": {},
   "outputs": [],
   "source": [
    "models_df"
   ]
  },
  {
   "cell_type": "code",
   "execution_count": 63,
   "metadata": {},
   "outputs": [
    {
     "name": "stdout",
     "output_type": "stream",
     "text": [
      "Help on function GRU in module __main__:\n",
      "\n",
      "GRU(embedding_layer)\n",
      "\n"
     ]
    }
   ],
   "source": [
    "help(GRU)"
   ]
  },
  {
   "cell_type": "code",
   "execution_count": null,
   "metadata": {},
   "outputs": [],
   "source": []
  }
 ],
 "metadata": {
  "kernel_info": {
   "name": "azureml_py38_tensorflow"
  },
  "kernelspec": {
   "display_name": "Python 3",
   "language": "python",
   "name": "python3"
  },
  "language_info": {
   "codemirror_mode": {
    "name": "ipython",
    "version": 3
   },
   "file_extension": ".py",
   "mimetype": "text/x-python",
   "name": "python",
   "nbconvert_exporter": "python",
   "pygments_lexer": "ipython3",
   "version": "3.8.8"
  },
  "microsoft": {
   "host": {
    "AzureML": {
     "notebookHasBeenCompleted": true
    }
   }
  },
  "nteract": {
   "version": "nteract-front-end@1.0.0"
  },
  "papermill": {
   "default_parameters": {},
   "duration": 59.477401,
   "end_time": "2021-03-20T10:46:29.997627",
   "environment_variables": {},
   "exception": null,
   "input_path": "__notebook__.ipynb",
   "output_path": "__notebook__.ipynb",
   "parameters": {},
   "start_time": "2021-03-20T10:45:30.520226",
   "version": "2.2.2"
  }
 },
 "nbformat": 4,
 "nbformat_minor": 4
}
